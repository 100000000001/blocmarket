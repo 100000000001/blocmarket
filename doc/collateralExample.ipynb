{
 "cells": [
  {
   "cell_type": "code",
   "execution_count": 1,
   "metadata": {},
   "outputs": [],
   "source": [
    "# Scratch for collateral calculations (all in main function now)\n",
    "import numpy as np\n"
   ]
  },
  {
   "cell_type": "code",
   "execution_count": 383,
   "metadata": {},
   "outputs": [],
   "source": [
    "# ind2vec\n",
    "def ind2vec(ind, N=None):\n",
    "    ind = np.asarray(ind)\n",
    "    if N is None: \n",
    "        N = ind.max() + 1\n",
    "    return (np.arange(N) == ind[:,None]).astype(int)"
   ]
  },
  {
   "cell_type": "code",
   "execution_count": 413,
   "metadata": {},
   "outputs": [],
   "source": [
    "\n",
    "\n",
    "def checkCollateral(p_, q_, mInd_, tInd_, p, q, mInd, tInd, iMatched, M):\n",
    "    # p_, q_, mInd_, tInd_ - New trade\n",
    "    # p, q, mInd, tInd - Existing trades\n",
    "    # M - Market state payoffs \n",
    "    # mInd - Indicator for matched trades\n",
    "    \n",
    "    # Test by appending test trade  \n",
    "    p = np.append(p,p_)\n",
    "    q = np.append(q, q_)\n",
    "    mInd = np.append(mInd, mInd_)\n",
    "    tInd = np.append(tInd, tInd_)\n",
    "    iMatched = np.append(iMatched, False)\n",
    "    iUnmatched = np.logical_not(iMatched)\n",
    "    \n",
    "    # C, N = M.shape\n",
    "    \n",
    "    # Derived\n",
    "    iTrader = tInd == tInd_\n",
    "    iUnmatched = np.logical_not(iMatched)\n",
    "    iOwnMatched = np.logical_and(iTrader, iMatched) \n",
    "    iOwnUnmatched = np.logical_and(iTrader, iUnmatched) \n",
    "    T = len(p)+1 # Number of trades\n",
    "    D = tInd.max() # Number of traders\n",
    "    Q = np.tile(q, (D,1)).transpose() # Tiled quantity\n",
    "    IM = ind2vec(mInd-1).transpose() # Indicator for market\n",
    "    IQ = ind2vec(tInd-1) # Indicator for trader\n",
    "    Qstar = np.multiply(Q,IQ)\n",
    "    Pstar = np.tile(p, (C,1))\n",
    "    Mstar = np.matmul(M, IM)\n",
    "\n",
    "    # Matched and unmatched collateral\n",
    "    NC_matched = np.matmul((Mstar[:, iOwnMatched] - Pstar[:, iOwnMatched]), Qstar[iOwnMatched,:])\n",
    "    NC_unmatched = np.matmul((Mstar[:, iOwnUnmatched] - Pstar[:, iOwnUnmatched]), Qstar[iOwnUnmatched,:])\n",
    "    # Collateral check\n",
    "    colChk = np.all(NC_matched + np.min(NC_unmatched, axis=0) + 2 >= 0)\n",
    "    return colChk, NC_matched, NC_unmatched"
   ]
  },
  {
   "cell_type": "code",
   "execution_count": 433,
   "metadata": {},
   "outputs": [],
   "source": [
    "def addTrade(p_, q_, mInd_, tInd_, p, q, mInd, tInd, iMatched, M):\n",
    "    sigChk = True\n",
    "\n",
    "    if sigChk:\n",
    "        colChk = checkCollateral(p_, q_, mInd_, tInd_, p, q, mInd, tInd, iMatched, M)\n",
    "        if colChk:\n",
    "            p = np.append(p, p_)\n",
    "            q = np.append(q, q_)\n",
    "            mInd = np.append(mInd, mInd_)\n",
    "            tInd = np.append(tInd, tInd_)\n",
    "            iMatched = np.append(iMatched, False)\n",
    "            iUnmatched = np.logical_not(iMatched)\n",
    "            # Find a match\n",
    "            matchInd = np.where(np.logical_and(np.logical_and(p == p_, (q == -q_)), iUnmatched)\n",
    "            if matchInd:\n",
    "                iMatched[matchInd] = True\n",
    "                iMatched =  np.append(iMatched, True)\n",
    "                return True\n",
    "            else:\n",
    "                iMatched =  np.append(iMatched, False)\n",
    "                return False\n",
    "        \n"
   ]
  },
  {
   "cell_type": "code",
   "execution_count": 425,
   "metadata": {},
   "outputs": [],
   "source": [
    "# Inputs\n",
    "\n",
    "# Current state\n",
    "M = np.matrix([[0, 1], [1, 0],[0,0], [1, 1]]) # Market corners\n",
    "# C, N = M.shape\n",
    "p = np.array([0.5, 0.4, 0.9])\n",
    "q = np.array([1, 2, -1])\n",
    "mInd = np.array([1,2,2])\n",
    "tInd = np.array([1, 1, 2])\n",
    "iMatched = np.array([True, True, True])\n",
    "\n",
    "# New trade\n",
    "p_ = 0.5\n",
    "q_ = -4\n",
    "mInd_ = 1\n",
    "tInd_ = 2\n",
    "# Indicators\n",
    "\n"
   ]
  },
  {
   "cell_type": "code",
   "execution_count": 426,
   "metadata": {},
   "outputs": [],
   "source": [
    "c, nc_m, nc_u = checkCollateral(p_, q_, mInd_, tInd_, p, q, mInd, tInd, iMatched, M)"
   ]
  },
  {
   "cell_type": "code",
   "execution_count": 431,
   "metadata": {},
   "outputs": [
    {
     "data": {
      "text/plain": [
       "matrix([[ 0. , -2.1],\n",
       "        [ 0. , -1.1],\n",
       "        [ 0. , -1.1],\n",
       "        [ 0. , -2.1]])"
      ]
     },
     "execution_count": 431,
     "metadata": {},
     "output_type": "execute_result"
    }
   ],
   "source": [
    "nc_m + np.min(nc_u, axis=0)"
   ]
  },
  {
   "cell_type": "code",
   "execution_count": 442,
   "metadata": {},
   "outputs": [
    {
     "data": {
      "text/plain": [
       "1"
      ]
     },
     "execution_count": 442,
     "metadata": {},
     "output_type": "execute_result"
    }
   ],
   "source": [
    "np.where([True, True, False])[0][1]\n"
   ]
  },
  {
   "cell_type": "code",
   "execution_count": 390,
   "metadata": {},
   "outputs": [
    {
     "data": {
      "text/plain": [
       "array([ 1,  2, -1, -1])"
      ]
     },
     "execution_count": 390,
     "metadata": {},
     "output_type": "execute_result"
    }
   ],
   "source": [
    "q"
   ]
  },
  {
   "cell_type": "code",
   "execution_count": 314,
   "metadata": {},
   "outputs": [
    {
     "data": {
      "text/plain": [
       "array([1])"
      ]
     },
     "execution_count": 314,
     "metadata": {},
     "output_type": "execute_result"
    }
   ],
   "source": [
    "mInd[matchInd]"
   ]
  },
  {
   "cell_type": "code",
   "execution_count": 231,
   "metadata": {},
   "outputs": [
    {
     "data": {
      "text/plain": [
       "array([False,  True, False])"
      ]
     },
     "execution_count": 231,
     "metadata": {},
     "output_type": "execute_result"
    }
   ],
   "source": [
    "(p[iUnmatched] == p_) "
   ]
  },
  {
   "cell_type": "code",
   "execution_count": 435,
   "metadata": {},
   "outputs": [
    {
     "data": {
      "text/plain": [
       "array([], dtype=float64)"
      ]
     },
     "execution_count": 435,
     "metadata": {},
     "output_type": "execute_result"
    }
   ],
   "source": [
    "np.array([])"
   ]
  },
  {
   "cell_type": "code",
   "execution_count": 446,
   "metadata": {},
   "outputs": [
    {
     "data": {
      "text/plain": [
       "False"
      ]
     },
     "execution_count": 446,
     "metadata": {},
     "output_type": "execute_result"
    }
   ],
   "source": []
  },
  {
   "cell_type": "code",
   "execution_count": 1,
   "metadata": {},
   "outputs": [
    {
     "data": {
      "text/plain": [
       "b'abd'"
      ]
     },
     "execution_count": 1,
     "metadata": {},
     "output_type": "execute_result"
    }
   ],
   "source": [
    "b'abd'"
   ]
  },
  {
   "cell_type": "code",
   "execution_count": 3,
   "metadata": {},
   "outputs": [
    {
     "data": {
      "text/plain": [
       "True"
      ]
     },
     "execution_count": 3,
     "metadata": {},
     "output_type": "execute_result"
    }
   ],
   "source": [
    "'sig'.encode('utf-8') == b'sig'"
   ]
  },
  {
   "cell_type": "code",
   "execution_count": null,
   "metadata": {},
   "outputs": [],
   "source": []
  }
 ],
 "metadata": {
  "kernelspec": {
   "display_name": "Python 3",
   "language": "python",
   "name": "python3"
  },
  "language_info": {
   "codemirror_mode": {
    "name": "ipython",
    "version": 3
   },
   "file_extension": ".py",
   "mimetype": "text/x-python",
   "name": "python",
   "nbconvert_exporter": "python",
   "pygments_lexer": "ipython3",
   "version": "3.7.1"
  }
 },
 "nbformat": 4,
 "nbformat_minor": 2
}
