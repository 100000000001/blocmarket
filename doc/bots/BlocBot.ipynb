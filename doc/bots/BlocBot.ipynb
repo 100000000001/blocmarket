{
 "cells": [
  {
   "cell_type": "code",
   "execution_count": 1,
   "metadata": {},
   "outputs": [],
   "source": [
    "# Basic bot \n",
    "import requests\n",
    "import pandas as pd\n",
    "import json\n",
    "import threading\n",
    "from BlocBot import BlocBot"
   ]
  },
  {
   "cell_type": "code",
   "execution_count": 2,
   "metadata": {},
   "outputs": [],
   "source": [
    "# Create a new user\n",
    "baseurl = 'https://blocmarket.herokuapp.com/'\n",
    "url = baseurl +'createUser'\n",
    "headers = {'content-type': 'application/json'}\n",
    "content = {}\n",
    "response = requests.post(url, data=json.dumps(content))"
   ]
  },
  {
   "cell_type": "code",
   "execution_count": 3,
   "metadata": {},
   "outputs": [],
   "source": [
    "# Save user details\n",
    "sk = response.json()['signingKey']\n",
    "vk = response.json()['verifyKey']\n",
    "tId = int(response.json()['traderId'])"
   ]
  },
  {
   "cell_type": "code",
   "execution_count": 4,
   "metadata": {},
   "outputs": [],
   "source": [
    "# Manual setup\n",
    "\n",
    "#vk = 'a4f97e2a0253a583f1e114b7cd155aa871d122c929543fcf8c6502a9dd9a5fd4'\n",
    "#sk = '3ed2212eaa418db63ff1d17e5a12c57e2255a05d8e8afbb912b466cbbcd14b7c'\n",
    "#tId = 2\n",
    "baseurl = 'https://blocmarket.herokuapp.com/'\n"
   ]
  },
  {
   "cell_type": "code",
   "execution_count": 5,
   "metadata": {},
   "outputs": [],
   "source": [
    "# Create a test market\n",
    "url = baseurl + 'createMarket'\n",
    "content_makemarket = {\"signingKey\": sk,\n",
    "                        \"traderId\": tId, \n",
    "                        \"verifyKey\": vk,\n",
    "                        \"marketRootId\": 1, \n",
    "                        \"marketBranchId\": 1, \n",
    "                        \"marketMin\": 3000000,\n",
    "                        \"marketMax\": 6000000}\n",
    "# Post market\n",
    "response = requests.post(url, data=json.dumps(content_makemarket), headers=headers)"
   ]
  },
  {
   "cell_type": "code",
   "execution_count": 6,
   "metadata": {},
   "outputs": [
    {
     "data": {
      "text/plain": [
       "{'allChecks': \"{'inputChk': True, 'marketLimitChk': True, 'traderIdChk': True, 'marketId': '1', 'marketRangeChk': True, 'marketIndChk': True, 'sigChk': True, 'chainChk': True, 'ownerChk': False, 'timeChk': True}\",\n",
       " 'checks': 'False',\n",
       " 'marketBranchId': 1,\n",
       " 'marketId': 1,\n",
       " 'marketMax': 6000000,\n",
       " 'marketMin': 3000000,\n",
       " 'marketRootId': 1,\n",
       " 'traderId': 3}"
      ]
     },
     "execution_count": 6,
     "metadata": {},
     "output_type": "execute_result"
    }
   ],
   "source": [
    "response.json()"
   ]
  },
  {
   "cell_type": "markdown",
   "metadata": {},
   "source": [
    "# Basic BTC bot"
   ]
  },
  {
   "cell_type": "code",
   "execution_count": 7,
   "metadata": {},
   "outputs": [
    {
     "data": {
      "text/plain": [
       "{'spread': 0.001,\n",
       " 'updateFrequencySeconds': 30,\n",
       " 'verifyKey': 'bd74f9f0de5a46d7b0d250824e0664255ce5913127c84d10742e04be6c76d438',\n",
       " 'signingKey': '44c50a235d1a9edfb69d4fed75dc57edcff6e75b57d4758ec5972f7bfdbae1f8',\n",
       " 'traderId': 3,\n",
       " 'marketId': 2,\n",
       " 'blocurl': 'https://blocmarket.herokuapp.com/',\n",
       " 'blocheaders': {'content-type': 'application/json'},\n",
       " 'quoteSource': 'alphavantage'}"
      ]
     },
     "execution_count": 7,
     "metadata": {},
     "output_type": "execute_result"
    }
   ],
   "source": [
    "# Basic Bot definition\n",
    "botdef = {'spread': 0.001,\n",
    " 'updateFrequencySeconds': 30,\n",
    " 'verifyKey': vk,\n",
    " 'signingKey':  sk,\n",
    " 'traderId': int(tId),\n",
    " 'marketId': int(2),\n",
    " 'blocurl': baseurl,\n",
    " 'blocheaders': {'content-type': 'application/json'},\n",
    " 'quoteSource': 'alphavantage'}\n",
    "\n",
    "botdef"
   ]
  },
  {
   "cell_type": "code",
   "execution_count": 8,
   "metadata": {},
   "outputs": [],
   "source": [
    "# Set up bot\n",
    "bot = BlocBot()\n",
    "for key,val in botdef.items():\n",
    "    # Set bot inputs from definiton\n",
    "    setattr(bot, key, val)"
   ]
  },
  {
   "cell_type": "code",
   "execution_count": 9,
   "metadata": {},
   "outputs": [
    {
     "data": {
      "text/plain": [
       "{'multiplier': 1000,\n",
       " 'spread': 0.001,\n",
       " 'updateFrequencySeconds': 30,\n",
       " 'verifyKey': 'bd74f9f0de5a46d7b0d250824e0664255ce5913127c84d10742e04be6c76d438',\n",
       " 'signingKey': '44c50a235d1a9edfb69d4fed75dc57edcff6e75b57d4758ec5972f7bfdbae1f8',\n",
       " 'traderId': 3,\n",
       " 'marketId': 2,\n",
       " 'blocurl': 'https://blocmarket.herokuapp.com/',\n",
       " 'blocheaders': {'content-type': 'application/json'},\n",
       " 'quoteSource': 'alphavantage',\n",
       " 'betfairMarketId': '1.157292080',\n",
       " 'betfairAppKey': '',\n",
       " 'betfairSessionToken': ''}"
      ]
     },
     "execution_count": 9,
     "metadata": {},
     "output_type": "execute_result"
    }
   ],
   "source": [
    "vars(bot)"
   ]
  },
  {
   "cell_type": "code",
   "execution_count": 11,
   "metadata": {},
   "outputs": [
    {
     "name": "stderr",
     "output_type": "stream",
     "text": [
      "Exception in thread Thread-4:\n",
      "Traceback (most recent call last):\n",
      "  File \"/Library/Frameworks/Python.framework/Versions/3.7/lib/python3.7/threading.py\", line 917, in _bootstrap_inner\n",
      "    self.run()\n",
      "  File \"/Library/Frameworks/Python.framework/Versions/3.7/lib/python3.7/threading.py\", line 865, in run\n",
      "    self._target(*self._args, **self._kwargs)\n",
      "TypeError: 'str' object is not callable\n",
      "\n"
     ]
    }
   ],
   "source": [
    "# Start streaming quotes\n",
    "backgroundBot = threading.Thread(target=bot.streamQuote(), args=()).start()"
   ]
  },
  {
   "cell_type": "code",
   "execution_count": 15,
   "metadata": {},
   "outputs": [
    {
     "data": {
      "text/plain": [
       "{'Bid': [],\n",
       " 'Ask': [],\n",
       " 'Trade': 5823800.0,\n",
       " 'TimeStampUTC': datetime.datetime(2019, 5, 4, 3, 32, 58, tzinfo=<UTC>)}"
      ]
     },
     "execution_count": 15,
     "metadata": {},
     "output_type": "execute_result"
    }
   ],
   "source": [
    "qt = bot.getQuote()\n",
    "qt"
   ]
  },
  {
   "cell_type": "code",
   "execution_count": 17,
   "metadata": {},
   "outputs": [
    {
     "data": {
      "text/plain": [
       "{'allChecks': \"{'tradeId': 0, 'inputChk': True, 'traderIdChk': True, 'marketChk': False, 'sigChk': True, 'chainChk': True, 'timeChk': True, 'colChk': False}\",\n",
       " 'checks': 'False',\n",
       " 'marketId': 2,\n",
       " 'price': 5823800.0,\n",
       " 'quantity': 1,\n",
       " 'tradeId': 0,\n",
       " 'traderId': 3}"
      ]
     },
     "execution_count": 17,
     "metadata": {},
     "output_type": "execute_result"
    }
   ],
   "source": [
    "bot.postQuote(qt['Trade'], 1)"
   ]
  },
  {
   "cell_type": "markdown",
   "metadata": {},
   "source": [
    "# Basic Betfair bot"
   ]
  },
  {
   "cell_type": "code",
   "execution_count": null,
   "metadata": {},
   "outputs": [],
   "source": [
    "# Create a test market\n",
    "url = baseurl + 'createMarket'\n",
    "content_makemarket = {\"signingKey\": sk,\n",
    "                        \"traderId\": tId, \n",
    "                        \"verifyKey\": vk,\n",
    "                        \"marketRootId\": 3, \n",
    "                        \"marketBranchId\": 1, \n",
    "                        \"marketMin\": 0,\n",
    "                        \"marketMax\": 1}\n",
    "# Post market\n",
    "response = requests.post(url, data=json.dumps(content_makemarket), headers=headers)"
   ]
  },
  {
   "cell_type": "code",
   "execution_count": 7,
   "metadata": {},
   "outputs": [
    {
     "data": {
      "text/plain": [
       "{'spread': 0.02,\n",
       " 'updateFrequencySeconds': 30,\n",
       " 'verifyKey': 'c01c86718f8dff69e99dedf92c50046283a47d4b335e67b933366e807692af0b',\n",
       " 'signingKey': '5e35bd3eed81f26c3d81b7b0b4cca43266d5a7f70c3934dbc360473d8edfa1a8',\n",
       " 'traderId': 3,\n",
       " 'marketId': 3,\n",
       " 'blocurl': 'https://blocmarket.herokuapp.com/',\n",
       " 'blocheaders': {'content-type': 'application/json'},\n",
       " 'quoteSource': 'betfair'}"
      ]
     },
     "execution_count": 7,
     "metadata": {},
     "output_type": "execute_result"
    }
   ],
   "source": [
    "# Betfair Bot definition\n",
    "botdef = {'spread': 0.02,\n",
    " 'updateFrequencySeconds': 30,\n",
    " 'verifyKey': vk,\n",
    " 'signingKey':  sk,\n",
    " 'traderId': int(tId),\n",
    " 'marketId': int(3),\n",
    " 'blocurl': baseurl,\n",
    " 'blocheaders': {'content-type': 'application/json'},\n",
    " 'quoteSource': 'betfair',\n",
    "         }\n",
    "\n",
    "botdef"
   ]
  },
  {
   "cell_type": "code",
   "execution_count": 9,
   "metadata": {},
   "outputs": [
    {
     "data": {
      "text/plain": [
       "{'spread': 0.02,\n",
       " 'updateFrequencySeconds': 30,\n",
       " 'verifyKey': 'c01c86718f8dff69e99dedf92c50046283a47d4b335e67b933366e807692af0b',\n",
       " 'signingKey': '5e35bd3eed81f26c3d81b7b0b4cca43266d5a7f70c3934dbc360473d8edfa1a8',\n",
       " 'traderId': 3,\n",
       " 'marketId': 3,\n",
       " 'blocurl': 'https://blocmarket.herokuapp.com/',\n",
       " 'blocheaders': {'content-type': 'application/json'},\n",
       " 'quoteSource': 'betfair',\n",
       " 'betfairMarketId': '1.157292177',\n",
       " 'betfairAppKey': 'iw8UsiHCP1GSs213',\n",
       " 'betfairSessionToken': '+lzbc+m7A8gNVvq94vPWqHRtSa9eLdH4/sOhny83p+I='}"
      ]
     },
     "execution_count": 9,
     "metadata": {},
     "output_type": "execute_result"
    }
   ],
   "source": [
    "# Set up bot\n",
    "bot = BlocBot()\n",
    "for key,val in botdef.items():\n",
    "    # Set bot inputs from definiton\n",
    "    setattr(bot, key, val)\n",
    "    \n",
    "bot.getBetfairSessionToken(betfairAppKey ='iw8UsiHCP1GSs213', betfairPassword='<password>')\n",
    "\n",
    "bot.betfairMarketId = '1.157292177'\n",
    "vars(bot)\n"
   ]
  },
  {
   "cell_type": "code",
   "execution_count": 10,
   "metadata": {},
   "outputs": [
    {
     "data": {
      "text/plain": [
       "{'Bid': 0.3623188405797102,\n",
       " 'Ask': 0.36496350364963503,\n",
       " 'Trade': 0.3636411721146726,\n",
       " 'TimeStampUTC': datetime.datetime(2019, 4, 25, 4, 55, 58, 599992)}"
      ]
     },
     "execution_count": 10,
     "metadata": {},
     "output_type": "execute_result"
    }
   ],
   "source": [
    "qt = bot.getQuote()\n",
    "qt"
   ]
  },
  {
   "cell_type": "code",
   "execution_count": 42,
   "metadata": {},
   "outputs": [
    {
     "data": {
      "text/plain": [
       "{'allChecks': \"{'tradeId': 163, 'inputChk': True, 'traderIdChk': True, 'marketChk': True, 'sigChk': True, 'chainChk': True, 'timeChk': True, 'colChk': True}\",\n",
       " 'checks': 'True',\n",
       " 'marketId': 3,\n",
       " 'price': 0.36,\n",
       " 'quantity': 1,\n",
       " 'tradeId': 163,\n",
       " 'traderId': 2}"
      ]
     },
     "execution_count": 42,
     "metadata": {},
     "output_type": "execute_result"
    }
   ],
   "source": [
    "bot.postQuote(0.36, 1)"
   ]
  },
  {
   "cell_type": "code",
   "execution_count": 33,
   "metadata": {},
   "outputs": [
    {
     "ename": "KeyboardInterrupt",
     "evalue": "",
     "output_type": "error",
     "traceback": [
      "\u001b[0;31m---------------------------------------------------------------------------\u001b[0m",
      "\u001b[0;31mKeyboardInterrupt\u001b[0m                         Traceback (most recent call last)",
      "\u001b[0;32m<ipython-input-33-703c5ccacb76>\u001b[0m in \u001b[0;36m<module>\u001b[0;34m\u001b[0m\n\u001b[1;32m      1\u001b[0m \u001b[0;31m# Stream betfair quotes\u001b[0m\u001b[0;34m\u001b[0m\u001b[0;34m\u001b[0m\u001b[0;34m\u001b[0m\u001b[0m\n\u001b[0;32m----> 2\u001b[0;31m \u001b[0mbackgroundBot\u001b[0m \u001b[0;34m=\u001b[0m \u001b[0mthreading\u001b[0m\u001b[0;34m.\u001b[0m\u001b[0mThread\u001b[0m\u001b[0;34m(\u001b[0m\u001b[0mtarget\u001b[0m\u001b[0;34m=\u001b[0m\u001b[0mbot\u001b[0m\u001b[0;34m.\u001b[0m\u001b[0mstreamQuote\u001b[0m\u001b[0;34m(\u001b[0m\u001b[0;34m)\u001b[0m\u001b[0;34m,\u001b[0m \u001b[0margs\u001b[0m\u001b[0;34m=\u001b[0m\u001b[0;34m(\u001b[0m\u001b[0;34m)\u001b[0m\u001b[0;34m)\u001b[0m\u001b[0;34m.\u001b[0m\u001b[0mstart\u001b[0m\u001b[0;34m(\u001b[0m\u001b[0;34m)\u001b[0m\u001b[0;34m\u001b[0m\u001b[0;34m\u001b[0m\u001b[0m\n\u001b[0m",
      "\u001b[0;32m~/src/blocmarket/doc/bots/BlocBot.py\u001b[0m in \u001b[0;36mstreamQuote\u001b[0;34m(self)\u001b[0m\n\u001b[1;32m    125\u001b[0m             \u001b[0;31m# Update market if quote has changed\u001b[0m\u001b[0;34m\u001b[0m\u001b[0;34m\u001b[0m\u001b[0;34m\u001b[0m\u001b[0m\n\u001b[1;32m    126\u001b[0m             \u001b[0;32mif\u001b[0m \u001b[0mprevQuote\u001b[0m \u001b[0;34m==\u001b[0m \u001b[0mquotePrice\u001b[0m\u001b[0;34m:\u001b[0m\u001b[0;34m\u001b[0m\u001b[0;34m\u001b[0m\u001b[0m\n\u001b[0;32m--> 127\u001b[0;31m                 \u001b[0mtime\u001b[0m\u001b[0;34m.\u001b[0m\u001b[0msleep\u001b[0m\u001b[0;34m(\u001b[0m\u001b[0mself\u001b[0m\u001b[0;34m.\u001b[0m\u001b[0mupdateFrequencySeconds\u001b[0m\u001b[0;34m)\u001b[0m\u001b[0;34m\u001b[0m\u001b[0;34m\u001b[0m\u001b[0m\n\u001b[0m\u001b[1;32m    128\u001b[0m             \u001b[0;32melse\u001b[0m\u001b[0;34m:\u001b[0m\u001b[0;34m\u001b[0m\u001b[0;34m\u001b[0m\u001b[0m\n\u001b[1;32m    129\u001b[0m                 \u001b[0mbidPrice\u001b[0m \u001b[0;34m=\u001b[0m \u001b[0mquotePrice\u001b[0m\u001b[0;34m*\u001b[0m\u001b[0;34m(\u001b[0m\u001b[0;36m1\u001b[0m\u001b[0;34m-\u001b[0m\u001b[0mself\u001b[0m\u001b[0;34m.\u001b[0m\u001b[0mspread\u001b[0m\u001b[0;34m)\u001b[0m\u001b[0;34m\u001b[0m\u001b[0;34m\u001b[0m\u001b[0m\n",
      "\u001b[0;31mKeyboardInterrupt\u001b[0m: "
     ]
    }
   ],
   "source": [
    "# Stream betfair quotes\n",
    "backgroundBot = threading.Thread(target=bot.streamQuote(), args=()).start()"
   ]
  },
  {
   "cell_type": "code",
   "execution_count": 11,
   "metadata": {},
   "outputs": [
    {
     "data": {
      "text/plain": [
       "{'spread': 0.02,\n",
       " 'updateFrequencySeconds': 30,\n",
       " 'verifyKey': 'c01c86718f8dff69e99dedf92c50046283a47d4b335e67b933366e807692af0b',\n",
       " 'signingKey': '5e35bd3eed81f26c3d81b7b0b4cca43266d5a7f70c3934dbc360473d8edfa1a8',\n",
       " 'traderId': 3,\n",
       " 'marketId': 3,\n",
       " 'blocurl': 'https://blocmarket.herokuapp.com/',\n",
       " 'blocheaders': {'content-type': 'application/json'},\n",
       " 'quoteSource': 'betfair',\n",
       " 'betfairMarketId': '1.157292177',\n",
       " 'betfairAppKey': 'iw8UsiHCP1GSs213',\n",
       " 'betfairSessionToken': '+lzbc+m7A8gNVvq94vPWqHRtSa9eLdH4/sOhny83p+I='}"
      ]
     },
     "execution_count": 11,
     "metadata": {},
     "output_type": "execute_result"
    }
   ],
   "source": [
    "vars(bot)"
   ]
  },
  {
   "cell_type": "code",
   "execution_count": null,
   "metadata": {},
   "outputs": [
    {
     "name": "stdout",
     "output_type": "stream",
     "text": [
      "[Within cells interlinked]: 0.1527777777777778\n",
      "[Within cells interlinked]: 0.15021929824561403\n",
      "[Within cells interlinked]: 0.1125\n",
      "[Within cells interlinked]: 0.11756756756756756\n",
      "[Within cells interlinked]: 0.10196687370600414\n",
      "[Within cells interlinked]: 0.10359408033826639\n",
      "[Within cells interlinked]: 0.10196687370600414\n",
      "[Within cells interlinked]: 0.06926406926406926\n",
      "[Within cells interlinked]: 0.08249158249158249\n",
      "[Within cells interlinked]: 0.11340852130325814\n",
      "[Within cells interlinked]: 0.08249158249158249\n",
      "[Within cells interlinked]: 0.16666666666666669\n",
      "[Within cells interlinked]: 0.10575858250276854\n",
      "[Within cells interlinked]: 0.15501165501165504\n",
      "[Within cells interlinked]: 0.17392619479733817\n",
      "[Within cells interlinked]: 0.16666666666666669\n",
      "[Within cells interlinked]: 0.20416666666666666\n",
      "[Within cells interlinked]: 0.19345238095238096\n",
      "[Within cells interlinked]: 0.2003968253968254\n",
      "[Within cells interlinked]: 0.20416666666666666\n",
      "[Within cells interlinked]: 0.19345238095238096\n",
      "[Within cells interlinked]: 0.18874643874643873\n",
      "[Within cells interlinked]: 0.17246462264150944\n",
      "[Within cells interlinked]: 0.18874643874643873\n",
      "[Within cells interlinked]: 0.17246462264150944\n",
      "[Within cells interlinked]: 0.12659768715763847\n",
      "[Within cells interlinked]: 0.17246462264150944\n",
      "[Within cells interlinked]: 0.12659768715763847\n",
      "[Within cells interlinked]: 0.17767295597484278\n",
      "[Within cells interlinked]: 0.18874643874643873\n",
      "[Within cells interlinked]: 0.18054651919323358\n",
      "[Within cells interlinked]: 0.18543956043956045\n",
      "[Within cells interlinked]: 0.1364247311827957\n",
      "[Within cells interlinked]: 0.18543956043956045\n",
      "[Within cells interlinked]: 0.1364247311827957\n",
      "[Within cells interlinked]: 0.14589442815249265\n",
      "[Within cells interlinked]: 0.17992424242424243\n",
      "[Within cells interlinked]: 0.19345238095238096\n",
      "[Within cells interlinked]: 0.17992424242424243\n",
      "[Within cells interlinked]: 0.19345238095238096\n",
      "[Within cells interlinked]: 0.26190476190476186\n",
      "[Within cells interlinked]: 0.23537414965986392\n",
      "[Within cells interlinked]: 0.2579365079365079\n",
      "[Within cells interlinked]: 0.18976011457214464\n",
      "[Within cells interlinked]: 0.18771929824561404\n",
      "[Within cells interlinked]: 0.18038163387000597\n",
      "[Within cells interlinked]: 0.18771929824561404\n",
      "[Within cells interlinked]: 0.1925925925925926\n",
      "[Within cells interlinked]: 0.18771929824561404\n",
      "[Within cells interlinked]: 0.18874643874643873\n",
      "[Within cells interlinked]: 0.1925925925925926\n",
      "[Within cells interlinked]: 0.20833333333333331\n",
      "[Within cells interlinked]: 0.21915584415584416\n",
      "[Within cells interlinked]: 0.2142857142857143\n",
      "[Within cells interlinked]: 0.21915584415584416\n",
      "[Within cells interlinked]: 0.20833333333333331\n",
      "[Within cells interlinked]: 0.3344519015659955\n",
      "[Within cells interlinked]: 0.2943675133803415\n",
      "[Within cells interlinked]: 0.2932489451476793\n",
      "[Within cells interlinked]: 0.3181818181818182\n",
      "[Within cells interlinked]: 0.3\n",
      "[Within cells interlinked]: 0.20833333333333331\n",
      "[Within cells interlinked]: 0.15764790764790765\n",
      "[Within cells interlinked]: 0.1468253968253968\n",
      "[Within cells interlinked]: 0.15188470066518847\n",
      "[Within cells interlinked]: 0.1486949080017116\n",
      "[Within cells interlinked]: 0.2628900949796472\n",
      "[Within cells interlinked]: 0.2749266862170088\n",
      "[Within cells interlinked]: 0.2628900949796472\n",
      "[Within cells interlinked]: 0.2632034632034632\n",
      "[Within cells interlinked]: 0.2804284323271665\n",
      "[Within cells interlinked]: 0.2461491996375717\n",
      "[Within cells interlinked]: 0.25991561181434597\n",
      "[Within cells interlinked]: 0.2496124031007752\n",
      "[Within cells interlinked]: 0.26153846153846155\n",
      "[Within cells interlinked]: 0.25991561181434597\n",
      "[Within cells interlinked]: 0.26171741361614775\n",
      "[Within cells interlinked]: 0.2632034632034632\n",
      "[Within cells interlinked]: 0.25991561181434597\n",
      "[Within cells interlinked]: 0.26742734890354786\n",
      "[Within cells interlinked]: 0.27252906976744184\n",
      "[Within cells interlinked]: 0.3\n",
      "[Within cells interlinked]: 0.27252906976744184\n",
      "[Within cells interlinked]: 0.2461491996375717\n",
      "[Within cells interlinked]: 0.2579365079365079\n",
      "[Within cells interlinked]: 0.2489177489177489\n",
      "[Within cells interlinked]: 0.2854251012145749\n",
      "[Within cells interlinked]: 0.2728937728937729\n",
      "[Within cells interlinked]: 0.21666666666666667\n",
      "[Within cells interlinked]: 0.21145833333333333\n",
      "[Within cells interlinked]: 0.2628205128205128\n",
      "[Within cells interlinked]: 0.2761904761904762\n",
      "[Within cells interlinked]: 0.23504273504273504\n",
      "[Within cells interlinked]: 0.2564935064935065\n",
      "[Within cells interlinked]: 0.2803030303030303\n",
      "[Within cells interlinked]: 0.35978671636382464\n",
      "[Within cells interlinked]: 0.3231151615575808\n",
      "[Within cells interlinked]: 0.3347864967583277\n",
      "[Within cells interlinked]: 0.3335549645390071\n",
      "[Within cells interlinked]: 0.3347864967583277\n",
      "[Within cells interlinked]: 0.2111613876319759\n",
      "[Within cells interlinked]: 0.34523809523809523\n",
      "[Within cells interlinked]: 0.34635666347075744\n",
      "[Within cells interlinked]: 0.34523809523809523\n",
      "[Within cells interlinked]: 0.3279569892473118\n",
      "[Within cells interlinked]: 0.3218839983545866\n",
      "[Within cells interlinked]: 0.3137254901960784\n",
      "[Within cells interlinked]: 0.22381756756756754\n",
      "[Within cells interlinked]: 0.3137254901960784\n",
      "[Within cells interlinked]: 0.14743589743589744\n",
      "[Within cells interlinked]: 0.13167013167013167\n",
      "[Within cells interlinked]: 0.21627906976744188\n",
      "[Within cells interlinked]: 0.033116883116883114\n"
     ]
    }
   ],
   "source": [
    "bot.streamQuote()"
   ]
  },
  {
   "cell_type": "code",
   "execution_count": null,
   "metadata": {},
   "outputs": [],
   "source": []
  }
 ],
 "metadata": {
  "kernelspec": {
   "display_name": "Python 3",
   "language": "python",
   "name": "python3"
  },
  "language_info": {
   "codemirror_mode": {
    "name": "ipython",
    "version": 3
   },
   "file_extension": ".py",
   "mimetype": "text/x-python",
   "name": "python",
   "nbconvert_exporter": "python",
   "pygments_lexer": "ipython3",
   "version": "3.7.1"
  }
 },
 "nbformat": 4,
 "nbformat_minor": 2
}
