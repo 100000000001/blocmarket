{
 "cells": [
  {
   "cell_type": "code",
   "execution_count": 1,
   "metadata": {},
   "outputs": [],
   "source": [
    "# Basic bot \n",
    "import requests\n",
    "import pandas as pd\n",
    "import json\n",
    "import threading\n",
    "from BlocBot import BlocBot"
   ]
  },
  {
   "cell_type": "code",
   "execution_count": 110,
   "metadata": {},
   "outputs": [],
   "source": [
    "# Create a new user\n",
    "baseurl = 'https://blocmarket.herokuapp.com/'\n",
    "url = baseurl +'createUser'\n",
    "headers = {'content-type': 'application/json'}\n",
    "response = requests.post(url, data=json.dumps(content))"
   ]
  },
  {
   "cell_type": "code",
   "execution_count": 112,
   "metadata": {},
   "outputs": [],
   "source": [
    "# Save user details\n",
    "sk = response.json()['signingKey']\n",
    "vk = response.json()['verifyKey']\n",
    "tId = int(response.json()['traderId'])"
   ]
  },
  {
   "cell_type": "code",
   "execution_count": 4,
   "metadata": {},
   "outputs": [],
   "source": [
    "# Manual setup\n",
    "\n",
    "#vk = 'a4f97e2a0253a583f1e114b7cd155aa871d122c929543fcf8c6502a9dd9a5fd4'\n",
    "#sk = '3ed2212eaa418db63ff1d17e5a12c57e2255a05d8e8afbb912b466cbbcd14b7c'\n",
    "#tId = 2\n",
    "baseurl = 'https://blocmarket.herokuapp.com/'\n"
   ]
  },
  {
   "cell_type": "code",
   "execution_count": 113,
   "metadata": {},
   "outputs": [],
   "source": [
    "# Create a test market\n",
    "url = baseurl + 'createMarket'\n",
    "content_makemarket = {\"signingKey\": sk,\n",
    "                        \"traderId\": tId, \n",
    "                        \"verifyKey\": vk,\n",
    "                        \"marketRootId\": 1, \n",
    "                        \"marketBranchId\": 1, \n",
    "                        \"marketMin\": 3000000,\n",
    "                        \"marketMax\": 6000000}\n",
    "# Post market\n",
    "response = requests.post(url, data=json.dumps(content_makemarket), headers=headers)"
   ]
  },
  {
   "cell_type": "code",
   "execution_count": 114,
   "metadata": {},
   "outputs": [
    {
     "data": {
      "text/plain": [
       "{'allChecks': \"{'inputChk': True, 'marketLimitChk': True, 'traderIdChk': True, 'marketId': '1', 'marketRangeChk': True, 'marketIndChk': True, 'sigChk': True, 'chainChk': True, 'ownerChk': False, 'timeChk': True}\",\n",
       " 'checks': 'False',\n",
       " 'marketBranchId': 1,\n",
       " 'marketId': 1,\n",
       " 'marketMax': 6000000,\n",
       " 'marketMin': 3000000,\n",
       " 'marketRootId': 1,\n",
       " 'traderId': 8}"
      ]
     },
     "execution_count": 114,
     "metadata": {},
     "output_type": "execute_result"
    }
   ],
   "source": [
    "response.json()"
   ]
  },
  {
   "cell_type": "markdown",
   "metadata": {},
   "source": [
    "# Basic BTC bot"
   ]
  },
  {
   "cell_type": "code",
   "execution_count": 115,
   "metadata": {},
   "outputs": [
    {
     "data": {
      "text/plain": [
       "{'spread': 0.001,\n",
       " 'updateFrequencySeconds': 30,\n",
       " 'verifyKey': '3cbcfbf70e79ec7c7c6ae66138560202516bf4ea33ea763f93062bf33278a27a',\n",
       " 'signingKey': '7c0287c7c968f5e3ead74baa9b64c7a32f4d3fff2631fe5a10a9245421afa321',\n",
       " 'traderId': 8,\n",
       " 'marketId': 1,\n",
       " 'blocurl': 'https://blocmarket.herokuapp.com/',\n",
       " 'blocheaders': {'content-type': 'application/json'},\n",
       " 'quoteSource': 'alphavantage'}"
      ]
     },
     "execution_count": 115,
     "metadata": {},
     "output_type": "execute_result"
    }
   ],
   "source": [
    "# Basic Bot definition\n",
    "botdef = {'spread': 0.001,\n",
    " 'updateFrequencySeconds': 30,\n",
    " 'verifyKey': vk,\n",
    " 'signingKey':  sk,\n",
    " 'traderId': int(tId),\n",
    " 'marketId': int(1),\n",
    " 'blocurl': baseurl,\n",
    " 'blocheaders': {'content-type': 'application/json'},\n",
    " 'quoteSource': 'alphavantage'}\n",
    "\n",
    "botdef"
   ]
  },
  {
   "cell_type": "code",
   "execution_count": 116,
   "metadata": {},
   "outputs": [],
   "source": [
    "# Set up bot\n",
    "bot = BlocBot()\n",
    "for key,val in botdef.items():\n",
    "    # Set bot inputs from definiton\n",
    "    setattr(bot, key, val)"
   ]
  },
  {
   "cell_type": "code",
   "execution_count": 117,
   "metadata": {},
   "outputs": [
    {
     "data": {
      "text/plain": [
       "{'multiplier': 1000,\n",
       " 'spread': 0.001,\n",
       " 'updateFrequencySeconds': 30,\n",
       " 'verifyKey': '3cbcfbf70e79ec7c7c6ae66138560202516bf4ea33ea763f93062bf33278a27a',\n",
       " 'signingKey': '7c0287c7c968f5e3ead74baa9b64c7a32f4d3fff2631fe5a10a9245421afa321',\n",
       " 'traderId': 8,\n",
       " 'marketId': 1,\n",
       " 'blocurl': 'https://blocmarket.herokuapp.com/',\n",
       " 'blocheaders': {'content-type': 'application/json'},\n",
       " 'quoteSource': 'alphavantage',\n",
       " 'betfairMarketId': '1.157292080',\n",
       " 'betfairAppKey': '',\n",
       " 'betfairSessionToken': ''}"
      ]
     },
     "execution_count": 117,
     "metadata": {},
     "output_type": "execute_result"
    }
   ],
   "source": [
    "vars(bot)"
   ]
  },
  {
   "cell_type": "code",
   "execution_count": 118,
   "metadata": {},
   "outputs": [
    {
     "ename": "JSONDecodeError",
     "evalue": "Expecting value: line 1 column 1 (char 0)",
     "output_type": "error",
     "traceback": [
      "\u001b[0;31m---------------------------------------------------------------------------\u001b[0m",
      "\u001b[0;31mJSONDecodeError\u001b[0m                           Traceback (most recent call last)",
      "\u001b[0;32m<ipython-input-118-6c850bf6385e>\u001b[0m in \u001b[0;36m<module>\u001b[0;34m\u001b[0m\n\u001b[1;32m      1\u001b[0m \u001b[0;31m# Start streaming quotes\u001b[0m\u001b[0;34m\u001b[0m\u001b[0;34m\u001b[0m\u001b[0;34m\u001b[0m\u001b[0m\n\u001b[0;32m----> 2\u001b[0;31m \u001b[0mbackgroundBot\u001b[0m \u001b[0;34m=\u001b[0m \u001b[0mthreading\u001b[0m\u001b[0;34m.\u001b[0m\u001b[0mThread\u001b[0m\u001b[0;34m(\u001b[0m\u001b[0mtarget\u001b[0m\u001b[0;34m=\u001b[0m\u001b[0mbot\u001b[0m\u001b[0;34m.\u001b[0m\u001b[0mstreamQuote\u001b[0m\u001b[0;34m(\u001b[0m\u001b[0;34m)\u001b[0m\u001b[0;34m,\u001b[0m \u001b[0margs\u001b[0m\u001b[0;34m=\u001b[0m\u001b[0;34m(\u001b[0m\u001b[0;34m)\u001b[0m\u001b[0;34m)\u001b[0m\u001b[0;34m.\u001b[0m\u001b[0mstart\u001b[0m\u001b[0;34m(\u001b[0m\u001b[0;34m)\u001b[0m\u001b[0;34m\u001b[0m\u001b[0;34m\u001b[0m\u001b[0m\n\u001b[0m",
      "\u001b[0;32m~/src/blocmarket/doc/bots/BlocBot.py\u001b[0m in \u001b[0;36mstreamQuote\u001b[0;34m(self)\u001b[0m\n\u001b[1;32m    143\u001b[0m                 \u001b[0maskPrice\u001b[0m \u001b[0;34m=\u001b[0m \u001b[0mquotePrice\u001b[0m\u001b[0;34m*\u001b[0m\u001b[0;34m(\u001b[0m\u001b[0;36m1\u001b[0m\u001b[0;34m+\u001b[0m\u001b[0mself\u001b[0m\u001b[0;34m.\u001b[0m\u001b[0mspread\u001b[0m\u001b[0;34m)\u001b[0m\u001b[0;34m\u001b[0m\u001b[0;34m\u001b[0m\u001b[0m\n\u001b[1;32m    144\u001b[0m                 \u001b[0;31m# Make quote\u001b[0m\u001b[0;34m\u001b[0m\u001b[0;34m\u001b[0m\u001b[0;34m\u001b[0m\u001b[0m\n\u001b[0;32m--> 145\u001b[0;31m                 \u001b[0mcbid\u001b[0m \u001b[0;34m=\u001b[0m \u001b[0mself\u001b[0m\u001b[0;34m.\u001b[0m\u001b[0mpostQuote\u001b[0m\u001b[0;34m(\u001b[0m\u001b[0mbidPrice\u001b[0m\u001b[0;34m,\u001b[0m \u001b[0;36m1\u001b[0m\u001b[0;34m)\u001b[0m\u001b[0;34m\u001b[0m\u001b[0;34m\u001b[0m\u001b[0m\n\u001b[0m\u001b[1;32m    146\u001b[0m                 \u001b[0mcask\u001b[0m \u001b[0;34m=\u001b[0m \u001b[0mself\u001b[0m\u001b[0;34m.\u001b[0m\u001b[0mpostQuote\u001b[0m\u001b[0;34m(\u001b[0m\u001b[0maskPrice\u001b[0m\u001b[0;34m,\u001b[0m \u001b[0;34m-\u001b[0m\u001b[0;36m1\u001b[0m\u001b[0;34m)\u001b[0m\u001b[0;34m\u001b[0m\u001b[0;34m\u001b[0m\u001b[0m\n\u001b[1;32m    147\u001b[0m                 \u001b[0;31m# Record trade numbers\u001b[0m\u001b[0;34m\u001b[0m\u001b[0;34m\u001b[0m\u001b[0;34m\u001b[0m\u001b[0m\n",
      "\u001b[0;32m~/src/blocmarket/doc/bots/BlocBot.py\u001b[0m in \u001b[0;36mpostQuote\u001b[0;34m(self, p, q)\u001b[0m\n\u001b[1;32m    109\u001b[0m                              \"quantity\": q}\n\u001b[1;32m    110\u001b[0m         \u001b[0mresponse\u001b[0m \u001b[0;34m=\u001b[0m \u001b[0mrequests\u001b[0m\u001b[0;34m.\u001b[0m\u001b[0mpost\u001b[0m\u001b[0;34m(\u001b[0m\u001b[0mtradeurl\u001b[0m\u001b[0;34m,\u001b[0m \u001b[0mdata\u001b[0m\u001b[0;34m=\u001b[0m\u001b[0mjson\u001b[0m\u001b[0;34m.\u001b[0m\u001b[0mdumps\u001b[0m\u001b[0;34m(\u001b[0m\u001b[0mcontent_maketrade\u001b[0m\u001b[0;34m)\u001b[0m\u001b[0;34m,\u001b[0m \u001b[0mheaders\u001b[0m\u001b[0;34m=\u001b[0m\u001b[0mself\u001b[0m\u001b[0;34m.\u001b[0m\u001b[0mblocheaders\u001b[0m\u001b[0;34m)\u001b[0m\u001b[0;34m\u001b[0m\u001b[0;34m\u001b[0m\u001b[0m\n\u001b[0;32m--> 111\u001b[0;31m         \u001b[0;32mreturn\u001b[0m \u001b[0mresponse\u001b[0m\u001b[0;34m.\u001b[0m\u001b[0mjson\u001b[0m\u001b[0;34m(\u001b[0m\u001b[0;34m)\u001b[0m\u001b[0;34m\u001b[0m\u001b[0;34m\u001b[0m\u001b[0m\n\u001b[0m\u001b[1;32m    112\u001b[0m \u001b[0;34m\u001b[0m\u001b[0m\n\u001b[1;32m    113\u001b[0m     \u001b[0;32mdef\u001b[0m \u001b[0mgetTradeSummary\u001b[0m\u001b[0;34m(\u001b[0m\u001b[0mself\u001b[0m\u001b[0;34m)\u001b[0m\u001b[0;34m:\u001b[0m\u001b[0;34m\u001b[0m\u001b[0;34m\u001b[0m\u001b[0m\n",
      "\u001b[0;32m/Library/Frameworks/Python.framework/Versions/3.7/lib/python3.7/site-packages/requests/models.py\u001b[0m in \u001b[0;36mjson\u001b[0;34m(self, **kwargs)\u001b[0m\n\u001b[1;32m    895\u001b[0m                     \u001b[0;31m# used.\u001b[0m\u001b[0;34m\u001b[0m\u001b[0;34m\u001b[0m\u001b[0;34m\u001b[0m\u001b[0m\n\u001b[1;32m    896\u001b[0m                     \u001b[0;32mpass\u001b[0m\u001b[0;34m\u001b[0m\u001b[0;34m\u001b[0m\u001b[0m\n\u001b[0;32m--> 897\u001b[0;31m         \u001b[0;32mreturn\u001b[0m \u001b[0mcomplexjson\u001b[0m\u001b[0;34m.\u001b[0m\u001b[0mloads\u001b[0m\u001b[0;34m(\u001b[0m\u001b[0mself\u001b[0m\u001b[0;34m.\u001b[0m\u001b[0mtext\u001b[0m\u001b[0;34m,\u001b[0m \u001b[0;34m**\u001b[0m\u001b[0mkwargs\u001b[0m\u001b[0;34m)\u001b[0m\u001b[0;34m\u001b[0m\u001b[0;34m\u001b[0m\u001b[0m\n\u001b[0m\u001b[1;32m    898\u001b[0m \u001b[0;34m\u001b[0m\u001b[0m\n\u001b[1;32m    899\u001b[0m     \u001b[0;34m@\u001b[0m\u001b[0mproperty\u001b[0m\u001b[0;34m\u001b[0m\u001b[0;34m\u001b[0m\u001b[0m\n",
      "\u001b[0;32m/Library/Frameworks/Python.framework/Versions/3.7/lib/python3.7/json/__init__.py\u001b[0m in \u001b[0;36mloads\u001b[0;34m(s, encoding, cls, object_hook, parse_float, parse_int, parse_constant, object_pairs_hook, **kw)\u001b[0m\n\u001b[1;32m    346\u001b[0m             \u001b[0mparse_int\u001b[0m \u001b[0;32mis\u001b[0m \u001b[0;32mNone\u001b[0m \u001b[0;32mand\u001b[0m \u001b[0mparse_float\u001b[0m \u001b[0;32mis\u001b[0m \u001b[0;32mNone\u001b[0m \u001b[0;32mand\u001b[0m\u001b[0;34m\u001b[0m\u001b[0;34m\u001b[0m\u001b[0m\n\u001b[1;32m    347\u001b[0m             parse_constant is None and object_pairs_hook is None and not kw):\n\u001b[0;32m--> 348\u001b[0;31m         \u001b[0;32mreturn\u001b[0m \u001b[0m_default_decoder\u001b[0m\u001b[0;34m.\u001b[0m\u001b[0mdecode\u001b[0m\u001b[0;34m(\u001b[0m\u001b[0ms\u001b[0m\u001b[0;34m)\u001b[0m\u001b[0;34m\u001b[0m\u001b[0;34m\u001b[0m\u001b[0m\n\u001b[0m\u001b[1;32m    349\u001b[0m     \u001b[0;32mif\u001b[0m \u001b[0mcls\u001b[0m \u001b[0;32mis\u001b[0m \u001b[0;32mNone\u001b[0m\u001b[0;34m:\u001b[0m\u001b[0;34m\u001b[0m\u001b[0;34m\u001b[0m\u001b[0m\n\u001b[1;32m    350\u001b[0m         \u001b[0mcls\u001b[0m \u001b[0;34m=\u001b[0m \u001b[0mJSONDecoder\u001b[0m\u001b[0;34m\u001b[0m\u001b[0;34m\u001b[0m\u001b[0m\n",
      "\u001b[0;32m/Library/Frameworks/Python.framework/Versions/3.7/lib/python3.7/json/decoder.py\u001b[0m in \u001b[0;36mdecode\u001b[0;34m(self, s, _w)\u001b[0m\n\u001b[1;32m    335\u001b[0m \u001b[0;34m\u001b[0m\u001b[0m\n\u001b[1;32m    336\u001b[0m         \"\"\"\n\u001b[0;32m--> 337\u001b[0;31m         \u001b[0mobj\u001b[0m\u001b[0;34m,\u001b[0m \u001b[0mend\u001b[0m \u001b[0;34m=\u001b[0m \u001b[0mself\u001b[0m\u001b[0;34m.\u001b[0m\u001b[0mraw_decode\u001b[0m\u001b[0;34m(\u001b[0m\u001b[0ms\u001b[0m\u001b[0;34m,\u001b[0m \u001b[0midx\u001b[0m\u001b[0;34m=\u001b[0m\u001b[0m_w\u001b[0m\u001b[0;34m(\u001b[0m\u001b[0ms\u001b[0m\u001b[0;34m,\u001b[0m \u001b[0;36m0\u001b[0m\u001b[0;34m)\u001b[0m\u001b[0;34m.\u001b[0m\u001b[0mend\u001b[0m\u001b[0;34m(\u001b[0m\u001b[0;34m)\u001b[0m\u001b[0;34m)\u001b[0m\u001b[0;34m\u001b[0m\u001b[0;34m\u001b[0m\u001b[0m\n\u001b[0m\u001b[1;32m    338\u001b[0m         \u001b[0mend\u001b[0m \u001b[0;34m=\u001b[0m \u001b[0m_w\u001b[0m\u001b[0;34m(\u001b[0m\u001b[0ms\u001b[0m\u001b[0;34m,\u001b[0m \u001b[0mend\u001b[0m\u001b[0;34m)\u001b[0m\u001b[0;34m.\u001b[0m\u001b[0mend\u001b[0m\u001b[0;34m(\u001b[0m\u001b[0;34m)\u001b[0m\u001b[0;34m\u001b[0m\u001b[0;34m\u001b[0m\u001b[0m\n\u001b[1;32m    339\u001b[0m         \u001b[0;32mif\u001b[0m \u001b[0mend\u001b[0m \u001b[0;34m!=\u001b[0m \u001b[0mlen\u001b[0m\u001b[0;34m(\u001b[0m\u001b[0ms\u001b[0m\u001b[0;34m)\u001b[0m\u001b[0;34m:\u001b[0m\u001b[0;34m\u001b[0m\u001b[0;34m\u001b[0m\u001b[0m\n",
      "\u001b[0;32m/Library/Frameworks/Python.framework/Versions/3.7/lib/python3.7/json/decoder.py\u001b[0m in \u001b[0;36mraw_decode\u001b[0;34m(self, s, idx)\u001b[0m\n\u001b[1;32m    353\u001b[0m             \u001b[0mobj\u001b[0m\u001b[0;34m,\u001b[0m \u001b[0mend\u001b[0m \u001b[0;34m=\u001b[0m \u001b[0mself\u001b[0m\u001b[0;34m.\u001b[0m\u001b[0mscan_once\u001b[0m\u001b[0;34m(\u001b[0m\u001b[0ms\u001b[0m\u001b[0;34m,\u001b[0m \u001b[0midx\u001b[0m\u001b[0;34m)\u001b[0m\u001b[0;34m\u001b[0m\u001b[0;34m\u001b[0m\u001b[0m\n\u001b[1;32m    354\u001b[0m         \u001b[0;32mexcept\u001b[0m \u001b[0mStopIteration\u001b[0m \u001b[0;32mas\u001b[0m \u001b[0merr\u001b[0m\u001b[0;34m:\u001b[0m\u001b[0;34m\u001b[0m\u001b[0;34m\u001b[0m\u001b[0m\n\u001b[0;32m--> 355\u001b[0;31m             \u001b[0;32mraise\u001b[0m \u001b[0mJSONDecodeError\u001b[0m\u001b[0;34m(\u001b[0m\u001b[0;34m\"Expecting value\"\u001b[0m\u001b[0;34m,\u001b[0m \u001b[0ms\u001b[0m\u001b[0;34m,\u001b[0m \u001b[0merr\u001b[0m\u001b[0;34m.\u001b[0m\u001b[0mvalue\u001b[0m\u001b[0;34m)\u001b[0m \u001b[0;32mfrom\u001b[0m \u001b[0;32mNone\u001b[0m\u001b[0;34m\u001b[0m\u001b[0;34m\u001b[0m\u001b[0m\n\u001b[0m\u001b[1;32m    356\u001b[0m         \u001b[0;32mreturn\u001b[0m \u001b[0mobj\u001b[0m\u001b[0;34m,\u001b[0m \u001b[0mend\u001b[0m\u001b[0;34m\u001b[0m\u001b[0;34m\u001b[0m\u001b[0m\n",
      "\u001b[0;31mJSONDecodeError\u001b[0m: Expecting value: line 1 column 1 (char 0)"
     ]
    }
   ],
   "source": [
    "# Start streaming quotes\n",
    "backgroundBot = threading.Thread(target=bot.streamQuote(), args=()).start()"
   ]
  },
  {
   "cell_type": "code",
   "execution_count": 119,
   "metadata": {},
   "outputs": [
    {
     "data": {
      "text/plain": [
       "{'Bid': [],\n",
       " 'Ask': [],\n",
       " 'Trade': 5795000.0,\n",
       " 'TimeStampUTC': datetime.datetime(2019, 5, 4, 9, 49, 35, tzinfo=<UTC>)}"
      ]
     },
     "execution_count": 119,
     "metadata": {},
     "output_type": "execute_result"
    }
   ],
   "source": [
    "qt = bot.getQuote()\n",
    "qt"
   ]
  },
  {
   "cell_type": "code",
   "execution_count": 123,
   "metadata": {},
   "outputs": [
    {
     "ename": "JSONDecodeError",
     "evalue": "Expecting value: line 1 column 1 (char 0)",
     "output_type": "error",
     "traceback": [
      "\u001b[0;31m---------------------------------------------------------------------------\u001b[0m",
      "\u001b[0;31mJSONDecodeError\u001b[0m                           Traceback (most recent call last)",
      "\u001b[0;32m<ipython-input-123-f9b5e16e5ad4>\u001b[0m in \u001b[0;36m<module>\u001b[0;34m\u001b[0m\n\u001b[1;32m      6\u001b[0m                      \"quantity\":1}\n\u001b[1;32m      7\u001b[0m \u001b[0mresponse\u001b[0m \u001b[0;34m=\u001b[0m \u001b[0mrequests\u001b[0m\u001b[0;34m.\u001b[0m\u001b[0mpost\u001b[0m\u001b[0;34m(\u001b[0m\u001b[0murl\u001b[0m\u001b[0;34m,\u001b[0m \u001b[0mdata\u001b[0m\u001b[0;34m=\u001b[0m\u001b[0mjson\u001b[0m\u001b[0;34m.\u001b[0m\u001b[0mdumps\u001b[0m\u001b[0;34m(\u001b[0m\u001b[0mcontent_maketrade\u001b[0m\u001b[0;34m)\u001b[0m\u001b[0;34m,\u001b[0m \u001b[0mheaders\u001b[0m\u001b[0;34m=\u001b[0m\u001b[0mheaders\u001b[0m\u001b[0;34m)\u001b[0m\u001b[0;34m\u001b[0m\u001b[0;34m\u001b[0m\u001b[0m\n\u001b[0;32m----> 8\u001b[0;31m \u001b[0mresponse\u001b[0m\u001b[0;34m.\u001b[0m\u001b[0mjson\u001b[0m\u001b[0;34m(\u001b[0m\u001b[0;34m)\u001b[0m\u001b[0;34m\u001b[0m\u001b[0;34m\u001b[0m\u001b[0m\n\u001b[0m",
      "\u001b[0;32m/Library/Frameworks/Python.framework/Versions/3.7/lib/python3.7/site-packages/requests/models.py\u001b[0m in \u001b[0;36mjson\u001b[0;34m(self, **kwargs)\u001b[0m\n\u001b[1;32m    895\u001b[0m                     \u001b[0;31m# used.\u001b[0m\u001b[0;34m\u001b[0m\u001b[0;34m\u001b[0m\u001b[0;34m\u001b[0m\u001b[0m\n\u001b[1;32m    896\u001b[0m                     \u001b[0;32mpass\u001b[0m\u001b[0;34m\u001b[0m\u001b[0;34m\u001b[0m\u001b[0m\n\u001b[0;32m--> 897\u001b[0;31m         \u001b[0;32mreturn\u001b[0m \u001b[0mcomplexjson\u001b[0m\u001b[0;34m.\u001b[0m\u001b[0mloads\u001b[0m\u001b[0;34m(\u001b[0m\u001b[0mself\u001b[0m\u001b[0;34m.\u001b[0m\u001b[0mtext\u001b[0m\u001b[0;34m,\u001b[0m \u001b[0;34m**\u001b[0m\u001b[0mkwargs\u001b[0m\u001b[0;34m)\u001b[0m\u001b[0;34m\u001b[0m\u001b[0;34m\u001b[0m\u001b[0m\n\u001b[0m\u001b[1;32m    898\u001b[0m \u001b[0;34m\u001b[0m\u001b[0m\n\u001b[1;32m    899\u001b[0m     \u001b[0;34m@\u001b[0m\u001b[0mproperty\u001b[0m\u001b[0;34m\u001b[0m\u001b[0;34m\u001b[0m\u001b[0m\n",
      "\u001b[0;32m/Library/Frameworks/Python.framework/Versions/3.7/lib/python3.7/json/__init__.py\u001b[0m in \u001b[0;36mloads\u001b[0;34m(s, encoding, cls, object_hook, parse_float, parse_int, parse_constant, object_pairs_hook, **kw)\u001b[0m\n\u001b[1;32m    346\u001b[0m             \u001b[0mparse_int\u001b[0m \u001b[0;32mis\u001b[0m \u001b[0;32mNone\u001b[0m \u001b[0;32mand\u001b[0m \u001b[0mparse_float\u001b[0m \u001b[0;32mis\u001b[0m \u001b[0;32mNone\u001b[0m \u001b[0;32mand\u001b[0m\u001b[0;34m\u001b[0m\u001b[0;34m\u001b[0m\u001b[0m\n\u001b[1;32m    347\u001b[0m             parse_constant is None and object_pairs_hook is None and not kw):\n\u001b[0;32m--> 348\u001b[0;31m         \u001b[0;32mreturn\u001b[0m \u001b[0m_default_decoder\u001b[0m\u001b[0;34m.\u001b[0m\u001b[0mdecode\u001b[0m\u001b[0;34m(\u001b[0m\u001b[0ms\u001b[0m\u001b[0;34m)\u001b[0m\u001b[0;34m\u001b[0m\u001b[0;34m\u001b[0m\u001b[0m\n\u001b[0m\u001b[1;32m    349\u001b[0m     \u001b[0;32mif\u001b[0m \u001b[0mcls\u001b[0m \u001b[0;32mis\u001b[0m \u001b[0;32mNone\u001b[0m\u001b[0;34m:\u001b[0m\u001b[0;34m\u001b[0m\u001b[0;34m\u001b[0m\u001b[0m\n\u001b[1;32m    350\u001b[0m         \u001b[0mcls\u001b[0m \u001b[0;34m=\u001b[0m \u001b[0mJSONDecoder\u001b[0m\u001b[0;34m\u001b[0m\u001b[0;34m\u001b[0m\u001b[0m\n",
      "\u001b[0;32m/Library/Frameworks/Python.framework/Versions/3.7/lib/python3.7/json/decoder.py\u001b[0m in \u001b[0;36mdecode\u001b[0;34m(self, s, _w)\u001b[0m\n\u001b[1;32m    335\u001b[0m \u001b[0;34m\u001b[0m\u001b[0m\n\u001b[1;32m    336\u001b[0m         \"\"\"\n\u001b[0;32m--> 337\u001b[0;31m         \u001b[0mobj\u001b[0m\u001b[0;34m,\u001b[0m \u001b[0mend\u001b[0m \u001b[0;34m=\u001b[0m \u001b[0mself\u001b[0m\u001b[0;34m.\u001b[0m\u001b[0mraw_decode\u001b[0m\u001b[0;34m(\u001b[0m\u001b[0ms\u001b[0m\u001b[0;34m,\u001b[0m \u001b[0midx\u001b[0m\u001b[0;34m=\u001b[0m\u001b[0m_w\u001b[0m\u001b[0;34m(\u001b[0m\u001b[0ms\u001b[0m\u001b[0;34m,\u001b[0m \u001b[0;36m0\u001b[0m\u001b[0;34m)\u001b[0m\u001b[0;34m.\u001b[0m\u001b[0mend\u001b[0m\u001b[0;34m(\u001b[0m\u001b[0;34m)\u001b[0m\u001b[0;34m)\u001b[0m\u001b[0;34m\u001b[0m\u001b[0;34m\u001b[0m\u001b[0m\n\u001b[0m\u001b[1;32m    338\u001b[0m         \u001b[0mend\u001b[0m \u001b[0;34m=\u001b[0m \u001b[0m_w\u001b[0m\u001b[0;34m(\u001b[0m\u001b[0ms\u001b[0m\u001b[0;34m,\u001b[0m \u001b[0mend\u001b[0m\u001b[0;34m)\u001b[0m\u001b[0;34m.\u001b[0m\u001b[0mend\u001b[0m\u001b[0;34m(\u001b[0m\u001b[0;34m)\u001b[0m\u001b[0;34m\u001b[0m\u001b[0;34m\u001b[0m\u001b[0m\n\u001b[1;32m    339\u001b[0m         \u001b[0;32mif\u001b[0m \u001b[0mend\u001b[0m \u001b[0;34m!=\u001b[0m \u001b[0mlen\u001b[0m\u001b[0;34m(\u001b[0m\u001b[0ms\u001b[0m\u001b[0;34m)\u001b[0m\u001b[0;34m:\u001b[0m\u001b[0;34m\u001b[0m\u001b[0;34m\u001b[0m\u001b[0m\n",
      "\u001b[0;32m/Library/Frameworks/Python.framework/Versions/3.7/lib/python3.7/json/decoder.py\u001b[0m in \u001b[0;36mraw_decode\u001b[0;34m(self, s, idx)\u001b[0m\n\u001b[1;32m    353\u001b[0m             \u001b[0mobj\u001b[0m\u001b[0;34m,\u001b[0m \u001b[0mend\u001b[0m \u001b[0;34m=\u001b[0m \u001b[0mself\u001b[0m\u001b[0;34m.\u001b[0m\u001b[0mscan_once\u001b[0m\u001b[0;34m(\u001b[0m\u001b[0ms\u001b[0m\u001b[0;34m,\u001b[0m \u001b[0midx\u001b[0m\u001b[0;34m)\u001b[0m\u001b[0;34m\u001b[0m\u001b[0;34m\u001b[0m\u001b[0m\n\u001b[1;32m    354\u001b[0m         \u001b[0;32mexcept\u001b[0m \u001b[0mStopIteration\u001b[0m \u001b[0;32mas\u001b[0m \u001b[0merr\u001b[0m\u001b[0;34m:\u001b[0m\u001b[0;34m\u001b[0m\u001b[0;34m\u001b[0m\u001b[0m\n\u001b[0;32m--> 355\u001b[0;31m             \u001b[0;32mraise\u001b[0m \u001b[0mJSONDecodeError\u001b[0m\u001b[0;34m(\u001b[0m\u001b[0;34m\"Expecting value\"\u001b[0m\u001b[0;34m,\u001b[0m \u001b[0ms\u001b[0m\u001b[0;34m,\u001b[0m \u001b[0merr\u001b[0m\u001b[0;34m.\u001b[0m\u001b[0mvalue\u001b[0m\u001b[0;34m)\u001b[0m \u001b[0;32mfrom\u001b[0m \u001b[0;32mNone\u001b[0m\u001b[0;34m\u001b[0m\u001b[0;34m\u001b[0m\u001b[0m\n\u001b[0m\u001b[1;32m    356\u001b[0m         \u001b[0;32mreturn\u001b[0m \u001b[0mobj\u001b[0m\u001b[0;34m,\u001b[0m \u001b[0mend\u001b[0m\u001b[0;34m\u001b[0m\u001b[0;34m\u001b[0m\u001b[0m\n",
      "\u001b[0;31mJSONDecodeError\u001b[0m: Expecting value: line 1 column 1 (char 0)"
     ]
    }
   ],
   "source": [
    "content_maketrade = {\"signingKey\": sk,\n",
    "                     \"traderId\": tId,\n",
    "                     \"verifyKey\": vk,\n",
    "                     \"marketId\": 1,\n",
    "                     \"price\": 500000,\n",
    "                     \"quantity\":1}\n",
    "response = requests.post(url, data=json.dumps(content_maketrade), headers=headers)\n",
    "response.json()"
   ]
  },
  {
   "cell_type": "markdown",
   "metadata": {},
   "source": [
    "# Basic Betfair bot"
   ]
  },
  {
   "cell_type": "code",
   "execution_count": null,
   "metadata": {},
   "outputs": [],
   "source": [
    "# Create a test market\n",
    "url = baseurl + 'createMarket'\n",
    "content_makemarket = {\"signingKey\": sk,\n",
    "                        \"traderId\": tId, \n",
    "                        \"verifyKey\": vk,\n",
    "                        \"marketRootId\": 3, \n",
    "                        \"marketBranchId\": 1, \n",
    "                        \"marketMin\": 0,\n",
    "                        \"marketMax\": 1}\n",
    "# Post market\n",
    "response = requests.post(url, data=json.dumps(content_makemarket), headers=headers)"
   ]
  },
  {
   "cell_type": "code",
   "execution_count": 7,
   "metadata": {},
   "outputs": [
    {
     "data": {
      "text/plain": [
       "{'spread': 0.02,\n",
       " 'updateFrequencySeconds': 30,\n",
       " 'verifyKey': 'c01c86718f8dff69e99dedf92c50046283a47d4b335e67b933366e807692af0b',\n",
       " 'signingKey': '5e35bd3eed81f26c3d81b7b0b4cca43266d5a7f70c3934dbc360473d8edfa1a8',\n",
       " 'traderId': 3,\n",
       " 'marketId': 3,\n",
       " 'blocurl': 'https://blocmarket.herokuapp.com/',\n",
       " 'blocheaders': {'content-type': 'application/json'},\n",
       " 'quoteSource': 'betfair'}"
      ]
     },
     "execution_count": 7,
     "metadata": {},
     "output_type": "execute_result"
    }
   ],
   "source": [
    "# Betfair Bot definition\n",
    "botdef = {'spread': 0.02,\n",
    " 'updateFrequencySeconds': 30,\n",
    " 'verifyKey': vk,\n",
    " 'signingKey':  sk,\n",
    " 'traderId': int(tId),\n",
    " 'marketId': int(3),\n",
    " 'blocurl': baseurl,\n",
    " 'blocheaders': {'content-type': 'application/json'},\n",
    " 'quoteSource': 'betfair',\n",
    "         }\n",
    "\n",
    "botdef"
   ]
  },
  {
   "cell_type": "code",
   "execution_count": 9,
   "metadata": {},
   "outputs": [
    {
     "data": {
      "text/plain": [
       "{'spread': 0.02,\n",
       " 'updateFrequencySeconds': 30,\n",
       " 'verifyKey': 'c01c86718f8dff69e99dedf92c50046283a47d4b335e67b933366e807692af0b',\n",
       " 'signingKey': '5e35bd3eed81f26c3d81b7b0b4cca43266d5a7f70c3934dbc360473d8edfa1a8',\n",
       " 'traderId': 3,\n",
       " 'marketId': 3,\n",
       " 'blocurl': 'https://blocmarket.herokuapp.com/',\n",
       " 'blocheaders': {'content-type': 'application/json'},\n",
       " 'quoteSource': 'betfair',\n",
       " 'betfairMarketId': '1.157292177',\n",
       " 'betfairAppKey': 'iw8UsiHCP1GSs213',\n",
       " 'betfairSessionToken': '+lzbc+m7A8gNVvq94vPWqHRtSa9eLdH4/sOhny83p+I='}"
      ]
     },
     "execution_count": 9,
     "metadata": {},
     "output_type": "execute_result"
    }
   ],
   "source": [
    "# Set up bot\n",
    "bot = BlocBot()\n",
    "for key,val in botdef.items():\n",
    "    # Set bot inputs from definiton\n",
    "    setattr(bot, key, val)\n",
    "    \n",
    "bot.getBetfairSessionToken(betfairAppKey ='iw8UsiHCP1GSs213', betfairPassword='<password>')\n",
    "\n",
    "bot.betfairMarketId = '1.157292177'\n",
    "vars(bot)\n"
   ]
  },
  {
   "cell_type": "code",
   "execution_count": 10,
   "metadata": {},
   "outputs": [
    {
     "data": {
      "text/plain": [
       "{'Bid': 0.3623188405797102,\n",
       " 'Ask': 0.36496350364963503,\n",
       " 'Trade': 0.3636411721146726,\n",
       " 'TimeStampUTC': datetime.datetime(2019, 4, 25, 4, 55, 58, 599992)}"
      ]
     },
     "execution_count": 10,
     "metadata": {},
     "output_type": "execute_result"
    }
   ],
   "source": [
    "qt = bot.getQuote()\n",
    "qt"
   ]
  },
  {
   "cell_type": "code",
   "execution_count": 42,
   "metadata": {},
   "outputs": [
    {
     "data": {
      "text/plain": [
       "{'allChecks': \"{'tradeId': 163, 'inputChk': True, 'traderIdChk': True, 'marketChk': True, 'sigChk': True, 'chainChk': True, 'timeChk': True, 'colChk': True}\",\n",
       " 'checks': 'True',\n",
       " 'marketId': 3,\n",
       " 'price': 0.36,\n",
       " 'quantity': 1,\n",
       " 'tradeId': 163,\n",
       " 'traderId': 2}"
      ]
     },
     "execution_count": 42,
     "metadata": {},
     "output_type": "execute_result"
    }
   ],
   "source": [
    "bot.postQuote(0.36, 1)"
   ]
  },
  {
   "cell_type": "code",
   "execution_count": 33,
   "metadata": {},
   "outputs": [
    {
     "ename": "KeyboardInterrupt",
     "evalue": "",
     "output_type": "error",
     "traceback": [
      "\u001b[0;31m---------------------------------------------------------------------------\u001b[0m",
      "\u001b[0;31mKeyboardInterrupt\u001b[0m                         Traceback (most recent call last)",
      "\u001b[0;32m<ipython-input-33-703c5ccacb76>\u001b[0m in \u001b[0;36m<module>\u001b[0;34m\u001b[0m\n\u001b[1;32m      1\u001b[0m \u001b[0;31m# Stream betfair quotes\u001b[0m\u001b[0;34m\u001b[0m\u001b[0;34m\u001b[0m\u001b[0;34m\u001b[0m\u001b[0m\n\u001b[0;32m----> 2\u001b[0;31m \u001b[0mbackgroundBot\u001b[0m \u001b[0;34m=\u001b[0m \u001b[0mthreading\u001b[0m\u001b[0;34m.\u001b[0m\u001b[0mThread\u001b[0m\u001b[0;34m(\u001b[0m\u001b[0mtarget\u001b[0m\u001b[0;34m=\u001b[0m\u001b[0mbot\u001b[0m\u001b[0;34m.\u001b[0m\u001b[0mstreamQuote\u001b[0m\u001b[0;34m(\u001b[0m\u001b[0;34m)\u001b[0m\u001b[0;34m,\u001b[0m \u001b[0margs\u001b[0m\u001b[0;34m=\u001b[0m\u001b[0;34m(\u001b[0m\u001b[0;34m)\u001b[0m\u001b[0;34m)\u001b[0m\u001b[0;34m.\u001b[0m\u001b[0mstart\u001b[0m\u001b[0;34m(\u001b[0m\u001b[0;34m)\u001b[0m\u001b[0;34m\u001b[0m\u001b[0;34m\u001b[0m\u001b[0m\n\u001b[0m",
      "\u001b[0;32m~/src/blocmarket/doc/bots/BlocBot.py\u001b[0m in \u001b[0;36mstreamQuote\u001b[0;34m(self)\u001b[0m\n\u001b[1;32m    125\u001b[0m             \u001b[0;31m# Update market if quote has changed\u001b[0m\u001b[0;34m\u001b[0m\u001b[0;34m\u001b[0m\u001b[0;34m\u001b[0m\u001b[0m\n\u001b[1;32m    126\u001b[0m             \u001b[0;32mif\u001b[0m \u001b[0mprevQuote\u001b[0m \u001b[0;34m==\u001b[0m \u001b[0mquotePrice\u001b[0m\u001b[0;34m:\u001b[0m\u001b[0;34m\u001b[0m\u001b[0;34m\u001b[0m\u001b[0m\n\u001b[0;32m--> 127\u001b[0;31m                 \u001b[0mtime\u001b[0m\u001b[0;34m.\u001b[0m\u001b[0msleep\u001b[0m\u001b[0;34m(\u001b[0m\u001b[0mself\u001b[0m\u001b[0;34m.\u001b[0m\u001b[0mupdateFrequencySeconds\u001b[0m\u001b[0;34m)\u001b[0m\u001b[0;34m\u001b[0m\u001b[0;34m\u001b[0m\u001b[0m\n\u001b[0m\u001b[1;32m    128\u001b[0m             \u001b[0;32melse\u001b[0m\u001b[0;34m:\u001b[0m\u001b[0;34m\u001b[0m\u001b[0;34m\u001b[0m\u001b[0m\n\u001b[1;32m    129\u001b[0m                 \u001b[0mbidPrice\u001b[0m \u001b[0;34m=\u001b[0m \u001b[0mquotePrice\u001b[0m\u001b[0;34m*\u001b[0m\u001b[0;34m(\u001b[0m\u001b[0;36m1\u001b[0m\u001b[0;34m-\u001b[0m\u001b[0mself\u001b[0m\u001b[0;34m.\u001b[0m\u001b[0mspread\u001b[0m\u001b[0;34m)\u001b[0m\u001b[0;34m\u001b[0m\u001b[0;34m\u001b[0m\u001b[0m\n",
      "\u001b[0;31mKeyboardInterrupt\u001b[0m: "
     ]
    }
   ],
   "source": [
    "# Stream betfair quotes\n",
    "backgroundBot = threading.Thread(target=bot.streamQuote(), args=()).start()"
   ]
  },
  {
   "cell_type": "code",
   "execution_count": 11,
   "metadata": {},
   "outputs": [
    {
     "data": {
      "text/plain": [
       "{'spread': 0.02,\n",
       " 'updateFrequencySeconds': 30,\n",
       " 'verifyKey': 'c01c86718f8dff69e99dedf92c50046283a47d4b335e67b933366e807692af0b',\n",
       " 'signingKey': '5e35bd3eed81f26c3d81b7b0b4cca43266d5a7f70c3934dbc360473d8edfa1a8',\n",
       " 'traderId': 3,\n",
       " 'marketId': 3,\n",
       " 'blocurl': 'https://blocmarket.herokuapp.com/',\n",
       " 'blocheaders': {'content-type': 'application/json'},\n",
       " 'quoteSource': 'betfair',\n",
       " 'betfairMarketId': '1.157292177',\n",
       " 'betfairAppKey': 'iw8UsiHCP1GSs213',\n",
       " 'betfairSessionToken': '+lzbc+m7A8gNVvq94vPWqHRtSa9eLdH4/sOhny83p+I='}"
      ]
     },
     "execution_count": 11,
     "metadata": {},
     "output_type": "execute_result"
    }
   ],
   "source": [
    "vars(bot)"
   ]
  },
  {
   "cell_type": "code",
   "execution_count": null,
   "metadata": {},
   "outputs": [
    {
     "name": "stdout",
     "output_type": "stream",
     "text": [
      "[Within cells interlinked]: 0.1527777777777778\n",
      "[Within cells interlinked]: 0.15021929824561403\n",
      "[Within cells interlinked]: 0.1125\n",
      "[Within cells interlinked]: 0.11756756756756756\n",
      "[Within cells interlinked]: 0.10196687370600414\n",
      "[Within cells interlinked]: 0.10359408033826639\n",
      "[Within cells interlinked]: 0.10196687370600414\n",
      "[Within cells interlinked]: 0.06926406926406926\n",
      "[Within cells interlinked]: 0.08249158249158249\n",
      "[Within cells interlinked]: 0.11340852130325814\n",
      "[Within cells interlinked]: 0.08249158249158249\n",
      "[Within cells interlinked]: 0.16666666666666669\n",
      "[Within cells interlinked]: 0.10575858250276854\n",
      "[Within cells interlinked]: 0.15501165501165504\n",
      "[Within cells interlinked]: 0.17392619479733817\n",
      "[Within cells interlinked]: 0.16666666666666669\n",
      "[Within cells interlinked]: 0.20416666666666666\n",
      "[Within cells interlinked]: 0.19345238095238096\n",
      "[Within cells interlinked]: 0.2003968253968254\n",
      "[Within cells interlinked]: 0.20416666666666666\n",
      "[Within cells interlinked]: 0.19345238095238096\n",
      "[Within cells interlinked]: 0.18874643874643873\n",
      "[Within cells interlinked]: 0.17246462264150944\n",
      "[Within cells interlinked]: 0.18874643874643873\n",
      "[Within cells interlinked]: 0.17246462264150944\n",
      "[Within cells interlinked]: 0.12659768715763847\n",
      "[Within cells interlinked]: 0.17246462264150944\n",
      "[Within cells interlinked]: 0.12659768715763847\n",
      "[Within cells interlinked]: 0.17767295597484278\n",
      "[Within cells interlinked]: 0.18874643874643873\n",
      "[Within cells interlinked]: 0.18054651919323358\n",
      "[Within cells interlinked]: 0.18543956043956045\n",
      "[Within cells interlinked]: 0.1364247311827957\n",
      "[Within cells interlinked]: 0.18543956043956045\n",
      "[Within cells interlinked]: 0.1364247311827957\n",
      "[Within cells interlinked]: 0.14589442815249265\n",
      "[Within cells interlinked]: 0.17992424242424243\n",
      "[Within cells interlinked]: 0.19345238095238096\n",
      "[Within cells interlinked]: 0.17992424242424243\n",
      "[Within cells interlinked]: 0.19345238095238096\n",
      "[Within cells interlinked]: 0.26190476190476186\n",
      "[Within cells interlinked]: 0.23537414965986392\n",
      "[Within cells interlinked]: 0.2579365079365079\n",
      "[Within cells interlinked]: 0.18976011457214464\n",
      "[Within cells interlinked]: 0.18771929824561404\n",
      "[Within cells interlinked]: 0.18038163387000597\n",
      "[Within cells interlinked]: 0.18771929824561404\n",
      "[Within cells interlinked]: 0.1925925925925926\n",
      "[Within cells interlinked]: 0.18771929824561404\n",
      "[Within cells interlinked]: 0.18874643874643873\n",
      "[Within cells interlinked]: 0.1925925925925926\n",
      "[Within cells interlinked]: 0.20833333333333331\n",
      "[Within cells interlinked]: 0.21915584415584416\n",
      "[Within cells interlinked]: 0.2142857142857143\n",
      "[Within cells interlinked]: 0.21915584415584416\n",
      "[Within cells interlinked]: 0.20833333333333331\n",
      "[Within cells interlinked]: 0.3344519015659955\n",
      "[Within cells interlinked]: 0.2943675133803415\n",
      "[Within cells interlinked]: 0.2932489451476793\n",
      "[Within cells interlinked]: 0.3181818181818182\n",
      "[Within cells interlinked]: 0.3\n",
      "[Within cells interlinked]: 0.20833333333333331\n",
      "[Within cells interlinked]: 0.15764790764790765\n",
      "[Within cells interlinked]: 0.1468253968253968\n",
      "[Within cells interlinked]: 0.15188470066518847\n",
      "[Within cells interlinked]: 0.1486949080017116\n",
      "[Within cells interlinked]: 0.2628900949796472\n",
      "[Within cells interlinked]: 0.2749266862170088\n",
      "[Within cells interlinked]: 0.2628900949796472\n",
      "[Within cells interlinked]: 0.2632034632034632\n",
      "[Within cells interlinked]: 0.2804284323271665\n",
      "[Within cells interlinked]: 0.2461491996375717\n",
      "[Within cells interlinked]: 0.25991561181434597\n",
      "[Within cells interlinked]: 0.2496124031007752\n",
      "[Within cells interlinked]: 0.26153846153846155\n",
      "[Within cells interlinked]: 0.25991561181434597\n",
      "[Within cells interlinked]: 0.26171741361614775\n",
      "[Within cells interlinked]: 0.2632034632034632\n",
      "[Within cells interlinked]: 0.25991561181434597\n",
      "[Within cells interlinked]: 0.26742734890354786\n",
      "[Within cells interlinked]: 0.27252906976744184\n",
      "[Within cells interlinked]: 0.3\n",
      "[Within cells interlinked]: 0.27252906976744184\n",
      "[Within cells interlinked]: 0.2461491996375717\n",
      "[Within cells interlinked]: 0.2579365079365079\n",
      "[Within cells interlinked]: 0.2489177489177489\n",
      "[Within cells interlinked]: 0.2854251012145749\n",
      "[Within cells interlinked]: 0.2728937728937729\n",
      "[Within cells interlinked]: 0.21666666666666667\n",
      "[Within cells interlinked]: 0.21145833333333333\n",
      "[Within cells interlinked]: 0.2628205128205128\n",
      "[Within cells interlinked]: 0.2761904761904762\n",
      "[Within cells interlinked]: 0.23504273504273504\n",
      "[Within cells interlinked]: 0.2564935064935065\n",
      "[Within cells interlinked]: 0.2803030303030303\n",
      "[Within cells interlinked]: 0.35978671636382464\n",
      "[Within cells interlinked]: 0.3231151615575808\n",
      "[Within cells interlinked]: 0.3347864967583277\n",
      "[Within cells interlinked]: 0.3335549645390071\n",
      "[Within cells interlinked]: 0.3347864967583277\n",
      "[Within cells interlinked]: 0.2111613876319759\n",
      "[Within cells interlinked]: 0.34523809523809523\n",
      "[Within cells interlinked]: 0.34635666347075744\n",
      "[Within cells interlinked]: 0.34523809523809523\n",
      "[Within cells interlinked]: 0.3279569892473118\n",
      "[Within cells interlinked]: 0.3218839983545866\n",
      "[Within cells interlinked]: 0.3137254901960784\n",
      "[Within cells interlinked]: 0.22381756756756754\n",
      "[Within cells interlinked]: 0.3137254901960784\n",
      "[Within cells interlinked]: 0.14743589743589744\n",
      "[Within cells interlinked]: 0.13167013167013167\n",
      "[Within cells interlinked]: 0.21627906976744188\n",
      "[Within cells interlinked]: 0.033116883116883114\n"
     ]
    }
   ],
   "source": [
    "bot.streamQuote()"
   ]
  },
  {
   "cell_type": "code",
   "execution_count": null,
   "metadata": {},
   "outputs": [],
   "source": []
  }
 ],
 "metadata": {
  "kernelspec": {
   "display_name": "Python 3",
   "language": "python",
   "name": "python3"
  },
  "language_info": {
   "codemirror_mode": {
    "name": "ipython",
    "version": 3
   },
   "file_extension": ".py",
   "mimetype": "text/x-python",
   "name": "python",
   "nbconvert_exporter": "python",
   "pygments_lexer": "ipython3",
   "version": "3.7.1"
  }
 },
 "nbformat": 4,
 "nbformat_minor": 2
}
