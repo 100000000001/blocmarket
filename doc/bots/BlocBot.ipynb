{
 "cells": [
  {
   "cell_type": "code",
   "execution_count": 11,
   "metadata": {},
   "outputs": [],
   "source": [
    "# Basic bot \n",
    "import requests\n",
    "import pandas as pd\n",
    "import json\n",
    "import threading\n",
    "from BlocBot import BlocBot"
   ]
  },
  {
   "cell_type": "code",
   "execution_count": 4,
   "metadata": {},
   "outputs": [],
   "source": [
    "# Create a new user\n",
    "baseurl = 'http://127.0.0.1:7000/'\n",
    "url = baseurl +'createUser'\n",
    "headers = {'content-type': 'application/json'}\n",
    "content = {}\n",
    "response = requests.post(url, data=json.dumps(content))"
   ]
  },
  {
   "cell_type": "code",
   "execution_count": 5,
   "metadata": {},
   "outputs": [],
   "source": [
    "# Save user details\n",
    "sk = response.json()['signingKey']\n",
    "vk = response.json()['verifyKey']\n",
    "tId = int(response.json()['traderId'])"
   ]
  },
  {
   "cell_type": "code",
   "execution_count": 43,
   "metadata": {},
   "outputs": [],
   "source": [
    "# Manual setup\n",
    "vk = 'bbd099748c4d2eec34fe41f5c1d81a7bb10311c0a6422209ae8c39310e681c51'\n",
    "sk = '7b6eb544b1736a7d55021f23320668137b0e9418a4913ad7ac5e5c5db5faaa23'\n",
    "tId = 1\n",
    "baseurl = 'https://blocmarket.herokuapp.com/'\n"
   ]
  },
  {
   "cell_type": "code",
   "execution_count": 44,
   "metadata": {},
   "outputs": [
    {
     "name": "stdout",
     "output_type": "stream",
     "text": [
      "BlocBot.ipynb        Rise.py              botdefs.txt\n",
      "BlocBot.py           Untitled.ipynb       botlog.log\n",
      "BotNetScratch.ipynb  \u001b[34m__pycache__\u001b[m\u001b[m/         \u001b[34mscratch\u001b[m\u001b[m/\n"
     ]
    }
   ],
   "source": [
    "ls"
   ]
  },
  {
   "cell_type": "code",
   "execution_count": 7,
   "metadata": {},
   "outputs": [],
   "source": [
    "# Create a test market\n",
    "url = baseurl + 'createMarket'\n",
    "content_makemarket = {\"signingKey\": sk,\n",
    "                        \"traderId\": tId, \n",
    "                        \"verifyKey\": vk,\n",
    "                        \"marketRootId\": 1, \n",
    "                        \"marketBranchId\": 1, \n",
    "                        \"marketMin\": 2500,\n",
    "                        \"marketMax\": 3500}\n",
    "# Post market\n",
    "response = requests.post(url, data=json.dumps(content_makemarket), headers=headers)"
   ]
  },
  {
   "cell_type": "code",
   "execution_count": 8,
   "metadata": {},
   "outputs": [
    {
     "data": {
      "text/plain": [
       "{'allChecks': \"{'inputChk': True, 'marketLimitChk': True, 'traderIdChk': True, 'marketId': '1', 'marketRangeChk': True, 'marketIndChk': True, 'sigChk': True, 'chainChk': True, 'ownerChk': False, 'timeChk': True}\",\n",
       " 'checks': 'False',\n",
       " 'marketBranchId': 1,\n",
       " 'marketId': 1,\n",
       " 'marketMax': 3500,\n",
       " 'marketMin': 2500,\n",
       " 'marketRootId': 1,\n",
       " 'traderId': 4}"
      ]
     },
     "execution_count": 8,
     "metadata": {},
     "output_type": "execute_result"
    }
   ],
   "source": [
    "response.json()"
   ]
  },
  {
   "cell_type": "code",
   "execution_count": 45,
   "metadata": {},
   "outputs": [
    {
     "data": {
      "text/plain": [
       "{'spread': 0.02,\n",
       " 'updateFrequencySeconds': 30,\n",
       " 'verifyKey': 'bbd099748c4d2eec34fe41f5c1d81a7bb10311c0a6422209ae8c39310e681c51',\n",
       " 'signingKey': '7b6eb544b1736a7d55021f23320668137b0e9418a4913ad7ac5e5c5db5faaa23',\n",
       " 'traderId': 1,\n",
       " 'marketId': 2,\n",
       " 'blocurl': 'https://blocmarket.herokuapp.com/',\n",
       " 'blocheaders': {'content-type': 'application/json'},\n",
       " 'quoteSource': 'alphavantage'}"
      ]
     },
     "execution_count": 45,
     "metadata": {},
     "output_type": "execute_result"
    }
   ],
   "source": [
    "# Basic Bot definition\n",
    "botdef = {'spread': 0.02,\n",
    " 'updateFrequencySeconds': 30,\n",
    " 'verifyKey': vk,\n",
    " 'signingKey':  sk,\n",
    " 'traderId': int(tId),\n",
    " 'marketId': int(2),\n",
    " 'blocurl': baseurl,\n",
    " 'blocheaders': {'content-type': 'application/json'},\n",
    " 'quoteSource': 'alphavantage'}\n",
    "\n",
    "botdef"
   ]
  },
  {
   "cell_type": "code",
   "execution_count": 48,
   "metadata": {},
   "outputs": [],
   "source": [
    "# Set up bot\n",
    "bot = BlocBot()\n",
    "for key,val in botdef.items():\n",
    "    # Set bot inputs from definiton\n",
    "    setattr(bot, key, val)"
   ]
  },
  {
   "cell_type": "code",
   "execution_count": 49,
   "metadata": {},
   "outputs": [
    {
     "data": {
      "text/plain": [
       "{'spread': 0.02,\n",
       " 'updateFrequencySeconds': 30,\n",
       " 'verifyKey': 'bbd099748c4d2eec34fe41f5c1d81a7bb10311c0a6422209ae8c39310e681c51',\n",
       " 'signingKey': '7b6eb544b1736a7d55021f23320668137b0e9418a4913ad7ac5e5c5db5faaa23',\n",
       " 'traderId': 1,\n",
       " 'marketId': 2,\n",
       " 'blocurl': 'https://blocmarket.herokuapp.com/',\n",
       " 'blocheaders': {'content-type': 'application/json'},\n",
       " 'quoteSource': 'alphavantage'}"
      ]
     },
     "execution_count": 49,
     "metadata": {},
     "output_type": "execute_result"
    }
   ],
   "source": [
    "vars(bot)"
   ]
  },
  {
   "cell_type": "code",
   "execution_count": null,
   "metadata": {},
   "outputs": [],
   "source": [
    "# Start streaming quotes\n",
    "backgroundBot = threading.Thread(target=bot.streamQuote(), args=()).start()"
   ]
  },
  {
   "cell_type": "code",
   "execution_count": null,
   "metadata": {},
   "outputs": [],
   "source": []
  },
  {
   "cell_type": "code",
   "execution_count": null,
   "metadata": {},
   "outputs": [],
   "source": []
  },
  {
   "cell_type": "code",
   "execution_count": null,
   "metadata": {},
   "outputs": [],
   "source": []
  }
 ],
 "metadata": {
  "kernelspec": {
   "display_name": "Python 3",
   "language": "python",
   "name": "python3"
  },
  "language_info": {
   "codemirror_mode": {
    "name": "ipython",
    "version": 3
   },
   "file_extension": ".py",
   "mimetype": "text/x-python",
   "name": "python",
   "nbconvert_exporter": "python",
   "pygments_lexer": "ipython3",
   "version": "3.7.1"
  }
 },
 "nbformat": 4,
 "nbformat_minor": 2
}
