{
 "cells": [
  {
   "cell_type": "markdown",
   "metadata": {},
   "source": [
    "# NRL Comp setup\n",
    "\n",
    "## Setting up markets and bots:\n",
    "- On clean Heroku database\n",
    "- Create a user for createMarket and for the bots.\n",
    "- Set up markets on Monday night with name like 'Event StGeorge v NewCastle 2019-05-19T16:00:00-10:00 Betfair 1.158610323'. Time is ISO8601 with a UTC offset to go to Brisbane time. Outcome between 0 and 10000 (10000 = StGeorge win, 0 = NewCastle win )\n",
    "- Setup bot with BetfairPriceMakingBot(marketId) looks at the market description and sets itself up. These will keep quoting until they encounter an error or run out of money. If they go down, put up again manually.\n",
    "- Settle all markets at the end of the week.\n",
    "\n"
   ]
  },
  {
   "cell_type": "code",
   "execution_count": 3,
   "metadata": {},
   "outputs": [],
   "source": [
    "# Auto-reload after edits\n",
    "%load_ext autoreload\n",
    "%autoreload 2\n",
    "\n",
    "# Basic bot \n",
    "import requests\n",
    "import pandas as pd\n",
    "import json\n",
    "import threading\n",
    "from BlocBot import BlocBot\n",
    "from BetfairPriceMakingBot import BetfairPriceMakingBot\n"
   ]
  },
  {
   "cell_type": "code",
   "execution_count": 8,
   "metadata": {},
   "outputs": [],
   "source": [
    "# Create a new user\n",
    "baseurl = 'http://127.0.0.1:5000/'\n",
    "#baseurl = 'https://blocmarket.herokuapp.com/'\n",
    "url = baseurl +'createUser'\n",
    "headers = {'content-type': 'application/json'}\n",
    "content = {}\n",
    "response = requests.post(url, data=json.dumps(content))"
   ]
  },
  {
   "cell_type": "code",
   "execution_count": 9,
   "metadata": {},
   "outputs": [
    {
     "data": {
      "text/plain": [
       "{'signingKey': '4d74df4cefdd199638615e3bb9c525201da679f504a5936b1230e16b5f096a24',\n",
       " 'traderId': '16',\n",
       " 'verifyKey': 'd81accacf1398fba28118c0d714303875c243376015ea1515636b5afe7f26145'}"
      ]
     },
     "execution_count": 9,
     "metadata": {},
     "output_type": "execute_result"
    }
   ],
   "source": [
    "response.json()"
   ]
  },
  {
   "cell_type": "code",
   "execution_count": 10,
   "metadata": {},
   "outputs": [],
   "source": [
    "# Save user details\n",
    "sk = response.json()['signingKey']\n",
    "vk = response.json()['verifyKey']\n",
    "tId = int(response.json()['traderId'])"
   ]
  },
  {
   "cell_type": "code",
   "execution_count": 7,
   "metadata": {},
   "outputs": [],
   "source": [
    "# Set up event in spevent -> manual\n",
    "baseurl = 'http://127.0.0.1:5000/'\n",
    "\n",
    "\n",
    "url = baseurl + 'createSPEvent'\n",
    "headers = {'content-type': 'application/json'}\n",
    "\n",
    "content_makeevent = {\"sport\": \"AFL\",\n",
    "                        \"league\": \"AFL\", \n",
    "                        \"competition\": \"2019\",\n",
    "                        \"stage\": \"nothing\", \n",
    "                        \"runners\": json.dumps({\"0\": \"Hawthorn\", \"1\": \"WestCoast\"}), \n",
    "                        \"starttimestamputc\": \"29-Jun-2019\"}\n",
    "# Post market\n",
    "response = requests.post(url, data=json.dumps(content_makeevent), headers=headers)"
   ]
  },
  {
   "cell_type": "code",
   "execution_count": 8,
   "metadata": {},
   "outputs": [
    {
     "data": {
      "text/plain": [
       "'1'"
      ]
     },
     "execution_count": 8,
     "metadata": {},
     "output_type": "execute_result"
    }
   ],
   "source": [
    "eventid = response.json()['eventid']\n",
    "eventid"
   ]
  },
  {
   "cell_type": "code",
   "execution_count": 9,
   "metadata": {},
   "outputs": [],
   "source": [
    "# Set up market in spmarket (for money line -> set betfairid in marketparameters json )\n",
    "url = baseurl + 'createSPMarket'\n",
    "\n",
    "content_makemarket = {\"eventid\": eventid,\n",
    "                        \"markettype\": \"moneyline\", \n",
    "                        \"marketparameters\": json.dumps({'source': {'betfair': {'marketid':'1.159091678'}}}),\n",
    "                        \"notes\": \"AFL test market.\"}\n",
    "# Post market\n",
    "response = requests.post(url, data=json.dumps(content_makemarket), headers=headers)\n"
   ]
  },
  {
   "cell_type": "code",
   "execution_count": 10,
   "metadata": {},
   "outputs": [
    {
     "data": {
      "text/plain": [
       "'16'"
      ]
     },
     "execution_count": 10,
     "metadata": {},
     "output_type": "execute_result"
    }
   ],
   "source": [
    "marketid = response.json()['marketid']\n",
    "marketid"
   ]
  },
  {
   "cell_type": "code",
   "execution_count": 11,
   "metadata": {},
   "outputs": [],
   "source": [
    "# Set up market with marketDesc as 'spmarketid: 8' etc (Use this for bots to pick up)\n",
    "url = baseurl + 'createMarket'\n",
    "headers = {'content-type': 'application/json'}\n",
    "\n",
    "content_makemarket = {\"signingKey\": sk,\n",
    "                        \"traderId\": tId, \n",
    "                        \"verifyKey\": vk,\n",
    "                        \"marketRootId\": 9, \n",
    "                        \"marketBranchId\": 1, \n",
    "                        \"marketMin\": 0,\n",
    "                        \"marketMax\": 10000,\n",
    "                        \"marketDesc\": json.dumps({'spmarket': {'marketid': marketid}})}\n",
    "# Post market\n",
    "response = requests.post(url, data=json.dumps(content_makemarket), headers=headers)\n"
   ]
  },
  {
   "cell_type": "code",
   "execution_count": 12,
   "metadata": {},
   "outputs": [
    {
     "data": {
      "text/plain": [
       "{'allChecks': \"{'inputChk': True, 'marketLimitChk': True, 'traderIdChk': True, 'marketId': '8', 'marketRangeChk': True, 'marketIndChk': True, 'sigChk': True, 'chainChk': True, 'ownerChk': True, 'timeChk': True}\",\n",
       " 'checks': 'True',\n",
       " 'marketBranchId': 1,\n",
       " 'marketId': 8,\n",
       " 'marketMax': 10000,\n",
       " 'marketMin': 0,\n",
       " 'marketRootId': 9,\n",
       " 'traderId': 15}"
      ]
     },
     "execution_count": 12,
     "metadata": {},
     "output_type": "execute_result"
    }
   ],
   "source": [
    "response.json()"
   ]
  },
  {
   "cell_type": "code",
   "execution_count": 13,
   "metadata": {},
   "outputs": [
    {
     "data": {
      "text/plain": [
       "8"
      ]
     },
     "execution_count": 13,
     "metadata": {},
     "output_type": "execute_result"
    }
   ],
   "source": [
    "marketId = response.json()['marketId']\n",
    "marketId"
   ]
  },
  {
   "cell_type": "code",
   "execution_count": 1,
   "metadata": {},
   "outputs": [],
   "source": [
    "marketId = 8"
   ]
  },
  {
   "cell_type": "code",
   "execution_count": 5,
   "metadata": {},
   "outputs": [],
   "source": [
    "bot = BetfairPriceMakingBot(marketId=marketId, blocUrl = 'http://127.0.0.1:5000/')"
   ]
  },
  {
   "cell_type": "code",
   "execution_count": 6,
   "metadata": {},
   "outputs": [
    {
     "data": {
      "text/plain": [
       "{'multiplier': 10000,\n",
       " 'spread': 0.01,\n",
       " 'updateFrequencySeconds': 180,\n",
       " 'verifyKey': [],\n",
       " 'signingKey': [],\n",
       " 'traderId': [],\n",
       " 'marketId': 8,\n",
       " 'blocurl': 'http://127.0.0.1:5000/',\n",
       " 'blocheaders': {'content-type': 'application/json'},\n",
       " 'quoteSource': 'betfair',\n",
       " 'betfairMarketId': '1.159091678',\n",
       " 'betfairAppKey': '',\n",
       " 'betfairSessionToken': '',\n",
       " 'spmarketid': 16,\n",
       " 'blocUrl': 'http://127.0.0.1:5000/'}"
      ]
     },
     "execution_count": 6,
     "metadata": {},
     "output_type": "execute_result"
    }
   ],
   "source": [
    "vars(bot)"
   ]
  },
  {
   "cell_type": "code",
   "execution_count": 12,
   "metadata": {},
   "outputs": [],
   "source": [
    "# Basic Bot definition\n",
    "botdef = {'spread': 0.01,\n",
    " 'updateFrequencySeconds': 30,\n",
    " 'verifyKey': vk,\n",
    " 'signingKey':  sk,\n",
    " 'traderId': tId,\n",
    " 'multiplier': 10000,\n",
    " 'blocurl': baseurl,\n",
    " 'blocheaders': {'content-type': 'application/json'}}\n",
    "\n",
    "bot.getBetfairSessionToken(betfairAppKey ='iw8UsiHCP1GSs213', betfairPassword='ee')\n",
    "# Add some defs\n",
    "for key,val in botdef.items():\n",
    "    # Set bot inputs from definiton\n",
    "    setattr(bot, key, val)"
   ]
  },
  {
   "cell_type": "code",
   "execution_count": 13,
   "metadata": {},
   "outputs": [
    {
     "data": {
      "text/plain": [
       "{'multiplier': 10000,\n",
       " 'spread': 0.01,\n",
       " 'updateFrequencySeconds': 30,\n",
       " 'verifyKey': 'd81accacf1398fba28118c0d714303875c243376015ea1515636b5afe7f26145',\n",
       " 'signingKey': '4d74df4cefdd199638615e3bb9c525201da679f504a5936b1230e16b5f096a24',\n",
       " 'traderId': 16,\n",
       " 'marketId': 8,\n",
       " 'blocurl': 'http://127.0.0.1:5000/',\n",
       " 'blocheaders': {'content-type': 'application/json'},\n",
       " 'quoteSource': 'betfair',\n",
       " 'betfairMarketId': '1.159091678',\n",
       " 'betfairAppKey': 'iw8UsiHCP1GSs213',\n",
       " 'betfairSessionToken': 'kpqhK0MWDRk0dXJ+2oc7c2G5eMC81lOgjyXo2GQ5x54=',\n",
       " 'spmarketid': 16,\n",
       " 'blocUrl': 'http://127.0.0.1:5000/'}"
      ]
     },
     "execution_count": 13,
     "metadata": {},
     "output_type": "execute_result"
    }
   ],
   "source": [
    "vars(bot)"
   ]
  },
  {
   "cell_type": "code",
   "execution_count": 29,
   "metadata": {},
   "outputs": [],
   "source": [
    "quote, bids, asks = bot.getQuote()\n",
    "bestAsk = asks[asks.price==min(asks.price)]\n",
    "bestBid = bids[bids.price==max(bids.price)]"
   ]
  },
  {
   "cell_type": "code",
   "execution_count": null,
   "metadata": {},
   "outputs": [],
   "source": [
    "# Get bot to save odds/stake as sp records AND make prices in local bloc market as probability \n",
    "# Write up this process and prep for live multi-market bots."
   ]
  },
  {
   "cell_type": "code",
   "execution_count": 32,
   "metadata": {},
   "outputs": [
    {
     "data": {
      "text/html": [
       "<div>\n",
       "<style scoped>\n",
       "    .dataframe tbody tr th:only-of-type {\n",
       "        vertical-align: middle;\n",
       "    }\n",
       "\n",
       "    .dataframe tbody tr th {\n",
       "        vertical-align: top;\n",
       "    }\n",
       "\n",
       "    .dataframe thead th {\n",
       "        text-align: right;\n",
       "    }\n",
       "</style>\n",
       "<table border=\"1\" class=\"dataframe\">\n",
       "  <thead>\n",
       "    <tr style=\"text-align: right;\">\n",
       "      <th></th>\n",
       "      <th>price</th>\n",
       "      <th>size</th>\n",
       "    </tr>\n",
       "  </thead>\n",
       "  <tbody>\n",
       "    <tr>\n",
       "      <th>0</th>\n",
       "      <td>1.75</td>\n",
       "      <td>500.0</td>\n",
       "    </tr>\n",
       "    <tr>\n",
       "      <th>1</th>\n",
       "      <td>1.72</td>\n",
       "      <td>33.0</td>\n",
       "    </tr>\n",
       "    <tr>\n",
       "      <th>2</th>\n",
       "      <td>1.68</td>\n",
       "      <td>30.0</td>\n",
       "    </tr>\n",
       "  </tbody>\n",
       "</table>\n",
       "</div>"
      ],
      "text/plain": [
       "   price   size\n",
       "0   1.75  500.0\n",
       "1   1.72   33.0\n",
       "2   1.68   30.0"
      ]
     },
     "execution_count": 32,
     "metadata": {},
     "output_type": "execute_result"
    }
   ],
   "source": [
    "bids"
   ]
  },
  {
   "cell_type": "code",
   "execution_count": 33,
   "metadata": {},
   "outputs": [
    {
     "data": {
      "text/html": [
       "<div>\n",
       "<style scoped>\n",
       "    .dataframe tbody tr th:only-of-type {\n",
       "        vertical-align: middle;\n",
       "    }\n",
       "\n",
       "    .dataframe tbody tr th {\n",
       "        vertical-align: top;\n",
       "    }\n",
       "\n",
       "    .dataframe thead th {\n",
       "        text-align: right;\n",
       "    }\n",
       "</style>\n",
       "<table border=\"1\" class=\"dataframe\">\n",
       "  <thead>\n",
       "    <tr style=\"text-align: right;\">\n",
       "      <th></th>\n",
       "      <th>price</th>\n",
       "      <th>size</th>\n",
       "    </tr>\n",
       "  </thead>\n",
       "  <tbody>\n",
       "    <tr>\n",
       "      <th>0</th>\n",
       "      <td>1.85</td>\n",
       "      <td>59.86</td>\n",
       "    </tr>\n",
       "    <tr>\n",
       "      <th>1</th>\n",
       "      <td>1.95</td>\n",
       "      <td>50.00</td>\n",
       "    </tr>\n",
       "    <tr>\n",
       "      <th>2</th>\n",
       "      <td>2.00</td>\n",
       "      <td>50.00</td>\n",
       "    </tr>\n",
       "  </tbody>\n",
       "</table>\n",
       "</div>"
      ],
      "text/plain": [
       "   price   size\n",
       "0   1.85  59.86\n",
       "1   1.95  50.00\n",
       "2   2.00  50.00"
      ]
     },
     "execution_count": 33,
     "metadata": {},
     "output_type": "execute_result"
    }
   ],
   "source": [
    "asks"
   ]
  },
  {
   "cell_type": "code",
   "execution_count": 34,
   "metadata": {},
   "outputs": [
    {
     "data": {
      "text/html": [
       "<div>\n",
       "<style scoped>\n",
       "    .dataframe tbody tr th:only-of-type {\n",
       "        vertical-align: middle;\n",
       "    }\n",
       "\n",
       "    .dataframe tbody tr th {\n",
       "        vertical-align: top;\n",
       "    }\n",
       "\n",
       "    .dataframe thead th {\n",
       "        text-align: right;\n",
       "    }\n",
       "</style>\n",
       "<table border=\"1\" class=\"dataframe\">\n",
       "  <thead>\n",
       "    <tr style=\"text-align: right;\">\n",
       "      <th></th>\n",
       "      <th>price</th>\n",
       "      <th>size</th>\n",
       "    </tr>\n",
       "  </thead>\n",
       "  <tbody>\n",
       "    <tr>\n",
       "      <th>0</th>\n",
       "      <td>1.75</td>\n",
       "      <td>500.0</td>\n",
       "    </tr>\n",
       "  </tbody>\n",
       "</table>\n",
       "</div>"
      ],
      "text/plain": [
       "   price   size\n",
       "0   1.75  500.0"
      ]
     },
     "execution_count": 34,
     "metadata": {},
     "output_type": "execute_result"
    }
   ],
   "source": [
    "bestBid"
   ]
  },
  {
   "cell_type": "code",
   "execution_count": 35,
   "metadata": {},
   "outputs": [
    {
     "data": {
      "text/html": [
       "<div>\n",
       "<style scoped>\n",
       "    .dataframe tbody tr th:only-of-type {\n",
       "        vertical-align: middle;\n",
       "    }\n",
       "\n",
       "    .dataframe tbody tr th {\n",
       "        vertical-align: top;\n",
       "    }\n",
       "\n",
       "    .dataframe thead th {\n",
       "        text-align: right;\n",
       "    }\n",
       "</style>\n",
       "<table border=\"1\" class=\"dataframe\">\n",
       "  <thead>\n",
       "    <tr style=\"text-align: right;\">\n",
       "      <th></th>\n",
       "      <th>price</th>\n",
       "      <th>size</th>\n",
       "    </tr>\n",
       "  </thead>\n",
       "  <tbody>\n",
       "    <tr>\n",
       "      <th>0</th>\n",
       "      <td>1.85</td>\n",
       "      <td>59.86</td>\n",
       "    </tr>\n",
       "  </tbody>\n",
       "</table>\n",
       "</div>"
      ],
      "text/plain": [
       "   price   size\n",
       "0   1.85  59.86"
      ]
     },
     "execution_count": 35,
     "metadata": {},
     "output_type": "execute_result"
    }
   ],
   "source": [
    "bestAsk"
   ]
  },
  {
   "cell_type": "code",
   "execution_count": 36,
   "metadata": {},
   "outputs": [],
   "source": [
    "bot.scrapeQuote(bestBid, bestAsk)"
   ]
  },
  {
   "cell_type": "code",
   "execution_count": 37,
   "metadata": {},
   "outputs": [],
   "source": [
    "bot.updateFrequencySeconds = 30"
   ]
  },
  {
   "cell_type": "code",
   "execution_count": 40,
   "metadata": {},
   "outputs": [
    {
     "name": "stdout",
     "output_type": "stream",
     "text": [
      "[Within cells interlinked]: quote 1564.0273704789834\n",
      "[Within cells interlinked]: quote 1641.0256410256413\n",
      "[Within cells interlinked]: No price change.\n",
      "[Within cells interlinked]: quote 1752.136752136752\n",
      "[Within cells interlinked]: quote 1694.6778711484594\n",
      "[Within cells interlinked]: quote 1892.361111111111\n",
      "[Within cells interlinked]: quote 1553.15232397607\n",
      "[Within cells interlinked]: quote 1694.6778711484594\n",
      "[Within cells interlinked]: quote 1553.15232397607\n",
      "[Within cells interlinked]: No price change.\n",
      "[Within cells interlinked]: quote 2103.1746031746034\n",
      "[Within cells interlinked]: quote 1714.2857142857142\n",
      "[Within cells interlinked]: quote 2143.182854537164\n",
      "[Within cells interlinked]: quote 1694.6778711484594\n",
      "[Within cells interlinked]: quote 1623.3766233766235\n",
      "[Within cells interlinked]: quote 1714.2857142857142\n",
      "[Within cells interlinked]: quote 1623.3766233766235\n",
      "[Within cells interlinked]: No price change.\n",
      "[Within cells interlinked]: No price change.\n",
      "[Within cells interlinked]: No price change.\n",
      "[Within cells interlinked]: No price change.\n",
      "[Within cells interlinked]: No price change.\n",
      "[Within cells interlinked]: quote 1518.8470066518846\n",
      "[Within cells interlinked]: No price change.\n",
      "[Within cells interlinked]: No price change.\n",
      "[Within cells interlinked]: No price change.\n",
      "[Within cells interlinked]: No price change.\n",
      "[Within cells interlinked]: quote 1623.3766233766235\n",
      "[Within cells interlinked]: quote 1714.2857142857142\n",
      "[Within cells interlinked]: No price change.\n",
      "[Within cells interlinked]: quote 1623.3766233766235\n",
      "[Within cells interlinked]: quote 1666.6666666666667\n",
      "[Within cells interlinked]: quote 1742.4242424242425\n",
      "[Within cells interlinked]: quote 1607.1428571428569\n",
      "[Within cells interlinked]: quote 1623.3766233766235\n",
      "[Within cells interlinked]: No price change.\n",
      "[Within cells interlinked]: No price change.\n",
      "[Within cells interlinked]: No price change.\n",
      "[Within cells interlinked]: No price change.\n",
      "[Within cells interlinked]: No price change.\n",
      "[Within cells interlinked]: quote 1568.627450980392\n",
      "[Within cells interlinked]: quote 1547.6190476190477\n",
      "[Within cells interlinked]: quote 1644.3850267379678\n",
      "[Within cells interlinked]: No price change.\n",
      "[Within cells interlinked]: quote 1568.627450980392\n",
      "[Within cells interlinked]: No price change.\n",
      "[Within cells interlinked]: quote 1345.0502152080346\n",
      "[Within cells interlinked]: quote 1410.9697933227344\n",
      "[Within cells interlinked]: No price change.\n",
      "[Within cells interlinked]: quote 1345.0502152080346\n",
      "[Within cells interlinked]: quote 1410.9697933227344\n",
      "[Within cells interlinked]: No price change.\n",
      "[Within cells interlinked]: No price change.\n",
      "[Within cells interlinked]: No price change.\n",
      "[Within cells interlinked]: quote 1509.0090090090089\n",
      "[Within cells interlinked]: No price change.\n",
      "[Within cells interlinked]: quote 1410.9697933227344\n",
      "[Within cells interlinked]: quote 1509.0090090090089\n",
      "[Within cells interlinked]: No price change.\n",
      "[Within cells interlinked]: No price change.\n",
      "[Within cells interlinked]: No price change.\n",
      "[Within cells interlinked]: quote 1520.73732718894\n",
      "[Within cells interlinked]: No price change.\n",
      "[Within cells interlinked]: quote 1482.1272885789015\n",
      "[Within cells interlinked]: quote 1520.73732718894\n",
      "[Within cells interlinked]: No price change.\n",
      "[Within cells interlinked]: quote 1714.2857142857142\n",
      "[Within cells interlinked]: quote 1520.73732718894\n",
      "[Within cells interlinked]: quote 1714.2857142857142\n",
      "[Within cells interlinked]: quote 1694.6778711484594\n",
      "[Within cells interlinked]: No price change.\n",
      "[Within cells interlinked]: quote 1267.2090112640801\n",
      "[Within cells interlinked]: quote 1607.1428571428569\n",
      "[Within cells interlinked]: quote 1282.6420890937018\n",
      "[Within cells interlinked]: quote 1267.2090112640801\n",
      "[Within cells interlinked]: quote 1714.2857142857142\n",
      "[Within cells interlinked]: quote 1892.361111111111\n",
      "[Within cells interlinked]: quote 1531.9148936170213\n",
      "[Within cells interlinked]: No price change.\n",
      "[Within cells interlinked]: quote 1675.6756756756758\n",
      "[Within cells interlinked]: quote 1892.361111111111\n",
      "[Within cells interlinked]: quote 1813.9661756683033\n",
      "[Within cells interlinked]: quote 2820.5128205128203\n",
      "[Within cells interlinked]: quote 2515.1515151515155\n",
      "[Within cells interlinked]: quote 2408.450704225352\n",
      "[Within cells interlinked]: quote 1968.7277896233118\n",
      "[Within cells interlinked]: No price change.\n",
      "[Within cells interlinked]: quote 2014.6520146520147\n",
      "[Within cells interlinked]: quote 1904.7619047619046\n",
      "[Within cells interlinked]: quote 1940.3655978423733\n",
      "[Within cells interlinked]: quote 2014.6520146520147\n",
      "[Within cells interlinked]: quote 3774.9287749287746\n",
      "[Within cells interlinked]: No price change.\n",
      "[Within cells interlinked]: quote 2014.6520146520147\n",
      "[Within cells interlinked]: No price change.\n",
      "[Within cells interlinked]: quote 1884.6411804158283\n",
      "[Within cells interlinked]: quote 4087.8644602048853\n",
      "[Within cells interlinked]: quote 3757.176629517055\n",
      "[Within cells interlinked]: No price change.\n",
      "[Within cells interlinked]: quote 4259.5255212077645\n",
      "[Within cells interlinked]: quote 4432.624113475177\n",
      "[Within cells interlinked]: quote 3757.176629517055\n",
      "[Within cells interlinked]: quote 4847.7098349221105\n",
      "[Within cells interlinked]: quote 4461.147989066771\n",
      "[Within cells interlinked]: quote 4787.4289902877035\n",
      "[Within cells interlinked]: quote 4577.759197324414\n",
      "[Within cells interlinked]: quote 4703.232644409114\n",
      "[Within cells interlinked]: quote 5588.161838161838\n",
      "[Within cells interlinked]: quote 4757.3953823953825\n",
      "[Within cells interlinked]: quote 5451.574569221628\n",
      "[Within cells interlinked]: quote 4624.893435635124\n",
      "[Within cells interlinked]: quote 4554.865424430642\n",
      "[Within cells interlinked]: quote 4444.53223767383\n",
      "[Within cells interlinked]: quote 4624.893435635124\n",
      "[Within cells interlinked]: quote 4805.491990846682\n",
      "[Within cells interlinked]: quote 4136.752136752137\n",
      "[Within cells interlinked]: quote 4611.999661504612\n",
      "[Within cells interlinked]: quote 4136.752136752137\n",
      "[Within cells interlinked]: quote 4554.865424430642\n",
      "[Within cells interlinked]: quote 5037.24813759312\n",
      "[Within cells interlinked]: quote 5073.051948051948\n",
      "[Within cells interlinked]: No price change.\n",
      "[Within cells interlinked]: No price change.\n",
      "[Within cells interlinked]: No price change.\n",
      "[Within cells interlinked]: quote 6029.986962190353\n",
      "[Within cells interlinked]: quote 5300.106281814623\n",
      "[Within cells interlinked]: No price change.\n",
      "[Within cells interlinked]: No price change.\n",
      "[Within cells interlinked]: quote 5316.156615661567\n",
      "[Within cells interlinked]: No price change.\n",
      "[Within cells interlinked]: No price change.\n",
      "[Within cells interlinked]: quote 5558.300395256917\n",
      "[Within cells interlinked]: quote 5862.04539239814\n",
      "[Within cells interlinked]: quote 5316.156615661567\n",
      "[Within cells interlinked]: quote 5729.439497118911\n",
      "[Within cells interlinked]: quote 5862.04539239814\n",
      "[Within cells interlinked]: quote 5541.777655307554\n",
      "[Within cells interlinked]: No price change.\n",
      "[Within cells interlinked]: quote 5641.36791253496\n",
      "[Within cells interlinked]: quote 4369.369369369369\n",
      "[Within cells interlinked]: quote 5541.777655307554\n",
      "[Within cells interlinked]: No price change.\n",
      "[Within cells interlinked]: quote 4166.666666666666\n",
      "[Within cells interlinked]: quote 4549.180327868852\n",
      "[Within cells interlinked]: quote 3918.9189189189187\n",
      "[Within cells interlinked]: quote 4467.109424414927\n",
      "[Within cells interlinked]: quote 4516.129032258065\n",
      "[Within cells interlinked]: quote 2250.0\n",
      "[Within cells interlinked]: quote 2564.935064935065\n",
      "[Within cells interlinked]: quote 2336.9565217391305\n",
      "[Within cells interlinked]: quote 3743.9680514726274\n",
      "[Within cells interlinked]: quote 2817.4603174603176\n",
      "[Within cells interlinked]: quote 2162.790697674419\n",
      "[Within cells interlinked]: quote 4332.259219477265\n",
      "[Within cells interlinked]: quote 3743.9680514726274\n",
      "[Within cells interlinked]: quote 4238.751338098691\n",
      "[Within cells interlinked]: quote 4224.137931034483\n",
      "[Within cells interlinked]: quote 4805.491990846682\n",
      "[Within cells interlinked]: quote 4224.137931034483\n",
      "[Within cells interlinked]: quote 4563.492063492064\n",
      "[Within cells interlinked]: quote 4830.190427651392\n",
      "[Within cells interlinked]: quote 4793.577981651376\n",
      "[Within cells interlinked]: quote 4830.190427651392\n",
      "[Within cells interlinked]: quote 4791.71409059868\n",
      "[Within cells interlinked]: No price change.\n",
      "[Within cells interlinked]: quote 4772.727272727273\n",
      "[Within cells interlinked]: quote 6386.007728289608\n",
      "[Within cells interlinked]: quote 5453.739284658587\n",
      "[Within cells interlinked]: quote 7247.5143903715325\n",
      "[Within cells interlinked]: quote 5277.777777777778\n",
      "[Within cells interlinked]: quote 7519.2220714608775\n",
      "[Within cells interlinked]: quote 7166.257166257166\n",
      "[Within cells interlinked]: No price change.\n",
      "[Within cells interlinked]: quote 7417.582417582418\n",
      "[Within cells interlinked]: No price change.\n",
      "[Within cells interlinked]: quote 5833.333333333333\n",
      "[Within cells interlinked]: quote 7092.731829573935\n",
      "[Within cells interlinked]: quote 6166.9829222011385\n",
      "[Within cells interlinked]: quote 6187.9297173414825\n",
      "[Within cells interlinked]: quote 5255.462370337674\n",
      "[Within cells interlinked]: quote 5955.757231990925\n",
      "[Within cells interlinked]: quote 7017.034456058846\n",
      "[Within cells interlinked]: quote 5796.033235057625\n",
      "[Within cells interlinked]: quote 5811.258278145696\n",
      "[Within cells interlinked]: quote 5796.033235057625\n",
      "[Within cells interlinked]: quote 6412.627944259465\n",
      "[Within cells interlinked]: quote 6526.360544217687\n",
      "[Within cells interlinked]: quote 6699.438813242266\n",
      "[Within cells interlinked]: quote 6166.9829222011385\n",
      "[Within cells interlinked]: quote 6526.360544217687\n",
      "[Within cells interlinked]: No price change.\n",
      "[Within cells interlinked]: quote 6627.16699583059\n",
      "[Within cells interlinked]: quote 6526.360544217687\n",
      "[Within cells interlinked]: quote 5942.334739803095\n",
      "[Within cells interlinked]: quote 6350.8064516129025\n",
      "[Within cells interlinked]: quote 7092.731829573935\n",
      "[Within cells interlinked]: quote 5999.430321156448\n",
      "[Within cells interlinked]: quote 6089.036055923473\n",
      "[Within cells interlinked]: quote 5942.334739803095\n",
      "[Within cells interlinked]: quote 6537.176274018379\n",
      "[Within cells interlinked]: quote 329.004329004329\n",
      "[Within cells interlinked]: quote 777.1260997067449\n"
     ]
    },
    {
     "ename": "TypeError",
     "evalue": "Object of type ndarray is not JSON serializable",
     "output_type": "error",
     "traceback": [
      "\u001b[0;31m---------------------------------------------------------------------------\u001b[0m",
      "\u001b[0;31mTypeError\u001b[0m                                 Traceback (most recent call last)",
      "\u001b[0;32m<ipython-input-40-aba37aa8bd6a>\u001b[0m in \u001b[0;36m<module>\u001b[0;34m\u001b[0m\n\u001b[0;32m----> 1\u001b[0;31m \u001b[0mbot\u001b[0m\u001b[0;34m.\u001b[0m\u001b[0mstreamQuote\u001b[0m\u001b[0;34m(\u001b[0m\u001b[0mscrapeOdds\u001b[0m\u001b[0;34m=\u001b[0m\u001b[0;32mTrue\u001b[0m\u001b[0;34m,\u001b[0m \u001b[0mpostQuotes\u001b[0m\u001b[0;34m=\u001b[0m\u001b[0;32mTrue\u001b[0m\u001b[0;34m)\u001b[0m\u001b[0;34m\u001b[0m\u001b[0;34m\u001b[0m\u001b[0m\n\u001b[0m",
      "\u001b[0;32m~/src/blocmarket/doc/bots/BlocBot.py\u001b[0m in \u001b[0;36mstreamQuote\u001b[0;34m(self, scrapeOdds, postQuotes)\u001b[0m\n\u001b[1;32m    210\u001b[0m                 \u001b[0;31m# Make quote\u001b[0m\u001b[0;34m\u001b[0m\u001b[0;34m\u001b[0m\u001b[0;34m\u001b[0m\u001b[0m\n\u001b[1;32m    211\u001b[0m                 \u001b[0;32mif\u001b[0m \u001b[0mpostQuotes\u001b[0m\u001b[0;34m:\u001b[0m\u001b[0;34m\u001b[0m\u001b[0;34m\u001b[0m\u001b[0m\n\u001b[0;32m--> 212\u001b[0;31m                     \u001b[0mcbid\u001b[0m \u001b[0;34m=\u001b[0m \u001b[0mself\u001b[0m\u001b[0;34m.\u001b[0m\u001b[0mpostQuote\u001b[0m\u001b[0;34m(\u001b[0m\u001b[0mbidPrice\u001b[0m\u001b[0;34m,\u001b[0m \u001b[0;36m1\u001b[0m\u001b[0;34m)\u001b[0m\u001b[0;34m\u001b[0m\u001b[0;34m\u001b[0m\u001b[0m\n\u001b[0m\u001b[1;32m    213\u001b[0m                     \u001b[0mcask\u001b[0m \u001b[0;34m=\u001b[0m \u001b[0mself\u001b[0m\u001b[0;34m.\u001b[0m\u001b[0mpostQuote\u001b[0m\u001b[0;34m(\u001b[0m\u001b[0maskPrice\u001b[0m\u001b[0;34m,\u001b[0m \u001b[0;34m-\u001b[0m\u001b[0;36m1\u001b[0m\u001b[0;34m)\u001b[0m\u001b[0;34m\u001b[0m\u001b[0;34m\u001b[0m\u001b[0m\n\u001b[1;32m    214\u001b[0m                 \u001b[0;31m# Record trade numbers\u001b[0m\u001b[0;34m\u001b[0m\u001b[0;34m\u001b[0m\u001b[0;34m\u001b[0m\u001b[0m\n",
      "\u001b[0;32m~/src/blocmarket/doc/bots/BlocBot.py\u001b[0m in \u001b[0;36mpostQuote\u001b[0;34m(self, p, q)\u001b[0m\n\u001b[1;32m    144\u001b[0m                              \u001b[0;34m\"price\"\u001b[0m\u001b[0;34m:\u001b[0m\u001b[0mp\u001b[0m\u001b[0;34m,\u001b[0m\u001b[0;34m\u001b[0m\u001b[0;34m\u001b[0m\u001b[0m\n\u001b[1;32m    145\u001b[0m                              \"quantity\": q}\n\u001b[0;32m--> 146\u001b[0;31m         \u001b[0mresponse\u001b[0m \u001b[0;34m=\u001b[0m \u001b[0mrequests\u001b[0m\u001b[0;34m.\u001b[0m\u001b[0mpost\u001b[0m\u001b[0;34m(\u001b[0m\u001b[0mtradeurl\u001b[0m\u001b[0;34m,\u001b[0m \u001b[0mdata\u001b[0m\u001b[0;34m=\u001b[0m\u001b[0mjson\u001b[0m\u001b[0;34m.\u001b[0m\u001b[0mdumps\u001b[0m\u001b[0;34m(\u001b[0m\u001b[0mcontent_maketrade\u001b[0m\u001b[0;34m)\u001b[0m\u001b[0;34m,\u001b[0m \u001b[0mheaders\u001b[0m\u001b[0;34m=\u001b[0m\u001b[0mself\u001b[0m\u001b[0;34m.\u001b[0m\u001b[0mblocheaders\u001b[0m\u001b[0;34m)\u001b[0m\u001b[0;34m\u001b[0m\u001b[0;34m\u001b[0m\u001b[0m\n\u001b[0m\u001b[1;32m    147\u001b[0m         \u001b[0;32mreturn\u001b[0m \u001b[0mresponse\u001b[0m\u001b[0;34m.\u001b[0m\u001b[0mjson\u001b[0m\u001b[0;34m(\u001b[0m\u001b[0;34m)\u001b[0m\u001b[0;34m\u001b[0m\u001b[0;34m\u001b[0m\u001b[0m\n\u001b[1;32m    148\u001b[0m \u001b[0;34m\u001b[0m\u001b[0m\n",
      "\u001b[0;32m/Library/Frameworks/Python.framework/Versions/3.7/lib/python3.7/json/__init__.py\u001b[0m in \u001b[0;36mdumps\u001b[0;34m(obj, skipkeys, ensure_ascii, check_circular, allow_nan, cls, indent, separators, default, sort_keys, **kw)\u001b[0m\n\u001b[1;32m    229\u001b[0m         \u001b[0mcls\u001b[0m \u001b[0;32mis\u001b[0m \u001b[0;32mNone\u001b[0m \u001b[0;32mand\u001b[0m \u001b[0mindent\u001b[0m \u001b[0;32mis\u001b[0m \u001b[0;32mNone\u001b[0m \u001b[0;32mand\u001b[0m \u001b[0mseparators\u001b[0m \u001b[0;32mis\u001b[0m \u001b[0;32mNone\u001b[0m \u001b[0;32mand\u001b[0m\u001b[0;34m\u001b[0m\u001b[0;34m\u001b[0m\u001b[0m\n\u001b[1;32m    230\u001b[0m         default is None and not sort_keys and not kw):\n\u001b[0;32m--> 231\u001b[0;31m         \u001b[0;32mreturn\u001b[0m \u001b[0m_default_encoder\u001b[0m\u001b[0;34m.\u001b[0m\u001b[0mencode\u001b[0m\u001b[0;34m(\u001b[0m\u001b[0mobj\u001b[0m\u001b[0;34m)\u001b[0m\u001b[0;34m\u001b[0m\u001b[0;34m\u001b[0m\u001b[0m\n\u001b[0m\u001b[1;32m    232\u001b[0m     \u001b[0;32mif\u001b[0m \u001b[0mcls\u001b[0m \u001b[0;32mis\u001b[0m \u001b[0;32mNone\u001b[0m\u001b[0;34m:\u001b[0m\u001b[0;34m\u001b[0m\u001b[0;34m\u001b[0m\u001b[0m\n\u001b[1;32m    233\u001b[0m         \u001b[0mcls\u001b[0m \u001b[0;34m=\u001b[0m \u001b[0mJSONEncoder\u001b[0m\u001b[0;34m\u001b[0m\u001b[0;34m\u001b[0m\u001b[0m\n",
      "\u001b[0;32m/Library/Frameworks/Python.framework/Versions/3.7/lib/python3.7/json/encoder.py\u001b[0m in \u001b[0;36mencode\u001b[0;34m(self, o)\u001b[0m\n\u001b[1;32m    197\u001b[0m         \u001b[0;31m# exceptions aren't as detailed.  The list call should be roughly\u001b[0m\u001b[0;34m\u001b[0m\u001b[0;34m\u001b[0m\u001b[0;34m\u001b[0m\u001b[0m\n\u001b[1;32m    198\u001b[0m         \u001b[0;31m# equivalent to the PySequence_Fast that ''.join() would do.\u001b[0m\u001b[0;34m\u001b[0m\u001b[0;34m\u001b[0m\u001b[0;34m\u001b[0m\u001b[0m\n\u001b[0;32m--> 199\u001b[0;31m         \u001b[0mchunks\u001b[0m \u001b[0;34m=\u001b[0m \u001b[0mself\u001b[0m\u001b[0;34m.\u001b[0m\u001b[0miterencode\u001b[0m\u001b[0;34m(\u001b[0m\u001b[0mo\u001b[0m\u001b[0;34m,\u001b[0m \u001b[0m_one_shot\u001b[0m\u001b[0;34m=\u001b[0m\u001b[0;32mTrue\u001b[0m\u001b[0;34m)\u001b[0m\u001b[0;34m\u001b[0m\u001b[0;34m\u001b[0m\u001b[0m\n\u001b[0m\u001b[1;32m    200\u001b[0m         \u001b[0;32mif\u001b[0m \u001b[0;32mnot\u001b[0m \u001b[0misinstance\u001b[0m\u001b[0;34m(\u001b[0m\u001b[0mchunks\u001b[0m\u001b[0;34m,\u001b[0m \u001b[0;34m(\u001b[0m\u001b[0mlist\u001b[0m\u001b[0;34m,\u001b[0m \u001b[0mtuple\u001b[0m\u001b[0;34m)\u001b[0m\u001b[0;34m)\u001b[0m\u001b[0;34m:\u001b[0m\u001b[0;34m\u001b[0m\u001b[0;34m\u001b[0m\u001b[0m\n\u001b[1;32m    201\u001b[0m             \u001b[0mchunks\u001b[0m \u001b[0;34m=\u001b[0m \u001b[0mlist\u001b[0m\u001b[0;34m(\u001b[0m\u001b[0mchunks\u001b[0m\u001b[0;34m)\u001b[0m\u001b[0;34m\u001b[0m\u001b[0;34m\u001b[0m\u001b[0m\n",
      "\u001b[0;32m/Library/Frameworks/Python.framework/Versions/3.7/lib/python3.7/json/encoder.py\u001b[0m in \u001b[0;36miterencode\u001b[0;34m(self, o, _one_shot)\u001b[0m\n\u001b[1;32m    255\u001b[0m                 \u001b[0mself\u001b[0m\u001b[0;34m.\u001b[0m\u001b[0mkey_separator\u001b[0m\u001b[0;34m,\u001b[0m \u001b[0mself\u001b[0m\u001b[0;34m.\u001b[0m\u001b[0mitem_separator\u001b[0m\u001b[0;34m,\u001b[0m \u001b[0mself\u001b[0m\u001b[0;34m.\u001b[0m\u001b[0msort_keys\u001b[0m\u001b[0;34m,\u001b[0m\u001b[0;34m\u001b[0m\u001b[0;34m\u001b[0m\u001b[0m\n\u001b[1;32m    256\u001b[0m                 self.skipkeys, _one_shot)\n\u001b[0;32m--> 257\u001b[0;31m         \u001b[0;32mreturn\u001b[0m \u001b[0m_iterencode\u001b[0m\u001b[0;34m(\u001b[0m\u001b[0mo\u001b[0m\u001b[0;34m,\u001b[0m \u001b[0;36m0\u001b[0m\u001b[0;34m)\u001b[0m\u001b[0;34m\u001b[0m\u001b[0;34m\u001b[0m\u001b[0m\n\u001b[0m\u001b[1;32m    258\u001b[0m \u001b[0;34m\u001b[0m\u001b[0m\n\u001b[1;32m    259\u001b[0m def _make_iterencode(markers, _default, _encoder, _indent, _floatstr,\n",
      "\u001b[0;32m/Library/Frameworks/Python.framework/Versions/3.7/lib/python3.7/json/encoder.py\u001b[0m in \u001b[0;36mdefault\u001b[0;34m(self, o)\u001b[0m\n\u001b[1;32m    177\u001b[0m \u001b[0;34m\u001b[0m\u001b[0m\n\u001b[1;32m    178\u001b[0m         \"\"\"\n\u001b[0;32m--> 179\u001b[0;31m         raise TypeError(f'Object of type {o.__class__.__name__} '\n\u001b[0m\u001b[1;32m    180\u001b[0m                         f'is not JSON serializable')\n\u001b[1;32m    181\u001b[0m \u001b[0;34m\u001b[0m\u001b[0m\n",
      "\u001b[0;31mTypeError\u001b[0m: Object of type ndarray is not JSON serializable"
     ]
    }
   ],
   "source": [
    "bot.streamQuote(scrapeOdds=True, postQuotes=True)"
   ]
  },
  {
   "cell_type": "code",
   "execution_count": null,
   "metadata": {},
   "outputs": [],
   "source": []
  },
  {
   "cell_type": "code",
   "execution_count": 33,
   "metadata": {},
   "outputs": [],
   "source": [
    "# Create all the markets\n",
    "\n",
    "url = baseurl + 'createMarket'\n",
    "headers = {'content-type': 'application/json'}\n",
    "\n",
    "# Market descriptions \n",
    "marketD = ['Event Melbourne v Newcastle 2019-06-15T16:00:00-10:00 betfair 1.159515068',\n",
    "          'Event SouthSydney v Penrith 2019-06-15T16:00:00-10:00 betfair 1.159512658']\n",
    "          \n",
    "mrtId = 0\n",
    "allMarketIds = []\n",
    "for md in marketD:\n",
    "    mrtId = mrtId+1\n",
    "    content_makemarket = {\"signingKey\": sk,\n",
    "                        \"traderId\": tId, \n",
    "                        \"verifyKey\": vk,\n",
    "                        \"marketRootId\": mrtId, \n",
    "                        \"marketBranchId\": 1, \n",
    "                        \"marketMin\": 0,\n",
    "                        \"marketMax\": 10000,\n",
    "                        \"marketDesc\": md}\n",
    "    # Post market\n",
    "    response = requests.post(url, data=json.dumps(content_makemarket), headers=headers)\n",
    "    allMarketIds.append(response.json()['marketId'])\n"
   ]
  },
  {
   "cell_type": "code",
   "execution_count": 34,
   "metadata": {},
   "outputs": [
    {
     "data": {
      "text/plain": [
       "{'allChecks': \"{'inputChk': True, 'marketLimitChk': True, 'traderIdChk': True, 'marketId': '5', 'marketRangeChk': True, 'marketIndChk': True, 'sigChk': True, 'chainChk': True, 'ownerChk': True, 'timeChk': True}\",\n",
       " 'checks': 'True',\n",
       " 'marketBranchId': 1,\n",
       " 'marketId': 5,\n",
       " 'marketMax': 10000,\n",
       " 'marketMin': 0,\n",
       " 'marketRootId': 6,\n",
       " 'traderId': 12}"
      ]
     },
     "execution_count": 34,
     "metadata": {},
     "output_type": "execute_result"
    }
   ],
   "source": [
    "response.json()"
   ]
  },
  {
   "cell_type": "code",
   "execution_count": null,
   "metadata": {},
   "outputs": [],
   "source": [
    "# Basic Bot definition\n",
    "botdef = {'spread': 0.01,\n",
    " 'updateFrequencySeconds': 30,\n",
    " 'verifyKey': vk,\n",
    " 'signingKey':  sk,\n",
    " 'traderId': tId,\n",
    " 'multiplier': 10000,\n",
    " 'blocurl': baseurl,\n",
    " 'blocheaders': {'content-type': 'application/json'}}\n",
    "\n",
    "botdef"
   ]
  },
  {
   "cell_type": "code",
   "execution_count": 78,
   "metadata": {},
   "outputs": [
    {
     "data": {
      "text/plain": [
       "'2019-06-23 07:54:14.721062'"
      ]
     },
     "execution_count": 78,
     "metadata": {},
     "output_type": "execute_result"
    }
   ],
   "source": [
    "str(datetime.datetime.utcnow())"
   ]
  },
  {
   "cell_type": "markdown",
   "metadata": {},
   "source": [
    "# Run single bot"
   ]
  },
  {
   "cell_type": "code",
   "execution_count": null,
   "metadata": {},
   "outputs": [],
   "source": [
    "# Create a bot for market (Make sure VPN location is OK)\n",
    "iMarket = 1\n",
    "bot = BetfairPriceMakingBot(iMarket)\n",
    "bot.getBetfairSessionToken(betfairAppKey ='iw8UsiHCP1GSs213', betfairPassword=bfPass)\n",
    "    \n",
    "# Add some defs\n",
    "for key,val in botdef.items():\n",
    "    # Set bot inputs from definiton\n",
    "    setattr(bot, key, val)\n",
    "    \n"
   ]
  },
  {
   "cell_type": "code",
   "execution_count": null,
   "metadata": {},
   "outputs": [],
   "source": [
    "# Check quot\n",
    "bot.getQuote()"
   ]
  },
  {
   "cell_type": "code",
   "execution_count": 39,
   "metadata": {},
   "outputs": [
    {
     "ename": "TypeError",
     "evalue": "scrapeQuote() missing 2 required positional arguments: 'bid' and 'ask'",
     "output_type": "error",
     "traceback": [
      "\u001b[0;31m---------------------------------------------------------------------------\u001b[0m",
      "\u001b[0;31mTypeError\u001b[0m                                 Traceback (most recent call last)",
      "\u001b[0;32m<ipython-input-39-ecd18f1cabb0>\u001b[0m in \u001b[0;36m<module>\u001b[0;34m\u001b[0m\n\u001b[1;32m      1\u001b[0m \u001b[0;31m# Stream qutoe\u001b[0m\u001b[0;34m\u001b[0m\u001b[0;34m\u001b[0m\u001b[0;34m\u001b[0m\u001b[0m\n\u001b[0;32m----> 2\u001b[0;31m \u001b[0mbot\u001b[0m\u001b[0;34m.\u001b[0m\u001b[0mscrapeQuote\u001b[0m\u001b[0;34m(\u001b[0m\u001b[0;34m)\u001b[0m\u001b[0;34m\u001b[0m\u001b[0;34m\u001b[0m\u001b[0m\n\u001b[0m",
      "\u001b[0;31mTypeError\u001b[0m: scrapeQuote() missing 2 required positional arguments: 'bid' and 'ask'"
     ]
    }
   ],
   "source": [
    "# Stream qutoe\n",
    "bot.streamQuotes()"
   ]
  },
  {
   "cell_type": "code",
   "execution_count": 62,
   "metadata": {},
   "outputs": [
    {
     "data": {
      "text/plain": [
       "datetime.datetime(2019, 6, 23, 7, 38, 45, 296024)"
      ]
     },
     "execution_count": 62,
     "metadata": {},
     "output_type": "execute_result"
    }
   ],
   "source": [
    "import datetime\n",
    "datetime.datetime.utcnow()"
   ]
  },
  {
   "cell_type": "markdown",
   "metadata": {},
   "source": [
    "# Run multiple bots on threads\n"
   ]
  },
  {
   "cell_type": "code",
   "execution_count": null,
   "metadata": {},
   "outputs": [],
   "source": [
    "# Set up bot threads\n",
    "threads = []\n",
    "for iMarket in range(len(marketD)):\n",
    "    \n",
    "    # Create a bot for each market (Make sure VPN location is OK)\n",
    "    bot = BetfairPriceMakingBot(iMarket+1)\n",
    "    bot.getBetfairSessionToken(betfairAppKey ='iw8UsiHCP1GSs213', betfairPassword=bfPass)\n",
    "    \n",
    "    # Add some defs\n",
    "    for key,val in botdef.items():\n",
    "        # Set bot inputs from definiton\n",
    "        setattr(bot, key, val)\n",
    "    \n",
    "    t = threading.Thread(target=bot.streamQuote, args=())\n",
    "    threads.append(t)\n"
   ]
  },
  {
   "cell_type": "code",
   "execution_count": null,
   "metadata": {},
   "outputs": [],
   "source": [
    "# Start threads\n",
    "for t in threads:\n",
    "    t.start()\n",
    "    "
   ]
  },
  {
   "cell_type": "code",
   "execution_count": null,
   "metadata": {},
   "outputs": [],
   "source": [
    "threads"
   ]
  },
  {
   "cell_type": "code",
   "execution_count": null,
   "metadata": {},
   "outputs": [],
   "source": [
    "bot"
   ]
  },
  {
   "cell_type": "code",
   "execution_count": null,
   "metadata": {},
   "outputs": [],
   "source": [
    "vars(bot)"
   ]
  },
  {
   "cell_type": "code",
   "execution_count": null,
   "metadata": {},
   "outputs": [],
   "source": [
    "pd.read_json(bot.getTradeSummary())"
   ]
  },
  {
   "cell_type": "code",
   "execution_count": null,
   "metadata": {},
   "outputs": [],
   "source": [
    "bot.getQuote()"
   ]
  },
  {
   "cell_type": "code",
   "execution_count": null,
   "metadata": {},
   "outputs": [],
   "source": [
    "vars(bot)"
   ]
  },
  {
   "cell_type": "code",
   "execution_count": 27,
   "metadata": {},
   "outputs": [],
   "source": [
    "\n"
   ]
  },
  {
   "cell_type": "code",
   "execution_count": 28,
   "metadata": {},
   "outputs": [
    {
     "data": {
      "text/plain": [
       "<Response [500]>"
      ]
     },
     "execution_count": 28,
     "metadata": {},
     "output_type": "execute_result"
    }
   ],
   "source": [
    "response"
   ]
  },
  {
   "cell_type": "code",
   "execution_count": null,
   "metadata": {},
   "outputs": [],
   "source": []
  }
 ],
 "metadata": {
  "kernelspec": {
   "display_name": "Python 3",
   "language": "python",
   "name": "python3"
  },
  "language_info": {
   "codemirror_mode": {
    "name": "ipython",
    "version": 3
   },
   "file_extension": ".py",
   "mimetype": "text/x-python",
   "name": "python",
   "nbconvert_exporter": "python",
   "pygments_lexer": "ipython3",
   "version": "3.7.3"
  }
 },
 "nbformat": 4,
 "nbformat_minor": 2
}
