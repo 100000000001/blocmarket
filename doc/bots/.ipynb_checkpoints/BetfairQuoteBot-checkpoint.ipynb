{
 "cells": [
  {
   "cell_type": "code",
   "execution_count": 59,
   "metadata": {},
   "outputs": [],
   "source": [
    "import requests\n",
    "import json\n",
    "import pandas as pd\n",
    "import time"
   ]
  },
  {
   "cell_type": "code",
   "execution_count": 40,
   "metadata": {},
   "outputs": [],
   "source": [
    "#baseurl = 'https://blocmarket.herokuapp.com/'\n",
    "# baseurl = 'http://127.0.0.1:5000/'\n",
    "baseurl = 'http://127.0.0.1:7000/'"
   ]
  },
  {
   "cell_type": "code",
   "execution_count": 3,
   "metadata": {},
   "outputs": [],
   "source": [
    "# Betfair example.\n",
    "\n",
    "# Get BBO for a betfair market\n",
    "# Nicer API wrapping here: https://github.com/betfair/API-NG-sample-code/blob/master/python/ApiNgDemoJsonRpc.py\n",
    "\n",
    "#1. Get session token\n",
    "\n",
    "# Note betfair discourages this \n",
    "\n",
    "'''\n",
    "curl -k -i -H \"Accept: applic-Application: alpinechickenbetfair\" -X POST -d 'username=alpinechicken&password=eeis2718' https://identitysso.betfair.com.au/api/login\n",
    "\n",
    "# Gets something like:\n",
    "\n",
    "HTTP/1.1 200 OK\n",
    "Content-Type: application/json\n",
    "Content-Length: 119\n",
    "Date: Sun, 10 Feb 2019 01:55:22 GMT\n",
    "Server: Betfair\n",
    "\n",
    "{\"token\":\"ou5T85YN39lQkJagYBlNk/avRDR3s1KA+tJqda1eB2Y=\",\"product\":\"alpinechickenbetfair\",\"status\":\"SUCCESS\",\"error\":\"\"}Josephs-MacBook-Pro:blocmarket josephclark$ \n",
    "\n",
    "'''\n",
    "\n",
    "token = 'ou5T85YN39lQkJagYBlNk/avRDR3s1KA+tJqda1eB2Y='\n",
    "\n",
    "#2. Get application keys\n",
    "# Instructions here: https://docs.developer.betfair.com/display/1smk3cen4v3lu3yomq5qye0ni/Application+Keys#ApplicationKeys-HowtoCreateAnApplicationKey\n",
    "# Note the keys are already set up so use getDeveloperAppKeys (if they're not set up use createDeveloperAppKeys)\n",
    "\n",
    "demoKey = 'iw8UsiHCP1GSs213'\n",
    "liveKey = 'zBBL3MKepCMp7HGd'\n",
    "\n",
    "\n",
    "# March Brexit: 1.130766060 (betfair market number)\n"
   ]
  },
  {
   "cell_type": "code",
   "execution_count": 12,
   "metadata": {},
   "outputs": [],
   "source": [
    "betfairurl = \"https://api.betfair.com/exchange/betting/json-rpc/v1\"\n",
    "\n",
    "marketId = '1.130766060'\n",
    "sessionToken = 'ou5T85YN39lQkJagYBlNk/avRDR3s1KA+tJqda1eB2Y='\n",
    "demoKey = 'iw8UsiHCP1GSs213'\n",
    "liveKey = 'zBBL3MKepCMp7HGd'\n",
    "appKey = demoKey\n",
    "betfairheaders = {'X-Application': appKey, 'X-Authentication': sessionToken, 'content-type': 'application/json'}\n",
    "market_book_req = '{\"jsonrpc\": \"2.0\", \"method\": \"SportsAPING/v1.0/listMarketBook\", \"params\": {\"marketIds\":[\"' + marketId + '\"],\"priceProjection\":{\"priceData\":[\"EX_BEST_OFFERS\"]}}, \"id\": 1}'\n",
    "response = requests.get(url, data=market_book_req, headers=betfairheaders)\n"
   ]
  },
  {
   "cell_type": "code",
   "execution_count": null,
   "metadata": {},
   "outputs": [],
   "source": [
    "'''\n",
    "response.json() returns something like:\n",
    "\n",
    "{'jsonrpc': '2.0',\n",
    " 'result': [{'marketId': '1.130766060',\n",
    "   'isMarketDataDelayed': True,\n",
    "   'status': 'OPEN',\n",
    "   'betDelay': 0,\n",
    "   'bspReconciled': False,\n",
    "   'complete': True,\n",
    "   'inplay': False,\n",
    "   'numberOfWinners': 1,\n",
    "   'numberOfRunners': 2,\n",
    "   'numberOfActiveRunners': 2,\n",
    "   'lastMatchTime': '2019-02-10T03:49:44.097Z',\n",
    "   'totalMatched': 4430277.12,\n",
    "   'totalAvailable': 78495.88,\n",
    "   'crossMatching': True,\n",
    "   'runnersVoidable': False,\n",
    "   'version': 2607147208,\n",
    "   'runners': [{'selectionId': 1108298,\n",
    "     'handicap': 0.0,\n",
    "     'status': 'ACTIVE',\n",
    "     'lastPriceTraded': 3.65,\n",
    "     'totalMatched': 0.0,\n",
    "     'ex': {'availableToBack': [{'price': 3.55, 'size': 47.24},\n",
    "       {'price': 3.5, 'size': 2518.88},\n",
    "       {'price': 3.45, 'size': 41.34}],\n",
    "      'availableToLay': [{'price': 3.65, 'size': 689.57},\n",
    "       {'price': 3.75, 'size': 1208.76},\n",
    "       {'price': 3.8, 'size': 634.6}],\n",
    "      'tradedVolume': []}},\n",
    "    {'selectionId': 1108299,\n",
    "     'handicap': 0.0,\n",
    "     'status': 'ACTIVE',\n",
    "     'lastPriceTraded': 1.38,\n",
    "     'totalMatched': 0.0,\n",
    "     'ex': {'availableToBack': [{'price': 1.38, 'size': 1702.34},\n",
    "       {'price': 1.37, 'size': 1578.01},\n",
    "       {'price': 1.36, 'size': 3514.0}],\n",
    "      'availableToLay': [{'price': 1.39, 'size': 120.66},\n",
    "       {'price': 1.4, 'size': 6297.2},\n",
    "       {'price': 1.41, 'size': 2294.27}],\n",
    "      'tradedVolume': []}}]}],\n",
    " 'id': 1}\n",
    "\n",
    "'''"
   ]
  },
  {
   "cell_type": "code",
   "execution_count": 36,
   "metadata": {},
   "outputs": [],
   "source": [
    "# Pull out bids/asks\n",
    "bids = pd.DataFrame(response.json()['result'][0]['runners'][1]['ex']['availableToBack']) \n",
    "asks = pd.DataFrame(response.json()['result'][0]['runners'][1]['ex']['availableToLay']) "
   ]
  },
  {
   "cell_type": "code",
   "execution_count": 37,
   "metadata": {},
   "outputs": [
    {
     "data": {
      "text/html": [
       "<div>\n",
       "<style scoped>\n",
       "    .dataframe tbody tr th:only-of-type {\n",
       "        vertical-align: middle;\n",
       "    }\n",
       "\n",
       "    .dataframe tbody tr th {\n",
       "        vertical-align: top;\n",
       "    }\n",
       "\n",
       "    .dataframe thead th {\n",
       "        text-align: right;\n",
       "    }\n",
       "</style>\n",
       "<table border=\"1\" class=\"dataframe\">\n",
       "  <thead>\n",
       "    <tr style=\"text-align: right;\">\n",
       "      <th></th>\n",
       "      <th>price</th>\n",
       "      <th>size</th>\n",
       "    </tr>\n",
       "  </thead>\n",
       "  <tbody>\n",
       "    <tr>\n",
       "      <th>0</th>\n",
       "      <td>1.38</td>\n",
       "      <td>1702.34</td>\n",
       "    </tr>\n",
       "    <tr>\n",
       "      <th>1</th>\n",
       "      <td>1.37</td>\n",
       "      <td>1578.01</td>\n",
       "    </tr>\n",
       "    <tr>\n",
       "      <th>2</th>\n",
       "      <td>1.36</td>\n",
       "      <td>3514.00</td>\n",
       "    </tr>\n",
       "  </tbody>\n",
       "</table>\n",
       "</div>"
      ],
      "text/plain": [
       "   price     size\n",
       "0   1.38  1702.34\n",
       "1   1.37  1578.01\n",
       "2   1.36  3514.00"
      ]
     },
     "execution_count": 37,
     "metadata": {},
     "output_type": "execute_result"
    }
   ],
   "source": [
    "bids"
   ]
  },
  {
   "cell_type": "code",
   "execution_count": 38,
   "metadata": {},
   "outputs": [
    {
     "data": {
      "text/html": [
       "<div>\n",
       "<style scoped>\n",
       "    .dataframe tbody tr th:only-of-type {\n",
       "        vertical-align: middle;\n",
       "    }\n",
       "\n",
       "    .dataframe tbody tr th {\n",
       "        vertical-align: top;\n",
       "    }\n",
       "\n",
       "    .dataframe thead th {\n",
       "        text-align: right;\n",
       "    }\n",
       "</style>\n",
       "<table border=\"1\" class=\"dataframe\">\n",
       "  <thead>\n",
       "    <tr style=\"text-align: right;\">\n",
       "      <th></th>\n",
       "      <th>price</th>\n",
       "      <th>size</th>\n",
       "    </tr>\n",
       "  </thead>\n",
       "  <tbody>\n",
       "    <tr>\n",
       "      <th>0</th>\n",
       "      <td>1.39</td>\n",
       "      <td>120.66</td>\n",
       "    </tr>\n",
       "    <tr>\n",
       "      <th>1</th>\n",
       "      <td>1.40</td>\n",
       "      <td>6297.20</td>\n",
       "    </tr>\n",
       "    <tr>\n",
       "      <th>2</th>\n",
       "      <td>1.41</td>\n",
       "      <td>2294.27</td>\n",
       "    </tr>\n",
       "  </tbody>\n",
       "</table>\n",
       "</div>"
      ],
      "text/plain": [
       "   price     size\n",
       "0   1.39   120.66\n",
       "1   1.40  6297.20\n",
       "2   1.41  2294.27"
      ]
     },
     "execution_count": 38,
     "metadata": {},
     "output_type": "execute_result"
    }
   ],
   "source": [
    "asks"
   ]
  },
  {
   "cell_type": "code",
   "execution_count": null,
   "metadata": {},
   "outputs": [],
   "source": [
    "\n",
    "# \n",
    "    \n"
   ]
  },
  {
   "cell_type": "code",
   "execution_count": 41,
   "metadata": {},
   "outputs": [],
   "source": [
    "# Create a new user\n",
    "url = baseurl +'createUser'\n",
    "headers = {'content-type': 'application/json'}\n",
    "content = {}\n",
    "response = requests.post(url, data=json.dumps(content), headers=headers)"
   ]
  },
  {
   "cell_type": "code",
   "execution_count": 42,
   "metadata": {},
   "outputs": [
    {
     "data": {
      "text/plain": [
       "{'signingKey': '3be37d041deb9679e4b4e66dfe16ba051fff5c1f0c4a00ebd2ec518be080b04f',\n",
       " 'traderId': '2',\n",
       " 'verifyKey': 'ab6c4637c28af5a6af07f6cd9eca1fecf82e2ced9c088960324d72c0224d00ff'}"
      ]
     },
     "execution_count": 42,
     "metadata": {},
     "output_type": "execute_result"
    }
   ],
   "source": [
    "# View response as json\n",
    "response.json()"
   ]
  },
  {
   "cell_type": "code",
   "execution_count": 43,
   "metadata": {},
   "outputs": [],
   "source": [
    "# Copy keys and traderid from response\n",
    "sk = response.json()['signingKey']\n",
    "vk = response.json()['verifyKey']\n",
    "tId = int(response.json()['traderId'])\n"
   ]
  },
  {
   "cell_type": "code",
   "execution_count": 44,
   "metadata": {},
   "outputs": [],
   "source": [
    "# Create a new market\n",
    "mkRtId = 100\n",
    "mkBrId = 1\n",
    "\n",
    "\n",
    "createmarketurl = baseurl + 'createMarket'\n",
    "content_makemarket = {\"signingKey\": sk,\n",
    "                        \"traderId\": tId, \n",
    "                        \"verifyKey\": vk,\n",
    "                        \"marketRootId\": mkRtId, \n",
    "                        \"marketBranchId\": mkBrId, \n",
    "                        \"marketMin\": 0,\n",
    "                        \"marketMax\":1}\n",
    "# Post market\n",
    "response = requests.post(createmarketurl, data=json.dumps(content_makemarket), headers=headers)\n"
   ]
  },
  {
   "cell_type": "code",
   "execution_count": 45,
   "metadata": {},
   "outputs": [
    {
     "data": {
      "text/plain": [
       "{'allChecks': \"{'inputChk': True, 'marketLimitChk': True, 'traderIdChk': True, 'marketId': '2', 'marketRangeChk': True, 'marketIndChk': True, 'sigChk': True, 'chainChk': True, 'ownerChk': True, 'timeChk': True}\",\n",
       " 'checks': 'True',\n",
       " 'marketBranchId': 1,\n",
       " 'marketId': 2,\n",
       " 'marketMax': 1,\n",
       " 'marketMin': 0,\n",
       " 'marketRootId': 100,\n",
       " 'traderId': 2}"
      ]
     },
     "execution_count": 45,
     "metadata": {},
     "output_type": "execute_result"
    }
   ],
   "source": [
    "# response = requests.post(url, data=json.dumps(content_makemarket), headers=headers)\n",
    "# View response as json\n",
    "response.json()"
   ]
  },
  {
   "cell_type": "code",
   "execution_count": 46,
   "metadata": {},
   "outputs": [
    {
     "data": {
      "text/plain": [
       "0.7194244604316548"
      ]
     },
     "execution_count": 46,
     "metadata": {},
     "output_type": "execute_result"
    }
   ],
   "source": [
    "# Save market id from response\n",
    "mkId = response.json()['marketId']\n"
   ]
  },
  {
   "cell_type": "code",
   "execution_count": 47,
   "metadata": {},
   "outputs": [],
   "source": [
    "# Create a trade\n",
    "tradeurl = baseurl+'createTrade'\n",
    "\n",
    "content_maketrade = {\"signingKey\": sk,\n",
    "                     \"traderId\": tId,\n",
    "                     \"verifyKey\": vk,\n",
    "                     \"marketId\": int(mkId),\n",
    "                     \"price\":1/min(asks['price']),\n",
    "                     \"quantity\": 1}\n",
    "response = requests.post(tradeurl, data=json.dumps(content_maketrade), headers=headers)"
   ]
  },
  {
   "cell_type": "code",
   "execution_count": 49,
   "metadata": {},
   "outputs": [
    {
     "data": {
      "text/plain": [
       "{'allChecks': \"{'inputChk': True, 'traderIdChk': True, 'marketChk': True, 'sigChk': True, 'chainChk': True, 'timeChk': True, 'colChk': True}\",\n",
       " 'checks': 'True',\n",
       " 'marketId': 2,\n",
       " 'price': 0.7194244604316548,\n",
       " 'quantity': 1,\n",
       " 'traderId': 2}"
      ]
     },
     "execution_count": 49,
     "metadata": {},
     "output_type": "execute_result"
    }
   ],
   "source": [
    "# View response as json\n",
    "response.json()"
   ]
  },
  {
   "cell_type": "code",
   "execution_count": 50,
   "metadata": {},
   "outputs": [
    {
     "data": {
      "text/plain": [
       "{'signingKey': '3be37d041deb9679e4b4e66dfe16ba051fff5c1f0c4a00ebd2ec518be080b04f',\n",
       " 'traderId': 2,\n",
       " 'verifyKey': 'ab6c4637c28af5a6af07f6cd9eca1fecf82e2ced9c088960324d72c0224d00ff',\n",
       " 'marketRootId': 100,\n",
       " 'marketBranchId': 1,\n",
       " 'marketMin': 0,\n",
       " 'marketMax': 1}"
      ]
     },
     "execution_count": 50,
     "metadata": {},
     "output_type": "execute_result"
    }
   ],
   "source": [
    "content_makemarket"
   ]
  },
  {
   "cell_type": "code",
   "execution_count": 64,
   "metadata": {},
   "outputs": [
    {
     "ename": "KeyboardInterrupt",
     "evalue": "",
     "output_type": "error",
     "traceback": [
      "\u001b[0;31m---------------------------------------------------------------------------\u001b[0m",
      "\u001b[0;31mKeyboardInterrupt\u001b[0m                         Traceback (most recent call last)",
      "\u001b[0;32m<ipython-input-64-4403fbc2dfa7>\u001b[0m in \u001b[0;36m<module>\u001b[0;34m\u001b[0m\n\u001b[1;32m     21\u001b[0m     \u001b[0mcontent_maketrade\u001b[0m\u001b[0;34m[\u001b[0m\u001b[0;34m'quantity'\u001b[0m\u001b[0;34m]\u001b[0m \u001b[0;34m=\u001b[0m \u001b[0;34m-\u001b[0m\u001b[0;36m1\u001b[0m\u001b[0;34m\u001b[0m\u001b[0;34m\u001b[0m\u001b[0m\n\u001b[1;32m     22\u001b[0m     \u001b[0mresponse\u001b[0m \u001b[0;34m=\u001b[0m \u001b[0mrequests\u001b[0m\u001b[0;34m.\u001b[0m\u001b[0mpost\u001b[0m\u001b[0;34m(\u001b[0m\u001b[0mtradeurl\u001b[0m\u001b[0;34m,\u001b[0m \u001b[0mdata\u001b[0m\u001b[0;34m=\u001b[0m\u001b[0mjson\u001b[0m\u001b[0;34m.\u001b[0m\u001b[0mdumps\u001b[0m\u001b[0;34m(\u001b[0m\u001b[0mcontent_maketrade\u001b[0m\u001b[0;34m)\u001b[0m\u001b[0;34m,\u001b[0m \u001b[0mheaders\u001b[0m\u001b[0;34m=\u001b[0m\u001b[0mheaders\u001b[0m\u001b[0;34m)\u001b[0m\u001b[0;34m\u001b[0m\u001b[0;34m\u001b[0m\u001b[0m\n\u001b[0;32m---> 23\u001b[0;31m     \u001b[0mtime\u001b[0m\u001b[0;34m.\u001b[0m\u001b[0msleep\u001b[0m\u001b[0;34m(\u001b[0m\u001b[0;36m3\u001b[0m\u001b[0;34m*\u001b[0m\u001b[0;36m60\u001b[0m\u001b[0;34m)\u001b[0m\u001b[0;34m\u001b[0m\u001b[0;34m\u001b[0m\u001b[0m\n\u001b[0m\u001b[1;32m     24\u001b[0m \u001b[0;34m\u001b[0m\u001b[0m\n\u001b[1;32m     25\u001b[0m     \u001b[0;31m# Remove bid\u001b[0m\u001b[0;34m\u001b[0m\u001b[0;34m\u001b[0m\u001b[0;34m\u001b[0m\u001b[0m\n",
      "\u001b[0;31mKeyboardInterrupt\u001b[0m: "
     ]
    }
   ],
   "source": [
    "stillPosting = True\n",
    "i=0\n",
    "while stillPosting:\n",
    "    # Get BBO\n",
    "    i+=1\n",
    "    response = requests.get(betfairurl, data=market_book_req, headers=betfairheaders)\n",
    "    bids = pd.DataFrame(response.json()['result'][0]['runners'][1]['ex']['availableToBack']) \n",
    "    asks = pd.DataFrame(response.json()['result'][0]['runners'][1]['ex']['availableToLay'])\n",
    "    maxBid = max(bids['price'])\n",
    "    minAsk = min(asks['price'])\n",
    "\n",
    "    # Convert to quote as probability\n",
    "    myBid = 1/minAsk\n",
    "    myAsk = 1/maxBid\n",
    "    \n",
    "    content_maketrade['price'] = myBid\n",
    "    content_maketrade['quantity'] =1\n",
    "    response = requests.post(tradeurl, data=json.dumps(content_maketrade), headers=headers)\n",
    "    # Make an offer\n",
    "    content_maketrade['price'] = myAsk\n",
    "    content_maketrade['quantity'] = -1\n",
    "    response = requests.post(tradeurl, data=json.dumps(content_maketrade), headers=headers)\n",
    "    time.sleep(3*60)\n",
    "    \n",
    "    # Remove bid \n",
    "    content_maketrade['price'] = myAsk\n",
    "    content_maketrade['quantity'] =-1\n",
    "    response = requests.post(tradeurl, data=json.dumps(content_maketrade), headers=headers)\n",
    "    # Remove offer\n",
    "    content_maketrade['price'] = myBid\n",
    "    content_maketrade['quantity'] = 1\n",
    "    response = requests.post(tradeurl, data=json.dumps(content_maketrade), headers=headers)\n",
    "    print('Price for iteration ' + str(i) + ' : ' + str(content_maketrade['price']))\n",
    "    \n"
   ]
  },
  {
   "cell_type": "code",
   "execution_count": 63,
   "metadata": {},
   "outputs": [
    {
     "data": {
      "text/plain": [
       "{'allChecks': \"{'inputChk': True, 'traderIdChk': True, 'marketChk': True, 'sigChk': True, 'chainChk': True, 'timeChk': True, 'colChk': True}\",\n",
       " 'checks': 'True',\n",
       " 'marketId': 2,\n",
       " 'price': 0.7194244604316548,\n",
       " 'quantity': 1,\n",
       " 'traderId': 2}"
      ]
     },
     "execution_count": 63,
     "metadata": {},
     "output_type": "execute_result"
    }
   ],
   "source": [
    "response.json()"
   ]
  },
  {
   "cell_type": "code",
   "execution_count": 55,
   "metadata": {},
   "outputs": [
    {
     "data": {
      "text/plain": [
       "{'jsonrpc': '2.0',\n",
       " 'error': {'code': -32099,\n",
       "  'message': 'ANGX-0004',\n",
       "  'data': {'APINGException': {'requestUUID': 'prdang043-01241043-008da5dc50',\n",
       "    'errorCode': 'NO_APP_KEY',\n",
       "    'errorDetails': ''},\n",
       "   'exceptionname': 'APINGException'}},\n",
       " 'id': 1}"
      ]
     },
     "execution_count": 55,
     "metadata": {},
     "output_type": "execute_result"
    }
   ],
   "source": [
    "response.json()"
   ]
  },
  {
   "cell_type": "code",
   "execution_count": 56,
   "metadata": {},
   "outputs": [],
   "source": [
    "betfairheaders = {'X-Application': appKey, 'X-Authentication': sessionToken, 'content-type': 'application/json'}\n"
   ]
  },
  {
   "cell_type": "code",
   "execution_count": 65,
   "metadata": {},
   "outputs": [
    {
     "data": {
      "text/plain": [
       "0.7246376811594204"
      ]
     },
     "execution_count": 65,
     "metadata": {},
     "output_type": "execute_result"
    }
   ],
   "source": [
    "myAsk\n"
   ]
  },
  {
   "cell_type": "code",
   "execution_count": 66,
   "metadata": {},
   "outputs": [
    {
     "data": {
      "text/plain": [
       "0.7194244604316548"
      ]
     },
     "execution_count": 66,
     "metadata": {},
     "output_type": "execute_result"
    }
   ],
   "source": [
    "\n",
    "myBid"
   ]
  },
  {
   "cell_type": "code",
   "execution_count": null,
   "metadata": {},
   "outputs": [],
   "source": []
  }
 ],
 "metadata": {
  "kernelspec": {
   "display_name": "Python 3",
   "language": "python",
   "name": "python3"
  },
  "language_info": {
   "codemirror_mode": {
    "name": "ipython",
    "version": 3
   },
   "file_extension": ".py",
   "mimetype": "text/x-python",
   "name": "python",
   "nbconvert_exporter": "python",
   "pygments_lexer": "ipython3",
   "version": "3.7.1"
  }
 },
 "nbformat": 4,
 "nbformat_minor": 2
}
