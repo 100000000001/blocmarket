{
 "cells": [
  {
   "cell_type": "code",
   "execution_count": 25,
   "metadata": {},
   "outputs": [],
   "source": [
    "# My little betfair quotebot\n",
    "\n",
    "'''\n",
    "This follows the same structure as FXQuoteBot and RandomRequestBot. Probably not worth having anything more general,\n",
    "especially because the external APIs are a bit specific.\n",
    "'''\n",
    "\n",
    "import requests\n",
    "import json\n",
    "import pandas as pd\n",
    "import time\n",
    "\n",
    "\n",
    "%matplotlib inline\n",
    "import matplotlib.pyplot as plt"
   ]
  },
  {
   "cell_type": "code",
   "execution_count": 10,
   "metadata": {},
   "outputs": [],
   "source": [
    "#baseurl = 'https://blocmarket.herokuapp.com/'\n",
    "# baseurl = 'http://127.0.0.1:5000/'\n",
    "baseurl = 'http://127.0.0.1:7000/'"
   ]
  },
  {
   "cell_type": "code",
   "execution_count": 175,
   "metadata": {},
   "outputs": [],
   "source": [
    "# Betfair example.\n",
    "\n",
    "# Get BBO for a betfair market\n",
    "# Nicer API wrapping here: https://github.com/betfair/API-NG-sample-code/blob/master/python/ApiNgDemoJsonRpc.py\n",
    "\n",
    "#1. Get session token\n",
    "\n",
    "# Note betfair discourages doing it this way. \n",
    "\n",
    "'''\n",
    "curl -H \"Accept: application/json\" -H \"X-Application: alpinechickenbetfair\" -X POST -d 'username=alpinechicken&password=<password>' https://identitysso.betfair.com/api/login\n",
    "\n",
    "curl -k -i -H \"Accept: application/json\" -H \"X-Application: alpinechickenbetfair\" -X POST -d 'username=alpinechicken&password=<password>' https://identitysso.betfair.com/api/login\n",
    "\n",
    "\n",
    "# Gets something like:\n",
    "\n",
    "HTTP/1.1 200 OK\n",
    "Content-Type: application/json\n",
    "Content-Length: 119\n",
    "Date: Sun, 10 Feb 2019 01:55:22 GMT\n",
    "Server: Betfair\n",
    "\n",
    "{\"token\":\"ou5T85YN39lQkJagYBlNk/avRDR3s1KA+tJqda1eB2Y=\",\"product\":\"alpinechickenbetfair\",\"status\":\"SUCCESS\",\"error\":\"\"} \n",
    "\n",
    "'''\n",
    "\n",
    "sessionToken = 'CMS/qWASGRywt9zQQ1byM88HMPUk3mec2A6K7ymxCq8='\n",
    "\n",
    "#2. Get application keys\n",
    "# Instructions here: https://docs.developer.betfair.com/display/1smk3cen4v3lu3yomq5qye0ni/Application+Keys#ApplicationKeys-HowtoCreateAnApplicationKey\n",
    "# Note the keys are already set up so use getDeveloperAppKeys (if they're not set up use createDeveloperAppKeys)\n",
    "\n",
    "demoKey = 'iw8UsiHCP1GSs213'\n",
    "liveKey = '<live key>'\n",
    "appKey = demoKey\n",
    "\n",
    "# March Brexit: 1.130766060 (betfair market number)\n"
   ]
  },
  {
   "cell_type": "code",
   "execution_count": 191,
   "metadata": {},
   "outputs": [
    {
     "data": {
      "text/plain": [
       "[{'eventType': {'id': '1', 'name': 'Soccer'}, 'marketCount': 16593},\n",
       " {'eventType': {'id': '2', 'name': 'Tennis'}, 'marketCount': 1980},\n",
       " {'eventType': {'id': '3', 'name': 'Golf'}, 'marketCount': 33},\n",
       " {'eventType': {'id': '4', 'name': 'Cricket'}, 'marketCount': 486},\n",
       " {'eventType': {'id': '5', 'name': 'Rugby Union'}, 'marketCount': 148},\n",
       " {'eventType': {'id': '1477', 'name': 'Rugby League'}, 'marketCount': 26},\n",
       " {'eventType': {'id': '6', 'name': 'Boxing'}, 'marketCount': 42},\n",
       " {'eventType': {'id': '7', 'name': 'Horse Racing'}, 'marketCount': 1012},\n",
       " {'eventType': {'id': '8', 'name': 'Motor Sport'}, 'marketCount': 2},\n",
       " {'eventType': {'id': '27454571', 'name': 'Esports'}, 'marketCount': 158},\n",
       " {'eventType': {'id': '10', 'name': 'Special Bets'}, 'marketCount': 61},\n",
       " {'eventType': {'id': '998917', 'name': 'Volleyball'}, 'marketCount': 23},\n",
       " {'eventType': {'id': '11', 'name': 'Cycling'}, 'marketCount': 1},\n",
       " {'eventType': {'id': '2152880', 'name': 'Gaelic Games'}, 'marketCount': 59},\n",
       " {'eventType': {'id': '3988', 'name': 'Athletics'}, 'marketCount': 1},\n",
       " {'eventType': {'id': '6422', 'name': 'Snooker'}, 'marketCount': 34},\n",
       " {'eventType': {'id': '6423', 'name': 'American Football'}, 'marketCount': 15},\n",
       " {'eventType': {'id': '7511', 'name': 'Baseball'}, 'marketCount': 9},\n",
       " {'eventType': {'id': '6231', 'name': 'Financial Bets'}, 'marketCount': 6},\n",
       " {'eventType': {'id': '606611', 'name': 'Netball'}, 'marketCount': 11},\n",
       " {'eventType': {'id': '451485', 'name': 'Winter Sports'}, 'marketCount': 9},\n",
       " {'eventType': {'id': '7522', 'name': 'Basketball'}, 'marketCount': 98},\n",
       " {'eventType': {'id': '7524', 'name': 'Ice Hockey'}, 'marketCount': 116},\n",
       " {'eventType': {'id': '61420', 'name': 'Australian Rules'}, 'marketCount': 29},\n",
       " {'eventType': {'id': '468328', 'name': 'Handball'}, 'marketCount': 37},\n",
       " {'eventType': {'id': '3503', 'name': 'Darts'}, 'marketCount': 26},\n",
       " {'eventType': {'id': '26420387', 'name': 'Mixed Martial Arts'},\n",
       "  'marketCount': 18},\n",
       " {'eventType': {'id': '4339', 'name': 'Greyhound Racing'}, 'marketCount': 451},\n",
       " {'eventType': {'id': '2378961', 'name': 'Politics'}, 'marketCount': 67}]"
      ]
     },
     "execution_count": 191,
     "metadata": {},
     "output_type": "execute_result"
    }
   ],
   "source": [
    "# List event types using REST API\n",
    "\n",
    "resturl = \"https://api.betfair.com/exchange/betting/rest/v1.0/\"\n",
    " \n",
    "betfairheaders = { 'X-Application' : appKey, 'X-Authentication' : sessionToken ,'content-type' : 'application/json' }\n",
    " \n",
    "json_req='{\"filter\":{ }}'\n",
    " \n",
    "url = resturl + \"listEventTypes/\"\n",
    " \n",
    "response = requests.post(url, data=json_req, headers=betfairheaders)\n",
    " \n",
    " \n",
    "response.json()"
   ]
  },
  {
   "cell_type": "code",
   "execution_count": 177,
   "metadata": {},
   "outputs": [],
   "source": [
    "betfairurl = \"https://api.betfair.com/exchange/betting/json-rpc/v1\"\n",
    "\n",
    "#marketId = '1.130766060' # Brexit\n",
    "betfairMarketId= '1.154882219' # India v Australia 24/April\n",
    "demoKey = 'iw8UsiHCP1GSs213'\n",
    "liveKey = '<live key>'\n",
    "appKey = demoKey\n"
   ]
  },
  {
   "cell_type": "code",
   "execution_count": null,
   "metadata": {},
   "outputs": [],
   "source": [
    "\n"
   ]
  },
  {
   "cell_type": "code",
   "execution_count": null,
   "metadata": {},
   "outputs": [],
   "source": []
  },
  {
   "cell_type": "code",
   "execution_count": 192,
   "metadata": {},
   "outputs": [],
   "source": [
    "market_book_req = '{\"jsonrpc\": \"2.0\", \"method\": \"SportsAPING/v1.0/listMarketBook\", \"params\": {\"marketIds\":[\"' + betfairMarketId + '\"],\"priceProjection\":{\"priceData\":[\"EX_BEST_OFFERS\"]}}, \"id\": 1}'\n",
    "response = requests.get(betfairurl, data=market_book_req, headers=header)"
   ]
  },
  {
   "cell_type": "code",
   "execution_count": 193,
   "metadata": {},
   "outputs": [
    {
     "data": {
      "text/plain": [
       "{'jsonrpc': '2.0',\n",
       " 'result': [{'marketId': '1.154882219',\n",
       "   'isMarketDataDelayed': True,\n",
       "   'status': 'OPEN',\n",
       "   'betDelay': 0,\n",
       "   'bspReconciled': False,\n",
       "   'complete': True,\n",
       "   'inplay': False,\n",
       "   'numberOfWinners': 1,\n",
       "   'numberOfRunners': 2,\n",
       "   'numberOfActiveRunners': 2,\n",
       "   'lastMatchTime': '2019-02-23T04:04:40.549Z',\n",
       "   'totalMatched': 15234.1,\n",
       "   'totalAvailable': 110426.96,\n",
       "   'crossMatching': True,\n",
       "   'runnersVoidable': False,\n",
       "   'version': 2636492852,\n",
       "   'runners': [{'selectionId': 414464,\n",
       "     'handicap': 0.0,\n",
       "     'status': 'ACTIVE',\n",
       "     'lastPriceTraded': 1.59,\n",
       "     'totalMatched': 0.0,\n",
       "     'ex': {'availableToBack': [{'price': 1.57, 'size': 217.73},\n",
       "       {'price': 1.56, 'size': 360.92},\n",
       "       {'price': 1.55, 'size': 280.98}],\n",
       "      'availableToLay': [{'price': 1.59, 'size': 4354.38},\n",
       "       {'price': 1.6, 'size': 210.02},\n",
       "       {'price': 1.61, 'size': 114.78}],\n",
       "      'tradedVolume': []}},\n",
       "    {'selectionId': 16606,\n",
       "     'handicap': 0.0,\n",
       "     'status': 'ACTIVE',\n",
       "     'lastPriceTraded': 2.72,\n",
       "     'totalMatched': 0.0,\n",
       "     'ex': {'availableToBack': [{'price': 2.7, 'size': 51.61},\n",
       "       {'price': 2.68, 'size': 2573.03},\n",
       "       {'price': 2.66, 'size': 84.37}],\n",
       "      'availableToLay': [{'price': 2.76, 'size': 123.86},\n",
       "       {'price': 2.8, 'size': 251.08},\n",
       "       {'price': 2.82, 'size': 104.8}],\n",
       "      'tradedVolume': []}}]}],\n",
       " 'id': 1}"
      ]
     },
     "execution_count": 193,
     "metadata": {},
     "output_type": "execute_result"
    }
   ],
   "source": [
    "response.json()"
   ]
  },
  {
   "cell_type": "code",
   "execution_count": 57,
   "metadata": {},
   "outputs": [
    {
     "data": {
      "text/plain": [
       "{'jsonrpc': '2.0',\n",
       " 'result': [{'marketId': '1.154882219',\n",
       "   'isMarketDataDelayed': True,\n",
       "   'status': 'OPEN',\n",
       "   'betDelay': 0,\n",
       "   'bspReconciled': False,\n",
       "   'complete': True,\n",
       "   'inplay': False,\n",
       "   'numberOfWinners': 1,\n",
       "   'numberOfRunners': 2,\n",
       "   'numberOfActiveRunners': 2,\n",
       "   'lastMatchTime': '2019-02-16T04:12:36.965Z',\n",
       "   'totalMatched': 644.12,\n",
       "   'totalAvailable': 86926.58,\n",
       "   'crossMatching': True,\n",
       "   'runnersVoidable': False,\n",
       "   'version': 2636492852,\n",
       "   'runners': [{'selectionId': 414464,\n",
       "     'handicap': 0.0,\n",
       "     'status': 'ACTIVE',\n",
       "     'lastPriceTraded': 1.53,\n",
       "     'totalMatched': 0.0,\n",
       "     'ex': {'availableToBack': [{'price': 1.53, 'size': 116.96},\n",
       "       {'price': 1.5, 'size': 72.45},\n",
       "       {'price': 1.49, 'size': 126.51}],\n",
       "      'availableToLay': [{'price': 1.55, 'size': 99.62},\n",
       "       {'price': 1.63, 'size': 154.9},\n",
       "       {'price': 1.64, 'size': 175.0}],\n",
       "      'tradedVolume': []}},\n",
       "    {'selectionId': 16606,\n",
       "     'handicap': 0.0,\n",
       "     'status': 'ACTIVE',\n",
       "     'totalMatched': 0.0,\n",
       "     'ex': {'availableToBack': [{'price': 2.8, 'size': 63.49},\n",
       "       {'price': 2.58, 'size': 88.4},\n",
       "       {'price': 2.56, 'size': 112.11}],\n",
       "      'availableToLay': [{'price': 2.9, 'size': 61.71},\n",
       "       {'price': 3.0, 'size': 36.23},\n",
       "       {'price': 3.05, 'size': 61.8}],\n",
       "      'tradedVolume': []}}]}],\n",
       " 'id': 1}"
      ]
     },
     "execution_count": 57,
     "metadata": {},
     "output_type": "execute_result"
    }
   ],
   "source": [
    "'''\n",
    "response.json() returns something like:\n",
    "\n",
    "{'jsonrpc': '2.0',\n",
    " 'result': [{'marketId': '1.130766060',\n",
    "   'isMarketDataDelayed': True,\n",
    "   'status': 'OPEN',\n",
    "   'betDelay': 0,\n",
    "   'bspReconciled': False,\n",
    "   'complete': True,\n",
    "   'inplay': False,\n",
    "   'numberOfWinners': 1,\n",
    "   'numberOfRunners': 2,\n",
    "   'numberOfActiveRunners': 2,\n",
    "   'lastMatchTime': '2019-02-10T03:49:44.097Z',\n",
    "   'totalMatched': 4430277.12,\n",
    "   'totalAvailable': 78495.88,\n",
    "   'crossMatching': True,\n",
    "   'runnersVoidable': False,\n",
    "   'version': 2607147208,\n",
    "   'runners': [{'selectionId': 1108298,\n",
    "     'handicap': 0.0,\n",
    "     'status': 'ACTIVE',\n",
    "     'lastPriceTraded': 3.65,\n",
    "     'totalMatched': 0.0,\n",
    "     'ex': {'availableToBack': [{'price': 3.55, 'size': 47.24},\n",
    "       {'price': 3.5, 'size': 2518.88},\n",
    "       {'price': 3.45, 'size': 41.34}],\n",
    "      'availableToLay': [{'price': 3.65, 'size': 689.57},\n",
    "       {'price': 3.75, 'size': 1208.76},\n",
    "       {'price': 3.8, 'size': 634.6}],\n",
    "      'tradedVolume': []}},\n",
    "    {'selectionId': 1108299,\n",
    "     'handicap': 0.0,\n",
    "     'status': 'ACTIVE',\n",
    "     'lastPriceTraded': 1.38,\n",
    "     'totalMatched': 0.0,\n",
    "     'ex': {'availableToBack': [{'price': 1.38, 'size': 1702.34},\n",
    "       {'price': 1.37, 'size': 1578.01},\n",
    "       {'price': 1.36, 'size': 3514.0}],\n",
    "      'availableToLay': [{'price': 1.39, 'size': 120.66},\n",
    "       {'price': 1.4, 'size': 6297.2},\n",
    "       {'price': 1.41, 'size': 2294.27}],\n",
    "      'tradedVolume': []}}]}],\n",
    " 'id': 1}\n",
    "\n",
    "'''\n",
    "response.json()"
   ]
  },
  {
   "cell_type": "code",
   "execution_count": 194,
   "metadata": {},
   "outputs": [],
   "source": [
    "# Pull out bids/asks\n",
    "bids = pd.DataFrame(response.json()['result'][0]['runners'][0]['ex']['availableToBack']) \n",
    "asks = pd.DataFrame(response.json()['result'][0]['runners'][0]['ex']['availableToLay']) "
   ]
  },
  {
   "cell_type": "code",
   "execution_count": 195,
   "metadata": {},
   "outputs": [
    {
     "data": {
      "text/html": [
       "<div>\n",
       "<style scoped>\n",
       "    .dataframe tbody tr th:only-of-type {\n",
       "        vertical-align: middle;\n",
       "    }\n",
       "\n",
       "    .dataframe tbody tr th {\n",
       "        vertical-align: top;\n",
       "    }\n",
       "\n",
       "    .dataframe thead th {\n",
       "        text-align: right;\n",
       "    }\n",
       "</style>\n",
       "<table border=\"1\" class=\"dataframe\">\n",
       "  <thead>\n",
       "    <tr style=\"text-align: right;\">\n",
       "      <th></th>\n",
       "      <th>price</th>\n",
       "      <th>size</th>\n",
       "    </tr>\n",
       "  </thead>\n",
       "  <tbody>\n",
       "    <tr>\n",
       "      <th>0</th>\n",
       "      <td>1.57</td>\n",
       "      <td>217.73</td>\n",
       "    </tr>\n",
       "    <tr>\n",
       "      <th>1</th>\n",
       "      <td>1.56</td>\n",
       "      <td>360.92</td>\n",
       "    </tr>\n",
       "    <tr>\n",
       "      <th>2</th>\n",
       "      <td>1.55</td>\n",
       "      <td>280.98</td>\n",
       "    </tr>\n",
       "  </tbody>\n",
       "</table>\n",
       "</div>"
      ],
      "text/plain": [
       "   price    size\n",
       "0   1.57  217.73\n",
       "1   1.56  360.92\n",
       "2   1.55  280.98"
      ]
     },
     "execution_count": 195,
     "metadata": {},
     "output_type": "execute_result"
    }
   ],
   "source": [
    "bids"
   ]
  },
  {
   "cell_type": "code",
   "execution_count": 196,
   "metadata": {},
   "outputs": [
    {
     "data": {
      "text/html": [
       "<div>\n",
       "<style scoped>\n",
       "    .dataframe tbody tr th:only-of-type {\n",
       "        vertical-align: middle;\n",
       "    }\n",
       "\n",
       "    .dataframe tbody tr th {\n",
       "        vertical-align: top;\n",
       "    }\n",
       "\n",
       "    .dataframe thead th {\n",
       "        text-align: right;\n",
       "    }\n",
       "</style>\n",
       "<table border=\"1\" class=\"dataframe\">\n",
       "  <thead>\n",
       "    <tr style=\"text-align: right;\">\n",
       "      <th></th>\n",
       "      <th>price</th>\n",
       "      <th>size</th>\n",
       "    </tr>\n",
       "  </thead>\n",
       "  <tbody>\n",
       "    <tr>\n",
       "      <th>0</th>\n",
       "      <td>1.59</td>\n",
       "      <td>4354.38</td>\n",
       "    </tr>\n",
       "    <tr>\n",
       "      <th>1</th>\n",
       "      <td>1.60</td>\n",
       "      <td>210.02</td>\n",
       "    </tr>\n",
       "    <tr>\n",
       "      <th>2</th>\n",
       "      <td>1.61</td>\n",
       "      <td>114.78</td>\n",
       "    </tr>\n",
       "  </tbody>\n",
       "</table>\n",
       "</div>"
      ],
      "text/plain": [
       "   price     size\n",
       "0   1.59  4354.38\n",
       "1   1.60   210.02\n",
       "2   1.61   114.78"
      ]
     },
     "execution_count": 196,
     "metadata": {},
     "output_type": "execute_result"
    }
   ],
   "source": [
    "asks"
   ]
  },
  {
   "cell_type": "code",
   "execution_count": 197,
   "metadata": {},
   "outputs": [],
   "source": [
    "# Create a new user\n",
    "url = baseurl +'createUser'\n",
    "headers = {'content-type': 'application/json'}\n",
    "content = {}\n",
    "response = requests.post(url, data=json.dumps(content), headers=headers)"
   ]
  },
  {
   "cell_type": "code",
   "execution_count": 198,
   "metadata": {},
   "outputs": [
    {
     "data": {
      "text/plain": [
       "{'signingKey': '5e452e72e3b20c760ec5a861b0d03b26f35bdb2660d095c405ae39f892e4f7f4',\n",
       " 'traderId': '4',\n",
       " 'verifyKey': '35a13cf6db7a8681e3e11a26d3565f45d9114f6109d5b82311bd78135414733a'}"
      ]
     },
     "execution_count": 198,
     "metadata": {},
     "output_type": "execute_result"
    }
   ],
   "source": [
    "# View response as json\n",
    "response.json()"
   ]
  },
  {
   "cell_type": "code",
   "execution_count": 199,
   "metadata": {},
   "outputs": [],
   "source": [
    "# Copy keys and traderid from response\n",
    "sk = response.json()['signingKey']\n",
    "vk = response.json()['verifyKey']\n",
    "tId = int(response.json()['traderId'])\n"
   ]
  },
  {
   "cell_type": "code",
   "execution_count": 200,
   "metadata": {},
   "outputs": [],
   "source": [
    "# Create a new market\n",
    "mkRtId = 1\n",
    "mkBrId = 1\n",
    "\n",
    "\n",
    "createmarketurl = baseurl + 'createMarket'\n",
    "content_makemarket = {\"signingKey\": sk,\n",
    "                        \"traderId\": tId, \n",
    "                        \"verifyKey\": vk,\n",
    "                        \"marketRootId\": mkRtId, \n",
    "                        \"marketBranchId\": mkBrId, \n",
    "                        \"marketMin\": 0,\n",
    "                        \"marketMax\":1,\n",
    "                        \"marketDesc\": 'India v Australia Sun 24 Feb, 13:30 betfair marketId:' + str(betfairMarketId) +' runnerId: 0' }\n",
    "# Post market\n",
    "response = requests.post(createmarketurl, data=json.dumps(content_makemarket), headers=headers)\n"
   ]
  },
  {
   "cell_type": "code",
   "execution_count": 201,
   "metadata": {},
   "outputs": [
    {
     "data": {
      "text/plain": [
       "{'allChecks': \"{'inputChk': True, 'marketLimitChk': True, 'traderIdChk': True, 'marketId': '1', 'marketRangeChk': True, 'marketIndChk': True, 'sigChk': True, 'chainChk': True, 'ownerChk': False, 'timeChk': True}\",\n",
       " 'checks': 'False',\n",
       " 'marketBranchId': 1,\n",
       " 'marketId': 1,\n",
       " 'marketMax': 1,\n",
       " 'marketMin': 0,\n",
       " 'marketRootId': 1,\n",
       " 'traderId': 4}"
      ]
     },
     "execution_count": 201,
     "metadata": {},
     "output_type": "execute_result"
    }
   ],
   "source": [
    "# response = requests.post(url, data=json.dumps(content_makemarket), headers=headers)\n",
    "# View response as json\n",
    "response.json()"
   ]
  },
  {
   "cell_type": "code",
   "execution_count": 203,
   "metadata": {},
   "outputs": [
    {
     "data": {
      "text/plain": [
       "1"
      ]
     },
     "execution_count": 203,
     "metadata": {},
     "output_type": "execute_result"
    }
   ],
   "source": [
    "# Save market id from response\n",
    "mkId = response.json()['marketId']"
   ]
  },
  {
   "cell_type": "code",
   "execution_count": 204,
   "metadata": {},
   "outputs": [],
   "source": [
    "# Create a trade\n",
    "tradeurl = baseurl+'createTrade'\n",
    "\n",
    "content_maketrade = {\"signingKey\": sk,\n",
    "                     \"traderId\": tId,\n",
    "                     \"verifyKey\": vk,\n",
    "                     \"marketId\": int(mkId),\n",
    "                     \"price\":1/min(asks['price']),\n",
    "                     \"quantity\": 1}\n",
    "response = requests.post(tradeurl, data=json.dumps(content_maketrade), headers=headers)"
   ]
  },
  {
   "cell_type": "code",
   "execution_count": 205,
   "metadata": {},
   "outputs": [
    {
     "data": {
      "text/plain": [
       "{'allChecks': \"{'inputChk': True, 'traderIdChk': True, 'marketChk': True, 'sigChk': True, 'chainChk': True, 'timeChk': True, 'colChk': True}\",\n",
       " 'checks': 'True',\n",
       " 'marketId': 1,\n",
       " 'price': 0.6289308176100629,\n",
       " 'quantity': 1,\n",
       " 'traderId': 4}"
      ]
     },
     "execution_count": 205,
     "metadata": {},
     "output_type": "execute_result"
    }
   ],
   "source": [
    "# View response as json\n",
    "response.json()"
   ]
  },
  {
   "cell_type": "code",
   "execution_count": 206,
   "metadata": {},
   "outputs": [
    {
     "data": {
      "text/plain": [
       "{'signingKey': '5e452e72e3b20c760ec5a861b0d03b26f35bdb2660d095c405ae39f892e4f7f4',\n",
       " 'traderId': 4,\n",
       " 'verifyKey': '35a13cf6db7a8681e3e11a26d3565f45d9114f6109d5b82311bd78135414733a',\n",
       " 'marketRootId': 1,\n",
       " 'marketBranchId': 1,\n",
       " 'marketMin': 0,\n",
       " 'marketMax': 1,\n",
       " 'marketDesc': 'India v Australia Sun 24 Feb, 13:30 betfair marketId:1.154882219 runnerId: 0'}"
      ]
     },
     "execution_count": 206,
     "metadata": {},
     "output_type": "execute_result"
    }
   ],
   "source": [
    "content_makemarket"
   ]
  },
  {
   "cell_type": "code",
   "execution_count": 207,
   "metadata": {},
   "outputs": [
    {
     "name": "stdout",
     "output_type": "stream",
     "text": [
      "Price for iteration 1 : 0.37037037037037035\n",
      "Price for iteration 186 : 0.37037037037037035\n",
      "Price for iteration 219 : 0.37037037037037035\n",
      "Price for iteration 646 : 0.3676470588235294\n",
      "Price for iteration 650 : 0.37037037037037035\n",
      "Price for iteration 651 : 0.3676470588235294\n",
      "Price for iteration 782 : 0.3676470588235294\n",
      "Price for iteration 785 : 0.3676470588235294\n",
      "Price for iteration 786 : 0.3676470588235294\n",
      "Price for iteration 798 : 0.3676470588235294\n",
      "Price for iteration 800 : 0.3676470588235294\n",
      "Price for iteration 801 : 0.3676470588235294\n",
      "Price for iteration 921 : 0.36496350364963503\n",
      "Price for iteration 923 : 0.3676470588235294\n",
      "Price for iteration 924 : 0.36496350364963503\n",
      "Price for iteration 931 : 0.36496350364963503\n",
      "Price for iteration 968 : 0.3623188405797102\n",
      "Price for iteration 983 : 0.3623188405797102\n",
      "Price for iteration 984 : 0.3623188405797102\n",
      "Price for iteration 987 : 0.3623188405797102\n",
      "Price for iteration 989 : 0.3623188405797102\n",
      "Price for iteration 990 : 0.3623188405797102\n",
      "Price for iteration 1160 : 0.36496350364963503\n",
      "Price for iteration 1193 : 0.3597122302158274\n",
      "Price for iteration 1194 : 0.36496350364963503\n",
      "Price for iteration 1195 : 0.3597122302158274\n",
      "Price for iteration 1196 : 0.3597122302158274\n",
      "Price for iteration 1198 : 0.3597122302158274\n",
      "Price for iteration 1199 : 0.3597122302158274\n",
      "Price for iteration 1275 : 0.35714285714285715\n",
      "Price for iteration 1276 : 0.3597122302158274\n",
      "Price for iteration 1281 : 0.35714285714285715\n",
      "Price for iteration 1282 : 0.3597122302158274\n",
      "Price for iteration 1283 : 0.35714285714285715\n",
      "Price for iteration 1285 : 0.3597122302158274\n",
      "Price for iteration 1286 : 0.35714285714285715\n",
      "Price for iteration 1287 : 0.3597122302158274\n",
      "Price for iteration 1292 : 0.3597122302158274\n",
      "Price for iteration 1293 : 0.35714285714285715\n",
      "Price for iteration 1317 : 0.35714285714285715\n",
      "Price for iteration 1322 : 0.35714285714285715\n",
      "Price for iteration 1351 : 0.35714285714285715\n",
      "Price for iteration 1352 : 0.35714285714285715\n",
      "Price for iteration 1367 : 0.3597122302158274\n",
      "Price for iteration 1380 : 0.35714285714285715\n",
      "Price for iteration 1381 : 0.3597122302158274\n",
      "Price for iteration 1382 : 0.35714285714285715\n",
      "Price for iteration 1383 : 0.3597122302158274\n",
      "Price for iteration 1385 : 0.35714285714285715\n",
      "Price for iteration 1401 : 0.35714285714285715\n",
      "Price for iteration 1410 : 0.35714285714285715\n",
      "Price for iteration 1414 : 0.35714285714285715\n",
      "Price for iteration 1415 : 0.35714285714285715\n",
      "Price for iteration 1419 : 0.35714285714285715\n",
      "Price for iteration 1420 : 0.35714285714285715\n",
      "Price for iteration 1424 : 0.35714285714285715\n",
      "Price for iteration 1427 : 0.35714285714285715\n",
      "Price for iteration 1436 : 0.3597122302158274\n",
      "Price for iteration 1437 : 0.35714285714285715\n",
      "Price for iteration 1438 : 0.3597122302158274\n",
      "Price for iteration 1439 : 0.35714285714285715\n",
      "Price for iteration 1440 : 0.3597122302158274\n",
      "Price for iteration 1459 : 0.36496350364963503\n",
      "Price for iteration 1460 : 0.3623188405797102\n",
      "Price for iteration 1461 : 0.3597122302158274\n",
      "Price for iteration 1462 : 0.36496350364963503\n",
      "Price for iteration 1469 : 0.36496350364963503\n",
      "Price for iteration 1476 : 0.3597122302158274\n",
      "Price for iteration 1478 : 0.3623188405797102\n",
      "Price for iteration 1480 : 0.3597122302158274\n",
      "Price for iteration 1481 : 0.3623188405797102\n",
      "Price for iteration 1492 : 0.3597122302158274\n",
      "Price for iteration 1499 : 0.3546099290780142\n",
      "Price for iteration 1500 : 0.35211267605633806\n",
      "Price for iteration 1502 : 0.3546099290780142\n",
      "Price for iteration 1504 : 0.35211267605633806\n",
      "Price for iteration 1514 : 0.3546099290780142\n",
      "Price for iteration 1528 : 0.35211267605633806\n",
      "Price for iteration 1531 : 0.3546099290780142\n",
      "Price for iteration 1532 : 0.35211267605633806\n",
      "Price for iteration 1533 : 0.3546099290780142\n",
      "Price for iteration 1553 : 0.35714285714285715\n",
      "Price for iteration 1620 : 0.35714285714285715\n",
      "Price for iteration 1621 : 0.35714285714285715\n",
      "Price for iteration 1623 : 0.35714285714285715\n",
      "Price for iteration 1624 : 0.3597122302158274\n",
      "Price for iteration 1625 : 0.35714285714285715\n",
      "Price for iteration 1627 : 0.3597122302158274\n",
      "Price for iteration 1631 : 0.3496503496503497\n",
      "Price for iteration 1632 : 0.3597122302158274\n",
      "Price for iteration 1634 : 0.3496503496503497\n",
      "Price for iteration 1635 : 0.3597122302158274\n",
      "Price for iteration 1636 : 0.3496503496503497\n",
      "Price for iteration 1646 : 0.35211267605633806\n",
      "Price for iteration 1649 : 0.35211267605633806\n",
      "Price for iteration 1650 : 0.35211267605633806\n",
      "Price for iteration 1651 : 0.35211267605633806\n",
      "Price for iteration 1661 : 0.35211267605633806\n",
      "Price for iteration 1662 : 0.35211267605633806\n",
      "Price for iteration 1663 : 0.3448275862068966\n",
      "Price for iteration 1672 : 0.3472222222222222\n",
      "Price for iteration 1673 : 0.3448275862068966\n",
      "Price for iteration 1674 : 0.3472222222222222\n",
      "Price for iteration 1691 : 0.3472222222222222\n",
      "Price for iteration 1692 : 0.3472222222222222\n",
      "Price for iteration 1693 : 0.3472222222222222\n",
      "Price for iteration 1694 : 0.3472222222222222\n",
      "Price for iteration 1695 : 0.3472222222222222\n",
      "Price for iteration 1696 : 0.3472222222222222\n",
      "Price for iteration 1697 : 0.35211267605633806\n",
      "Price for iteration 1745 : 0.3546099290780142\n",
      "Price for iteration 1746 : 0.35211267605633806\n",
      "Price for iteration 1747 : 0.3546099290780142\n",
      "Price for iteration 1769 : 0.35211267605633806\n",
      "Price for iteration 1778 : 0.3546099290780142\n",
      "Price for iteration 1779 : 0.35211267605633806\n",
      "Price for iteration 1780 : 0.3546099290780142\n",
      "Price for iteration 1834 : 0.35714285714285715\n",
      "Price for iteration 1938 : 0.3546099290780142\n",
      "Price for iteration 2017 : 0.35714285714285715\n",
      "Price for iteration 2018 : 0.35714285714285715\n",
      "Price for iteration 2019 : 0.3546099290780142\n",
      "Price for iteration 2020 : 0.35714285714285715\n",
      "Price for iteration 2021 : 0.35714285714285715\n",
      "Price for iteration 2037 : 0.3597122302158274\n",
      "Price for iteration 2073 : 0.35714285714285715\n",
      "Price for iteration 2074 : 0.3597122302158274\n",
      "Price for iteration 2075 : 0.35714285714285715\n",
      "Price for iteration 2144 : 0.3496503496503497\n",
      "Price for iteration 2145 : 0.35714285714285715\n",
      "Price for iteration 2147 : 0.35211267605633806\n",
      "Price for iteration 2200 : 0.35211267605633806\n",
      "Price for iteration 2236 : 0.3546099290780142\n",
      "Price for iteration 2237 : 0.35211267605633806\n",
      "Price for iteration 2238 : 0.3546099290780142\n",
      "Price for iteration 2239 : 0.3546099290780142\n",
      "Price for iteration 2241 : 0.3546099290780142\n",
      "Price for iteration 2242 : 0.3546099290780142\n",
      "Price for iteration 2307 : 0.35714285714285715\n",
      "Price for iteration 2345 : 0.3448275862068966\n",
      "Price for iteration 2382 : 0.3472222222222222\n",
      "Price for iteration 2482 : 0.35211267605633806\n",
      "Price for iteration 2500 : 0.3546099290780142\n",
      "Price for iteration 2501 : 0.3546099290780142\n",
      "Price for iteration 2502 : 0.35714285714285715\n",
      "Price for iteration 2503 : 0.3546099290780142\n",
      "Price for iteration 2517 : 0.3496503496503497\n",
      "Price for iteration 2527 : 0.3496503496503497\n",
      "Price for iteration 2528 : 0.3496503496503497\n",
      "Price for iteration 2534 : 0.3496503496503497\n",
      "Price for iteration 2545 : 0.3546099290780142\n",
      "Price for iteration 2555 : 0.35714285714285715\n",
      "Price for iteration 2557 : 0.3546099290780142\n",
      "Price for iteration 2558 : 0.35714285714285715\n",
      "Price for iteration 2592 : 0.3597122302158274\n",
      "Price for iteration 2594 : 0.35714285714285715\n",
      "Price for iteration 2595 : 0.3597122302158274\n"
     ]
    },
    {
     "ename": "ConnectionError",
     "evalue": "HTTPSConnectionPool(host='api.betfair.com', port=443): Max retries exceeded with url: /exchange/betting/json-rpc/v1 (Caused by NewConnectionError('<urllib3.connection.VerifiedHTTPSConnection object at 0x11c8465c0>: Failed to establish a new connection: [Errno 51] Network is unreachable'))",
     "output_type": "error",
     "traceback": [
      "\u001b[0;31m--------------------------------------------------------------------------\u001b[0m",
      "\u001b[0;31mOSError\u001b[0m                                  Traceback (most recent call last)",
      "\u001b[0;32m/Library/Frameworks/Python.framework/Versions/3.7/lib/python3.7/site-packages/urllib3/connection.py\u001b[0m in \u001b[0;36m_new_conn\u001b[0;34m(self)\u001b[0m\n\u001b[1;32m    158\u001b[0m             conn = connection.create_connection(\n\u001b[0;32m--> 159\u001b[0;31m                 (self._dns_host, self.port), self.timeout, **extra_kw)\n\u001b[0m\u001b[1;32m    160\u001b[0m \u001b[0;34m\u001b[0m\u001b[0m\n",
      "\u001b[0;32m/Library/Frameworks/Python.framework/Versions/3.7/lib/python3.7/site-packages/urllib3/util/connection.py\u001b[0m in \u001b[0;36mcreate_connection\u001b[0;34m(address, timeout, source_address, socket_options)\u001b[0m\n\u001b[1;32m     79\u001b[0m     \u001b[0;32mif\u001b[0m \u001b[0merr\u001b[0m \u001b[0;32mis\u001b[0m \u001b[0;32mnot\u001b[0m \u001b[0;32mNone\u001b[0m\u001b[0;34m:\u001b[0m\u001b[0;34m\u001b[0m\u001b[0;34m\u001b[0m\u001b[0m\n\u001b[0;32m---> 80\u001b[0;31m         \u001b[0;32mraise\u001b[0m \u001b[0merr\u001b[0m\u001b[0;34m\u001b[0m\u001b[0;34m\u001b[0m\u001b[0m\n\u001b[0m\u001b[1;32m     81\u001b[0m \u001b[0;34m\u001b[0m\u001b[0m\n",
      "\u001b[0;32m/Library/Frameworks/Python.framework/Versions/3.7/lib/python3.7/site-packages/urllib3/util/connection.py\u001b[0m in \u001b[0;36mcreate_connection\u001b[0;34m(address, timeout, source_address, socket_options)\u001b[0m\n\u001b[1;32m     69\u001b[0m                 \u001b[0msock\u001b[0m\u001b[0;34m.\u001b[0m\u001b[0mbind\u001b[0m\u001b[0;34m(\u001b[0m\u001b[0msource_address\u001b[0m\u001b[0;34m)\u001b[0m\u001b[0;34m\u001b[0m\u001b[0;34m\u001b[0m\u001b[0m\n\u001b[0;32m---> 70\u001b[0;31m             \u001b[0msock\u001b[0m\u001b[0;34m.\u001b[0m\u001b[0mconnect\u001b[0m\u001b[0;34m(\u001b[0m\u001b[0msa\u001b[0m\u001b[0;34m)\u001b[0m\u001b[0;34m\u001b[0m\u001b[0;34m\u001b[0m\u001b[0m\n\u001b[0m\u001b[1;32m     71\u001b[0m             \u001b[0;32mreturn\u001b[0m \u001b[0msock\u001b[0m\u001b[0;34m\u001b[0m\u001b[0;34m\u001b[0m\u001b[0m\n",
      "\u001b[0;31mOSError\u001b[0m: [Errno 51] Network is unreachable",
      "\nDuring handling of the above exception, another exception occurred:\n",
      "\u001b[0;31mNewConnectionError\u001b[0m                       Traceback (most recent call last)",
      "\u001b[0;32m/Library/Frameworks/Python.framework/Versions/3.7/lib/python3.7/site-packages/urllib3/connectionpool.py\u001b[0m in \u001b[0;36murlopen\u001b[0;34m(self, method, url, body, headers, retries, redirect, assert_same_host, timeout, pool_timeout, release_conn, chunked, body_pos, **response_kw)\u001b[0m\n\u001b[1;32m    599\u001b[0m                                                   \u001b[0mbody\u001b[0m\u001b[0;34m=\u001b[0m\u001b[0mbody\u001b[0m\u001b[0;34m,\u001b[0m \u001b[0mheaders\u001b[0m\u001b[0;34m=\u001b[0m\u001b[0mheaders\u001b[0m\u001b[0;34m,\u001b[0m\u001b[0;34m\u001b[0m\u001b[0;34m\u001b[0m\u001b[0m\n\u001b[0;32m--> 600\u001b[0;31m                                                   chunked=chunked)\n\u001b[0m\u001b[1;32m    601\u001b[0m \u001b[0;34m\u001b[0m\u001b[0m\n",
      "\u001b[0;32m/Library/Frameworks/Python.framework/Versions/3.7/lib/python3.7/site-packages/urllib3/connectionpool.py\u001b[0m in \u001b[0;36m_make_request\u001b[0;34m(self, conn, method, url, timeout, chunked, **httplib_request_kw)\u001b[0m\n\u001b[1;32m    342\u001b[0m         \u001b[0;32mtry\u001b[0m\u001b[0;34m:\u001b[0m\u001b[0;34m\u001b[0m\u001b[0;34m\u001b[0m\u001b[0m\n\u001b[0;32m--> 343\u001b[0;31m             \u001b[0mself\u001b[0m\u001b[0;34m.\u001b[0m\u001b[0m_validate_conn\u001b[0m\u001b[0;34m(\u001b[0m\u001b[0mconn\u001b[0m\u001b[0;34m)\u001b[0m\u001b[0;34m\u001b[0m\u001b[0;34m\u001b[0m\u001b[0m\n\u001b[0m\u001b[1;32m    344\u001b[0m         \u001b[0;32mexcept\u001b[0m \u001b[0;34m(\u001b[0m\u001b[0mSocketTimeout\u001b[0m\u001b[0;34m,\u001b[0m \u001b[0mBaseSSLError\u001b[0m\u001b[0;34m)\u001b[0m \u001b[0;32mas\u001b[0m \u001b[0me\u001b[0m\u001b[0;34m:\u001b[0m\u001b[0;34m\u001b[0m\u001b[0;34m\u001b[0m\u001b[0m\n",
      "\u001b[0;32m/Library/Frameworks/Python.framework/Versions/3.7/lib/python3.7/site-packages/urllib3/connectionpool.py\u001b[0m in \u001b[0;36m_validate_conn\u001b[0;34m(self, conn)\u001b[0m\n\u001b[1;32m    838\u001b[0m         \u001b[0;32mif\u001b[0m \u001b[0;32mnot\u001b[0m \u001b[0mgetattr\u001b[0m\u001b[0;34m(\u001b[0m\u001b[0mconn\u001b[0m\u001b[0;34m,\u001b[0m \u001b[0;34m'sock'\u001b[0m\u001b[0;34m,\u001b[0m \u001b[0;32mNone\u001b[0m\u001b[0;34m)\u001b[0m\u001b[0;34m:\u001b[0m  \u001b[0;31m# AppEngine might not have  `.sock`\u001b[0m\u001b[0;34m\u001b[0m\u001b[0;34m\u001b[0m\u001b[0m\n\u001b[0;32m--> 839\u001b[0;31m             \u001b[0mconn\u001b[0m\u001b[0;34m.\u001b[0m\u001b[0mconnect\u001b[0m\u001b[0;34m(\u001b[0m\u001b[0;34m)\u001b[0m\u001b[0;34m\u001b[0m\u001b[0;34m\u001b[0m\u001b[0m\n\u001b[0m\u001b[1;32m    840\u001b[0m \u001b[0;34m\u001b[0m\u001b[0m\n",
      "\u001b[0;32m/Library/Frameworks/Python.framework/Versions/3.7/lib/python3.7/site-packages/urllib3/connection.py\u001b[0m in \u001b[0;36mconnect\u001b[0;34m(self)\u001b[0m\n\u001b[1;32m    300\u001b[0m         \u001b[0;31m# Add certificate verification\u001b[0m\u001b[0;34m\u001b[0m\u001b[0;34m\u001b[0m\u001b[0;34m\u001b[0m\u001b[0m\n\u001b[0;32m--> 301\u001b[0;31m         \u001b[0mconn\u001b[0m \u001b[0;34m=\u001b[0m \u001b[0mself\u001b[0m\u001b[0;34m.\u001b[0m\u001b[0m_new_conn\u001b[0m\u001b[0;34m(\u001b[0m\u001b[0;34m)\u001b[0m\u001b[0;34m\u001b[0m\u001b[0;34m\u001b[0m\u001b[0m\n\u001b[0m\u001b[1;32m    302\u001b[0m         \u001b[0mhostname\u001b[0m \u001b[0;34m=\u001b[0m \u001b[0mself\u001b[0m\u001b[0;34m.\u001b[0m\u001b[0mhost\u001b[0m\u001b[0;34m\u001b[0m\u001b[0;34m\u001b[0m\u001b[0m\n",
      "\u001b[0;32m/Library/Frameworks/Python.framework/Versions/3.7/lib/python3.7/site-packages/urllib3/connection.py\u001b[0m in \u001b[0;36m_new_conn\u001b[0;34m(self)\u001b[0m\n\u001b[1;32m    167\u001b[0m             raise NewConnectionError(\n\u001b[0;32m--> 168\u001b[0;31m                 self, \"Failed to establish a new connection: %s\" % e)\n\u001b[0m\u001b[1;32m    169\u001b[0m \u001b[0;34m\u001b[0m\u001b[0m\n",
      "\u001b[0;31mNewConnectionError\u001b[0m: <urllib3.connection.VerifiedHTTPSConnection object at 0x11c8465c0>: Failed to establish a new connection: [Errno 51] Network is unreachable",
      "\nDuring handling of the above exception, another exception occurred:\n",
      "\u001b[0;31mMaxRetryError\u001b[0m                            Traceback (most recent call last)",
      "\u001b[0;32m/Library/Frameworks/Python.framework/Versions/3.7/lib/python3.7/site-packages/requests/adapters.py\u001b[0m in \u001b[0;36msend\u001b[0;34m(self, request, stream, timeout, verify, cert, proxies)\u001b[0m\n\u001b[1;32m    448\u001b[0m                     \u001b[0mretries\u001b[0m\u001b[0;34m=\u001b[0m\u001b[0mself\u001b[0m\u001b[0;34m.\u001b[0m\u001b[0mmax_retries\u001b[0m\u001b[0;34m,\u001b[0m\u001b[0;34m\u001b[0m\u001b[0;34m\u001b[0m\u001b[0m\n\u001b[0;32m--> 449\u001b[0;31m                     \u001b[0mtimeout\u001b[0m\u001b[0;34m=\u001b[0m\u001b[0mtimeout\u001b[0m\u001b[0;34m\u001b[0m\u001b[0;34m\u001b[0m\u001b[0m\n\u001b[0m\u001b[1;32m    450\u001b[0m                 )\n",
      "\u001b[0;32m/Library/Frameworks/Python.framework/Versions/3.7/lib/python3.7/site-packages/urllib3/connectionpool.py\u001b[0m in \u001b[0;36murlopen\u001b[0;34m(self, method, url, body, headers, retries, redirect, assert_same_host, timeout, pool_timeout, release_conn, chunked, body_pos, **response_kw)\u001b[0m\n\u001b[1;32m    637\u001b[0m             retries = retries.increment(method, url, error=e, _pool=self,\n\u001b[0;32m--> 638\u001b[0;31m                                         _stacktrace=sys.exc_info()[2])\n\u001b[0m\u001b[1;32m    639\u001b[0m             \u001b[0mretries\u001b[0m\u001b[0;34m.\u001b[0m\u001b[0msleep\u001b[0m\u001b[0;34m(\u001b[0m\u001b[0;34m)\u001b[0m\u001b[0;34m\u001b[0m\u001b[0;34m\u001b[0m\u001b[0m\n",
      "\u001b[0;32m/Library/Frameworks/Python.framework/Versions/3.7/lib/python3.7/site-packages/urllib3/util/retry.py\u001b[0m in \u001b[0;36mincrement\u001b[0;34m(self, method, url, response, error, _pool, _stacktrace)\u001b[0m\n\u001b[1;32m    397\u001b[0m         \u001b[0;32mif\u001b[0m \u001b[0mnew_retry\u001b[0m\u001b[0;34m.\u001b[0m\u001b[0mis_exhausted\u001b[0m\u001b[0;34m(\u001b[0m\u001b[0;34m)\u001b[0m\u001b[0;34m:\u001b[0m\u001b[0;34m\u001b[0m\u001b[0;34m\u001b[0m\u001b[0m\n\u001b[0;32m--> 398\u001b[0;31m             \u001b[0;32mraise\u001b[0m \u001b[0mMaxRetryError\u001b[0m\u001b[0;34m(\u001b[0m\u001b[0m_pool\u001b[0m\u001b[0;34m,\u001b[0m \u001b[0murl\u001b[0m\u001b[0;34m,\u001b[0m \u001b[0merror\u001b[0m \u001b[0;32mor\u001b[0m \u001b[0mResponseError\u001b[0m\u001b[0;34m(\u001b[0m\u001b[0mcause\u001b[0m\u001b[0;34m)\u001b[0m\u001b[0;34m)\u001b[0m\u001b[0;34m\u001b[0m\u001b[0;34m\u001b[0m\u001b[0m\n\u001b[0m\u001b[1;32m    399\u001b[0m \u001b[0;34m\u001b[0m\u001b[0m\n",
      "\u001b[0;31mMaxRetryError\u001b[0m: HTTPSConnectionPool(host='api.betfair.com', port=443): Max retries exceeded with url: /exchange/betting/json-rpc/v1 (Caused by NewConnectionError('<urllib3.connection.VerifiedHTTPSConnection object at 0x11c8465c0>: Failed to establish a new connection: [Errno 51] Network is unreachable'))",
      "\nDuring handling of the above exception, another exception occurred:\n",
      "\u001b[0;31mConnectionError\u001b[0m                          Traceback (most recent call last)",
      "\u001b[0;32m<ipython-input-207-9289b8988e45>\u001b[0m in \u001b[0;36m<module>\u001b[0;34m\u001b[0m\n\u001b[1;32m      6\u001b[0m     \u001b[0;31m# Get BBO\u001b[0m\u001b[0;34m\u001b[0m\u001b[0;34m\u001b[0m\u001b[0;34m\u001b[0m\u001b[0m\n\u001b[1;32m      7\u001b[0m     \u001b[0mi\u001b[0m\u001b[0;34m+=\u001b[0m\u001b[0;36m1\u001b[0m\u001b[0;34m\u001b[0m\u001b[0;34m\u001b[0m\u001b[0m\n\u001b[0;32m----> 8\u001b[0;31m     \u001b[0mresponse\u001b[0m \u001b[0;34m=\u001b[0m \u001b[0mrequests\u001b[0m\u001b[0;34m.\u001b[0m\u001b[0mget\u001b[0m\u001b[0;34m(\u001b[0m\u001b[0mbetfairurl\u001b[0m\u001b[0;34m,\u001b[0m \u001b[0mdata\u001b[0m\u001b[0;34m=\u001b[0m\u001b[0mmarket_book_req\u001b[0m\u001b[0;34m,\u001b[0m \u001b[0mheaders\u001b[0m\u001b[0;34m=\u001b[0m\u001b[0mbetfairheaders\u001b[0m\u001b[0;34m)\u001b[0m\u001b[0;34m\u001b[0m\u001b[0;34m\u001b[0m\u001b[0m\n\u001b[0m\u001b[1;32m      9\u001b[0m     \u001b[0mbids\u001b[0m \u001b[0;34m=\u001b[0m \u001b[0mpd\u001b[0m\u001b[0;34m.\u001b[0m\u001b[0mDataFrame\u001b[0m\u001b[0;34m(\u001b[0m\u001b[0mresponse\u001b[0m\u001b[0;34m.\u001b[0m\u001b[0mjson\u001b[0m\u001b[0;34m(\u001b[0m\u001b[0;34m)\u001b[0m\u001b[0;34m[\u001b[0m\u001b[0;34m'result'\u001b[0m\u001b[0;34m]\u001b[0m\u001b[0;34m[\u001b[0m\u001b[0;36m0\u001b[0m\u001b[0;34m]\u001b[0m\u001b[0;34m[\u001b[0m\u001b[0;34m'runners'\u001b[0m\u001b[0;34m]\u001b[0m\u001b[0;34m[\u001b[0m\u001b[0;36m1\u001b[0m\u001b[0;34m]\u001b[0m\u001b[0;34m[\u001b[0m\u001b[0;34m'ex'\u001b[0m\u001b[0;34m]\u001b[0m\u001b[0;34m[\u001b[0m\u001b[0;34m'availableToBack'\u001b[0m\u001b[0;34m]\u001b[0m\u001b[0;34m)\u001b[0m\u001b[0;34m\u001b[0m\u001b[0;34m\u001b[0m\u001b[0m\n\u001b[1;32m     10\u001b[0m     \u001b[0masks\u001b[0m \u001b[0;34m=\u001b[0m \u001b[0mpd\u001b[0m\u001b[0;34m.\u001b[0m\u001b[0mDataFrame\u001b[0m\u001b[0;34m(\u001b[0m\u001b[0mresponse\u001b[0m\u001b[0;34m.\u001b[0m\u001b[0mjson\u001b[0m\u001b[0;34m(\u001b[0m\u001b[0;34m)\u001b[0m\u001b[0;34m[\u001b[0m\u001b[0;34m'result'\u001b[0m\u001b[0;34m]\u001b[0m\u001b[0;34m[\u001b[0m\u001b[0;36m0\u001b[0m\u001b[0;34m]\u001b[0m\u001b[0;34m[\u001b[0m\u001b[0;34m'runners'\u001b[0m\u001b[0;34m]\u001b[0m\u001b[0;34m[\u001b[0m\u001b[0;36m1\u001b[0m\u001b[0;34m]\u001b[0m\u001b[0;34m[\u001b[0m\u001b[0;34m'ex'\u001b[0m\u001b[0;34m]\u001b[0m\u001b[0;34m[\u001b[0m\u001b[0;34m'availableToLay'\u001b[0m\u001b[0;34m]\u001b[0m\u001b[0;34m)\u001b[0m\u001b[0;34m\u001b[0m\u001b[0;34m\u001b[0m\u001b[0m\n",
      "\u001b[0;32m/Library/Frameworks/Python.framework/Versions/3.7/lib/python3.7/site-packages/requests/api.py\u001b[0m in \u001b[0;36mget\u001b[0;34m(url, params, **kwargs)\u001b[0m\n\u001b[1;32m     73\u001b[0m \u001b[0;34m\u001b[0m\u001b[0m\n\u001b[1;32m     74\u001b[0m     \u001b[0mkwargs\u001b[0m\u001b[0;34m.\u001b[0m\u001b[0msetdefault\u001b[0m\u001b[0;34m(\u001b[0m\u001b[0;34m'allow_redirects'\u001b[0m\u001b[0;34m,\u001b[0m \u001b[0;32mTrue\u001b[0m\u001b[0;34m)\u001b[0m\u001b[0;34m\u001b[0m\u001b[0;34m\u001b[0m\u001b[0m\n\u001b[0;32m---> 75\u001b[0;31m     \u001b[0;32mreturn\u001b[0m \u001b[0mrequest\u001b[0m\u001b[0;34m(\u001b[0m\u001b[0;34m'get'\u001b[0m\u001b[0;34m,\u001b[0m \u001b[0murl\u001b[0m\u001b[0;34m,\u001b[0m \u001b[0mparams\u001b[0m\u001b[0;34m=\u001b[0m\u001b[0mparams\u001b[0m\u001b[0;34m,\u001b[0m \u001b[0;34m**\u001b[0m\u001b[0mkwargs\u001b[0m\u001b[0;34m)\u001b[0m\u001b[0;34m\u001b[0m\u001b[0;34m\u001b[0m\u001b[0m\n\u001b[0m\u001b[1;32m     76\u001b[0m \u001b[0;34m\u001b[0m\u001b[0m\n\u001b[1;32m     77\u001b[0m \u001b[0;34m\u001b[0m\u001b[0m\n",
      "\u001b[0;32m/Library/Frameworks/Python.framework/Versions/3.7/lib/python3.7/site-packages/requests/api.py\u001b[0m in \u001b[0;36mrequest\u001b[0;34m(method, url, **kwargs)\u001b[0m\n\u001b[1;32m     58\u001b[0m     \u001b[0;31m# cases, and look like a memory leak in others.\u001b[0m\u001b[0;34m\u001b[0m\u001b[0;34m\u001b[0m\u001b[0;34m\u001b[0m\u001b[0m\n\u001b[1;32m     59\u001b[0m     \u001b[0;32mwith\u001b[0m \u001b[0msessions\u001b[0m\u001b[0;34m.\u001b[0m\u001b[0mSession\u001b[0m\u001b[0;34m(\u001b[0m\u001b[0;34m)\u001b[0m \u001b[0;32mas\u001b[0m \u001b[0msession\u001b[0m\u001b[0;34m:\u001b[0m\u001b[0;34m\u001b[0m\u001b[0;34m\u001b[0m\u001b[0m\n\u001b[0;32m---> 60\u001b[0;31m         \u001b[0;32mreturn\u001b[0m \u001b[0msession\u001b[0m\u001b[0;34m.\u001b[0m\u001b[0mrequest\u001b[0m\u001b[0;34m(\u001b[0m\u001b[0mmethod\u001b[0m\u001b[0;34m=\u001b[0m\u001b[0mmethod\u001b[0m\u001b[0;34m,\u001b[0m \u001b[0murl\u001b[0m\u001b[0;34m=\u001b[0m\u001b[0murl\u001b[0m\u001b[0;34m,\u001b[0m \u001b[0;34m**\u001b[0m\u001b[0mkwargs\u001b[0m\u001b[0;34m)\u001b[0m\u001b[0;34m\u001b[0m\u001b[0;34m\u001b[0m\u001b[0m\n\u001b[0m\u001b[1;32m     61\u001b[0m \u001b[0;34m\u001b[0m\u001b[0m\n\u001b[1;32m     62\u001b[0m \u001b[0;34m\u001b[0m\u001b[0m\n",
      "\u001b[0;32m/Library/Frameworks/Python.framework/Versions/3.7/lib/python3.7/site-packages/requests/sessions.py\u001b[0m in \u001b[0;36mrequest\u001b[0;34m(self, method, url, params, data, headers, cookies, files, auth, timeout, allow_redirects, proxies, hooks, stream, verify, cert, json)\u001b[0m\n\u001b[1;32m    531\u001b[0m         }\n\u001b[1;32m    532\u001b[0m         \u001b[0msend_kwargs\u001b[0m\u001b[0;34m.\u001b[0m\u001b[0mupdate\u001b[0m\u001b[0;34m(\u001b[0m\u001b[0msettings\u001b[0m\u001b[0;34m)\u001b[0m\u001b[0;34m\u001b[0m\u001b[0;34m\u001b[0m\u001b[0m\n\u001b[0;32m--> 533\u001b[0;31m         \u001b[0mresp\u001b[0m \u001b[0;34m=\u001b[0m \u001b[0mself\u001b[0m\u001b[0;34m.\u001b[0m\u001b[0msend\u001b[0m\u001b[0;34m(\u001b[0m\u001b[0mprep\u001b[0m\u001b[0;34m,\u001b[0m \u001b[0;34m**\u001b[0m\u001b[0msend_kwargs\u001b[0m\u001b[0;34m)\u001b[0m\u001b[0;34m\u001b[0m\u001b[0;34m\u001b[0m\u001b[0m\n\u001b[0m\u001b[1;32m    534\u001b[0m \u001b[0;34m\u001b[0m\u001b[0m\n\u001b[1;32m    535\u001b[0m         \u001b[0;32mreturn\u001b[0m \u001b[0mresp\u001b[0m\u001b[0;34m\u001b[0m\u001b[0;34m\u001b[0m\u001b[0m\n",
      "\u001b[0;32m/Library/Frameworks/Python.framework/Versions/3.7/lib/python3.7/site-packages/requests/sessions.py\u001b[0m in \u001b[0;36msend\u001b[0;34m(self, request, **kwargs)\u001b[0m\n\u001b[1;32m    644\u001b[0m \u001b[0;34m\u001b[0m\u001b[0m\n\u001b[1;32m    645\u001b[0m         \u001b[0;31m# Send the request\u001b[0m\u001b[0;34m\u001b[0m\u001b[0;34m\u001b[0m\u001b[0;34m\u001b[0m\u001b[0m\n\u001b[0;32m--> 646\u001b[0;31m         \u001b[0mr\u001b[0m \u001b[0;34m=\u001b[0m \u001b[0madapter\u001b[0m\u001b[0;34m.\u001b[0m\u001b[0msend\u001b[0m\u001b[0;34m(\u001b[0m\u001b[0mrequest\u001b[0m\u001b[0;34m,\u001b[0m \u001b[0;34m**\u001b[0m\u001b[0mkwargs\u001b[0m\u001b[0;34m)\u001b[0m\u001b[0;34m\u001b[0m\u001b[0;34m\u001b[0m\u001b[0m\n\u001b[0m\u001b[1;32m    647\u001b[0m \u001b[0;34m\u001b[0m\u001b[0m\n\u001b[1;32m    648\u001b[0m         \u001b[0;31m# Total elapsed time of the request (approximately)\u001b[0m\u001b[0;34m\u001b[0m\u001b[0;34m\u001b[0m\u001b[0;34m\u001b[0m\u001b[0m\n",
      "\u001b[0;32m/Library/Frameworks/Python.framework/Versions/3.7/lib/python3.7/site-packages/requests/adapters.py\u001b[0m in \u001b[0;36msend\u001b[0;34m(self, request, stream, timeout, verify, cert, proxies)\u001b[0m\n\u001b[1;32m    514\u001b[0m                 \u001b[0;32mraise\u001b[0m \u001b[0mSSLError\u001b[0m\u001b[0;34m(\u001b[0m\u001b[0me\u001b[0m\u001b[0;34m,\u001b[0m \u001b[0mrequest\u001b[0m\u001b[0;34m=\u001b[0m\u001b[0mrequest\u001b[0m\u001b[0;34m)\u001b[0m\u001b[0;34m\u001b[0m\u001b[0;34m\u001b[0m\u001b[0m\n\u001b[1;32m    515\u001b[0m \u001b[0;34m\u001b[0m\u001b[0m\n\u001b[0;32m--> 516\u001b[0;31m             \u001b[0;32mraise\u001b[0m \u001b[0mConnectionError\u001b[0m\u001b[0;34m(\u001b[0m\u001b[0me\u001b[0m\u001b[0;34m,\u001b[0m \u001b[0mrequest\u001b[0m\u001b[0;34m=\u001b[0m\u001b[0mrequest\u001b[0m\u001b[0;34m)\u001b[0m\u001b[0;34m\u001b[0m\u001b[0;34m\u001b[0m\u001b[0m\n\u001b[0m\u001b[1;32m    517\u001b[0m \u001b[0;34m\u001b[0m\u001b[0m\n\u001b[1;32m    518\u001b[0m         \u001b[0;32mexcept\u001b[0m \u001b[0mClosedPoolError\u001b[0m \u001b[0;32mas\u001b[0m \u001b[0me\u001b[0m\u001b[0;34m:\u001b[0m\u001b[0;34m\u001b[0m\u001b[0;34m\u001b[0m\u001b[0m\n",
      "\u001b[0;31mConnectionError\u001b[0m: HTTPSConnectionPool(host='api.betfair.com', port=443): Max retries exceeded with url: /exchange/betting/json-rpc/v1 (Caused by NewConnectionError('<urllib3.connection.VerifiedHTTPSConnection object at 0x11c8465c0>: Failed to establish a new connection: [Errno 51] Network is unreachable'))"
     ]
    }
   ],
   "source": [
    "stillPosting = True\n",
    "i=0\n",
    "prevMaxBid = 0\n",
    "prevMinAsk = 0\n",
    "while stillPosting:\n",
    "    # Get BBO\n",
    "    i+=1\n",
    "    response = requests.get(betfairurl, data=market_book_req, headers=betfairheaders)\n",
    "    bids = pd.DataFrame(response.json()['result'][0]['runners'][1]['ex']['availableToBack']) \n",
    "    asks = pd.DataFrame(response.json()['result'][0]['runners'][1]['ex']['availableToLay'])\n",
    "    maxBid = max(bids['price'])\n",
    "    minAsk = min(asks['price'])\n",
    "    if (prevMaxBid == maxBid) and (prevMinAsk == minAsk):\n",
    "        time.sleep(30)\n",
    "    else:        \n",
    "        # Convert to quote as probability\n",
    "        myBid = 1/minAsk\n",
    "        myAsk = 1/maxBid\n",
    "\n",
    "        content_maketrade['price'] = myAsk\n",
    "        content_maketrade['quantity'] =1\n",
    "        response = requests.post(tradeurl, data=json.dumps(content_maketrade), headers=headers)\n",
    "        # Make an offer\n",
    "        content_maketrade['price'] = myBid\n",
    "        content_maketrade['quantity'] = -1\n",
    "        response = requests.post(tradeurl, data=json.dumps(content_maketrade), headers=headers)\n",
    "        time.sleep(30)\n",
    "\n",
    "        # Remove bid \n",
    "        content_maketrade['price'] = myBid\n",
    "        content_maketrade['quantity'] =-1\n",
    "        response = requests.post(tradeurl, data=json.dumps(content_maketrade), headers=headers)\n",
    "        # Remove offer\n",
    "        content_maketrade['price'] = myAsk\n",
    "        content_maketrade['quantity'] = 1\n",
    "        response = requests.post(tradeurl, data=json.dumps(content_maketrade), headers=headers)\n",
    "\n",
    "        prevMaxBid = maxBid\n",
    "        prevMinAsk = minAsk\n",
    "        print('Price for iteration ' + str(i) + ' : ' + str(content_maketrade['price']))\n",
    "    \n"
   ]
  },
  {
   "cell_type": "code",
   "execution_count": 22,
   "metadata": {},
   "outputs": [
    {
     "data": {
      "text/plain": [
       "{'allChecks': \"{'inputChk': True, 'traderIdChk': True, 'marketChk': True, 'sigChk': True, 'chainChk': True, 'timeChk': True, 'colChk': True}\",\n",
       " 'checks': 'True',\n",
       " 'marketId': 4,\n",
       " 'price': 0.011764705882352941,\n",
       " 'quantity': 1,\n",
       " 'traderId': 4}"
      ]
     },
     "execution_count": 22,
     "metadata": {},
     "output_type": "execute_result"
    }
   ],
   "source": [
    "response.json()"
   ]
  },
  {
   "cell_type": "code",
   "execution_count": null,
   "metadata": {},
   "outputs": [],
   "source": []
  },
  {
   "cell_type": "code",
   "execution_count": 84,
   "metadata": {},
   "outputs": [],
   "source": [
    "# Get summary for this market and plot\n",
    "\n",
    "url = baseurl+'viewTradeSummary'\n",
    "content = {'traderId': int(tId)}\n",
    "response = requests.post(url, data=json.dumps(content), headers=headers, stream=True)\n",
    "a = pd.read_json(response.json())\n",
    "a = a[a['marketId'] == mkId]\n",
    "a = a.set_index(a['timeStampUTC'])\n"
   ]
  },
  {
   "cell_type": "code",
   "execution_count": 85,
   "metadata": {},
   "outputs": [
    {
     "data": {
      "text/plain": [
       "Text(0.5, 1.0, 'Time series for market 1 / trader 1')"
      ]
     },
     "execution_count": 85,
     "metadata": {},
     "output_type": "execute_result"
    },
    {
     "data": {
      "image/png": "[encoded data removed]",
      "text/plain": [
       "<Figure size 432x288 with 1 Axes>"
      ]
     },
     "metadata": {
      "needs_background": "light"
     },
     "output_type": "display_data"
    }
   ],
   "source": [
    "plt.figure(); a['price'].plot(); plt.legend(loc='best'); plt.title('Time series for market ' + str(mkId) + ' / trader ' +str(tId))"
   ]
  },
  {
   "cell_type": "code",
   "execution_count": 86,
   "metadata": {},
   "outputs": [],
   "source": [
    "bids = a[a['quantity']<0]\n",
    "asks = a[a['quantity']>0]"
   ]
  },
  {
   "cell_type": "code",
   "execution_count": 87,
   "metadata": {},
   "outputs": [
    {
     "data": {
      "text/plain": [
       "Text(0.5, 1.0, 'Time series for market 1 / trader 1')"
      ]
     },
     "execution_count": 87,
     "metadata": {},
     "output_type": "execute_result"
    },
    {
     "data": {
      "image/png": "[encoded data removed]",
      "text/plain": [
       "<Figure size 432x288 with 1 Axes>"
      ]
     },
     "metadata": {
      "needs_background": "light"
     },
     "output_type": "display_data"
    }
   ],
   "source": [
    "plt.figure(); \n",
    "plt.plot(bids['timeStampUTC'],bids['price'], 'ro');\n",
    "plt.plot(asks['timeStampUTC'],asks['price'], 'go');\n",
    "plt.legend(('bid', 'ask')); plt.title('Time series for market ' + str(mkId) + ' / trader ' +str(tId))\n"
   ]
  },
  {
   "cell_type": "code",
   "execution_count": null,
   "metadata": {},
   "outputs": [],
   "source": []
  }
 ],
 "metadata": {
  "kernelspec": {
   "display_name": "Python 3",
   "language": "python",
   "name": "python3"
  },
  "language_info": {
   "codemirror_mode": {
    "name": "ipython",
    "version": 3
   },
   "file_extension": ".py",
   "mimetype": "text/x-python",
   "name": "python",
   "nbconvert_exporter": "python",
   "pygments_lexer": "ipython3",
   "version": "3.7.1"
  }
 },
 "nbformat": 4,
 "nbformat_minor": 2
}
