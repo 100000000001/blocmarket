{
 "cells": [
  {
   "cell_type": "code",
   "execution_count": 786,
   "metadata": {},
   "outputs": [],
   "source": [
    "import requests\n",
    "import json\n",
    "import pandas as pd\n",
    "import time\n",
    "\n",
    "# Running flask app from powershell\n",
    "# $env:FLASK_APP = \"api\"\n",
    "# $env:FLASK_ENV = \"development\"\n",
    "# flask run\n",
    "\n",
    "# Running flask from terminal on OSX\n",
    "# export FLASK_APP=api\n",
    "# export FLASK_ENV=development\n",
    "# flask run\n",
    "\n",
    "# Running with gunicorn (heroku, digitalocean, etc):\n",
    "# Procfile >\n",
    "# web: gunicorn wsgi --log-file -\n",
    "# wsgi.py >\n",
    "# from api import app as application\n",
    "#\n",
    "#if __name__ == \"__main__\":\n",
    "#    application.run()\n",
    "\n",
    "# https://devcenter.heroku.com/articles/getting-started-with-python\n",
    "# https://www.digitalocean.com/community/tutorials/how-to-serve-flask-applications-with-gunicorn-and-nginx-on-ubuntu-14-04"
   ]
  },
  {
   "cell_type": "code",
   "execution_count": 787,
   "metadata": {},
   "outputs": [],
   "source": [
    "# Set up heroku database > \n",
    "# heroku addons:create heroku-postgresql:hobby-dev\n",
    "# Postgres db now up\n",
    "# Look at config vars (should have DATABASE_URL) >\n",
    "# heroku config\n",
    "# Connect to remote psql > \n",
    "# heroku pg:psql\n",
    "#\n"
   ]
  },
  {
   "cell_type": "code",
   "execution_count": 788,
   "metadata": {},
   "outputs": [],
   "source": [
    "#  baseurl = 'https://vast-depths-89393.herokuapp.com/'\n",
    "# baseurl = 'https://glacial-hollows-90395.herokuapp.com/'\n",
    "#baseurl = 'http://127.0.0.1:5000/'\n",
    "baseurl = 'http://127.0.0.1:7000/'"
   ]
  },
  {
   "cell_type": "code",
   "execution_count": 789,
   "metadata": {},
   "outputs": [],
   "source": [
    "url = baseurl +'createUser'\n",
    "headers = {'content-type': 'application/json'}\n",
    "content = {}\n",
    "response = requests.post(url, data=json.dumps(content), headers=headers)"
   ]
  },
  {
   "cell_type": "code",
   "execution_count": 790,
   "metadata": {},
   "outputs": [
    {
     "data": {
      "text/plain": [
       "{'signingKey_hex': '880cdbe26e71f80f5e867d6b35b23709e43f9d6b7ad24e9717795aa7bd7af2d7',\n",
       " 'traderId': '3',\n",
       " 'verifyKey_hex': 'fd159b3c56ac166208009dafe016c0eab98c2bac8d2b7be8b6ca211753da228d'}"
      ]
     },
     "execution_count": 790,
     "metadata": {},
     "output_type": "execute_result"
    }
   ],
   "source": [
    "response.json()"
   ]
  },
  {
   "cell_type": "code",
   "execution_count": 791,
   "metadata": {},
   "outputs": [],
   "source": [
    "url = baseurl + 'createMarket'\n",
    "\n",
    "mkRtId = 6\n",
    "mkId=1\n",
    "# copy from response\n",
    "sk = response.json()['signingKey_hex']\n",
    "vk = response.json()['verifyKey_hex']\n",
    "tId = response.json()['traderId']"
   ]
  },
  {
   "cell_type": "code",
   "execution_count": 792,
   "metadata": {},
   "outputs": [],
   "source": [
    "content_makemarket = {\"signingKey_hex\": sk,\n",
    "                    \"traderId\": tId, \n",
    "                    \"verifyKey_hex\": vk,\n",
    "                    \"marketRootId\": mkRtId, \n",
    "                    \"marketBranchId\": 1, \n",
    "                    \"marketMin\": 0,\n",
    "                    \"marketMax\":1}\n",
    "\n",
    "response = requests.post(url, data=json.dumps(content_makemarket), headers=headers)"
   ]
  },
  {
   "cell_type": "code",
   "execution_count": 793,
   "metadata": {},
   "outputs": [
    {
     "data": {
      "text/html": [
       "<div>\n",
       "<style scoped>\n",
       "    .dataframe tbody tr th:only-of-type {\n",
       "        vertical-align: middle;\n",
       "    }\n",
       "\n",
       "    .dataframe tbody tr th {\n",
       "        vertical-align: top;\n",
       "    }\n",
       "\n",
       "    .dataframe thead th {\n",
       "        text-align: right;\n",
       "    }\n",
       "</style>\n",
       "<table border=\"1\" class=\"dataframe\">\n",
       "  <thead>\n",
       "    <tr style=\"text-align: right;\">\n",
       "      <th></th>\n",
       "      <th>checks</th>\n",
       "      <th>marketBranchId</th>\n",
       "      <th>marketMax</th>\n",
       "      <th>marketMin</th>\n",
       "      <th>marketRootId</th>\n",
       "      <th>traderId</th>\n",
       "    </tr>\n",
       "  </thead>\n",
       "  <tbody>\n",
       "    <tr>\n",
       "      <th>0</th>\n",
       "      <td>True</td>\n",
       "      <td>1</td>\n",
       "      <td>1</td>\n",
       "      <td>0</td>\n",
       "      <td>6</td>\n",
       "      <td>3</td>\n",
       "    </tr>\n",
       "  </tbody>\n",
       "</table>\n",
       "</div>"
      ],
      "text/plain": [
       "  checks  marketBranchId  marketMax  marketMin  marketRootId traderId\n",
       "0   True               1          1          0             6        3"
      ]
     },
     "execution_count": 793,
     "metadata": {},
     "output_type": "execute_result"
    }
   ],
   "source": [
    "pd.DataFrame(response.json(), index=[0])"
   ]
  },
  {
   "cell_type": "code",
   "execution_count": 794,
   "metadata": {},
   "outputs": [],
   "source": [
    "# Create a trade\n",
    "url = baseurl+'createTrade'\n",
    "\n",
    "content_maketrade = {\"signingKey_hex\": sk,\n",
    "                     \"traderId\": tId,\n",
    "                     \"verifyKey_hex\": vk,\n",
    "                     \"marketId\": mkId,\n",
    "                     \"price\": 0.55,\n",
    "                     \"quantity\":1}"
   ]
  },
  {
   "cell_type": "code",
   "execution_count": 795,
   "metadata": {},
   "outputs": [],
   "source": [
    "# Post trade\n",
    "response = requests.post(url, data=json.dumps(content_maketrade), headers=headers)"
   ]
  },
  {
   "cell_type": "code",
   "execution_count": 796,
   "metadata": {},
   "outputs": [
    {
     "data": {
      "text/plain": [
       "{'checks': 'True',\n",
       " 'marketId': 1,\n",
       " 'price': 0.55,\n",
       " 'quantity': 1,\n",
       " 'traderId': '3'}"
      ]
     },
     "execution_count": 796,
     "metadata": {},
     "output_type": "execute_result"
    }
   ],
   "source": [
    "response.json()"
   ]
  },
  {
   "cell_type": "code",
   "execution_count": 757,
   "metadata": {},
   "outputs": [
    {
     "data": {
      "text/html": [
       "<div>\n",
       "<style scoped>\n",
       "    .dataframe tbody tr th:only-of-type {\n",
       "        vertical-align: middle;\n",
       "    }\n",
       "\n",
       "    .dataframe tbody tr th {\n",
       "        vertical-align: top;\n",
       "    }\n",
       "\n",
       "    .dataframe thead th {\n",
       "        text-align: right;\n",
       "    }\n",
       "</style>\n",
       "<table border=\"1\" class=\"dataframe\">\n",
       "  <thead>\n",
       "    <tr style=\"text-align: right;\">\n",
       "      <th></th>\n",
       "      <th>checks</th>\n",
       "      <th>marketId</th>\n",
       "      <th>price</th>\n",
       "      <th>quantity</th>\n",
       "      <th>traderId</th>\n",
       "    </tr>\n",
       "  </thead>\n",
       "  <tbody>\n",
       "    <tr>\n",
       "      <th>0</th>\n",
       "      <td>True</td>\n",
       "      <td>1</td>\n",
       "      <td>0.55</td>\n",
       "      <td>1</td>\n",
       "      <td>1</td>\n",
       "    </tr>\n",
       "  </tbody>\n",
       "</table>\n",
       "</div>"
      ],
      "text/plain": [
       "  checks  marketId  price  quantity traderId\n",
       "0   True         1   0.55         1        1"
      ]
     },
     "execution_count": 757,
     "metadata": {},
     "output_type": "execute_result"
    }
   ],
   "source": [
    "# View json response\n",
    "pd.DataFrame(response.json(), index=[0])\n"
   ]
  },
  {
   "cell_type": "code",
   "execution_count": 758,
   "metadata": {},
   "outputs": [],
   "source": [
    "# Create a matched trade\n",
    "url = baseurl+'createTrade'\n",
    "content_maketrade['quantity'] = -1\n",
    "response = requests.post(url, data=json.dumps(content_maketrade), headers=headers)"
   ]
  },
  {
   "cell_type": "code",
   "execution_count": 759,
   "metadata": {},
   "outputs": [
    {
     "data": {
      "text/plain": [
       "{'checks': 'True',\n",
       " 'marketId': 1,\n",
       " 'price': 0.55,\n",
       " 'quantity': -1,\n",
       " 'traderId': '1'}"
      ]
     },
     "execution_count": 759,
     "metadata": {},
     "output_type": "execute_result"
    }
   ],
   "source": [
    "response.json()"
   ]
  },
  {
   "cell_type": "code",
   "execution_count": null,
   "metadata": {},
   "outputs": [],
   "source": []
  },
  {
   "cell_type": "code",
   "execution_count": 760,
   "metadata": {},
   "outputs": [
    {
     "name": "stdout",
     "output_type": "stream",
     "text": [
      "matched trade: 0 in 0.37020397186279297 seconds.\n",
      "matched trade: 1 in 0.34033894538879395 seconds.\n",
      "matched trade: 2 in 0.33739590644836426 seconds.\n",
      "matched trade: 3 in 0.329373836517334 seconds.\n",
      "matched trade: 4 in 0.32706403732299805 seconds.\n"
     ]
    }
   ],
   "source": [
    "# Create many matched trades\n",
    "url = baseurl+'createTrade'\n",
    "\n",
    "for i in range(5):\n",
    "    t = time.time()\n",
    "    content_maketrade['quantity'] = -1\n",
    "    response = requests.post(url, data=json.dumps(content_maketrade), headers=headers)\n",
    "    content_maketrade['quantity']=1\n",
    "    response = requests.post(url, data=json.dumps(content_maketrade), headers=headers)\n",
    "    print('matched trade: ' + str(i) + ' in ' + str(time.time() - t) + ' seconds.')\n"
   ]
  },
  {
   "cell_type": "code",
   "execution_count": 761,
   "metadata": {},
   "outputs": [
    {
     "name": "stdout",
     "output_type": "stream",
     "text": [
      "market created: 1 in 0.25220203399658203 seconds.\n",
      "market created: 2 in 0.3762812614440918 seconds.\n",
      "market created: 3 in 0.6797239780426025 seconds.\n",
      "market created: 4 in 1.4314167499542236 seconds.\n"
     ]
    }
   ],
   "source": [
    "url = baseurl+'createMarket'\n",
    "\n",
    "for i in range(4):\n",
    "    t = time.time()\n",
    "\n",
    "    content_makemarket = {\"signingKey_hex\": sk,\n",
    "      \"traderId\": int(tId), \"verifyKey_hex\": vk,\n",
    "      \"marketRootId\": i+1, \"marketBranchId\": 1, \"marketMin\": 0, \"marketMax\":0.7}\n",
    "\n",
    "    response = requests.post(url, data=json.dumps(content_makemarket), headers=headers)\n",
    "    if response.json()['checks'] == 'True':\n",
    "        print('market created: ' + str(i+1) + ' in ' + str(time.time() - t) + ' seconds.')\n",
    "    else:\n",
    "        print('failed to create market ' +str(i+1))\n",
    "    "
   ]
  },
  {
   "cell_type": "code",
   "execution_count": 762,
   "metadata": {},
   "outputs": [
    {
     "data": {
      "text/plain": [
       "'1'"
      ]
     },
     "execution_count": 762,
     "metadata": {},
     "output_type": "execute_result"
    }
   ],
   "source": [
    "tId"
   ]
  },
  {
   "cell_type": "code",
   "execution_count": 763,
   "metadata": {},
   "outputs": [
    {
     "data": {
      "text/plain": [
       "{'checks': 'True',\n",
       " 'marketBranchId': 1,\n",
       " 'marketMax': 0.7,\n",
       " 'marketMin': 0,\n",
       " 'marketRootId': 4,\n",
       " 'traderId': 1}"
      ]
     },
     "execution_count": 763,
     "metadata": {},
     "output_type": "execute_result"
    }
   ],
   "source": [
    "response.json()"
   ]
  },
  {
   "cell_type": "code",
   "execution_count": 764,
   "metadata": {},
   "outputs": [],
   "source": [
    "url = baseurl+'viewMarketBounds'\n",
    "content = {}\n",
    "response = requests.post(url, data=json.dumps(content), headers=headers)\n",
    "\n"
   ]
  },
  {
   "cell_type": "code",
   "execution_count": 765,
   "metadata": {},
   "outputs": [
    {
     "data": {
      "text/html": [
       "<div>\n",
       "<style scoped>\n",
       "    .dataframe tbody tr th:only-of-type {\n",
       "        vertical-align: middle;\n",
       "    }\n",
       "\n",
       "    .dataframe tbody tr th {\n",
       "        vertical-align: top;\n",
       "    }\n",
       "\n",
       "    .dataframe thead th {\n",
       "        text-align: right;\n",
       "    }\n",
       "</style>\n",
       "<table border=\"1\" class=\"dataframe\">\n",
       "  <thead>\n",
       "    <tr style=\"text-align: right;\">\n",
       "      <th></th>\n",
       "      <th>marketId</th>\n",
       "      <th>marketRootId</th>\n",
       "      <th>marketBranchId</th>\n",
       "      <th>marketMin</th>\n",
       "      <th>marketMax</th>\n",
       "    </tr>\n",
       "  </thead>\n",
       "  <tbody>\n",
       "    <tr>\n",
       "      <th>0</th>\n",
       "      <td>1</td>\n",
       "      <td>6</td>\n",
       "      <td>1</td>\n",
       "      <td>0</td>\n",
       "      <td>1.0</td>\n",
       "    </tr>\n",
       "    <tr>\n",
       "      <th>1</th>\n",
       "      <td>2</td>\n",
       "      <td>1</td>\n",
       "      <td>1</td>\n",
       "      <td>0</td>\n",
       "      <td>0.7</td>\n",
       "    </tr>\n",
       "    <tr>\n",
       "      <th>2</th>\n",
       "      <td>3</td>\n",
       "      <td>2</td>\n",
       "      <td>1</td>\n",
       "      <td>0</td>\n",
       "      <td>0.7</td>\n",
       "    </tr>\n",
       "    <tr>\n",
       "      <th>3</th>\n",
       "      <td>4</td>\n",
       "      <td>3</td>\n",
       "      <td>1</td>\n",
       "      <td>0</td>\n",
       "      <td>0.7</td>\n",
       "    </tr>\n",
       "    <tr>\n",
       "      <th>4</th>\n",
       "      <td>5</td>\n",
       "      <td>4</td>\n",
       "      <td>1</td>\n",
       "      <td>0</td>\n",
       "      <td>0.7</td>\n",
       "    </tr>\n",
       "  </tbody>\n",
       "</table>\n",
       "</div>"
      ],
      "text/plain": [
       "   marketId  marketRootId  marketBranchId  marketMin  marketMax\n",
       "0         1             6               1          0        1.0\n",
       "1         2             1               1          0        0.7\n",
       "2         3             2               1          0        0.7\n",
       "3         4             3               1          0        0.7\n",
       "4         5             4               1          0        0.7"
      ]
     },
     "execution_count": 765,
     "metadata": {},
     "output_type": "execute_result"
    }
   ],
   "source": [
    "a = pd.read_json(response.json())\n",
    "a"
   ]
  },
  {
   "cell_type": "code",
   "execution_count": 766,
   "metadata": {},
   "outputs": [],
   "source": [
    "url = baseurl+'viewOrderBook'\n",
    "content = {}\n",
    "response = requests.post(url, data=json.dumps(content), headers=headers)"
   ]
  },
  {
   "cell_type": "code",
   "execution_count": 767,
   "metadata": {},
   "outputs": [
    {
     "data": {
      "text/html": [
       "<div>\n",
       "<style scoped>\n",
       "    .dataframe tbody tr th:only-of-type {\n",
       "        vertical-align: middle;\n",
       "    }\n",
       "\n",
       "    .dataframe tbody tr th {\n",
       "        vertical-align: top;\n",
       "    }\n",
       "\n",
       "    .dataframe thead th {\n",
       "        text-align: right;\n",
       "    }\n",
       "</style>\n",
       "<table border=\"1\" class=\"dataframe\">\n",
       "  <thead>\n",
       "    <tr style=\"text-align: right;\">\n",
       "      <th></th>\n",
       "      <th>marketId</th>\n",
       "      <th>price</th>\n",
       "      <th>quantity</th>\n",
       "      <th>traderId</th>\n",
       "      <th>iMatched</th>\n",
       "      <th>timeStampUTC</th>\n",
       "    </tr>\n",
       "  </thead>\n",
       "  <tbody>\n",
       "    <tr>\n",
       "      <th>0</th>\n",
       "      <td>1</td>\n",
       "      <td>0.55</td>\n",
       "      <td>1</td>\n",
       "      <td>1</td>\n",
       "      <td>True</td>\n",
       "      <td>2019-01-20 03:03:23.540</td>\n",
       "    </tr>\n",
       "    <tr>\n",
       "      <th>1</th>\n",
       "      <td>1</td>\n",
       "      <td>0.55</td>\n",
       "      <td>-1</td>\n",
       "      <td>1</td>\n",
       "      <td>True</td>\n",
       "      <td>2019-01-20 03:03:28.342</td>\n",
       "    </tr>\n",
       "    <tr>\n",
       "      <th>10</th>\n",
       "      <td>1</td>\n",
       "      <td>0.55</td>\n",
       "      <td>-1</td>\n",
       "      <td>1</td>\n",
       "      <td>True</td>\n",
       "      <td>2019-01-20 03:03:59.916</td>\n",
       "    </tr>\n",
       "    <tr>\n",
       "      <th>11</th>\n",
       "      <td>1</td>\n",
       "      <td>0.55</td>\n",
       "      <td>1</td>\n",
       "      <td>1</td>\n",
       "      <td>True</td>\n",
       "      <td>2019-01-20 03:04:00.082</td>\n",
       "    </tr>\n",
       "    <tr>\n",
       "      <th>2</th>\n",
       "      <td>1</td>\n",
       "      <td>0.55</td>\n",
       "      <td>-1</td>\n",
       "      <td>1</td>\n",
       "      <td>True</td>\n",
       "      <td>2019-01-20 03:03:58.576</td>\n",
       "    </tr>\n",
       "    <tr>\n",
       "      <th>3</th>\n",
       "      <td>1</td>\n",
       "      <td>0.55</td>\n",
       "      <td>1</td>\n",
       "      <td>1</td>\n",
       "      <td>True</td>\n",
       "      <td>2019-01-20 03:03:58.747</td>\n",
       "    </tr>\n",
       "    <tr>\n",
       "      <th>4</th>\n",
       "      <td>1</td>\n",
       "      <td>0.55</td>\n",
       "      <td>-1</td>\n",
       "      <td>1</td>\n",
       "      <td>True</td>\n",
       "      <td>2019-01-20 03:03:58.913</td>\n",
       "    </tr>\n",
       "    <tr>\n",
       "      <th>5</th>\n",
       "      <td>1</td>\n",
       "      <td>0.55</td>\n",
       "      <td>1</td>\n",
       "      <td>1</td>\n",
       "      <td>True</td>\n",
       "      <td>2019-01-20 03:03:59.087</td>\n",
       "    </tr>\n",
       "    <tr>\n",
       "      <th>6</th>\n",
       "      <td>1</td>\n",
       "      <td>0.55</td>\n",
       "      <td>-1</td>\n",
       "      <td>1</td>\n",
       "      <td>True</td>\n",
       "      <td>2019-01-20 03:03:59.253</td>\n",
       "    </tr>\n",
       "    <tr>\n",
       "      <th>7</th>\n",
       "      <td>1</td>\n",
       "      <td>0.55</td>\n",
       "      <td>1</td>\n",
       "      <td>1</td>\n",
       "      <td>True</td>\n",
       "      <td>2019-01-20 03:03:59.425</td>\n",
       "    </tr>\n",
       "    <tr>\n",
       "      <th>8</th>\n",
       "      <td>1</td>\n",
       "      <td>0.55</td>\n",
       "      <td>-1</td>\n",
       "      <td>1</td>\n",
       "      <td>True</td>\n",
       "      <td>2019-01-20 03:03:59.586</td>\n",
       "    </tr>\n",
       "    <tr>\n",
       "      <th>9</th>\n",
       "      <td>1</td>\n",
       "      <td>0.55</td>\n",
       "      <td>1</td>\n",
       "      <td>1</td>\n",
       "      <td>True</td>\n",
       "      <td>2019-01-20 03:03:59.755</td>\n",
       "    </tr>\n",
       "  </tbody>\n",
       "</table>\n",
       "</div>"
      ],
      "text/plain": [
       "    marketId  price  quantity  traderId  iMatched            timeStampUTC\n",
       "0          1   0.55         1         1      True 2019-01-20 03:03:23.540\n",
       "1          1   0.55        -1         1      True 2019-01-20 03:03:28.342\n",
       "10         1   0.55        -1         1      True 2019-01-20 03:03:59.916\n",
       "11         1   0.55         1         1      True 2019-01-20 03:04:00.082\n",
       "2          1   0.55        -1         1      True 2019-01-20 03:03:58.576\n",
       "3          1   0.55         1         1      True 2019-01-20 03:03:58.747\n",
       "4          1   0.55        -1         1      True 2019-01-20 03:03:58.913\n",
       "5          1   0.55         1         1      True 2019-01-20 03:03:59.087\n",
       "6          1   0.55        -1         1      True 2019-01-20 03:03:59.253\n",
       "7          1   0.55         1         1      True 2019-01-20 03:03:59.425\n",
       "8          1   0.55        -1         1      True 2019-01-20 03:03:59.586\n",
       "9          1   0.55         1         1      True 2019-01-20 03:03:59.755"
      ]
     },
     "execution_count": 767,
     "metadata": {},
     "output_type": "execute_result"
    }
   ],
   "source": [
    "a = pd.read_json(response.json())\n",
    "a"
   ]
  },
  {
   "cell_type": "code",
   "execution_count": 768,
   "metadata": {},
   "outputs": [
    {
     "name": "stdout",
     "output_type": "stream",
     "text": [
      "unmatched trade: 0 in 1.2764179706573486 seconds.\n",
      "unmatched trade: 1 in 1.356461763381958 seconds.\n",
      "unmatched trade: 2 in 1.2543818950653076 seconds.\n",
      "unmatched trade: 3 in 1.2466590404510498 seconds.\n",
      "unmatched trade: 4 in 1.2640807628631592 seconds.\n"
     ]
    }
   ],
   "source": [
    "# Create many unmatched trades\n",
    "url = baseurl+'createTrade'\n",
    "\n",
    "for i in range(5):\n",
    "    t = time.time()\n",
    "    content_maketrade['quantity'] = -1\n",
    "    content_maketrade['price'] = 0.43\n",
    "    response = requests.post(url, data=json.dumps(content_maketrade), headers=headers)\n",
    "    print('unmatched trade: ' + str(i) + ' in ' + str(time.time() - t) + ' seconds.')\n"
   ]
  },
  {
   "cell_type": "code",
   "execution_count": 769,
   "metadata": {},
   "outputs": [
    {
     "data": {
      "text/plain": [
       "{'checks': 'True',\n",
       " 'marketId': 1,\n",
       " 'price': 0.43,\n",
       " 'quantity': -1,\n",
       " 'traderId': '1'}"
      ]
     },
     "execution_count": 769,
     "metadata": {},
     "output_type": "execute_result"
    }
   ],
   "source": [
    "response.json()"
   ]
  },
  {
   "cell_type": "code",
   "execution_count": 770,
   "metadata": {},
   "outputs": [],
   "source": [
    "url = baseurl+'viewOpenTrades'\n",
    "\n",
    "content = {}\n",
    "response = requests.post(url, data=json.dumps(content), headers=headers)"
   ]
  },
  {
   "cell_type": "code",
   "execution_count": 771,
   "metadata": {},
   "outputs": [
    {
     "data": {
      "text/html": [
       "<div>\n",
       "<style scoped>\n",
       "    .dataframe tbody tr th:only-of-type {\n",
       "        vertical-align: middle;\n",
       "    }\n",
       "\n",
       "    .dataframe tbody tr th {\n",
       "        vertical-align: top;\n",
       "    }\n",
       "\n",
       "    .dataframe thead th {\n",
       "        text-align: right;\n",
       "    }\n",
       "</style>\n",
       "<table border=\"1\" class=\"dataframe\">\n",
       "  <thead>\n",
       "    <tr style=\"text-align: right;\">\n",
       "      <th></th>\n",
       "      <th>marketId</th>\n",
       "      <th>price</th>\n",
       "      <th>quantity</th>\n",
       "      <th>traderId</th>\n",
       "      <th>timeStampUTC</th>\n",
       "    </tr>\n",
       "  </thead>\n",
       "  <tbody>\n",
       "    <tr>\n",
       "      <th>12</th>\n",
       "      <td>1</td>\n",
       "      <td>0.43</td>\n",
       "      <td>-1</td>\n",
       "      <td>1</td>\n",
       "      <td>2019-01-20 03:04:21.054</td>\n",
       "    </tr>\n",
       "    <tr>\n",
       "      <th>13</th>\n",
       "      <td>1</td>\n",
       "      <td>0.43</td>\n",
       "      <td>-1</td>\n",
       "      <td>1</td>\n",
       "      <td>2019-01-20 03:04:22.410</td>\n",
       "    </tr>\n",
       "    <tr>\n",
       "      <th>14</th>\n",
       "      <td>1</td>\n",
       "      <td>0.43</td>\n",
       "      <td>-1</td>\n",
       "      <td>1</td>\n",
       "      <td>2019-01-20 03:04:23.666</td>\n",
       "    </tr>\n",
       "    <tr>\n",
       "      <th>15</th>\n",
       "      <td>1</td>\n",
       "      <td>0.43</td>\n",
       "      <td>-1</td>\n",
       "      <td>1</td>\n",
       "      <td>2019-01-20 03:04:24.912</td>\n",
       "    </tr>\n",
       "    <tr>\n",
       "      <th>16</th>\n",
       "      <td>1</td>\n",
       "      <td>0.43</td>\n",
       "      <td>-1</td>\n",
       "      <td>1</td>\n",
       "      <td>2019-01-20 03:04:26.176</td>\n",
       "    </tr>\n",
       "  </tbody>\n",
       "</table>\n",
       "</div>"
      ],
      "text/plain": [
       "    marketId  price  quantity  traderId            timeStampUTC\n",
       "12         1   0.43        -1         1 2019-01-20 03:04:21.054\n",
       "13         1   0.43        -1         1 2019-01-20 03:04:22.410\n",
       "14         1   0.43        -1         1 2019-01-20 03:04:23.666\n",
       "15         1   0.43        -1         1 2019-01-20 03:04:24.912\n",
       "16         1   0.43        -1         1 2019-01-20 03:04:26.176"
      ]
     },
     "execution_count": 771,
     "metadata": {},
     "output_type": "execute_result"
    }
   ],
   "source": [
    "pd.read_json(response.json())"
   ]
  },
  {
   "cell_type": "code",
   "execution_count": null,
   "metadata": {},
   "outputs": [],
   "source": []
  },
  {
   "cell_type": "code",
   "execution_count": 772,
   "metadata": {},
   "outputs": [],
   "source": [
    "url = baseurl+'viewMatchedTrades'\n",
    "content = {}\n",
    "response = requests.post(url, data=json.dumps(content), headers=headers)"
   ]
  },
  {
   "cell_type": "code",
   "execution_count": 773,
   "metadata": {},
   "outputs": [
    {
     "data": {
      "text/html": [
       "<div>\n",
       "<style scoped>\n",
       "    .dataframe tbody tr th:only-of-type {\n",
       "        vertical-align: middle;\n",
       "    }\n",
       "\n",
       "    .dataframe tbody tr th {\n",
       "        vertical-align: top;\n",
       "    }\n",
       "\n",
       "    .dataframe thead th {\n",
       "        text-align: right;\n",
       "    }\n",
       "</style>\n",
       "<table border=\"1\" class=\"dataframe\">\n",
       "  <thead>\n",
       "    <tr style=\"text-align: right;\">\n",
       "      <th></th>\n",
       "      <th>marketId</th>\n",
       "      <th>price</th>\n",
       "      <th>quantity</th>\n",
       "      <th>traderId</th>\n",
       "      <th>timeStampUTC</th>\n",
       "    </tr>\n",
       "  </thead>\n",
       "  <tbody>\n",
       "    <tr>\n",
       "      <th>0</th>\n",
       "      <td>1</td>\n",
       "      <td>0.55</td>\n",
       "      <td>0</td>\n",
       "      <td>1</td>\n",
       "      <td>NaT</td>\n",
       "    </tr>\n",
       "  </tbody>\n",
       "</table>\n",
       "</div>"
      ],
      "text/plain": [
       "   marketId  price  quantity  traderId timeStampUTC\n",
       "0         1   0.55         0         1          NaT"
      ]
     },
     "execution_count": 773,
     "metadata": {},
     "output_type": "execute_result"
    }
   ],
   "source": [
    "pd.read_json(response.json())"
   ]
  },
  {
   "cell_type": "code",
   "execution_count": 774,
   "metadata": {},
   "outputs": [
    {
     "name": "stdout",
     "output_type": "stream",
     "text": [
      "matched trade: 0 in 2.5586202144622803 seconds.\n",
      "matched trade: 1 in 2.538774013519287 seconds.\n",
      "matched trade: 2 in 2.502117872238159 seconds.\n",
      "matched trade: 3 in 2.4970507621765137 seconds.\n",
      "matched trade: 4 in 2.513331174850464 seconds.\n"
     ]
    }
   ],
   "source": [
    "# Create many matched trades\n",
    "url = baseurl+'createTrade'\n",
    "\n",
    "for i in range(5):\n",
    "    t = time.time()\n",
    "    content_maketrade['quantity'] = -1\n",
    "    response = requests.post(url, data=json.dumps(content_maketrade), headers=headers)\n",
    "    content_maketrade['quantity']=1\n",
    "    response = requests.post(url, data=json.dumps(content_maketrade), headers=headers)\n",
    "    print('matched trade: ' + str(i) + ' in ' + str(time.time() - t) + ' seconds.')\n"
   ]
  },
  {
   "cell_type": "code",
   "execution_count": null,
   "metadata": {},
   "outputs": [],
   "source": []
  },
  {
   "cell_type": "markdown",
   "metadata": {},
   "source": [
    "\n",
    "# Curl \n",
    "\n",
    "\n",
    "\n",
    "## Create user\n",
    "\n",
    "~~~~\n",
    "curl --header \"Content-Type: application/json\" -X POST http://127.0.0.1:7000/createUser\n",
    "~~~~\n",
    "        \n",
    "## Create market\n",
    "\n",
    "~~~~\n",
    "curl --data '{\"signingKey_hex\": \"ece2efc138c8298d43caba1315ceda614e20644c74d46fed37871c47ea19afdf\",\n",
    "\"traderId\": 1, \n",
    "\"verifyKey_hex\": \"9690a2e12971ae452d68bf3d08405090d45791533cf80740fd186aea4b6773fc\",\n",
    "\"marketRootId\": 1, \n",
    "\"marketBranchId\": 5, \n",
    "\"marketMin\": 0, \n",
    "\"marketMax\": 1}' \n",
    "--header \"Content-Type: application/json\" -X POST http://localhost:7000/createMarket\n",
    "~~~~\n",
    "    \n",
    "## Create trade\n",
    "\n",
    "~~~~\n",
    "curl --data '{\"signingKey_hex\": \"ece2efc138c8298d43caba1315ceda614e20644c74d46fed37871c47ea19afdf\",\n",
    "\"traderId\": 1, \n",
    "\"verifyKey_hex\": \"9690a2e12971ae452d68bf3d08405090d45791533cf80740fd186aea4b6773fc\",\n",
    "\"marketId\": 1,\n",
    "\"price\": 0.1212,\n",
    "\"quantity\": 1}' --header \"Content-Type: application/json\" -X POST http://localhost:7000/createTrade\n",
    "\n",
    "~~~~\n",
    "        \n",
    "## View order book (output to file)\n",
    "\n",
    "~~~~\n",
    "curl --header \"Content-Type: application/json\" -X POST http://127.0.0.1:7000/viewOrderBook --output ob.txt\n",
    "~~~~    \n",
    "        \n",
    "Also can load json from file with something like \n",
    "~~~~ \n",
    "curl -d \"@data.json\" -X POST http://localhost:3000/data \n",
    "~~~~\n",
    "\n",
    "Matlab will (probably?) run these with \n",
    "~~~~\n",
    "[A, curlout] = system('curlstring')\n",
    "~~~~\n",
    "\n",
    "    "
   ]
  },
  {
   "cell_type": "code",
   "execution_count": 740,
   "metadata": {},
   "outputs": [
    {
     "data": {
      "text/plain": [
       "\"{'signingKey_hex': '29ba39f7fea00b2639839d7740e875e884cdb593da4b46af8d4d9af3cc212bf0', 'traderId': 1, 'verifyKey_hex': 'e6376aef9f29b5ba13d98f388a2463d42e58300a4438545e769dbfa2a7432f07', 'marketRootId': 4, 'marketBranchId': 1, 'marketMin': 0, 'marketMax': 0.7}\""
      ]
     },
     "execution_count": 740,
     "metadata": {},
     "output_type": "execute_result"
    }
   ],
   "source": [
    "str(content_makemarket)\n"
   ]
  },
  {
   "cell_type": "code",
   "execution_count": 747,
   "metadata": {},
   "outputs": [
    {
     "data": {
      "text/plain": [
       "'2019-01-20 01:01:08.007049'"
      ]
     },
     "execution_count": 747,
     "metadata": {},
     "output_type": "execute_result"
    }
   ],
   "source": [
    "str(datetime.datetime.utcnow())"
   ]
  },
  {
   "cell_type": "code",
   "execution_count": null,
   "metadata": {},
   "outputs": [],
   "source": []
  }
 ],
 "metadata": {
  "kernelspec": {
   "display_name": "Python 3",
   "language": "python",
   "name": "python3"
  },
  "language_info": {
   "codemirror_mode": {
    "name": "ipython",
    "version": 3
   },
   "file_extension": ".py",
   "mimetype": "text/x-python",
   "name": "python",
   "nbconvert_exporter": "python",
   "pygments_lexer": "ipython3",
   "version": "3.7.1"
  }
 },
 "nbformat": 4,
 "nbformat_minor": 2
}
