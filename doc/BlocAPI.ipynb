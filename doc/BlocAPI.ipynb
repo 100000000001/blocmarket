{
 "cells": [
  {
   "cell_type": "code",
   "execution_count": 299,
   "metadata": {},
   "outputs": [],
   "source": [
    "import requests\n",
    "import json\n",
    "import pandas as pd\n",
    "import time\n",
    "\n",
    "# Running flask app from powershell\n",
    "# $env:FLASK_APP = \"api\"\n",
    "# $env:FLASK_ENV = \"development\"\n",
    "# flask run\n",
    "\n",
    "# Running flask from terminal on OSX\n",
    "# export FLASK_APP=api\n",
    "# export FLASK_ENV=development\n",
    "# flask run\n",
    "\n",
    "# Running with gunicorn (heroku, digitalocean, etc):\n",
    "# Procfile >\n",
    "# web: gunicorn wsgi --log-file -\n",
    "# wsgi.py >\n",
    "# from api import app as application\n",
    "#\n",
    "#if __name__ == \"__main__\":\n",
    "#    application.run()\n",
    "\n",
    "# https://devcenter.heroku.com/articles/getting-started-with-python\n",
    "# https://www.digitalocean.com/community/tutorials/how-to-serve-flask-applications-with-gunicorn-and-nginx-on-ubuntu-14-04"
   ]
  },
  {
   "cell_type": "code",
   "execution_count": 300,
   "metadata": {},
   "outputs": [],
   "source": [
    "# Set up heroku database > \n",
    "# heroku addons:create heroku-postgresql:hobby-dev\n",
    "# Postgres db now up\n",
    "# Look at config vars (should have DATABASE_URL) >\n",
    "# heroku config\n",
    "# Connect to remote psql > \n",
    "# heroku pg:psql\n",
    "#\n"
   ]
  },
  {
   "cell_type": "code",
   "execution_count": 301,
   "metadata": {},
   "outputs": [],
   "source": [
    "#  baseurl = 'https://vast-depths-89393.herokuapp.com/'\n",
    "baseurl = 'https://glacial-hollows-90395.herokuapp.com/'\n",
    "#baseurl = 'http://127.0.0.1:5000/'"
   ]
  },
  {
   "cell_type": "code",
   "execution_count": 302,
   "metadata": {},
   "outputs": [],
   "source": [
    "url = baseurl +'createUser'\n",
    "headers = {'content-type': 'application/json'}\n",
    "content = {}\n",
    "response = requests.post(url, data=json.dumps(content), headers=headers)"
   ]
  },
  {
   "cell_type": "code",
   "execution_count": 303,
   "metadata": {},
   "outputs": [
    {
     "data": {
      "text/plain": [
       "{'signingKey_hex': '6adb406a079b6105ee7696669549d02b8ddd0050afd651d236d1b1134d25b67c',\n",
       " 'traderId': '1',\n",
       " 'verifyKey_hex': 'd7a2da8288c65fa575dda10309ed084dc7bae13035115b245d67aae75900e42b'}"
      ]
     },
     "execution_count": 303,
     "metadata": {},
     "output_type": "execute_result"
    }
   ],
   "source": [
    "response.json()"
   ]
  },
  {
   "cell_type": "code",
   "execution_count": 304,
   "metadata": {},
   "outputs": [],
   "source": [
    "url = baseurl + 'createMarket'\n",
    "\n",
    "mkRtId = 6\n",
    "mkId=1\n",
    "# copy from response\n",
    "sk = response.json()['signingKey_hex']\n",
    "vk = response.json()['verifyKey_hex']\n",
    "tId = response.json()['traderId']"
   ]
  },
  {
   "cell_type": "code",
   "execution_count": 305,
   "metadata": {},
   "outputs": [],
   "source": [
    "content_makemarket = {\"signingKey_hex\": sk,\n",
    "                    \"traderId\": tId, \n",
    "                    \"verifyKey_hex\": vk,\n",
    "                    \"marketRootId\": mkRtId, \n",
    "                    \"marketBranchId\": 1, \n",
    "                    \"marketMin\": 0,\n",
    "                    \"marketMax\":1}\n",
    "\n",
    "response = requests.post(url, data=json.dumps(content_makemarket), headers=headers)"
   ]
  },
  {
   "cell_type": "code",
   "execution_count": 306,
   "metadata": {},
   "outputs": [
    {
     "data": {
      "text/html": [
       "<div>\n",
       "<style scoped>\n",
       "    .dataframe tbody tr th:only-of-type {\n",
       "        vertical-align: middle;\n",
       "    }\n",
       "\n",
       "    .dataframe tbody tr th {\n",
       "        vertical-align: top;\n",
       "    }\n",
       "\n",
       "    .dataframe thead th {\n",
       "        text-align: right;\n",
       "    }\n",
       "</style>\n",
       "<table border=\"1\" class=\"dataframe\">\n",
       "  <thead>\n",
       "    <tr style=\"text-align: right;\">\n",
       "      <th></th>\n",
       "      <th>checks</th>\n",
       "      <th>marketBranchId</th>\n",
       "      <th>marketMax</th>\n",
       "      <th>marketMin</th>\n",
       "      <th>marketRootId</th>\n",
       "      <th>traderId</th>\n",
       "    </tr>\n",
       "  </thead>\n",
       "  <tbody>\n",
       "    <tr>\n",
       "      <th>0</th>\n",
       "      <td>True</td>\n",
       "      <td>1</td>\n",
       "      <td>1</td>\n",
       "      <td>0</td>\n",
       "      <td>6</td>\n",
       "      <td>1</td>\n",
       "    </tr>\n",
       "  </tbody>\n",
       "</table>\n",
       "</div>"
      ],
      "text/plain": [
       "  checks  marketBranchId  marketMax  marketMin  marketRootId traderId\n",
       "0   True               1          1          0             6        1"
      ]
     },
     "execution_count": 306,
     "metadata": {},
     "output_type": "execute_result"
    }
   ],
   "source": [
    "pd.DataFrame(response.json(), index=[0])"
   ]
  },
  {
   "cell_type": "code",
   "execution_count": 307,
   "metadata": {},
   "outputs": [],
   "source": [
    "# Create a trade\n",
    "url = baseurl+'createTrade'\n",
    "\n",
    "content_maketrade = {\"signingKey_hex\": sk,\n",
    "                     \"traderId\": tId,\n",
    "                     \"verifyKey_hex\": vk,\n",
    "                     \"marketId\": mkId,\n",
    "                     \"price\": 0.55,\n",
    "                     \"quantity\":1}"
   ]
  },
  {
   "cell_type": "code",
   "execution_count": 308,
   "metadata": {},
   "outputs": [],
   "source": [
    "# Post trade\n",
    "response = requests.post(url, data=json.dumps(content_maketrade), headers=headers)"
   ]
  },
  {
   "cell_type": "code",
   "execution_count": 309,
   "metadata": {},
   "outputs": [
    {
     "data": {
      "text/plain": [
       "{'checks': 'True',\n",
       " 'marketId': 1,\n",
       " 'price': 0.55,\n",
       " 'quantity': 1,\n",
       " 'traderId': '1'}"
      ]
     },
     "execution_count": 309,
     "metadata": {},
     "output_type": "execute_result"
    }
   ],
   "source": [
    "response.json()"
   ]
  },
  {
   "cell_type": "code",
   "execution_count": 310,
   "metadata": {},
   "outputs": [
    {
     "data": {
      "text/html": [
       "<div>\n",
       "<style scoped>\n",
       "    .dataframe tbody tr th:only-of-type {\n",
       "        vertical-align: middle;\n",
       "    }\n",
       "\n",
       "    .dataframe tbody tr th {\n",
       "        vertical-align: top;\n",
       "    }\n",
       "\n",
       "    .dataframe thead th {\n",
       "        text-align: right;\n",
       "    }\n",
       "</style>\n",
       "<table border=\"1\" class=\"dataframe\">\n",
       "  <thead>\n",
       "    <tr style=\"text-align: right;\">\n",
       "      <th></th>\n",
       "      <th>checks</th>\n",
       "      <th>marketId</th>\n",
       "      <th>price</th>\n",
       "      <th>quantity</th>\n",
       "      <th>traderId</th>\n",
       "    </tr>\n",
       "  </thead>\n",
       "  <tbody>\n",
       "    <tr>\n",
       "      <th>0</th>\n",
       "      <td>True</td>\n",
       "      <td>1</td>\n",
       "      <td>0.55</td>\n",
       "      <td>1</td>\n",
       "      <td>1</td>\n",
       "    </tr>\n",
       "  </tbody>\n",
       "</table>\n",
       "</div>"
      ],
      "text/plain": [
       "  checks  marketId  price  quantity traderId\n",
       "0   True         1   0.55         1        1"
      ]
     },
     "execution_count": 310,
     "metadata": {},
     "output_type": "execute_result"
    }
   ],
   "source": [
    "# View json response\n",
    "pd.DataFrame(response.json(), index=[0])\n"
   ]
  },
  {
   "cell_type": "code",
   "execution_count": 311,
   "metadata": {},
   "outputs": [],
   "source": [
    "# Create a matched trade\n",
    "url = baseurl+'createTrade'\n",
    "content_maketrade['quantity'] = -1\n",
    "response = requests.post(url, data=json.dumps(content_maketrade), headers=headers)"
   ]
  },
  {
   "cell_type": "code",
   "execution_count": 312,
   "metadata": {},
   "outputs": [
    {
     "data": {
      "text/plain": [
       "{'checks': 'True',\n",
       " 'marketId': 1,\n",
       " 'price': 0.55,\n",
       " 'quantity': -1,\n",
       " 'traderId': '1'}"
      ]
     },
     "execution_count": 312,
     "metadata": {},
     "output_type": "execute_result"
    }
   ],
   "source": [
    "response.json()"
   ]
  },
  {
   "cell_type": "code",
   "execution_count": null,
   "metadata": {},
   "outputs": [],
   "source": []
  },
  {
   "cell_type": "code",
   "execution_count": 313,
   "metadata": {},
   "outputs": [
    {
     "name": "stdout",
     "output_type": "stream",
     "text": [
      "matched trade: 0 in 4.360753059387207 seconds.\n",
      "matched trade: 1 in 4.230324983596802 seconds.\n",
      "matched trade: 2 in 5.051490068435669 seconds.\n",
      "matched trade: 3 in 4.2892820835113525 seconds.\n",
      "matched trade: 4 in 4.413121938705444 seconds.\n",
      "matched trade: 5 in 3.8457767963409424 seconds.\n",
      "matched trade: 6 in 4.192300796508789 seconds.\n",
      "matched trade: 7 in 5.122128009796143 seconds.\n",
      "matched trade: 8 in 4.568428039550781 seconds.\n",
      "matched trade: 9 in 4.128752946853638 seconds.\n"
     ]
    }
   ],
   "source": [
    "# Create many matched trades\n",
    "url = baseurl+'createTrade'\n",
    "\n",
    "for i in range(10):\n",
    "    t = time.time()\n",
    "    content_maketrade['quantity'] = -1\n",
    "    response = requests.post(url, data=json.dumps(content_maketrade), headers=headers)\n",
    "    content_maketrade['quantity']=1\n",
    "    response = requests.post(url, data=json.dumps(content_maketrade), headers=headers)\n",
    "    print('matched trade: ' + str(i) + ' in ' + str(time.time() - t) + ' seconds.')\n"
   ]
  },
  {
   "cell_type": "code",
   "execution_count": 314,
   "metadata": {},
   "outputs": [
    {
     "name": "stdout",
     "output_type": "stream",
     "text": [
      "market created: 1 in 2.686424970626831 seconds.\n",
      "market created: 2 in 3.749390125274658 seconds.\n",
      "market created: 3 in 4.742095947265625 seconds.\n",
      "market created: 4 in 6.976371765136719 seconds.\n"
     ]
    }
   ],
   "source": [
    "url = baseurl+'createMarket'\n",
    "\n",
    "for i in range(4):\n",
    "    t = time.time()\n",
    "\n",
    "    content_makemarket = {\"signingKey_hex\": sk,\n",
    "      \"traderId\": int(tId), \"verifyKey_hex\": vk,\n",
    "      \"marketRootId\": i+1, \"marketBranchId\": 1, \"marketMin\": 0, \"marketMax\":0.7}\n",
    "\n",
    "    response = requests.post(url, data=json.dumps(content_makemarket), headers=headers)\n",
    "    if response.json()['checks'] == 'True':\n",
    "        print('market created: ' + str(i+1) + ' in ' + str(time.time() - t) + ' seconds.')\n",
    "    else:\n",
    "        print('failed to create market ' +str(i+1))\n",
    "    "
   ]
  },
  {
   "cell_type": "code",
   "execution_count": 315,
   "metadata": {},
   "outputs": [
    {
     "data": {
      "text/plain": [
       "{'checks': 'True',\n",
       " 'marketBranchId': 1,\n",
       " 'marketMax': 0.7,\n",
       " 'marketMin': 0,\n",
       " 'marketRootId': 4,\n",
       " 'traderId': 1}"
      ]
     },
     "execution_count": 315,
     "metadata": {},
     "output_type": "execute_result"
    }
   ],
   "source": [
    "response.json()"
   ]
  },
  {
   "cell_type": "code",
   "execution_count": 316,
   "metadata": {},
   "outputs": [],
   "source": [
    "url = baseurl+'viewMarketBounds'\n",
    "content = {}\n",
    "response = requests.post(url, data=json.dumps(content), headers=headers)\n",
    "\n"
   ]
  },
  {
   "cell_type": "code",
   "execution_count": 317,
   "metadata": {},
   "outputs": [
    {
     "data": {
      "text/html": [
       "<div>\n",
       "<style scoped>\n",
       "    .dataframe tbody tr th:only-of-type {\n",
       "        vertical-align: middle;\n",
       "    }\n",
       "\n",
       "    .dataframe tbody tr th {\n",
       "        vertical-align: top;\n",
       "    }\n",
       "\n",
       "    .dataframe thead th {\n",
       "        text-align: right;\n",
       "    }\n",
       "</style>\n",
       "<table border=\"1\" class=\"dataframe\">\n",
       "  <thead>\n",
       "    <tr style=\"text-align: right;\">\n",
       "      <th></th>\n",
       "      <th>marketId</th>\n",
       "      <th>marketRootId</th>\n",
       "      <th>marketBranchId</th>\n",
       "      <th>marketMin</th>\n",
       "      <th>marketMax</th>\n",
       "    </tr>\n",
       "  </thead>\n",
       "  <tbody>\n",
       "    <tr>\n",
       "      <th>0</th>\n",
       "      <td>1</td>\n",
       "      <td>6</td>\n",
       "      <td>1</td>\n",
       "      <td>0</td>\n",
       "      <td>1.0</td>\n",
       "    </tr>\n",
       "    <tr>\n",
       "      <th>1</th>\n",
       "      <td>2</td>\n",
       "      <td>1</td>\n",
       "      <td>1</td>\n",
       "      <td>0</td>\n",
       "      <td>0.7</td>\n",
       "    </tr>\n",
       "    <tr>\n",
       "      <th>2</th>\n",
       "      <td>3</td>\n",
       "      <td>2</td>\n",
       "      <td>1</td>\n",
       "      <td>0</td>\n",
       "      <td>0.7</td>\n",
       "    </tr>\n",
       "    <tr>\n",
       "      <th>3</th>\n",
       "      <td>4</td>\n",
       "      <td>3</td>\n",
       "      <td>1</td>\n",
       "      <td>0</td>\n",
       "      <td>0.7</td>\n",
       "    </tr>\n",
       "    <tr>\n",
       "      <th>4</th>\n",
       "      <td>5</td>\n",
       "      <td>4</td>\n",
       "      <td>1</td>\n",
       "      <td>0</td>\n",
       "      <td>0.7</td>\n",
       "    </tr>\n",
       "  </tbody>\n",
       "</table>\n",
       "</div>"
      ],
      "text/plain": [
       "   marketId  marketRootId  marketBranchId  marketMin  marketMax\n",
       "0         1             6               1          0        1.0\n",
       "1         2             1               1          0        0.7\n",
       "2         3             2               1          0        0.7\n",
       "3         4             3               1          0        0.7\n",
       "4         5             4               1          0        0.7"
      ]
     },
     "execution_count": 317,
     "metadata": {},
     "output_type": "execute_result"
    }
   ],
   "source": [
    "a = pd.read_json(response.json())\n",
    "a"
   ]
  },
  {
   "cell_type": "code",
   "execution_count": 332,
   "metadata": {},
   "outputs": [],
   "source": [
    "url = baseurl+'viewOrderBook'\n",
    "content = {}\n",
    "response = requests.post(url, data=json.dumps(content), headers=headers)"
   ]
  },
  {
   "cell_type": "code",
   "execution_count": 333,
   "metadata": {},
   "outputs": [
    {
     "data": {
      "text/html": [
       "<div>\n",
       "<style scoped>\n",
       "    .dataframe tbody tr th:only-of-type {\n",
       "        vertical-align: middle;\n",
       "    }\n",
       "\n",
       "    .dataframe tbody tr th {\n",
       "        vertical-align: top;\n",
       "    }\n",
       "\n",
       "    .dataframe thead th {\n",
       "        text-align: right;\n",
       "    }\n",
       "</style>\n",
       "<table border=\"1\" class=\"dataframe\">\n",
       "  <thead>\n",
       "    <tr style=\"text-align: right;\">\n",
       "      <th></th>\n",
       "      <th>marketId</th>\n",
       "      <th>price</th>\n",
       "      <th>quantity</th>\n",
       "      <th>traderId</th>\n",
       "      <th>iMatched</th>\n",
       "    </tr>\n",
       "  </thead>\n",
       "  <tbody>\n",
       "    <tr>\n",
       "      <th>0</th>\n",
       "      <td>1</td>\n",
       "      <td>0.55</td>\n",
       "      <td>1</td>\n",
       "      <td>1</td>\n",
       "      <td>True</td>\n",
       "    </tr>\n",
       "    <tr>\n",
       "      <th>1</th>\n",
       "      <td>1</td>\n",
       "      <td>0.55</td>\n",
       "      <td>-1</td>\n",
       "      <td>1</td>\n",
       "      <td>True</td>\n",
       "    </tr>\n",
       "    <tr>\n",
       "      <th>10</th>\n",
       "      <td>1</td>\n",
       "      <td>0.55</td>\n",
       "      <td>-1</td>\n",
       "      <td>1</td>\n",
       "      <td>True</td>\n",
       "    </tr>\n",
       "    <tr>\n",
       "      <th>11</th>\n",
       "      <td>1</td>\n",
       "      <td>0.55</td>\n",
       "      <td>1</td>\n",
       "      <td>1</td>\n",
       "      <td>True</td>\n",
       "    </tr>\n",
       "    <tr>\n",
       "      <th>12</th>\n",
       "      <td>1</td>\n",
       "      <td>0.55</td>\n",
       "      <td>-1</td>\n",
       "      <td>1</td>\n",
       "      <td>True</td>\n",
       "    </tr>\n",
       "    <tr>\n",
       "      <th>13</th>\n",
       "      <td>1</td>\n",
       "      <td>0.55</td>\n",
       "      <td>1</td>\n",
       "      <td>1</td>\n",
       "      <td>True</td>\n",
       "    </tr>\n",
       "    <tr>\n",
       "      <th>14</th>\n",
       "      <td>1</td>\n",
       "      <td>0.55</td>\n",
       "      <td>-1</td>\n",
       "      <td>1</td>\n",
       "      <td>True</td>\n",
       "    </tr>\n",
       "    <tr>\n",
       "      <th>15</th>\n",
       "      <td>1</td>\n",
       "      <td>0.55</td>\n",
       "      <td>1</td>\n",
       "      <td>1</td>\n",
       "      <td>True</td>\n",
       "    </tr>\n",
       "    <tr>\n",
       "      <th>16</th>\n",
       "      <td>1</td>\n",
       "      <td>0.55</td>\n",
       "      <td>-1</td>\n",
       "      <td>1</td>\n",
       "      <td>True</td>\n",
       "    </tr>\n",
       "    <tr>\n",
       "      <th>17</th>\n",
       "      <td>1</td>\n",
       "      <td>0.55</td>\n",
       "      <td>1</td>\n",
       "      <td>1</td>\n",
       "      <td>True</td>\n",
       "    </tr>\n",
       "    <tr>\n",
       "      <th>18</th>\n",
       "      <td>1</td>\n",
       "      <td>0.55</td>\n",
       "      <td>-1</td>\n",
       "      <td>1</td>\n",
       "      <td>True</td>\n",
       "    </tr>\n",
       "    <tr>\n",
       "      <th>19</th>\n",
       "      <td>1</td>\n",
       "      <td>0.55</td>\n",
       "      <td>1</td>\n",
       "      <td>1</td>\n",
       "      <td>True</td>\n",
       "    </tr>\n",
       "    <tr>\n",
       "      <th>2</th>\n",
       "      <td>1</td>\n",
       "      <td>0.55</td>\n",
       "      <td>-1</td>\n",
       "      <td>1</td>\n",
       "      <td>True</td>\n",
       "    </tr>\n",
       "    <tr>\n",
       "      <th>20</th>\n",
       "      <td>1</td>\n",
       "      <td>0.55</td>\n",
       "      <td>-1</td>\n",
       "      <td>1</td>\n",
       "      <td>True</td>\n",
       "    </tr>\n",
       "    <tr>\n",
       "      <th>21</th>\n",
       "      <td>1</td>\n",
       "      <td>0.55</td>\n",
       "      <td>1</td>\n",
       "      <td>1</td>\n",
       "      <td>True</td>\n",
       "    </tr>\n",
       "    <tr>\n",
       "      <th>22</th>\n",
       "      <td>1</td>\n",
       "      <td>0.44</td>\n",
       "      <td>1</td>\n",
       "      <td>1</td>\n",
       "      <td>False</td>\n",
       "    </tr>\n",
       "    <tr>\n",
       "      <th>23</th>\n",
       "      <td>1</td>\n",
       "      <td>0.44</td>\n",
       "      <td>1</td>\n",
       "      <td>1</td>\n",
       "      <td>False</td>\n",
       "    </tr>\n",
       "    <tr>\n",
       "      <th>3</th>\n",
       "      <td>1</td>\n",
       "      <td>0.55</td>\n",
       "      <td>1</td>\n",
       "      <td>1</td>\n",
       "      <td>True</td>\n",
       "    </tr>\n",
       "    <tr>\n",
       "      <th>4</th>\n",
       "      <td>1</td>\n",
       "      <td>0.55</td>\n",
       "      <td>-1</td>\n",
       "      <td>1</td>\n",
       "      <td>True</td>\n",
       "    </tr>\n",
       "    <tr>\n",
       "      <th>5</th>\n",
       "      <td>1</td>\n",
       "      <td>0.55</td>\n",
       "      <td>1</td>\n",
       "      <td>1</td>\n",
       "      <td>True</td>\n",
       "    </tr>\n",
       "    <tr>\n",
       "      <th>6</th>\n",
       "      <td>1</td>\n",
       "      <td>0.55</td>\n",
       "      <td>-1</td>\n",
       "      <td>1</td>\n",
       "      <td>True</td>\n",
       "    </tr>\n",
       "    <tr>\n",
       "      <th>7</th>\n",
       "      <td>1</td>\n",
       "      <td>0.55</td>\n",
       "      <td>1</td>\n",
       "      <td>1</td>\n",
       "      <td>True</td>\n",
       "    </tr>\n",
       "    <tr>\n",
       "      <th>8</th>\n",
       "      <td>1</td>\n",
       "      <td>0.55</td>\n",
       "      <td>-1</td>\n",
       "      <td>1</td>\n",
       "      <td>True</td>\n",
       "    </tr>\n",
       "    <tr>\n",
       "      <th>9</th>\n",
       "      <td>1</td>\n",
       "      <td>0.55</td>\n",
       "      <td>1</td>\n",
       "      <td>1</td>\n",
       "      <td>True</td>\n",
       "    </tr>\n",
       "  </tbody>\n",
       "</table>\n",
       "</div>"
      ],
      "text/plain": [
       "    marketId  price  quantity  traderId  iMatched\n",
       "0          1   0.55         1         1      True\n",
       "1          1   0.55        -1         1      True\n",
       "10         1   0.55        -1         1      True\n",
       "11         1   0.55         1         1      True\n",
       "12         1   0.55        -1         1      True\n",
       "13         1   0.55         1         1      True\n",
       "14         1   0.55        -1         1      True\n",
       "15         1   0.55         1         1      True\n",
       "16         1   0.55        -1         1      True\n",
       "17         1   0.55         1         1      True\n",
       "18         1   0.55        -1         1      True\n",
       "19         1   0.55         1         1      True\n",
       "2          1   0.55        -1         1      True\n",
       "20         1   0.55        -1         1      True\n",
       "21         1   0.55         1         1      True\n",
       "22         1   0.44         1         1     False\n",
       "23         1   0.44         1         1     False\n",
       "3          1   0.55         1         1      True\n",
       "4          1   0.55        -1         1      True\n",
       "5          1   0.55         1         1      True\n",
       "6          1   0.55        -1         1      True\n",
       "7          1   0.55         1         1      True\n",
       "8          1   0.55        -1         1      True\n",
       "9          1   0.55         1         1      True"
      ]
     },
     "execution_count": 333,
     "metadata": {},
     "output_type": "execute_result"
    }
   ],
   "source": [
    "a = pd.read_json(response.json())\n",
    "a"
   ]
  },
  {
   "cell_type": "code",
   "execution_count": 320,
   "metadata": {},
   "outputs": [
    {
     "name": "stdout",
     "output_type": "stream",
     "text": [
      "unmatched trade: 0 in 6.311537742614746 seconds.\n",
      "unmatched trade: 1 in 6.982812881469727 seconds.\n",
      "unmatched trade: 2 in 1.6550450325012207 seconds.\n",
      "unmatched trade: 3 in 1.6011948585510254 seconds.\n",
      "unmatched trade: 4 in 1.8852572441101074 seconds.\n",
      "unmatched trade: 5 in 1.622169017791748 seconds.\n",
      "unmatched trade: 6 in 1.577888011932373 seconds.\n",
      "unmatched trade: 7 in 1.6996738910675049 seconds.\n",
      "unmatched trade: 8 in 1.5977988243103027 seconds.\n",
      "unmatched trade: 9 in 1.5711920261383057 seconds.\n"
     ]
    }
   ],
   "source": [
    "# Create many unmatched trades\n",
    "url = baseurl+'createTrade'\n",
    "\n",
    "for i in range(10):\n",
    "    t = time.time()\n",
    "    content_maketrade['quantity'] = 1\n",
    "    content_maketrade['price'] = 0.44\n",
    "    response = requests.post(url, data=json.dumps(content_maketrade), headers=headers)\n",
    "    print('unmatched trade: ' + str(i) + ' in ' + str(time.time() - t) + ' seconds.')\n"
   ]
  },
  {
   "cell_type": "code",
   "execution_count": null,
   "metadata": {},
   "outputs": [],
   "source": []
  },
  {
   "cell_type": "code",
   "execution_count": 334,
   "metadata": {},
   "outputs": [],
   "source": [
    "url = baseurl+'viewOpenTrades'\n",
    "\n",
    "content = {}\n",
    "response = requests.post(url, data=json.dumps(content), headers=headers)"
   ]
  },
  {
   "cell_type": "code",
   "execution_count": 335,
   "metadata": {},
   "outputs": [
    {
     "data": {
      "text/html": [
       "<div>\n",
       "<style scoped>\n",
       "    .dataframe tbody tr th:only-of-type {\n",
       "        vertical-align: middle;\n",
       "    }\n",
       "\n",
       "    .dataframe tbody tr th {\n",
       "        vertical-align: top;\n",
       "    }\n",
       "\n",
       "    .dataframe thead th {\n",
       "        text-align: right;\n",
       "    }\n",
       "</style>\n",
       "<table border=\"1\" class=\"dataframe\">\n",
       "  <thead>\n",
       "    <tr style=\"text-align: right;\">\n",
       "      <th></th>\n",
       "      <th>marketId</th>\n",
       "      <th>price</th>\n",
       "      <th>quantity</th>\n",
       "      <th>traderId</th>\n",
       "    </tr>\n",
       "  </thead>\n",
       "  <tbody>\n",
       "    <tr>\n",
       "      <th>0</th>\n",
       "      <td>1</td>\n",
       "      <td>0.44</td>\n",
       "      <td>2</td>\n",
       "      <td>1</td>\n",
       "    </tr>\n",
       "  </tbody>\n",
       "</table>\n",
       "</div>"
      ],
      "text/plain": [
       "   marketId  price  quantity  traderId\n",
       "0         1   0.44         2         1"
      ]
     },
     "execution_count": 335,
     "metadata": {},
     "output_type": "execute_result"
    }
   ],
   "source": [
    "pd.read_json(response.json())"
   ]
  },
  {
   "cell_type": "code",
   "execution_count": null,
   "metadata": {},
   "outputs": [],
   "source": []
  },
  {
   "cell_type": "code",
   "execution_count": 336,
   "metadata": {},
   "outputs": [],
   "source": [
    "url = baseurl+'viewMatchedTrades'\n",
    "content = {}\n",
    "response = requests.post(url, data=json.dumps(content), headers=headers)"
   ]
  },
  {
   "cell_type": "code",
   "execution_count": 337,
   "metadata": {},
   "outputs": [
    {
     "data": {
      "text/html": [
       "<div>\n",
       "<style scoped>\n",
       "    .dataframe tbody tr th:only-of-type {\n",
       "        vertical-align: middle;\n",
       "    }\n",
       "\n",
       "    .dataframe tbody tr th {\n",
       "        vertical-align: top;\n",
       "    }\n",
       "\n",
       "    .dataframe thead th {\n",
       "        text-align: right;\n",
       "    }\n",
       "</style>\n",
       "<table border=\"1\" class=\"dataframe\">\n",
       "  <thead>\n",
       "    <tr style=\"text-align: right;\">\n",
       "      <th></th>\n",
       "      <th>marketId</th>\n",
       "      <th>price</th>\n",
       "      <th>quantity</th>\n",
       "      <th>traderId</th>\n",
       "    </tr>\n",
       "  </thead>\n",
       "  <tbody>\n",
       "    <tr>\n",
       "      <th>0</th>\n",
       "      <td>1</td>\n",
       "      <td>0.55</td>\n",
       "      <td>0</td>\n",
       "      <td>1</td>\n",
       "    </tr>\n",
       "  </tbody>\n",
       "</table>\n",
       "</div>"
      ],
      "text/plain": [
       "   marketId  price  quantity  traderId\n",
       "0         1   0.55         0         1"
      ]
     },
     "execution_count": 337,
     "metadata": {},
     "output_type": "execute_result"
    }
   ],
   "source": [
    "pd.read_json(response.json())"
   ]
  },
  {
   "cell_type": "code",
   "execution_count": null,
   "metadata": {},
   "outputs": [],
   "source": []
  },
  {
   "cell_type": "code",
   "execution_count": null,
   "metadata": {},
   "outputs": [],
   "source": []
  }
 ],
 "metadata": {
  "kernelspec": {
   "display_name": "Python 3",
   "language": "python",
   "name": "python3"
  },
  "language_info": {
   "codemirror_mode": {
    "name": "ipython",
    "version": 3
   },
   "file_extension": ".py",
   "mimetype": "text/x-python",
   "name": "python",
   "nbconvert_exporter": "python",
   "pygments_lexer": "ipython3",
   "version": "3.7.1"
  }
 },
 "nbformat": 4,
 "nbformat_minor": 2
}
