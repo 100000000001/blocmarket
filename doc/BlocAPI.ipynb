{
 "cells": [
  {
   "cell_type": "code",
   "execution_count": 805,
   "metadata": {},
   "outputs": [],
   "source": [
    "import requests\n",
    "import json\n",
    "import pandas as pd\n",
    "import time\n",
    "\n",
    "# Running flask app from powershell\n",
    "# $env:FLASK_APP = \"api\"\n",
    "# $env:FLASK_ENV = \"development\"\n",
    "# flask run\n",
    "\n",
    "# Running flask from terminal on OSX\n",
    "# export FLASK_APP=api\n",
    "# export FLASK_ENV=development\n",
    "# flask run\n",
    "\n",
    "# Running with gunicorn (heroku, digitalocean, etc):\n",
    "# Procfile >\n",
    "# web: gunicorn wsgi --log-file -\n",
    "# wsgi.py >\n",
    "# from api import app as application\n",
    "#\n",
    "#if __name__ == \"__main__\":\n",
    "#    application.run()\n",
    "\n",
    "# https://devcenter.heroku.com/articles/getting-started-with-python\n",
    "# https://www.digitalocean.com/community/tutorials/how-to-serve-flask-applications-with-gunicorn-and-nginx-on-ubuntu-14-04"
   ]
  },
  {
   "cell_type": "code",
   "execution_count": 806,
   "metadata": {},
   "outputs": [],
   "source": [
    "# Set up heroku database > \n",
    "# heroku addons:create heroku-postgresql:hobby-dev\n",
    "# Postgres db now up\n",
    "# Look at config vars (should have DATABASE_URL) >\n",
    "# heroku config\n",
    "# Connect to remote psql > \n",
    "# heroku pg:psql\n",
    "#\n"
   ]
  },
  {
   "cell_type": "code",
   "execution_count": 865,
   "metadata": {},
   "outputs": [],
   "source": [
    "#  baseurl = 'https://vast-depths-89393.herokuapp.com/'\n",
    "# baseurl = 'https://glacial-hollows-90395.herokuapp.com/'\n",
    "baseurl = 'https://blocmarket.herokuapp.com/'\n",
    "#baseurl = 'http://127.0.0.1:5000/'\n",
    "#baseurl = 'http://127.0.0.1:7000/'"
   ]
  },
  {
   "cell_type": "code",
   "execution_count": 866,
   "metadata": {},
   "outputs": [],
   "source": [
    "url = baseurl +'createUser'\n",
    "headers = {'content-type': 'application/json'}\n",
    "content = {}\n",
    "response = requests.post(url, data=json.dumps(content), headers=headers)"
   ]
  },
  {
   "cell_type": "code",
   "execution_count": 867,
   "metadata": {},
   "outputs": [
    {
     "data": {
      "text/plain": [
       "{'signingKey_hex': 'fc480d91e93ef8d1953fe724ea166f32a16f70a349409503a7dcac2fae72686d',\n",
       " 'traderId': '1',\n",
       " 'verifyKey_hex': '477e9a0ab1402d9670e2fa2101a40df6937aea8e718ac6f3ecab06eb26c6d284'}"
      ]
     },
     "execution_count": 867,
     "metadata": {},
     "output_type": "execute_result"
    }
   ],
   "source": [
    "response.json()"
   ]
  },
  {
   "cell_type": "code",
   "execution_count": 841,
   "metadata": {},
   "outputs": [],
   "source": [
    "url = baseurl + 'createMarket'\n",
    "\n",
    "mkRtId = 6\n",
    "mkId=1\n",
    "# copy from response\n",
    "sk = response.json()['signingKey_hex']\n",
    "vk = response.json()['verifyKey_hex']\n",
    "tId = response.json()['traderId']"
   ]
  },
  {
   "cell_type": "code",
   "execution_count": 842,
   "metadata": {},
   "outputs": [],
   "source": [
    "content_makemarket = {\"signingKey_hex\": sk,\n",
    "                    \"traderId\": tId, \n",
    "                    \"verifyKey_hex\": vk,\n",
    "                    \"marketRootId\": mkRtId, \n",
    "                    \"marketBranchId\": 1, \n",
    "                    \"marketMin\": 0,\n",
    "                    \"marketMax\":1}\n",
    "\n",
    "response = requests.post(url, data=json.dumps(content_makemarket), headers=headers)"
   ]
  },
  {
   "cell_type": "code",
   "execution_count": 843,
   "metadata": {},
   "outputs": [
    {
     "data": {
      "text/html": [
       "<div>\n",
       "<style scoped>\n",
       "    .dataframe tbody tr th:only-of-type {\n",
       "        vertical-align: middle;\n",
       "    }\n",
       "\n",
       "    .dataframe tbody tr th {\n",
       "        vertical-align: top;\n",
       "    }\n",
       "\n",
       "    .dataframe thead th {\n",
       "        text-align: right;\n",
       "    }\n",
       "</style>\n",
       "<table border=\"1\" class=\"dataframe\">\n",
       "  <thead>\n",
       "    <tr style=\"text-align: right;\">\n",
       "      <th></th>\n",
       "      <th>checks</th>\n",
       "      <th>marketBranchId</th>\n",
       "      <th>marketMax</th>\n",
       "      <th>marketMin</th>\n",
       "      <th>marketRootId</th>\n",
       "      <th>traderId</th>\n",
       "    </tr>\n",
       "  </thead>\n",
       "  <tbody>\n",
       "    <tr>\n",
       "      <th>0</th>\n",
       "      <td>False</td>\n",
       "      <td>1</td>\n",
       "      <td>1</td>\n",
       "      <td>0</td>\n",
       "      <td>6</td>\n",
       "      <td>2</td>\n",
       "    </tr>\n",
       "  </tbody>\n",
       "</table>\n",
       "</div>"
      ],
      "text/plain": [
       "  checks  marketBranchId  marketMax  marketMin  marketRootId traderId\n",
       "0  False               1          1          0             6        2"
      ]
     },
     "execution_count": 843,
     "metadata": {},
     "output_type": "execute_result"
    }
   ],
   "source": [
    "pd.DataFrame(response.json(), index=[0])"
   ]
  },
  {
   "cell_type": "code",
   "execution_count": 844,
   "metadata": {},
   "outputs": [],
   "source": [
    "# Create a trade\n",
    "url = baseurl+'createTrade'\n",
    "\n",
    "content_maketrade = {\"signingKey_hex\": sk,\n",
    "                     \"traderId\": tId,\n",
    "                     \"verifyKey_hex\": vk,\n",
    "                     \"marketId\": mkId,\n",
    "                     \"price\": 0.55,\n",
    "                     \"quantity\":1}"
   ]
  },
  {
   "cell_type": "code",
   "execution_count": 845,
   "metadata": {},
   "outputs": [],
   "source": [
    "# Post trade\n",
    "response = requests.post(url, data=json.dumps(content_maketrade), headers=headers)"
   ]
  },
  {
   "cell_type": "code",
   "execution_count": 846,
   "metadata": {},
   "outputs": [
    {
     "data": {
      "text/plain": [
       "{'checks': 'True',\n",
       " 'marketId': 1,\n",
       " 'price': 0.55,\n",
       " 'quantity': 1,\n",
       " 'traderId': '2'}"
      ]
     },
     "execution_count": 846,
     "metadata": {},
     "output_type": "execute_result"
    }
   ],
   "source": [
    "response.json()"
   ]
  },
  {
   "cell_type": "code",
   "execution_count": 847,
   "metadata": {},
   "outputs": [
    {
     "data": {
      "text/html": [
       "<div>\n",
       "<style scoped>\n",
       "    .dataframe tbody tr th:only-of-type {\n",
       "        vertical-align: middle;\n",
       "    }\n",
       "\n",
       "    .dataframe tbody tr th {\n",
       "        vertical-align: top;\n",
       "    }\n",
       "\n",
       "    .dataframe thead th {\n",
       "        text-align: right;\n",
       "    }\n",
       "</style>\n",
       "<table border=\"1\" class=\"dataframe\">\n",
       "  <thead>\n",
       "    <tr style=\"text-align: right;\">\n",
       "      <th></th>\n",
       "      <th>checks</th>\n",
       "      <th>marketId</th>\n",
       "      <th>price</th>\n",
       "      <th>quantity</th>\n",
       "      <th>traderId</th>\n",
       "    </tr>\n",
       "  </thead>\n",
       "  <tbody>\n",
       "    <tr>\n",
       "      <th>0</th>\n",
       "      <td>True</td>\n",
       "      <td>1</td>\n",
       "      <td>0.55</td>\n",
       "      <td>1</td>\n",
       "      <td>2</td>\n",
       "    </tr>\n",
       "  </tbody>\n",
       "</table>\n",
       "</div>"
      ],
      "text/plain": [
       "  checks  marketId  price  quantity traderId\n",
       "0   True         1   0.55         1        2"
      ]
     },
     "execution_count": 847,
     "metadata": {},
     "output_type": "execute_result"
    }
   ],
   "source": [
    "# View json response\n",
    "pd.DataFrame(response.json(), index=[0])\n"
   ]
  },
  {
   "cell_type": "code",
   "execution_count": 848,
   "metadata": {},
   "outputs": [],
   "source": [
    "# Create a matched trade\n",
    "url = baseurl+'createTrade'\n",
    "content_maketrade['quantity'] = -1\n",
    "response = requests.post(url, data=json.dumps(content_maketrade), headers=headers)"
   ]
  },
  {
   "cell_type": "code",
   "execution_count": 849,
   "metadata": {},
   "outputs": [
    {
     "data": {
      "text/plain": [
       "{'checks': 'True',\n",
       " 'marketId': 1,\n",
       " 'price': 0.55,\n",
       " 'quantity': -1,\n",
       " 'traderId': '2'}"
      ]
     },
     "execution_count": 849,
     "metadata": {},
     "output_type": "execute_result"
    }
   ],
   "source": [
    "response.json()"
   ]
  },
  {
   "cell_type": "code",
   "execution_count": null,
   "metadata": {},
   "outputs": [],
   "source": []
  },
  {
   "cell_type": "code",
   "execution_count": 850,
   "metadata": {},
   "outputs": [
    {
     "name": "stdout",
     "output_type": "stream",
     "text": [
      "matched trade: 0 in 0.360245943069458 seconds.\n",
      "matched trade: 1 in 0.367264986038208 seconds.\n",
      "matched trade: 2 in 0.34751296043395996 seconds.\n",
      "matched trade: 3 in 0.33552002906799316 seconds.\n",
      "matched trade: 4 in 0.3351478576660156 seconds.\n"
     ]
    }
   ],
   "source": [
    "# Create many matched trades\n",
    "url = baseurl+'createTrade'\n",
    "\n",
    "for i in range(5):\n",
    "    t = time.time()\n",
    "    content_maketrade['quantity'] = -1\n",
    "    response = requests.post(url, data=json.dumps(content_maketrade), headers=headers)\n",
    "    content_maketrade['quantity']=1\n",
    "    response = requests.post(url, data=json.dumps(content_maketrade), headers=headers)\n",
    "    print('matched trade: ' + str(i) + ' in ' + str(time.time() - t) + ' seconds.')\n"
   ]
  },
  {
   "cell_type": "code",
   "execution_count": 851,
   "metadata": {},
   "outputs": [
    {
     "name": "stdout",
     "output_type": "stream",
     "text": [
      "market created: 1 in 0.28237295150756836 seconds.\n",
      "market created: 2 in 0.453995943069458 seconds.\n",
      "market created: 3 in 0.6857180595397949 seconds.\n",
      "market created: 4 in 1.3051021099090576 seconds.\n"
     ]
    }
   ],
   "source": [
    "url = baseurl+'createMarket'\n",
    "\n",
    "for i in range(4):\n",
    "    t = time.time()\n",
    "\n",
    "    content_makemarket = {\"signingKey_hex\": sk,\n",
    "      \"traderId\": int(tId), \"verifyKey_hex\": vk,\n",
    "      \"marketRootId\": i+1, \"marketBranchId\": 1, \"marketMin\": 0, \"marketMax\":0.7}\n",
    "\n",
    "    response = requests.post(url, data=json.dumps(content_makemarket), headers=headers)\n",
    "    if response.json()['checks'] == 'True':\n",
    "        print('market created: ' + str(i+1) + ' in ' + str(time.time() - t) + ' seconds.')\n",
    "    else:\n",
    "        print('failed to create market ' +str(i+1))\n",
    "    "
   ]
  },
  {
   "cell_type": "code",
   "execution_count": 852,
   "metadata": {},
   "outputs": [
    {
     "data": {
      "text/plain": [
       "'2'"
      ]
     },
     "execution_count": 852,
     "metadata": {},
     "output_type": "execute_result"
    }
   ],
   "source": [
    "tId"
   ]
  },
  {
   "cell_type": "code",
   "execution_count": 853,
   "metadata": {},
   "outputs": [
    {
     "data": {
      "text/plain": [
       "{'checks': 'True',\n",
       " 'marketBranchId': 1,\n",
       " 'marketMax': 0.7,\n",
       " 'marketMin': 0,\n",
       " 'marketRootId': 4,\n",
       " 'traderId': 2}"
      ]
     },
     "execution_count": 853,
     "metadata": {},
     "output_type": "execute_result"
    }
   ],
   "source": [
    "response.json()"
   ]
  },
  {
   "cell_type": "code",
   "execution_count": 854,
   "metadata": {},
   "outputs": [],
   "source": [
    "url = baseurl+'viewMarketBounds'\n",
    "content = {}\n",
    "response = requests.post(url, data=json.dumps(content), headers=headers)\n",
    "\n"
   ]
  },
  {
   "cell_type": "code",
   "execution_count": 855,
   "metadata": {},
   "outputs": [
    {
     "data": {
      "text/html": [
       "<div>\n",
       "<style scoped>\n",
       "    .dataframe tbody tr th:only-of-type {\n",
       "        vertical-align: middle;\n",
       "    }\n",
       "\n",
       "    .dataframe tbody tr th {\n",
       "        vertical-align: top;\n",
       "    }\n",
       "\n",
       "    .dataframe thead th {\n",
       "        text-align: right;\n",
       "    }\n",
       "</style>\n",
       "<table border=\"1\" class=\"dataframe\">\n",
       "  <thead>\n",
       "    <tr style=\"text-align: right;\">\n",
       "      <th></th>\n",
       "      <th>marketId</th>\n",
       "      <th>marketRootId</th>\n",
       "      <th>marketBranchId</th>\n",
       "      <th>marketMin</th>\n",
       "      <th>marketMax</th>\n",
       "    </tr>\n",
       "  </thead>\n",
       "  <tbody>\n",
       "    <tr>\n",
       "      <th>0</th>\n",
       "      <td>1</td>\n",
       "      <td>6</td>\n",
       "      <td>1</td>\n",
       "      <td>0</td>\n",
       "      <td>1.0</td>\n",
       "    </tr>\n",
       "    <tr>\n",
       "      <th>1</th>\n",
       "      <td>2</td>\n",
       "      <td>1</td>\n",
       "      <td>1</td>\n",
       "      <td>0</td>\n",
       "      <td>0.7</td>\n",
       "    </tr>\n",
       "    <tr>\n",
       "      <th>2</th>\n",
       "      <td>3</td>\n",
       "      <td>2</td>\n",
       "      <td>1</td>\n",
       "      <td>0</td>\n",
       "      <td>0.7</td>\n",
       "    </tr>\n",
       "    <tr>\n",
       "      <th>3</th>\n",
       "      <td>4</td>\n",
       "      <td>3</td>\n",
       "      <td>1</td>\n",
       "      <td>0</td>\n",
       "      <td>0.7</td>\n",
       "    </tr>\n",
       "    <tr>\n",
       "      <th>4</th>\n",
       "      <td>5</td>\n",
       "      <td>4</td>\n",
       "      <td>1</td>\n",
       "      <td>0</td>\n",
       "      <td>0.7</td>\n",
       "    </tr>\n",
       "  </tbody>\n",
       "</table>\n",
       "</div>"
      ],
      "text/plain": [
       "   marketId  marketRootId  marketBranchId  marketMin  marketMax\n",
       "0         1             6               1          0        1.0\n",
       "1         2             1               1          0        0.7\n",
       "2         3             2               1          0        0.7\n",
       "3         4             3               1          0        0.7\n",
       "4         5             4               1          0        0.7"
      ]
     },
     "execution_count": 855,
     "metadata": {},
     "output_type": "execute_result"
    }
   ],
   "source": [
    "a = pd.read_json(response.json())\n",
    "a"
   ]
  },
  {
   "cell_type": "code",
   "execution_count": 856,
   "metadata": {},
   "outputs": [],
   "source": [
    "url = baseurl+'viewOrderBook'\n",
    "content = {}\n",
    "response = requests.post(url, data=json.dumps(content), headers=headers)"
   ]
  },
  {
   "cell_type": "code",
   "execution_count": 857,
   "metadata": {},
   "outputs": [
    {
     "data": {
      "text/html": [
       "<div>\n",
       "<style scoped>\n",
       "    .dataframe tbody tr th:only-of-type {\n",
       "        vertical-align: middle;\n",
       "    }\n",
       "\n",
       "    .dataframe tbody tr th {\n",
       "        vertical-align: top;\n",
       "    }\n",
       "\n",
       "    .dataframe thead th {\n",
       "        text-align: right;\n",
       "    }\n",
       "</style>\n",
       "<table border=\"1\" class=\"dataframe\">\n",
       "  <thead>\n",
       "    <tr style=\"text-align: right;\">\n",
       "      <th></th>\n",
       "      <th>marketId</th>\n",
       "      <th>price</th>\n",
       "      <th>quantity</th>\n",
       "      <th>traderId</th>\n",
       "      <th>iMatched</th>\n",
       "      <th>timeStampUTC</th>\n",
       "    </tr>\n",
       "  </thead>\n",
       "  <tbody>\n",
       "    <tr>\n",
       "      <th>0</th>\n",
       "      <td>1</td>\n",
       "      <td>0.55</td>\n",
       "      <td>1</td>\n",
       "      <td>1</td>\n",
       "      <td>True</td>\n",
       "      <td>2019-01-20 06:12:20.697</td>\n",
       "    </tr>\n",
       "    <tr>\n",
       "      <th>1</th>\n",
       "      <td>1</td>\n",
       "      <td>0.55</td>\n",
       "      <td>-1</td>\n",
       "      <td>1</td>\n",
       "      <td>True</td>\n",
       "      <td>2019-01-20 06:13:05.678</td>\n",
       "    </tr>\n",
       "    <tr>\n",
       "      <th>10</th>\n",
       "      <td>1</td>\n",
       "      <td>0.55</td>\n",
       "      <td>-1</td>\n",
       "      <td>2</td>\n",
       "      <td>True</td>\n",
       "      <td>2019-01-20 07:35:27.630</td>\n",
       "    </tr>\n",
       "    <tr>\n",
       "      <th>11</th>\n",
       "      <td>1</td>\n",
       "      <td>0.55</td>\n",
       "      <td>1</td>\n",
       "      <td>2</td>\n",
       "      <td>True</td>\n",
       "      <td>2019-01-20 07:35:27.798</td>\n",
       "    </tr>\n",
       "    <tr>\n",
       "      <th>12</th>\n",
       "      <td>1</td>\n",
       "      <td>0.55</td>\n",
       "      <td>-1</td>\n",
       "      <td>2</td>\n",
       "      <td>True</td>\n",
       "      <td>2019-01-20 07:35:27.966</td>\n",
       "    </tr>\n",
       "    <tr>\n",
       "      <th>13</th>\n",
       "      <td>1</td>\n",
       "      <td>0.55</td>\n",
       "      <td>1</td>\n",
       "      <td>2</td>\n",
       "      <td>True</td>\n",
       "      <td>2019-01-20 07:35:28.135</td>\n",
       "    </tr>\n",
       "    <tr>\n",
       "      <th>2</th>\n",
       "      <td>1</td>\n",
       "      <td>0.55</td>\n",
       "      <td>1</td>\n",
       "      <td>2</td>\n",
       "      <td>True</td>\n",
       "      <td>2019-01-20 07:35:23.397</td>\n",
       "    </tr>\n",
       "    <tr>\n",
       "      <th>3</th>\n",
       "      <td>1</td>\n",
       "      <td>0.55</td>\n",
       "      <td>-1</td>\n",
       "      <td>2</td>\n",
       "      <td>True</td>\n",
       "      <td>2019-01-20 07:35:24.956</td>\n",
       "    </tr>\n",
       "    <tr>\n",
       "      <th>4</th>\n",
       "      <td>1</td>\n",
       "      <td>0.55</td>\n",
       "      <td>-1</td>\n",
       "      <td>2</td>\n",
       "      <td>True</td>\n",
       "      <td>2019-01-20 07:35:26.579</td>\n",
       "    </tr>\n",
       "    <tr>\n",
       "      <th>5</th>\n",
       "      <td>1</td>\n",
       "      <td>0.55</td>\n",
       "      <td>1</td>\n",
       "      <td>2</td>\n",
       "      <td>True</td>\n",
       "      <td>2019-01-20 07:35:26.749</td>\n",
       "    </tr>\n",
       "    <tr>\n",
       "      <th>6</th>\n",
       "      <td>1</td>\n",
       "      <td>0.55</td>\n",
       "      <td>-1</td>\n",
       "      <td>2</td>\n",
       "      <td>True</td>\n",
       "      <td>2019-01-20 07:35:26.930</td>\n",
       "    </tr>\n",
       "    <tr>\n",
       "      <th>7</th>\n",
       "      <td>1</td>\n",
       "      <td>0.55</td>\n",
       "      <td>1</td>\n",
       "      <td>2</td>\n",
       "      <td>True</td>\n",
       "      <td>2019-01-20 07:35:27.115</td>\n",
       "    </tr>\n",
       "    <tr>\n",
       "      <th>8</th>\n",
       "      <td>1</td>\n",
       "      <td>0.55</td>\n",
       "      <td>-1</td>\n",
       "      <td>2</td>\n",
       "      <td>True</td>\n",
       "      <td>2019-01-20 07:35:27.295</td>\n",
       "    </tr>\n",
       "    <tr>\n",
       "      <th>9</th>\n",
       "      <td>1</td>\n",
       "      <td>0.55</td>\n",
       "      <td>1</td>\n",
       "      <td>2</td>\n",
       "      <td>True</td>\n",
       "      <td>2019-01-20 07:35:27.463</td>\n",
       "    </tr>\n",
       "  </tbody>\n",
       "</table>\n",
       "</div>"
      ],
      "text/plain": [
       "    marketId  price  quantity  traderId  iMatched            timeStampUTC\n",
       "0          1   0.55         1         1      True 2019-01-20 06:12:20.697\n",
       "1          1   0.55        -1         1      True 2019-01-20 06:13:05.678\n",
       "10         1   0.55        -1         2      True 2019-01-20 07:35:27.630\n",
       "11         1   0.55         1         2      True 2019-01-20 07:35:27.798\n",
       "12         1   0.55        -1         2      True 2019-01-20 07:35:27.966\n",
       "13         1   0.55         1         2      True 2019-01-20 07:35:28.135\n",
       "2          1   0.55         1         2      True 2019-01-20 07:35:23.397\n",
       "3          1   0.55        -1         2      True 2019-01-20 07:35:24.956\n",
       "4          1   0.55        -1         2      True 2019-01-20 07:35:26.579\n",
       "5          1   0.55         1         2      True 2019-01-20 07:35:26.749\n",
       "6          1   0.55        -1         2      True 2019-01-20 07:35:26.930\n",
       "7          1   0.55         1         2      True 2019-01-20 07:35:27.115\n",
       "8          1   0.55        -1         2      True 2019-01-20 07:35:27.295\n",
       "9          1   0.55         1         2      True 2019-01-20 07:35:27.463"
      ]
     },
     "execution_count": 857,
     "metadata": {},
     "output_type": "execute_result"
    }
   ],
   "source": [
    "a = pd.read_json(response.json())\n",
    "a"
   ]
  },
  {
   "cell_type": "code",
   "execution_count": 858,
   "metadata": {},
   "outputs": [
    {
     "name": "stdout",
     "output_type": "stream",
     "text": [
      "unmatched trade: 0 in 1.351715087890625 seconds.\n",
      "unmatched trade: 1 in 1.4378807544708252 seconds.\n",
      "unmatched trade: 2 in 1.3318538665771484 seconds.\n",
      "unmatched trade: 3 in 1.2808799743652344 seconds.\n",
      "unmatched trade: 4 in 1.3410429954528809 seconds.\n"
     ]
    }
   ],
   "source": [
    "# Create many unmatched trades\n",
    "url = baseurl+'createTrade'\n",
    "\n",
    "for i in range(5):\n",
    "    t = time.time()\n",
    "    content_maketrade['quantity'] = -1\n",
    "    content_maketrade['price'] = 0.43\n",
    "    response = requests.post(url, data=json.dumps(content_maketrade), headers=headers)\n",
    "    print('unmatched trade: ' + str(i) + ' in ' + str(time.time() - t) + ' seconds.')\n"
   ]
  },
  {
   "cell_type": "code",
   "execution_count": 859,
   "metadata": {},
   "outputs": [
    {
     "data": {
      "text/plain": [
       "{'checks': 'True',\n",
       " 'marketId': 1,\n",
       " 'price': 0.43,\n",
       " 'quantity': -1,\n",
       " 'traderId': '2'}"
      ]
     },
     "execution_count": 859,
     "metadata": {},
     "output_type": "execute_result"
    }
   ],
   "source": [
    "response.json()"
   ]
  },
  {
   "cell_type": "code",
   "execution_count": 860,
   "metadata": {},
   "outputs": [],
   "source": [
    "url = baseurl+'viewOpenTrades'\n",
    "\n",
    "content = {}\n",
    "response = requests.post(url, data=json.dumps(content), headers=headers)"
   ]
  },
  {
   "cell_type": "code",
   "execution_count": 861,
   "metadata": {},
   "outputs": [
    {
     "data": {
      "text/html": [
       "<div>\n",
       "<style scoped>\n",
       "    .dataframe tbody tr th:only-of-type {\n",
       "        vertical-align: middle;\n",
       "    }\n",
       "\n",
       "    .dataframe tbody tr th {\n",
       "        vertical-align: top;\n",
       "    }\n",
       "\n",
       "    .dataframe thead th {\n",
       "        text-align: right;\n",
       "    }\n",
       "</style>\n",
       "<table border=\"1\" class=\"dataframe\">\n",
       "  <thead>\n",
       "    <tr style=\"text-align: right;\">\n",
       "      <th></th>\n",
       "      <th>marketId</th>\n",
       "      <th>price</th>\n",
       "      <th>quantity</th>\n",
       "      <th>traderId</th>\n",
       "      <th>timeStampUTC</th>\n",
       "    </tr>\n",
       "  </thead>\n",
       "  <tbody>\n",
       "    <tr>\n",
       "      <th>14</th>\n",
       "      <td>1</td>\n",
       "      <td>0.43</td>\n",
       "      <td>-1</td>\n",
       "      <td>2</td>\n",
       "      <td>2019-01-20 07:35:41.448</td>\n",
       "    </tr>\n",
       "    <tr>\n",
       "      <th>15</th>\n",
       "      <td>1</td>\n",
       "      <td>0.43</td>\n",
       "      <td>-1</td>\n",
       "      <td>2</td>\n",
       "      <td>2019-01-20 07:35:42.884</td>\n",
       "    </tr>\n",
       "    <tr>\n",
       "      <th>16</th>\n",
       "      <td>1</td>\n",
       "      <td>0.43</td>\n",
       "      <td>-1</td>\n",
       "      <td>2</td>\n",
       "      <td>2019-01-20 07:35:44.218</td>\n",
       "    </tr>\n",
       "    <tr>\n",
       "      <th>17</th>\n",
       "      <td>1</td>\n",
       "      <td>0.43</td>\n",
       "      <td>-1</td>\n",
       "      <td>2</td>\n",
       "      <td>2019-01-20 07:35:45.499</td>\n",
       "    </tr>\n",
       "    <tr>\n",
       "      <th>18</th>\n",
       "      <td>1</td>\n",
       "      <td>0.43</td>\n",
       "      <td>-1</td>\n",
       "      <td>2</td>\n",
       "      <td>2019-01-20 07:35:46.839</td>\n",
       "    </tr>\n",
       "  </tbody>\n",
       "</table>\n",
       "</div>"
      ],
      "text/plain": [
       "    marketId  price  quantity  traderId            timeStampUTC\n",
       "14         1   0.43        -1         2 2019-01-20 07:35:41.448\n",
       "15         1   0.43        -1         2 2019-01-20 07:35:42.884\n",
       "16         1   0.43        -1         2 2019-01-20 07:35:44.218\n",
       "17         1   0.43        -1         2 2019-01-20 07:35:45.499\n",
       "18         1   0.43        -1         2 2019-01-20 07:35:46.839"
      ]
     },
     "execution_count": 861,
     "metadata": {},
     "output_type": "execute_result"
    }
   ],
   "source": [
    "pd.read_json(response.json())"
   ]
  },
  {
   "cell_type": "code",
   "execution_count": null,
   "metadata": {},
   "outputs": [],
   "source": []
  },
  {
   "cell_type": "code",
   "execution_count": 862,
   "metadata": {},
   "outputs": [],
   "source": [
    "url = baseurl+'viewMatchedTrades'\n",
    "content = {}\n",
    "response = requests.post(url, data=json.dumps(content), headers=headers)"
   ]
  },
  {
   "cell_type": "code",
   "execution_count": 863,
   "metadata": {},
   "outputs": [
    {
     "data": {
      "text/html": [
       "<div>\n",
       "<style scoped>\n",
       "    .dataframe tbody tr th:only-of-type {\n",
       "        vertical-align: middle;\n",
       "    }\n",
       "\n",
       "    .dataframe tbody tr th {\n",
       "        vertical-align: top;\n",
       "    }\n",
       "\n",
       "    .dataframe thead th {\n",
       "        text-align: right;\n",
       "    }\n",
       "</style>\n",
       "<table border=\"1\" class=\"dataframe\">\n",
       "  <thead>\n",
       "    <tr style=\"text-align: right;\">\n",
       "      <th></th>\n",
       "      <th>marketId</th>\n",
       "      <th>price</th>\n",
       "      <th>quantity</th>\n",
       "      <th>traderId</th>\n",
       "    </tr>\n",
       "  </thead>\n",
       "  <tbody>\n",
       "    <tr>\n",
       "      <th>0</th>\n",
       "      <td>1</td>\n",
       "      <td>0.55</td>\n",
       "      <td>0</td>\n",
       "      <td>1</td>\n",
       "    </tr>\n",
       "    <tr>\n",
       "      <th>1</th>\n",
       "      <td>1</td>\n",
       "      <td>0.55</td>\n",
       "      <td>0</td>\n",
       "      <td>2</td>\n",
       "    </tr>\n",
       "  </tbody>\n",
       "</table>\n",
       "</div>"
      ],
      "text/plain": [
       "   marketId  price  quantity  traderId\n",
       "0         1   0.55         0         1\n",
       "1         1   0.55         0         2"
      ]
     },
     "execution_count": 863,
     "metadata": {},
     "output_type": "execute_result"
    }
   ],
   "source": [
    "pd.read_json(response.json())"
   ]
  },
  {
   "cell_type": "code",
   "execution_count": 864,
   "metadata": {},
   "outputs": [
    {
     "name": "stdout",
     "output_type": "stream",
     "text": [
      "matched trade: 0 in 2.5399410724639893 seconds.\n",
      "matched trade: 1 in 2.658452033996582 seconds.\n",
      "matched trade: 2 in 2.728566884994507 seconds.\n",
      "matched trade: 3 in 2.5069499015808105 seconds.\n",
      "matched trade: 4 in 2.759593963623047 seconds.\n"
     ]
    }
   ],
   "source": [
    "# Create many matched trades\n",
    "url = baseurl+'createTrade'\n",
    "\n",
    "for i in range(5):\n",
    "    t = time.time()\n",
    "    content_maketrade['quantity'] = -1\n",
    "    response = requests.post(url, data=json.dumps(content_maketrade), headers=headers)\n",
    "    content_maketrade['quantity']=1\n",
    "    response = requests.post(url, data=json.dumps(content_maketrade), headers=headers)\n",
    "    print('matched trade: ' + str(i) + ' in ' + str(time.time() - t) + ' seconds.')\n"
   ]
  },
  {
   "cell_type": "code",
   "execution_count": null,
   "metadata": {},
   "outputs": [],
   "source": []
  },
  {
   "cell_type": "markdown",
   "metadata": {},
   "source": [
    "\n",
    "# Curl \n",
    "\n",
    "\n",
    "\n",
    "## Create user\n",
    "\n",
    "~~~~\n",
    "curl --header \"Content-Type: application/json\" -X POST http://127.0.0.1:7000/createUser\n",
    "~~~~\n",
    "        \n",
    "## Create market\n",
    "\n",
    "~~~~\n",
    "curl --data '{\"signingKey_hex\": \"ece2efc138c8298d43caba1315ceda614e20644c74d46fed37871c47ea19afdf\",\n",
    "\"traderId\": 1, \n",
    "\"verifyKey_hex\": \"9690a2e12971ae452d68bf3d08405090d45791533cf80740fd186aea4b6773fc\",\n",
    "\"marketRootId\": 1, \n",
    "\"marketBranchId\": 5, \n",
    "\"marketMin\": 0, \n",
    "\"marketMax\": 1}' \n",
    "--header \"Content-Type: application/json\" -X POST http://localhost:7000/createMarket\n",
    "~~~~\n",
    "    \n",
    "## Create trade\n",
    "\n",
    "~~~~\n",
    "curl --data '{\"signingKey_hex\": \"ece2efc138c8298d43caba1315ceda614e20644c74d46fed37871c47ea19afdf\",\n",
    "\"traderId\": 1, \n",
    "\"verifyKey_hex\": \"9690a2e12971ae452d68bf3d08405090d45791533cf80740fd186aea4b6773fc\",\n",
    "\"marketId\": 1,\n",
    "\"price\": 0.1212,\n",
    "\"quantity\": 1}' --header \"Content-Type: application/json\" -X POST http://localhost:7000/createTrade\n",
    "\n",
    "~~~~\n",
    "        \n",
    "## View order book (output to file)\n",
    "\n",
    "~~~~\n",
    "curl --header \"Content-Type: application/json\" -X POST http://127.0.0.1:7000/viewOrderBook --output ob.txt\n",
    "~~~~    \n",
    "        \n",
    "Also can load json from file with something like \n",
    "~~~~ \n",
    "curl -d \"@data.json\" -X POST http://localhost:3000/data \n",
    "~~~~\n",
    "\n",
    "Matlab will (probably?) run these with \n",
    "~~~~\n",
    "[A, curlout] = system('curlstring')\n",
    "~~~~\n",
    "\n",
    "    "
   ]
  },
  {
   "cell_type": "code",
   "execution_count": 740,
   "metadata": {},
   "outputs": [
    {
     "data": {
      "text/plain": [
       "\"{'signingKey_hex': '29ba39f7fea00b2639839d7740e875e884cdb593da4b46af8d4d9af3cc212bf0', 'traderId': 1, 'verifyKey_hex': 'e6376aef9f29b5ba13d98f388a2463d42e58300a4438545e769dbfa2a7432f07', 'marketRootId': 4, 'marketBranchId': 1, 'marketMin': 0, 'marketMax': 0.7}\""
      ]
     },
     "execution_count": 740,
     "metadata": {},
     "output_type": "execute_result"
    }
   ],
   "source": [
    "str(content_makemarket)\n"
   ]
  },
  {
   "cell_type": "code",
   "execution_count": 747,
   "metadata": {},
   "outputs": [
    {
     "data": {
      "text/plain": [
       "'2019-01-20 01:01:08.007049'"
      ]
     },
     "execution_count": 747,
     "metadata": {},
     "output_type": "execute_result"
    }
   ],
   "source": [
    "str(datetime.datetime.utcnow())"
   ]
  },
  {
   "cell_type": "markdown",
   "metadata": {},
   "source": [
    "# Setup for release\n",
    "\n",
    "- Get extra database rows on Heroku\n",
    "- Single "
   ]
  }
 ],
 "metadata": {
  "kernelspec": {
   "display_name": "Python 3",
   "language": "python",
   "name": "python3"
  },
  "language_info": {
   "codemirror_mode": {
    "name": "ipython",
    "version": 3
   },
   "file_extension": ".py",
   "mimetype": "text/x-python",
   "name": "python",
   "nbconvert_exporter": "python",
   "pygments_lexer": "ipython3",
   "version": "3.7.1"
  }
 },
 "nbformat": 4,
 "nbformat_minor": 2
}
