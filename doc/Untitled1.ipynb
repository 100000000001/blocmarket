{
 "cells": [
  {
   "cell_type": "code",
   "execution_count": 3,
   "metadata": {},
   "outputs": [],
   "source": [
    "z = {'a': 1,'b':2}"
   ]
  },
  {
   "cell_type": "code",
   "execution_count": 4,
   "metadata": {},
   "outputs": [
    {
     "data": {
      "text/plain": [
       "{'a': 1, 'b': 2}"
      ]
     },
     "execution_count": 4,
     "metadata": {},
     "output_type": "execute_result"
    }
   ],
   "source": [
    "z"
   ]
  },
  {
   "cell_type": "code",
   "execution_count": 5,
   "metadata": {},
   "outputs": [
    {
     "data": {
      "text/plain": [
       "1"
      ]
     },
     "execution_count": 5,
     "metadata": {},
     "output_type": "execute_result"
    }
   ],
   "source": [
    "z['a']"
   ]
  },
  {
   "cell_type": "code",
   "execution_count": 7,
   "metadata": {},
   "outputs": [],
   "source": [
    "testTrade = {'traderId': 1, 'tradeRootId': 1, 'tradeBranchId': 1,\n",
    "             'price': 0.5, 'quantity': 10, \n",
    "             'marketRootId': 3, 'marketBranchId': 1,\n",
    "             'signatureMsg': '<xxx>', 'signature': '<xxx>'}"
   ]
  },
  {
   "cell_type": "code",
   "execution_count": 8,
   "metadata": {},
   "outputs": [
    {
     "data": {
      "text/plain": [
       "{'traderId': 1,\n",
       " 'tradeRootId': 1,\n",
       " 'tradeBranchId': 1,\n",
       " 'price': 0.5,\n",
       " 'quantity': 10,\n",
       " 'marketRootId': 3,\n",
       " 'marketBranchId': 1,\n",
       " 'signatureMsg': '<xxx>',\n",
       " 'signature': '<xxx>'}"
      ]
     },
     "execution_count": 8,
     "metadata": {},
     "output_type": "execute_result"
    }
   ],
   "source": [
    "testTrade"
   ]
  },
  {
   "cell_type": "code",
   "execution_count": 9,
   "metadata": {},
   "outputs": [],
   "source": [
    "testMarket = {'marketRootId': 3, 'marketBranchId': 1,\n",
    "              'marketMin': 0, 'marketMax': 1,\n",
    "              'traderId': 1, 'previousSig': '<xxx>', 'signatureMsg':'<xxx>',\n",
    "              'signature': '<xxx>'}"
   ]
  },
  {
   "cell_type": "code",
   "execution_count": 13,
   "metadata": {},
   "outputs": [
    {
     "data": {
      "text/plain": [
       "'<xxx>'"
      ]
     },
     "execution_count": 13,
     "metadata": {},
     "output_type": "execute_result"
    }
   ],
   "source": [
    "testMarket['signatureMsg']\n",
    "\n"
   ]
  },
  {
   "cell_type": "code",
   "execution_count": 14,
   "metadata": {},
   "outputs": [],
   "source": [
    "market = {'marketRootId': 3,\n",
    "          'marketBranchId': 1,\n",
    "          'marketMin': 0, 'marketMax': 1,\n",
    "          'traderId': 1, \n",
    "          'signatureMsg': '<message>',\n",
    "          'signature': '<signature>'}"
   ]
  },
  {
   "cell_type": "code",
   "execution_count": 15,
   "metadata": {},
   "outputs": [
    {
     "data": {
      "text/plain": [
       "{'marketRootId': 3,\n",
       " 'marketBranchId': 1,\n",
       " 'marketMin': 0,\n",
       " 'marketMax': 1,\n",
       " 'traderId': 1,\n",
       " 'signatureMsg': '<message>',\n",
       " 'signature': '<signature>'}"
      ]
     },
     "execution_count": 15,
     "metadata": {},
     "output_type": "execute_result"
    }
   ],
   "source": [
    "market"
   ]
  },
  {
   "cell_type": "code",
   "execution_count": 20,
   "metadata": {},
   "outputs": [],
   "source": [
    "pTrades = {'traderId': [1,1], 'tradeRootId': [1,1], 'tradeBranchId': [1,1],\n",
    "                'price': [0.5,0.4],\n",
    "                'quantity': [1,1], 'marketRootId': [3,3],\n",
    "                'marketBranchId': [1,1], 'previousSig': ['<previous signature>','<previous signature>'],\n",
    "                'signatureMsg': ['<message>', '<message>'], 'signature': ['<signature>','<signature>']}"
   ]
  },
  {
   "cell_type": "code",
   "execution_count": 22,
   "metadata": {},
   "outputs": [
    {
     "data": {
      "text/plain": [
       "{'traderId': [1, 1],\n",
       " 'tradeRootId': [1, 1],\n",
       " 'tradeBranchId': [1, 1],\n",
       " 'price': [0.5, 0.4],\n",
       " 'quantity': [1, 1],\n",
       " 'marketRootId': [3, 3],\n",
       " 'marketBranchId': [1, 1],\n",
       " 'previousSig': ['<previous signature>', '<previous signature>'],\n",
       " 'signatureMsg': ['<message>', '<message>'],\n",
       " 'signature': ['<signature>', '<signature>']}"
      ]
     },
     "execution_count": 22,
     "metadata": {},
     "output_type": "execute_result"
    }
   ],
   "source": [
    "pTrades"
   ]
  },
  {
   "cell_type": "code",
   "execution_count": null,
   "metadata": {},
   "outputs": [],
   "source": []
  }
 ],
 "metadata": {
  "kernelspec": {
   "display_name": "Python 3",
   "language": "python",
   "name": "python3"
  },
  "language_info": {
   "codemirror_mode": {
    "name": "ipython",
    "version": 3
   },
   "file_extension": ".py",
   "mimetype": "text/x-python",
   "name": "python",
   "nbconvert_exporter": "python",
   "pygments_lexer": "ipython3",
   "version": "3.7.0"
  }
 },
 "nbformat": 4,
 "nbformat_minor": 2
}
