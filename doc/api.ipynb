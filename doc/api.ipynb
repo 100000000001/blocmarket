{
 "cells": [
  {
   "cell_type": "code",
   "execution_count": 58,
   "metadata": {},
   "outputs": [],
   "source": [
    "import requests\n",
    "import json\n",
    "import pandas as  pd\n",
    "import time\n",
    "# Running flask app from powershell\n",
    "# $env:FLASK_APP = \"api\"\n",
    "# $env:FLASK_ENV = \"development\"\n",
    "# flask run"
   ]
  },
  {
   "cell_type": "code",
   "execution_count": 69,
   "metadata": {},
   "outputs": [],
   "source": [
    "url = 'http://127.0.0.1:5000/createUser'\n",
    "headers = {'content-type': 'application/json'}\n",
    "content = {}\n",
    "response = requests.post(url, data=json.dumps(content), headers=headers)"
   ]
  },
  {
   "cell_type": "code",
   "execution_count": 70,
   "metadata": {},
   "outputs": [
    {
     "data": {
      "text/plain": [
       "{'signingKey_hex': '2b4105c9f0c9d0dc88e7c0e908db9b50a621fe1a48950586647e9a62961474a0',\n",
       " 'traderId': '6',\n",
       " 'verifyKey_hex': 'a2f9d528e0f51ca107903994158d929592dcfa926b592ec641283426665ca4c9'}"
      ]
     },
     "execution_count": 70,
     "metadata": {},
     "output_type": "execute_result"
    }
   ],
   "source": [
    "response.json()"
   ]
  },
  {
   "cell_type": "code",
   "execution_count": 71,
   "metadata": {},
   "outputs": [],
   "source": [
    "url = 'http://127.0.0.1:5000/createMarket'\n",
    "\n",
    "mkId = 1\n",
    "# copy from response\n",
    "sk = response.json()['signingKey_hex']\n",
    "vk = response.json()['verifyKey_hex']\n",
    "tId = response.json()['traderId']\n",
    "\n",
    "content_makemarket = {\"signingKey_hex\": sk,\n",
    "                    \"traderId\": tId, \n",
    "                    \"verifyKey_hex\": vk,\n",
    "                    \"marketRootId\": mkId, \n",
    "                    \"marketBranchId\": 1, \n",
    "                    \"marketMin\": 0,\n",
    "                    \"marketMax\":1}\n",
    "\n",
    "response = requests.post(url, data=json.dumps(content_makemarket), headers=headers)"
   ]
  },
  {
   "cell_type": "code",
   "execution_count": 72,
   "metadata": {},
   "outputs": [
    {
     "data": {
      "text/plain": [
       "{'checks': 'False',\n",
       " 'marketBranchId': 1,\n",
       " 'marketMax': 1,\n",
       " 'marketMin': 0,\n",
       " 'marketRootId': 1,\n",
       " 'traderId': '6'}"
      ]
     },
     "execution_count": 72,
     "metadata": {},
     "output_type": "execute_result"
    }
   ],
   "source": [
    "response.json()"
   ]
  },
  {
   "cell_type": "code",
   "execution_count": 57,
   "metadata": {},
   "outputs": [
    {
     "data": {
      "text/plain": [
       "'3'"
      ]
     },
     "execution_count": 57,
     "metadata": {},
     "output_type": "execute_result"
    }
   ],
   "source": [
    "tId"
   ]
  },
  {
   "cell_type": "code",
   "execution_count": 63,
   "metadata": {},
   "outputs": [
    {
     "data": {
      "text/html": [
       "<div>\n",
       "<style scoped>\n",
       "    .dataframe tbody tr th:only-of-type {\n",
       "        vertical-align: middle;\n",
       "    }\n",
       "\n",
       "    .dataframe tbody tr th {\n",
       "        vertical-align: top;\n",
       "    }\n",
       "\n",
       "    .dataframe thead th {\n",
       "        text-align: right;\n",
       "    }\n",
       "</style>\n",
       "<table border=\"1\" class=\"dataframe\">\n",
       "  <thead>\n",
       "    <tr style=\"text-align: right;\">\n",
       "      <th></th>\n",
       "      <th>checks</th>\n",
       "      <th>marketBranchId</th>\n",
       "      <th>marketMax</th>\n",
       "      <th>marketMin</th>\n",
       "      <th>marketRootId</th>\n",
       "      <th>traderId</th>\n",
       "    </tr>\n",
       "  </thead>\n",
       "  <tbody>\n",
       "    <tr>\n",
       "      <th>0</th>\n",
       "      <td>False</td>\n",
       "      <td>1</td>\n",
       "      <td>99</td>\n",
       "      <td>0</td>\n",
       "      <td>1</td>\n",
       "      <td>4</td>\n",
       "    </tr>\n",
       "  </tbody>\n",
       "</table>\n",
       "</div>"
      ],
      "text/plain": [
       "  checks  marketBranchId  marketMax  marketMin  marketRootId traderId\n",
       "0  False               1         99          0             1        4"
      ]
     },
     "execution_count": 63,
     "metadata": {},
     "output_type": "execute_result"
    }
   ],
   "source": [
    "pd.DataFrame(response.json(), index=[0])\n"
   ]
  },
  {
   "cell_type": "code",
   "execution_count": 41,
   "metadata": {},
   "outputs": [],
   "source": [
    "# Create a trade\n",
    "url = 'http://127.0.0.1:5000/createTrade'\n",
    "\n",
    "content_maketrade = {\"signingKey_hex\": sk, \"traderId\": tId, \"verifyKey_hex\": vk,\n",
    "  \"marketRootId\": mkId, \"marketBranchId\": 1, \"price\": 0.49, \"quantity\":1}\n",
    "\n",
    "response = requests.post(url, data=json.dumps(content_maketrade), headers=headers)"
   ]
  },
  {
   "cell_type": "code",
   "execution_count": 42,
   "metadata": {},
   "outputs": [
    {
     "data": {
      "text/plain": [
       "{'checks': '(True, True)',\n",
       " 'marketBranchId': 1,\n",
       " 'marketRootId': 1,\n",
       " 'price': 0.49,\n",
       " 'quantity': 1,\n",
       " 'traderId': '2'}"
      ]
     },
     "execution_count": 42,
     "metadata": {},
     "output_type": "execute_result"
    }
   ],
   "source": [
    "response.json()"
   ]
  },
  {
   "cell_type": "code",
   "execution_count": 43,
   "metadata": {},
   "outputs": [],
   "source": [
    "# Create a matched trade\n",
    "url = 'http://127.0.0.1:5000/createTrade'\n",
    "content_maketrade['quantity'] = -1\n",
    "response = requests.post(url, data=json.dumps(content_maketrade), headers=headers)"
   ]
  },
  {
   "cell_type": "code",
   "execution_count": 44,
   "metadata": {},
   "outputs": [
    {
     "data": {
      "text/plain": [
       "{'checks': '(False, True)',\n",
       " 'marketBranchId': 1,\n",
       " 'marketRootId': 1,\n",
       " 'price': 0.49,\n",
       " 'quantity': -1,\n",
       " 'traderId': '2'}"
      ]
     },
     "execution_count": 44,
     "metadata": {},
     "output_type": "execute_result"
    }
   ],
   "source": [
    "response.json()"
   ]
  },
  {
   "cell_type": "code",
   "execution_count": null,
   "metadata": {},
   "outputs": [],
   "source": []
  },
  {
   "cell_type": "code",
   "execution_count": 45,
   "metadata": {},
   "outputs": [
    {
     "name": "stdout",
     "output_type": "stream",
     "text": [
      "matched trade: 0 in 0.4595470428466797 seconds.\n",
      "matched trade: 1 in 0.4281642436981201 seconds.\n",
      "matched trade: 2 in 0.4553217887878418 seconds.\n",
      "matched trade: 3 in 0.48189616203308105 seconds.\n",
      "matched trade: 4 in 0.4248490333557129 seconds.\n",
      "matched trade: 5 in 0.44979095458984375 seconds.\n",
      "matched trade: 6 in 0.474560022354126 seconds.\n",
      "matched trade: 7 in 0.4461357593536377 seconds.\n",
      "matched trade: 8 in 0.45206499099731445 seconds.\n",
      "matched trade: 9 in 0.4344770908355713 seconds.\n"
     ]
    }
   ],
   "source": [
    "# Create many matched trades\n",
    "url = 'http://127.0.0.1:5000/createTrade'\n",
    "\n",
    "for i in range(10):\n",
    "    t = time.time()\n",
    "    content_maketrade['quantity'] = -1\n",
    "    response = requests.post(url, data=json.dumps(content_maketrade), headers=headers)\n",
    "    content_maketrade['quantity']=1\n",
    "    response = requests.post(url, data=json.dumps(content_maketrade), headers=headers)\n",
    "    print('matched trade: ' + str(i) + ' in ' + str(time.time() - t) + ' seconds.')\n"
   ]
  },
  {
   "cell_type": "code",
   "execution_count": 46,
   "metadata": {},
   "outputs": [
    {
     "name": "stdout",
     "output_type": "stream",
     "text": [
      "market created: 1 in 0.16713809967041016 seconds.\n",
      "market created: 2 in 0.16706109046936035 seconds.\n",
      "market created: 3 in 0.2896130084991455 seconds.\n"
     ]
    }
   ],
   "source": [
    "url = 'http://127.0.0.1:5000/createMarket'\n",
    "\n",
    "for i in range(3):\n",
    "    t = time.time()\n",
    "\n",
    "    content_makemarket = {\"signingKey_hex\": sk,\n",
    "      \"traderId\": int(tId), \"verifyKey_hex\": vk,\n",
    "      \"marketRootId\": i+1, \"marketBranchId\": 1, \"marketMin\": 0, \"marketMax\":0.7}\n",
    "\n",
    "    response = requests.post(url, data=json.dumps(content_makemarket), headers=headers)\n",
    "    if response.json()['checks'] == 'True':\n",
    "        print('market created: ' + str(i+1) + ' in ' + str(time.time() - t) + ' seconds.')\n",
    "    else:\n",
    "        print('failed to create market ' +str(i+1))\n",
    "    "
   ]
  },
  {
   "cell_type": "code",
   "execution_count": 47,
   "metadata": {},
   "outputs": [
    {
     "data": {
      "text/plain": [
       "{'checks': 'True',\n",
       " 'marketBranchId': 1,\n",
       " 'marketMax': 0.7,\n",
       " 'marketMin': 0,\n",
       " 'marketRootId': 3,\n",
       " 'traderId': 2}"
      ]
     },
     "execution_count": 47,
     "metadata": {},
     "output_type": "execute_result"
    }
   ],
   "source": [
    "response.json()"
   ]
  },
  {
   "cell_type": "code",
   "execution_count": 48,
   "metadata": {},
   "outputs": [],
   "source": [
    "url = 'http://127.0.0.1:5000/viewMarketBounds'\n",
    "content = {}\n",
    "response = requests.post(url, data=json.dumps(content), headers=headers)\n",
    "\n"
   ]
  },
  {
   "cell_type": "code",
   "execution_count": 49,
   "metadata": {},
   "outputs": [
    {
     "data": {
      "text/html": [
       "<div>\n",
       "<style scoped>\n",
       "    .dataframe tbody tr th:only-of-type {\n",
       "        vertical-align: middle;\n",
       "    }\n",
       "\n",
       "    .dataframe tbody tr th {\n",
       "        vertical-align: top;\n",
       "    }\n",
       "\n",
       "    .dataframe thead th {\n",
       "        text-align: right;\n",
       "    }\n",
       "</style>\n",
       "<table border=\"1\" class=\"dataframe\">\n",
       "  <thead>\n",
       "    <tr style=\"text-align: right;\">\n",
       "      <th></th>\n",
       "      <th>marketRootId</th>\n",
       "      <th>marketBranchId</th>\n",
       "      <th>marketMin</th>\n",
       "      <th>marketMax</th>\n",
       "    </tr>\n",
       "  </thead>\n",
       "  <tbody>\n",
       "    <tr>\n",
       "      <th>0</th>\n",
       "      <td>1</td>\n",
       "      <td>1</td>\n",
       "      <td>0</td>\n",
       "      <td>0.7</td>\n",
       "    </tr>\n",
       "    <tr>\n",
       "      <th>1</th>\n",
       "      <td>2</td>\n",
       "      <td>1</td>\n",
       "      <td>0</td>\n",
       "      <td>0.7</td>\n",
       "    </tr>\n",
       "    <tr>\n",
       "      <th>2</th>\n",
       "      <td>3</td>\n",
       "      <td>1</td>\n",
       "      <td>0</td>\n",
       "      <td>0.7</td>\n",
       "    </tr>\n",
       "  </tbody>\n",
       "</table>\n",
       "</div>"
      ],
      "text/plain": [
       "   marketRootId  marketBranchId  marketMin  marketMax\n",
       "0             1               1          0        0.7\n",
       "1             2               1          0        0.7\n",
       "2             3               1          0        0.7"
      ]
     },
     "execution_count": 49,
     "metadata": {},
     "output_type": "execute_result"
    }
   ],
   "source": [
    "a = pd.read_json(response.json())\n",
    "a"
   ]
  },
  {
   "cell_type": "code",
   "execution_count": 50,
   "metadata": {},
   "outputs": [],
   "source": [
    "url = 'http://127.0.0.1:5000/viewOrderBook'\n",
    "content = {}\n",
    "response = requests.post(url, data=json.dumps(content), headers=headers)"
   ]
  },
  {
   "cell_type": "code",
   "execution_count": 51,
   "metadata": {},
   "outputs": [
    {
     "data": {
      "text/html": [
       "<div>\n",
       "<style scoped>\n",
       "    .dataframe tbody tr th:only-of-type {\n",
       "        vertical-align: middle;\n",
       "    }\n",
       "\n",
       "    .dataframe tbody tr th {\n",
       "        vertical-align: top;\n",
       "    }\n",
       "\n",
       "    .dataframe thead th {\n",
       "        text-align: right;\n",
       "    }\n",
       "</style>\n",
       "<table border=\"1\" class=\"dataframe\">\n",
       "  <thead>\n",
       "    <tr style=\"text-align: right;\">\n",
       "      <th></th>\n",
       "      <th>marketRootId</th>\n",
       "      <th>marketBranchId</th>\n",
       "      <th>price</th>\n",
       "      <th>quantity</th>\n",
       "      <th>tradeRootId</th>\n",
       "      <th>traderId</th>\n",
       "    </tr>\n",
       "  </thead>\n",
       "  <tbody>\n",
       "    <tr>\n",
       "      <th>0</th>\n",
       "      <td>1</td>\n",
       "      <td>1</td>\n",
       "      <td>0.49</td>\n",
       "      <td>1</td>\n",
       "      <td>1</td>\n",
       "      <td>2</td>\n",
       "    </tr>\n",
       "    <tr>\n",
       "      <th>1</th>\n",
       "      <td>1</td>\n",
       "      <td>1</td>\n",
       "      <td>0.49</td>\n",
       "      <td>1</td>\n",
       "      <td>2</td>\n",
       "      <td>2</td>\n",
       "    </tr>\n",
       "    <tr>\n",
       "      <th>10</th>\n",
       "      <td>1</td>\n",
       "      <td>1</td>\n",
       "      <td>0.49</td>\n",
       "      <td>1</td>\n",
       "      <td>11</td>\n",
       "      <td>2</td>\n",
       "    </tr>\n",
       "    <tr>\n",
       "      <th>2</th>\n",
       "      <td>1</td>\n",
       "      <td>1</td>\n",
       "      <td>0.49</td>\n",
       "      <td>1</td>\n",
       "      <td>3</td>\n",
       "      <td>2</td>\n",
       "    </tr>\n",
       "    <tr>\n",
       "      <th>3</th>\n",
       "      <td>1</td>\n",
       "      <td>1</td>\n",
       "      <td>0.49</td>\n",
       "      <td>1</td>\n",
       "      <td>4</td>\n",
       "      <td>2</td>\n",
       "    </tr>\n",
       "    <tr>\n",
       "      <th>4</th>\n",
       "      <td>1</td>\n",
       "      <td>1</td>\n",
       "      <td>0.49</td>\n",
       "      <td>1</td>\n",
       "      <td>5</td>\n",
       "      <td>2</td>\n",
       "    </tr>\n",
       "    <tr>\n",
       "      <th>5</th>\n",
       "      <td>1</td>\n",
       "      <td>1</td>\n",
       "      <td>0.49</td>\n",
       "      <td>1</td>\n",
       "      <td>6</td>\n",
       "      <td>2</td>\n",
       "    </tr>\n",
       "    <tr>\n",
       "      <th>6</th>\n",
       "      <td>1</td>\n",
       "      <td>1</td>\n",
       "      <td>0.49</td>\n",
       "      <td>1</td>\n",
       "      <td>7</td>\n",
       "      <td>2</td>\n",
       "    </tr>\n",
       "    <tr>\n",
       "      <th>7</th>\n",
       "      <td>1</td>\n",
       "      <td>1</td>\n",
       "      <td>0.49</td>\n",
       "      <td>1</td>\n",
       "      <td>8</td>\n",
       "      <td>2</td>\n",
       "    </tr>\n",
       "    <tr>\n",
       "      <th>8</th>\n",
       "      <td>1</td>\n",
       "      <td>1</td>\n",
       "      <td>0.49</td>\n",
       "      <td>1</td>\n",
       "      <td>9</td>\n",
       "      <td>2</td>\n",
       "    </tr>\n",
       "    <tr>\n",
       "      <th>9</th>\n",
       "      <td>1</td>\n",
       "      <td>1</td>\n",
       "      <td>0.49</td>\n",
       "      <td>1</td>\n",
       "      <td>10</td>\n",
       "      <td>2</td>\n",
       "    </tr>\n",
       "  </tbody>\n",
       "</table>\n",
       "</div>"
      ],
      "text/plain": [
       "    marketRootId  marketBranchId  price  quantity  tradeRootId  traderId\n",
       "0              1               1   0.49         1            1         2\n",
       "1              1               1   0.49         1            2         2\n",
       "10             1               1   0.49         1           11         2\n",
       "2              1               1   0.49         1            3         2\n",
       "3              1               1   0.49         1            4         2\n",
       "4              1               1   0.49         1            5         2\n",
       "5              1               1   0.49         1            6         2\n",
       "6              1               1   0.49         1            7         2\n",
       "7              1               1   0.49         1            8         2\n",
       "8              1               1   0.49         1            9         2\n",
       "9              1               1   0.49         1           10         2"
      ]
     },
     "execution_count": 51,
     "metadata": {},
     "output_type": "execute_result"
    }
   ],
   "source": [
    "a = pd.read_json(response.json())\n",
    "a"
   ]
  },
  {
   "cell_type": "markdown",
   "metadata": {},
   "source": [
    "## Title of thing\n",
    "\n",
    "$x^2 + 2$ is a thing"
   ]
  },
  {
   "cell_type": "code",
   "execution_count": 32,
   "metadata": {},
   "outputs": [
    {
     "data": {
      "text/plain": [
       "3"
      ]
     },
     "execution_count": 32,
     "metadata": {},
     "output_type": "execute_result"
    }
   ],
   "source": [
    "1+2"
   ]
  },
  {
   "cell_type": "markdown",
   "metadata": {},
   "source": [
    "$\\sqrt{\\delta}$"
   ]
  },
  {
   "cell_type": "code",
   "execution_count": null,
   "metadata": {},
   "outputs": [],
   "source": []
  }
 ],
 "metadata": {
  "kernelspec": {
   "display_name": "Python 3",
   "language": "python",
   "name": "python3"
  },
  "language_info": {
   "codemirror_mode": {
    "name": "ipython",
    "version": 3
   },
   "file_extension": ".py",
   "mimetype": "text/x-python",
   "name": "python",
   "nbconvert_exporter": "python",
   "pygments_lexer": "ipython3",
   "version": "3.7.0"
  }
 },
 "nbformat": 4,
 "nbformat_minor": 2
}
