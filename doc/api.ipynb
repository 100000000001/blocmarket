{
 "cells": [
  {
   "cell_type": "code",
   "execution_count": 307,
   "metadata": {},
   "outputs": [],
   "source": [
    "import requests\n",
    "import json\n",
    "import pandas as pd\n",
    "import time\n",
    "\n",
    "# Running flask app from powershell\n",
    "# $env:FLASK_APP = \"api\"\n",
    "# $env:FLASK_ENV = \"development\"\n",
    "# flask run\n",
    "\n",
    "# Running from terminal on OSX\n",
    "# export FLASK_APP=api\n",
    "# export FLASK_ENV=development\n",
    "# flask run\n",
    "\n",
    "# Running with gunicorn (heroku, digitalocean, etc):\n",
    "# Procfile >\n",
    "# web: gunicorn wsgi --log-file -\n",
    "# wsgi.py >\n",
    "# from api import app as application\n",
    "#\n",
    "#if __name__ == \"__main__\":\n",
    "#    application.run()\n",
    "\n",
    "# https://devcenter.heroku.com/articles/getting-started-with-python\n",
    "# https://www.digitalocean.com/community/tutorials/how-to-serve-flask-applications-with-gunicorn-and-nginx-on-ubuntu-14-04"
   ]
  },
  {
   "cell_type": "code",
   "execution_count": null,
   "metadata": {},
   "outputs": [],
   "source": [
    "# Set up heroku database > \n",
    "# heroku addons:create heroku-postgresql:hobby-dev\n",
    "# Postgres db now up\n",
    "# Look at config vars (should have DATABASE_URL) >\n",
    "# heroku config\n",
    "# Connect to remote psql > \n",
    "# heroku pg:psql\n",
    "#\n"
   ]
  },
  {
   "cell_type": "code",
   "execution_count": 311,
   "metadata": {},
   "outputs": [],
   "source": [
    "\n",
    "baseurl = 'https://vast-depths-89393.herokuapp.com/'\n",
    "# baseurl = 'http://127.0.0.1:5000/'"
   ]
  },
  {
   "cell_type": "code",
   "execution_count": 312,
   "metadata": {},
   "outputs": [],
   "source": [
    "url = baseurl +'createUser'\n",
    "headers = {'content-type': 'application/json'}\n",
    "content = {}\n",
    "response = requests.post(url, data=json.dumps(content), headers=headers)"
   ]
  },
  {
   "cell_type": "code",
   "execution_count": 313,
   "metadata": {},
   "outputs": [
    {
     "data": {
      "text/plain": [
       "{'signingKey_hex': 'ee3dd7528e7ddfabfb404cc4888c3360a8918a755b08ca9699224794d626d033',\n",
       " 'traderId': '3',\n",
       " 'verifyKey_hex': '0c132fc17e4fe7980d471f0d3792bd18330fefde961104a43c93c39ef95af936'}"
      ]
     },
     "execution_count": 313,
     "metadata": {},
     "output_type": "execute_result"
    }
   ],
   "source": [
    "response.json()"
   ]
  },
  {
   "cell_type": "code",
   "execution_count": 314,
   "metadata": {},
   "outputs": [],
   "source": [
    "url = baseurl + 'createMarket'\n",
    "\n",
    "mkId = 1\n",
    "# copy from response\n",
    "sk = response.json()['signingKey_hex']\n",
    "vk = response.json()['verifyKey_hex']\n",
    "tId = response.json()['traderId']"
   ]
  },
  {
   "cell_type": "code",
   "execution_count": 315,
   "metadata": {},
   "outputs": [],
   "source": [
    "content_makemarket = {\"signingKey_hex\": sk,\n",
    "                    \"traderId\": tId, \n",
    "                    \"verifyKey_hex\": vk,\n",
    "                    \"marketRootId\": mkId, \n",
    "                    \"marketBranchId\": 1, \n",
    "                    \"marketMin\": 0,\n",
    "                    \"marketMax\":1}\n",
    "\n",
    "response = requests.post(url, data=json.dumps(content_makemarket), headers=headers)"
   ]
  },
  {
   "cell_type": "code",
   "execution_count": 316,
   "metadata": {},
   "outputs": [
    {
     "data": {
      "text/html": [
       "<div>\n",
       "<style scoped>\n",
       "    .dataframe tbody tr th:only-of-type {\n",
       "        vertical-align: middle;\n",
       "    }\n",
       "\n",
       "    .dataframe tbody tr th {\n",
       "        vertical-align: top;\n",
       "    }\n",
       "\n",
       "    .dataframe thead th {\n",
       "        text-align: right;\n",
       "    }\n",
       "</style>\n",
       "<table border=\"1\" class=\"dataframe\">\n",
       "  <thead>\n",
       "    <tr style=\"text-align: right;\">\n",
       "      <th></th>\n",
       "      <th>checks</th>\n",
       "      <th>marketBranchId</th>\n",
       "      <th>marketMax</th>\n",
       "      <th>marketMin</th>\n",
       "      <th>marketRootId</th>\n",
       "      <th>traderId</th>\n",
       "    </tr>\n",
       "  </thead>\n",
       "  <tbody>\n",
       "    <tr>\n",
       "      <th>0</th>\n",
       "      <td>True</td>\n",
       "      <td>1</td>\n",
       "      <td>1</td>\n",
       "      <td>0</td>\n",
       "      <td>1</td>\n",
       "      <td>3</td>\n",
       "    </tr>\n",
       "  </tbody>\n",
       "</table>\n",
       "</div>"
      ],
      "text/plain": [
       "  checks  marketBranchId  marketMax  marketMin  marketRootId traderId\n",
       "0   True               1          1          0             1        3"
      ]
     },
     "execution_count": 316,
     "metadata": {},
     "output_type": "execute_result"
    }
   ],
   "source": [
    "pd.DataFrame(response.json(), index=[0])\n"
   ]
  },
  {
   "cell_type": "code",
   "execution_count": 317,
   "metadata": {},
   "outputs": [],
   "source": [
    "# Create a trade\n",
    "url = baseurl+'createTrade'\n",
    "\n",
    "content_maketrade = {\"signingKey_hex\": sk, \"traderId\": tId, \"verifyKey_hex\": vk,\n",
    "  \"marketRootId\": mkId, \"marketBranchId\": 1, \"price\": 0.551, \"quantity\":1}"
   ]
  },
  {
   "cell_type": "code",
   "execution_count": 318,
   "metadata": {},
   "outputs": [],
   "source": [
    "# Post trade\n",
    "response = requests.post(url, data=json.dumps(content_maketrade), headers=headers)"
   ]
  },
  {
   "cell_type": "code",
   "execution_count": 319,
   "metadata": {},
   "outputs": [
    {
     "data": {
      "text/html": [
       "<div>\n",
       "<style scoped>\n",
       "    .dataframe tbody tr th:only-of-type {\n",
       "        vertical-align: middle;\n",
       "    }\n",
       "\n",
       "    .dataframe tbody tr th {\n",
       "        vertical-align: top;\n",
       "    }\n",
       "\n",
       "    .dataframe thead th {\n",
       "        text-align: right;\n",
       "    }\n",
       "</style>\n",
       "<table border=\"1\" class=\"dataframe\">\n",
       "  <thead>\n",
       "    <tr style=\"text-align: right;\">\n",
       "      <th></th>\n",
       "      <th>checks</th>\n",
       "      <th>marketBranchId</th>\n",
       "      <th>marketRootId</th>\n",
       "      <th>price</th>\n",
       "      <th>quantity</th>\n",
       "      <th>traderId</th>\n",
       "    </tr>\n",
       "  </thead>\n",
       "  <tbody>\n",
       "    <tr>\n",
       "      <th>0</th>\n",
       "      <td>(True, True)</td>\n",
       "      <td>1</td>\n",
       "      <td>1</td>\n",
       "      <td>0.551</td>\n",
       "      <td>1</td>\n",
       "      <td>3</td>\n",
       "    </tr>\n",
       "  </tbody>\n",
       "</table>\n",
       "</div>"
      ],
      "text/plain": [
       "         checks  marketBranchId  marketRootId  price  quantity traderId\n",
       "0  (True, True)               1             1  0.551         1        3"
      ]
     },
     "execution_count": 319,
     "metadata": {},
     "output_type": "execute_result"
    }
   ],
   "source": [
    "# View json response\n",
    "pd.DataFrame(response.json(), index=[0])"
   ]
  },
  {
   "cell_type": "code",
   "execution_count": null,
   "metadata": {},
   "outputs": [],
   "source": [
    "# Create a matched trade\n",
    "url = baseurl+'createTrade'\n",
    "content_maketrade['quantity'] = -1\n",
    "response = requests.post(url, data=json.dumps(content_maketrade), headers=headers)"
   ]
  },
  {
   "cell_type": "code",
   "execution_count": null,
   "metadata": {},
   "outputs": [],
   "source": [
    "response.json()"
   ]
  },
  {
   "cell_type": "code",
   "execution_count": null,
   "metadata": {},
   "outputs": [],
   "source": []
  },
  {
   "cell_type": "code",
   "execution_count": null,
   "metadata": {},
   "outputs": [],
   "source": [
    "# Create many matched trades\n",
    "url = baseurl+'createTrade'\n",
    "\n",
    "for i in range(10):\n",
    "    t = time.time()\n",
    "    content_maketrade['quantity'] = -1\n",
    "    response = requests.post(url, data=json.dumps(content_maketrade), headers=headers)\n",
    "    content_maketrade['quantity']=1\n",
    "    response = requests.post(url, data=json.dumps(content_maketrade), headers=headers)\n",
    "    print('matched trade: ' + str(i) + ' in ' + str(time.time() - t) + ' seconds.')\n"
   ]
  },
  {
   "cell_type": "code",
   "execution_count": null,
   "metadata": {},
   "outputs": [],
   "source": [
    "url = baseurl+'createMarket'\n",
    "\n",
    "for i in range(4):\n",
    "    t = time.time()\n",
    "\n",
    "    content_makemarket = {\"signingKey_hex\": sk,\n",
    "      \"traderId\": int(tId), \"verifyKey_hex\": vk,\n",
    "      \"marketRootId\": i+1, \"marketBranchId\": 1, \"marketMin\": 0, \"marketMax\":0.7}\n",
    "\n",
    "    response = requests.post(url, data=json.dumps(content_makemarket), headers=headers)\n",
    "    if response.json()['checks'] == 'True':\n",
    "        print('market created: ' + str(i+1) + ' in ' + str(time.time() - t) + ' seconds.')\n",
    "    else:\n",
    "        print('failed to create market ' +str(i+1))\n",
    "    "
   ]
  },
  {
   "cell_type": "code",
   "execution_count": null,
   "metadata": {},
   "outputs": [],
   "source": [
    "response.json()"
   ]
  },
  {
   "cell_type": "code",
   "execution_count": null,
   "metadata": {},
   "outputs": [],
   "source": [
    "url = baseurl+'viewMarketBounds'\n",
    "content = {}\n",
    "response = requests.post(url, data=json.dumps(content), headers=headers)\n",
    "\n"
   ]
  },
  {
   "cell_type": "code",
   "execution_count": null,
   "metadata": {},
   "outputs": [],
   "source": [
    "a = pd.read_json(response.json())\n",
    "a"
   ]
  },
  {
   "cell_type": "code",
   "execution_count": null,
   "metadata": {},
   "outputs": [],
   "source": [
    "url = baseurl+'viewOrderBook'\n",
    "content = {}\n",
    "response = requests.post(url, data=json.dumps(content), headers=headers)"
   ]
  },
  {
   "cell_type": "code",
   "execution_count": null,
   "metadata": {},
   "outputs": [],
   "source": [
    "a = pd.read_json(response.json())\n",
    "a"
   ]
  },
  {
   "cell_type": "code",
   "execution_count": null,
   "metadata": {},
   "outputs": [],
   "source": [
    "# Create many matched trades\n",
    "url = baseurl+'createTrade'\n",
    "\n",
    "for i in range(10):\n",
    "    t = time.time()\n",
    "    content_maketrade['quantity'] = 1\n",
    "    content_maketrade['price'] = 0.44\n",
    "    response = requests.post(url, data=json.dumps(content_maketrade), headers=headers)\n",
    "    print('matched trade: ' + str(i) + ' in ' + str(time.time() - t) + ' seconds.')\n"
   ]
  },
  {
   "cell_type": "code",
   "execution_count": null,
   "metadata": {},
   "outputs": [],
   "source": []
  },
  {
   "cell_type": "code",
   "execution_count": null,
   "metadata": {},
   "outputs": [],
   "source": [
    "url = baseurl+'viewOpenTrades'\n",
    "\n",
    "content = {}\n",
    "response = requests.post(url, data=json.dumps(content), headers=headers)"
   ]
  },
  {
   "cell_type": "code",
   "execution_count": null,
   "metadata": {},
   "outputs": [],
   "source": [
    "pd.read_json(response.json())"
   ]
  },
  {
   "cell_type": "code",
   "execution_count": null,
   "metadata": {},
   "outputs": [],
   "source": []
  },
  {
   "cell_type": "code",
   "execution_count": null,
   "metadata": {},
   "outputs": [],
   "source": [
    "url = baseurl+'viewMatchedTrades'\n",
    "content = {}\n",
    "response = requests.post(url, data=json.dumps(content), headers=headers)"
   ]
  },
  {
   "cell_type": "code",
   "execution_count": null,
   "metadata": {},
   "outputs": [],
   "source": [
    "pd.read_json(response.json())"
   ]
  },
  {
   "cell_type": "code",
   "execution_count": null,
   "metadata": {},
   "outputs": [],
   "source": []
  },
  {
   "cell_type": "code",
   "execution_count": null,
   "metadata": {},
   "outputs": [],
   "source": [
    "tId"
   ]
  },
  {
   "cell_type": "code",
   "execution_count": null,
   "metadata": {},
   "outputs": [],
   "source": []
  },
  {
   "cell_type": "code",
   "execution_count": null,
   "metadata": {},
   "outputs": [],
   "source": []
  }
 ],
 "metadata": {
  "kernelspec": {
   "display_name": "Python 3",
   "language": "python",
   "name": "python3"
  },
  "language_info": {
   "codemirror_mode": {
    "name": "ipython",
    "version": 3
   },
   "file_extension": ".py",
   "mimetype": "text/x-python",
   "name": "python",
   "nbconvert_exporter": "python",
   "pygments_lexer": "ipython3",
   "version": "3.7.0"
  }
 },
 "nbformat": 4,
 "nbformat_minor": 2
}
