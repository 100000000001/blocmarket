{
 "cells": [
  {
   "cell_type": "code",
   "execution_count": 1,
   "metadata": {},
   "outputs": [],
   "source": [
    "import numpy as np\n"
   ]
  },
  {
   "cell_type": "code",
   "execution_count": 55,
   "metadata": {},
   "outputs": [],
   "source": [
    "# ind2vec\n",
    "def ind2vec(ind, N=None):\n",
    "    ind = np.asarray(ind)\n",
    "    if N is None: \n",
    "        N = ind.max() + 1\n",
    "    return (np.arange(N) == ind[:,None]).astype(int)"
   ]
  },
  {
   "cell_type": "code",
   "execution_count": 350,
   "metadata": {},
   "outputs": [],
   "source": [
    "\n",
    "def checkCollateral(p_, q_, mInd_, tInd_, p, q, mInd, tInd, iMatched, M):\n",
    "    # p_, q_, mInd_, tInd_ - New trade\n",
    "    # p, q, mInd, tInd - Existing trades\n",
    "    # M - Market state payoffs \n",
    "    # mInd - Indicator for matched trades\n",
    "    \n",
    "    C, N = M.shape\n",
    "    \n",
    "    # Derived\n",
    "    iTrader = tInd == tInd_\n",
    "    iUnmatched = np.logical_not(iMatched)\n",
    "    iOwnMatched = np.logical_and(iTrader, iMatched) \n",
    "    iOwnUnmatched = np.logical_and(iTrader, iUnmatched) \n",
    "\n",
    "    T = len(p)+1\n",
    "    D = tInd.max()\n",
    "    Q = np.tile(q, (D,1)).transpose()\n",
    "    IM = ind2vec(mInd-1).transpose()\n",
    "    IQ = ind2vec(tInd-1)\n",
    "    Qstar = np.multiply(Q,IQ)\n",
    "    Pstar = np.tile(p, (C,1))\n",
    "    Mstar = np.matmul(M, IM)\n",
    "\n",
    "    # Matched and unmatched collateral\n",
    "    NC_matched = np.matmul((Mstar[:, iOwnMatched] - Pstar[:, iOwnMatched]), Qstar[iOwnMatched,:])\n",
    "    NC_unmatched = np.matmul((Mstar[:, iOwnUnmatched] - Pstar[:, iOwnUnmatched]), Qstar[iOwnUnmatched,:])\n",
    "    # Collateral check\n",
    "    colChk = np.all(NC_matched + np.min(NC_unmatched, axis=0) + 2 >= 0)\n",
    "    return colChk"
   ]
  },
  {
   "cell_type": "code",
   "execution_count": null,
   "metadata": {},
   "outputs": [],
   "source": []
  },
  {
   "cell_type": "code",
   "execution_count": 351,
   "metadata": {},
   "outputs": [],
   "source": [
    "# Inputs\n",
    "M = np.matrix([[0, 1], [1, 0],[0,0], [1, 1]])\n",
    "C, N = M.shape\n",
    "p = np.array([0.5, 0.4, 0.9])\n",
    "q = np.array([1, 2, -1])\n",
    "mInd = np.array([1,2,2])\n",
    "tInd = np.array([1, 1, 2])\n",
    "# Indicators\n",
    "iMatched = np.array([True, True, True])\n"
   ]
  },
  {
   "cell_type": "code",
   "execution_count": 354,
   "metadata": {},
   "outputs": [
    {
     "data": {
      "text/plain": [
       "True"
      ]
     },
     "execution_count": 354,
     "metadata": {},
     "output_type": "execute_result"
    }
   ],
   "source": [
    "checkCollateral(p_, 100, mInd_, tInd_, p, q, mInd, tInd, iMatched, M)"
   ]
  },
  {
   "cell_type": "code",
   "execution_count": 341,
   "metadata": {},
   "outputs": [
    {
     "data": {
      "text/plain": [
       "array([False, False, False])"
      ]
     },
     "execution_count": 341,
     "metadata": {},
     "output_type": "execute_result"
    }
   ],
   "source": [
    "iMatched"
   ]
  },
  {
   "cell_type": "code",
   "execution_count": 309,
   "metadata": {},
   "outputs": [],
   "source": [
    "sigChk = True\n",
    "\n",
    "if sigChk:\n",
    "    colChk = checkCollateral(p_, q_, mInd_, tInd_, iMatched, M)\n",
    "    if colChk:\n",
    "        p = np.append(p, p_)\n",
    "        q = np.append(q, q_)\n",
    "        mInd = np.append(mInd, mInd_)\n",
    "        tInd = np.append(tInd, tInd_)\n",
    "        # Find a match\n",
    "        matchInd = np.where(np.logical_and(p[iUnmatched] == p_, (q[iUnmatched] == -q_)))\n",
    "        if matchInd:\n",
    "            iMatched[matchInd] = True\n",
    "            iMatched =  np.append(iMatched, True)\n",
    "        else:\n",
    "            iMatched =  np.append(iMatched, False)\n",
    "        \n"
   ]
  },
  {
   "cell_type": "code",
   "execution_count": 322,
   "metadata": {},
   "outputs": [
    {
     "data": {
      "text/plain": [
       "array([False, False, False,  True])"
      ]
     },
     "execution_count": 322,
     "metadata": {},
     "output_type": "execute_result"
    }
   ],
   "source": []
  },
  {
   "cell_type": "code",
   "execution_count": 314,
   "metadata": {},
   "outputs": [
    {
     "data": {
      "text/plain": [
       "array([1])"
      ]
     },
     "execution_count": 314,
     "metadata": {},
     "output_type": "execute_result"
    }
   ],
   "source": [
    "mInd[matchInd]"
   ]
  },
  {
   "cell_type": "code",
   "execution_count": 231,
   "metadata": {},
   "outputs": [
    {
     "data": {
      "text/plain": [
       "array([False,  True, False])"
      ]
     },
     "execution_count": 231,
     "metadata": {},
     "output_type": "execute_result"
    }
   ],
   "source": [
    "(p[iUnmatched] == p_) "
   ]
  },
  {
   "cell_type": "code",
   "execution_count": null,
   "metadata": {},
   "outputs": [],
   "source": []
  }
 ],
 "metadata": {
  "kernelspec": {
   "display_name": "Python 3",
   "language": "python",
   "name": "python3"
  },
  "language_info": {
   "codemirror_mode": {
    "name": "ipython",
    "version": 3
   },
   "file_extension": ".py",
   "mimetype": "text/x-python",
   "name": "python",
   "nbconvert_exporter": "python",
   "pygments_lexer": "ipython3",
   "version": "3.7.1"
  }
 },
 "nbformat": 4,
 "nbformat_minor": 2
}
