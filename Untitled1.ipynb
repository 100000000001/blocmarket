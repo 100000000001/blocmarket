{
 "cells": [
  {
   "cell_type": "code",
   "execution_count": 1,
   "metadata": {
    "collapsed": false
   },
   "outputs": [
    {
     "data": {
      "text/plain": [
       "'C:\\\\Users\\\\Joe\\\\PycharmProjects\\\\pmarket'"
      ]
     },
     "execution_count": 1,
     "metadata": {},
     "output_type": "execute_result"
    }
   ],
   "source": [
    "pwd"
   ]
  },
  {
   "cell_type": "code",
   "execution_count": 2,
   "metadata": {
    "collapsed": false
   },
   "outputs": [
    {
     "name": "stdout",
     "output_type": "stream",
     "text": [
      " Volume in drive C is OS\n",
      " Volume Serial Number is 3EA9-7702\n",
      "\n",
      " Directory of C:\\Users\\Joe\\PycharmProjects\\pmarket\n",
      "\n",
      "08/19/2018  09:27 AM    <DIR>          .\n",
      "08/19/2018  09:27 AM    <DIR>          ..\n",
      "06/29/2018  08:29 PM             5,053 .2018-01-07-200352.ipynb.sage-jupyter2\n",
      "06/29/2018  08:29 PM               977 .2018-01-10-130023.ipynb.sage-jupyter2\n",
      "06/29/2018  08:29 PM            22,310 .2018-01-21-175911.ipynb.sage-jupyter2\n",
      "06/29/2018  08:29 PM                 0 .2018-01-21-180229.term.sage-chat\n",
      "06/29/2018  08:29 PM            24,378 .2018-01-23-201604.ipynb.sage-jupyter2\n",
      "06/29/2018  08:29 PM             6,529 .2018-01-23-202333.ipynb.sage-jupyter2\n",
      "06/29/2018  08:29 PM            26,881 .Arctic.ipynb.sage-jupyter2\n",
      "08/19/2018  09:25 AM    <DIR>          .idea\n",
      "08/19/2018  09:27 AM    <DIR>          .ipynb_checkpoints\n",
      "06/29/2018  08:29 PM            18,915 .MarketObject.ipynb.sage-jupyter2\n",
      "06/29/2018  08:29 PM             8,255 .sql_examples.ipynb.sage-jupyter2\n",
      "08/01/2018  04:34 PM    <DIR>          __pycache__\n",
      "06/29/2018  08:29 PM                36 2018-01-27-181415.term\n",
      "06/29/2018  08:29 PM                36 2018-02-01-134834.term\n",
      "06/29/2018  08:29 PM                36 2018-03-03-170936.term\n",
      "06/29/2018  08:29 PM                36 2018-03-11-115346.term\n",
      "06/29/2018  08:29 PM                36 2018-03-24-202109.term\n",
      "06/29/2018  08:29 PM                36 2018-03-26-070905.term\n",
      "06/29/2018  08:29 PM                36 2018-04-07-160511.term\n",
      "06/29/2018  08:29 PM            41,121 Arctic.ipynb\n",
      "06/03/2018  04:56 PM               716 bob.py\n",
      "06/29/2018  08:29 PM         5,867,567 genome_Joe_Churchill_v5_Full_20180222182607.zip\n",
      "06/29/2018  08:29 PM    <DIR>          img\n",
      "12/10/2016  07:09 PM             3,072 joindemo.db\n",
      "08/04/2018  06:13 PM            10,838 MarketClient.py\n",
      "07/01/2018  06:50 PM            24,428 MarketObject.ipynb\n",
      "12/25/2016  09:50 AM            26,243 MarketObject.py\n",
      "08/19/2018  09:25 AM            49,998 MarketServer.py\n",
      "06/29/2018  08:29 PM    <DIR>          matlab\n",
      "06/29/2018  08:29 PM    <DIR>          pictures\n",
      "07/27/2018  07:01 AM         1,391,616 pmarket.db\n",
      "08/18/2018  04:24 PM            39,936 pmarket3.db\n",
      "10/14/2017  06:43 PM               775 pynacltests.py\n",
      "06/29/2018  08:29 PM    <DIR>          python\n",
      "12/24/2016  10:41 PM             2,048 scratch.db\n",
      "12/10/2016  07:09 PM             2,319 scratch.py\n",
      "01/15/2017  06:09 PM             2,898 scratch2.py\n",
      "06/29/2018  08:29 PM            12,743 sql_examples.ipynb\n",
      "12/24/2016  02:54 PM             2,411 sqltest2.py\n",
      "06/03/2018  10:15 AM             2,048 test.db\n",
      "12/10/2016  11:58 PM             1,603 test.py\n",
      "06/02/2018  01:08 PM             1,990 test_MarketClient.py\n",
      "07/29/2018  01:34 AM            10,539 test_MarketServer.py\n",
      "12/10/2016  10:30 PM             2,048 thing.db\n",
      "12/10/2016  05:24 PM             1,988 tricks\n",
      "06/02/2018  12:39 PM                 0 untitled\n",
      "06/03/2018  04:28 PM             6,030 Untitled.ipynb\n",
      "08/19/2018  09:27 AM                72 Untitled1.ipynb\n",
      "              41 File(s)      7,618,597 bytes\n",
      "               9 Dir(s)               0 bytes free\n"
     ]
    }
   ],
   "source": [
    "ls"
   ]
  },
  {
   "cell_type": "code",
   "execution_count": 4,
   "metadata": {
    "collapsed": false
   },
   "outputs": [],
   "source": [
    "import MarketServer as MarketServer"
   ]
  },
  {
   "cell_type": "code",
   "execution_count": 5,
   "metadata": {
    "collapsed": true
   },
   "outputs": [],
   "source": [
    "MS = MarketServer.MarketServer"
   ]
  },
  {
   "cell_type": "code",
   "execution_count": 6,
   "metadata": {
    "collapsed": false
   },
   "outputs": [
    {
     "data": {
      "text/plain": [
       "MarketServer.MarketServer"
      ]
     },
     "execution_count": 6,
     "metadata": {},
     "output_type": "execute_result"
    }
   ],
   "source": [
    "MS"
   ]
  },
  {
   "cell_type": "code",
   "execution_count": null,
   "metadata": {
    "collapsed": true
   },
   "outputs": [],
   "source": [
    "MS.create"
   ]
  }
 ],
 "metadata": {
  "kernelspec": {
   "display_name": "Python 3",
   "language": "python",
   "name": "python3"
  },
  "language_info": {
   "codemirror_mode": {
    "name": "ipython",
    "version": 3
   },
   "file_extension": ".py",
   "mimetype": "text/x-python",
   "name": "python",
   "nbconvert_exporter": "python",
   "pygments_lexer": "ipython3",
   "version": "3.6.0"
  }
 },
 "nbformat": 4,
 "nbformat_minor": 2
}
