{
 "cells": [
  {
   "cell_type": "code",
   "execution_count": 1,
   "metadata": {
    "collapsed": false
   },
   "outputs": [
    {
     "ename": "NameError",
     "evalue": "name 'pwd' is not defined",
     "output_type": "error",
     "traceback": [
      "\u001b[0;31m---------------------------------------------------------------------------\u001b[0m",
      "\u001b[0;31mNameError\u001b[0m                                 Traceback (most recent call last)",
      "\u001b[0;32m<ipython-input-1-b07673da094c>\u001b[0m in \u001b[0;36m<module>\u001b[0;34m()\u001b[0m\n\u001b[0;32m----> 1\u001b[0;31m \u001b[0mpwd\u001b[0m\u001b[1;33m\u001b[0m\u001b[0m\n\u001b[0m\u001b[1;32m      2\u001b[0m \u001b[1;33m\u001b[0m\u001b[0m\n",
      "\u001b[0;31mNameError\u001b[0m: name 'pwd' is not defined"
     ]
    }
   ],
   "source": [
    "pwd\n",
    "\n"
   ]
  },
  {
   "cell_type": "code",
   "execution_count": 2,
   "metadata": {
    "collapsed": false
   },
   "outputs": [
    {
     "name": "stdout",
     "output_type": "stream",
     "text": [
      " Volume in drive C is OS\n",
      " Volume Serial Number is 3EA9-7702\n",
      "\n",
      " Directory of C:\\Users\\Joe\\PycharmProjects\\pmarket\n",
      "\n",
      "06/02/2018  12:40 PM    <DIR>          .\n",
      "06/02/2018  12:40 PM    <DIR>          ..\n",
      "06/02/2018  12:38 PM    <DIR>          .idea\n",
      "06/02/2018  12:40 PM    <DIR>          .ipynb_checkpoints\n",
      "12/10/2016  07:09 PM             3,072 joindemo.db\n",
      "05/27/2018  07:01 PM             7,601 MarketClient.py\n",
      "12/25/2016  09:50 AM            26,243 MarketObject.py\n",
      "04/28/2018  08:23 PM            36,329 MarketObjectSQL.py\n",
      "05/27/2018  08:00 PM            24,839 MarketServer.py\n",
      "11/06/2017  07:42 AM             8,192 pmarket.db\n",
      "05/20/2018  06:47 AM            10,240 pmarket_new.db\n",
      "10/14/2017  06:43 PM               775 pynacltests.py\n",
      "05/20/2018  06:30 AM    <DIR>          python\n",
      "12/24/2016  10:41 PM             2,048 scratch.db\n",
      "12/10/2016  07:09 PM             2,319 scratch.py\n",
      "01/15/2017  06:09 PM             2,898 scratch2.py\n",
      "12/24/2016  02:54 PM             2,411 sqltest2.py\n",
      "12/10/2016  11:58 PM             1,603 test.py\n",
      "11/06/2017  07:32 AM            14,988 test_marketObjectSQL.py\n",
      "12/10/2016  10:30 PM             2,048 thing.db\n",
      "12/10/2016  05:24 PM             1,988 tricks\n",
      "06/02/2018  12:39 PM                 0 untitled\n",
      "06/02/2018  12:40 PM                72 Untitled.ipynb\n",
      "              18 File(s)        147,666 bytes\n",
      "               5 Dir(s)  12,119,965,696 bytes free\n"
     ]
    }
   ],
   "source": [
    "ls"
   ]
  },
  {
   "cell_type": "code",
   "execution_count": 8,
   "metadata": {
    "collapsed": false
   },
   "outputs": [],
   "source": [
    "from MarketClient import MarketClient \n"
   ]
  },
  {
   "cell_type": "code",
   "execution_count": 9,
   "metadata": {
    "collapsed": false
   },
   "outputs": [],
   "source": [
    "mc = MarketClient()\n",
    "\n"
   ]
  },
  {
   "cell_type": "markdown",
   "metadata": {},
   "source": [
    "mc"
   ]
  },
  {
   "cell_type": "code",
   "execution_count": 14,
   "metadata": {
    "collapsed": false
   },
   "outputs": [],
   "source": [
    "from sqlalchemy import *\n",
    "from sqlalchemy.orm import mapper, sessionmaker\n",
    "import os\n",
    "import pandas as pd"
   ]
  },
  {
   "cell_type": "code",
   "execution_count": 19,
   "metadata": {
    "collapsed": false
   },
   "outputs": [
    {
     "data": {
      "text/plain": [
       "b'\\xce;\\x07\\xb6j\\xb3\\xe43Z\\xd8'"
      ]
     },
     "execution_count": 19,
     "metadata": {},
     "output_type": "execute_result"
    }
   ],
   "source": [
    "blob = os.urandom(10)\n",
    "blob"
   ]
  },
  {
   "cell_type": "code",
   "execution_count": 20,
   "metadata": {
    "collapsed": false
   },
   "outputs": [],
   "source": [
    "tmpRow = {'id':12, 'lob': blob, 'law': 'law'}"
   ]
  },
  {
   "cell_type": "code",
   "execution_count": 21,
   "metadata": {
    "collapsed": false
   },
   "outputs": [
    {
     "data": {
      "text/plain": [
       "{'id': 12, 'law': 'law', 'lob': b'\\xce;\\x07\\xb6j\\xb3\\xe43Z\\xd8'}"
      ]
     },
     "execution_count": 21,
     "metadata": {},
     "output_type": "execute_result"
    }
   ],
   "source": [
    "tmpRow"
   ]
  },
  {
   "cell_type": "code",
   "execution_count": 23,
   "metadata": {
    "collapsed": false
   },
   "outputs": [],
   "source": [
    "t = pd.DataFrame(tmpRow, index=[0])"
   ]
  },
  {
   "cell_type": "code",
   "execution_count": 27,
   "metadata": {
    "collapsed": false
   },
   "outputs": [
    {
     "data": {
      "text/plain": [
       "{'id': 12, 'law': 'law', 'lob': b'\\xce;\\x07\\xb6j\\xb3\\xe43Z\\xd8'}"
      ]
     },
     "execution_count": 27,
     "metadata": {},
     "output_type": "execute_result"
    }
   ],
   "source": [
    "t.loc[0].to_dict() "
   ]
  },
  {
   "cell_type": "code",
   "execution_count": 28,
   "metadata": {
    "collapsed": false
   },
   "outputs": [
    {
     "data": {
      "text/plain": [
       "True"
      ]
     },
     "execution_count": 28,
     "metadata": {},
     "output_type": "execute_result"
    }
   ],
   "source": [
    "t.loc[0].to_dict() == tmpRow"
   ]
  },
  {
   "cell_type": "code",
   "execution_count": null,
   "metadata": {
    "collapsed": true
   },
   "outputs": [],
   "source": []
  }
 ],
 "metadata": {
  "kernelspec": {
   "display_name": "Python 3",
   "language": "python",
   "name": "python3"
  },
  "language_info": {
   "codemirror_mode": {
    "name": "ipython",
    "version": 3
   },
   "file_extension": ".py",
   "mimetype": "text/x-python",
   "name": "python",
   "nbconvert_exporter": "python",
   "pygments_lexer": "ipython3",
   "version": "3.6.0"
  }
 },
 "nbformat": 4,
 "nbformat_minor": 2
}
