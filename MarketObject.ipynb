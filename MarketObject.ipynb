{
 "cells": [
  {
   "cell_type": "markdown",
   "metadata": {
    "collapsed": false
   },
   "source": [
    "# Protocol for a distributed synthetic market\n",
    "\n",
    "A market is a venue for trading basic bounded forward contracts (linear between two bounds). Trades are signed to verify ownership and accepted by market if they satisfy a collateral check over all possible market outcomes. Individual nodes can also conduct collateral checks of their own and only trade against valid  trades.\n",
    "\n",
    "This market can be used to create Arrow-Debreu securities and so can span any contingent claim. \n",
    "\n",
    "## Data structures\n",
    "\n",
    "### A market\n",
    "\n",
    "A **market** is defined by:\n",
    "\n",
    "- 'marketRootId': (integer) market id\n",
    "- 'marketBranchId': (integer) sub-markets >1 (sub-markets bounded by super-markets)\n",
    "- 'marketMin' - (float) minimum possible outcome\n",
    "- 'marketMax' - (float) maximum possible outcocme\n",
    "- 'traderId' - (integer) market owner trader ID\n",
    "- 'signatureMsg' - (string) message for signature\n",
    "- 'signature' - (binary) signed message\n",
    "\n",
    "E.g.\n",
    "\n",
    "Market with (root = 3, branch = 1); market bounded between (0, 1); owned by trader 1 and signed.\n",
    "\n",
    "~~~~\n",
    "\n",
    "testMarket = struct('marketRootId', 3, 'marketBranchId', 1,...\n",
    "                                'marketMin', 0, 'marketMax', 1,...\n",
    "                                'traderId', 1, 'signatureMsg','sigmsg1',...\n",
    "                                'signature', 'sig1')\n",
    "\n",
    "~~~~\n",
    "\n",
    "- Sub markets have marketMin/marketMax bounded by superMarkets.\n",
    "- Any amount of valid markets with the same root/branch can be added and the market will take the highest minimum and the lowest maximum.\n",
    "\n",
    "\n",
    "### An order\n",
    "\n",
    "An **order** in a market is defined by:\n",
    "\n",
    " - 'tradeRootId': (integer) trade root id\n",
    " - 'tradeBranchId': (integer) subtrades (dependent trades such as offsets and partials)\n",
    " - 'isMatched': (boolean) is trade matched (adding an unmatched trade requries adding an offsetting trade and adding an equal sized matched trade from cache)\n",
    " - 'price':  (float) price of trade \n",
    " - 'quantity':  (float) quanitity of trade (positive quantity for bids, negative for offers) \n",
    " - 'marketRootId' : (integer) market id\n",
    " - 'marketBranchId': (integer) sub-markets > 1 (sub-markets bounded by super-markets)\n",
    " - 'traderId':  (integer) trade owner trader ID\n",
    " - 'tradeType': (integer) Primary = 1, pArtial = 1, Offset = 3, Reduction = 4\n",
    " - 'signatureMsg' - (string) message for signature\n",
    " - 'signature' - (binary) signed message\n",
    "\n",
    "E.g. \n",
    "\n",
    "Unmatched primary trade (price = 0.5, quantity = 10) on market (root = 1, branch = 1)\n",
    "\n",
    "~~~~\n",
    "\n",
    "testTrade = struct('traderId', 1, 'tradeRootId', 1, 'tradeBranchId', 1,...\n",
    "                'isMatched', 0, 'price', 0.5,...\n",
    "                'quantity', 10, 'marketRootId', 3,...\n",
    "                'marketBranchId', 1,'signatureMsg',...\n",
    "                'tradeType, 1,'sigMsg', 'signature', 'sig');\n",
    "\n",
    "~~~~\n",
    "\n",
    "\n",
    "[Dictionary trade example]\n",
    "\n",
    "Trades can be added to the order book but not removed or changed except for the 'tradeType' field which determines if the trade should be considered in collateral calculations.\n",
    "\n",
    "#### Geometry of an order\n",
    "\n",
    "Since orders can only be added to the order book and not subtracted, creating a matched order requires an offset of the unmatched order and a new matched order of equal size.\n",
    "\n",
    "Consider an order '(p=0.5, q=0.5)'. For the trade to successfully be matched it requires at minimum:\n",
    "\n",
    "- Primary trade (p=0.5, q=10, isMatched = 0) \n",
    "- Offset trade (p=0.5, q=-10, isMatched = 0)\n",
    "- Primary match (p=0.5, q=10, isMatchced = 1)\n",
    "\n",
    "Optionally, the trade an also include a reduction trade for the market to use to kill an existing order to make way for a new order. These don't need offsets.\n",
    "\n",
    "- Reduction trade (p=0.5, q=10*-0.1=-1, isMatched=1)\n",
    "\n",
    "Geometrically, this set of trades can be represented in (p,q) space:\n",
    "\n",
    "[4 trade geometry picture - from market draw method]\n",
    "\n",
    "In practice it would be sensible to have a set of possible partial fills (lower quantity and weakly better price). Each partial trade only requires a matched version since it would only be used during trade matching and would not exist as an open order.\n",
    "\n",
    "[Geometry of single trade with partial fill region]\n",
    "\n",
    "Any non-primary trade that is picked up for a match is set as primary by the system so it can be picked up in future collateral calculations (this is the only changable field in the order book).\n",
    "\n",
    "\n",
    "#### Geometry of signature chain \n",
    "\n",
    "Each trade is chained to a previous trade according to some rule. The order book will require a valid signature (valid signature for message and valid previous node) and a collateral check but is otherwise agnostic about orders. Primary and partial orders are signed off the previous valid order (PVO), while offset and reductions enter the order book as matched (but not primary).\n",
    "\n",
    "[Pictures: \n",
    "Previous valid -> Primary -> Primary offset cone -> Primary matched rectangle\n",
    "Previous valid -> Partial -> Partial offset cone -> Matched rectangle\n",
    "]\n",
    "\n",
    "## Methods\n",
    "\n",
    "\n",
    "[methods]\n"
   ]
  },
  {
   "cell_type": "code",
   "execution_count": 6,
   "metadata": {
    "collapsed": false
   },
   "outputs": [
    {
     "data": {
      "text/plain": [
       "3"
      ]
     },
     "execution_count": 6,
     "metadata": {
     },
     "output_type": "execute_result"
    }
   ],
   "source": [
    "1+2"
   ]
  },
  {
   "cell_type": "code",
   "execution_count": 7,
   "metadata": {
    "collapsed": false
   },
   "outputs": [
    {
     "data": {
      "text/plain": [
       "'/home/user/pmarket'"
      ]
     },
     "execution_count": 7,
     "metadata": {
     },
     "output_type": "execute_result"
    }
   ],
   "source": [
    "%pwd    "
   ]
  },
  {
   "cell_type": "code",
   "execution_count": 0,
   "metadata": {
    "collapsed": false
   },
   "outputs": [
   ],
   "source": [
   ]
  },
  {
   "cell_type": "code",
   "execution_count": 0,
   "metadata": {
    "collapsed": false
   },
   "outputs": [
   ],
   "source": [
   ]
  },
  {
   "cell_type": "code",
   "execution_count": 3,
   "metadata": {
    "collapsed": false
   },
   "outputs": [
   ],
   "source": [
    "str = 'added line from cocalc'"
   ]
  },
  {
   "cell_type": "code",
   "execution_count": 4,
   "metadata": {
    "collapsed": false
   },
   "outputs": [
    {
     "data": {
      "text/plain": [
       "3"
      ]
     },
     "execution_count": 4,
     "metadata": {
     },
     "output_type": "execute_result"
    }
   ],
   "source": [
    "1+2"
   ]
  },
  {
   "cell_type": "code",
   "execution_count": 0,
   "metadata": {
    "collapsed": false
   },
   "outputs": [
   ],
   "source": [
   ]
  },
  {
   "cell_type": "code",
   "execution_count": 0,
   "metadata": {
    "collapsed": false
   },
   "outputs": [
   ],
   "source": [
   ]
  }
 ],
 "metadata": {
  "kernelspec": {
   "display_name": "Python 3 (Ubuntu Linux)",
   "language": "python",
   "name": "python3"
  },
  "language_info": {
   "codemirror_mode": {
    "name": "ipython",
    "version": 3
   },
   "file_extension": ".py",
   "mimetype": "text/x-python",
   "name": "python",
   "nbconvert_exporter": "python",
   "pygments_lexer": "ipython3",
   "version": "3.5.2"
  }
 },
 "nbformat": 4,
 "nbformat_minor": 0
}