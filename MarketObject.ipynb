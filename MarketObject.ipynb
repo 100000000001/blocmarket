{
 "cells": [
  {
   "cell_type": "markdown",
   "metadata": {
    "collapsed": false
   },
   "source": [
    "# Protocol for a distributed synthetic market\n",
    "\n",
    "This is a protocol for matching **state contingent contracts** linear between an upper and lower bound and at a particular expiry.\n",
    "\n",
    "<img src=\"img/BFC.png\"  width=500>\n",
    "\n",
    "These contracts can be combined to construct standard forward and option contracts or event markets (payoffs depending on a discrete). \n",
    "\n",
    "<img src=\"img/StackedBFC.png\" width=500>\n",
    "\n",
    "The protocol uses a chain of signatures to verify orders. Orders are accepted by the market if they have a valid signature and the trader's positions satisfiy a collateral check across all possible worst outcomes.\n",
    "\n",
    "Markets are settled by the market owner adding a new upper and lower bound for a market equal to a single number. For example, the lower bound for each market is the highest lower bound for itself of any sub-market or any previous.\n",
    "\n",
    "[figure]\n",
    "\n",
    "\n",
    "## Data structures\n",
    "\n",
    "### A market\n",
    "\n",
    "A **market** is defined by:\n",
    "\n",
    "- 'marketRootId': (integer) market id\n",
    "- 'marketBranchId': (integer) sub-markets >1 (sub-markets bounded by super-markets)\n",
    "- 'marketMin' - (float) minimum possible outcome\n",
    "- 'marketMax' - (float) maximum possible outcome\n",
    "- 'traderId' - (integer) market owner trader ID\n",
    "- 'signatureMsg' - (string) message for signature\n",
    "- 'signature' - (binary) signed message\n",
    "\n",
    "E.g.\n",
    "\n",
    "Market with (root = 3, branch = 1); market bounded between (0, 1); owned by trader 1 and signed.\n",
    "\n",
    "~~~~\n",
    "\n",
    "testMarket = struct('marketRootId', 3, 'marketBranchId', 1,...\n",
    "                                'marketMin', 0, 'marketMax', 1,...\n",
    "                                'traderId', 1, 'signatureMsg','sigmsg1',...\n",
    "                                'signature', 'sig1')\n",
    "\n",
    "~~~~\n",
    "\n",
    "- Sub markets have marketMin/marketMax bounded by superMarkets.\n",
    "- Any amount of valid markets with the same root/branch can be added and the market will take the highest minimum and the lowest maximum.\n",
    "\n",
    "\n",
    "### An order\n",
    "\n",
    "An **order** in a market is defined by:\n",
    "\n",
    " - 'tradeRootId': (integer) trade root id\n",
    " - 'tradeBranchId': (integer) subtrades (dependent trades such as offsets and partials)\n",
    " - 'isMatched': (boolean) is trade matched (adding an unmatched trade requries adding an offsetting trade and adding an equal sized matched trade from cache)\n",
    " - 'price':  (float) price of trade \n",
    " - 'quantity':  (float) quanitity of trade (positive quantity for bids, negative for offers) \n",
    " - 'marketRootId' : (integer) market id\n",
    " - 'marketBranchId': (integer) sub-markets > 1 (sub-markets bounded by super-markets)\n",
    " - 'traderId':  (integer) trade owner trader ID\n",
    " - 'tradeType': (integer) Primary = 1, pArtial = 1, Offset = 3, Reduction = 4\n",
    " - 'signatureMsg' - (string) message for signature\n",
    " - 'signature' - (binary) signed message\n",
    "\n",
    "E.g. \n",
    "\n",
    "Unmatched primary trade (price = 0.5, quantity = 10) on market (root = 1, branch = 1)\n",
    "\n",
    "~~~~\n",
    "\n",
    "testTrade = struct('traderId', 1, 'tradeRootId', 1, 'tradeBranchId', 1,...\n",
    "                'isMatched', 0, 'price', 0.5,...\n",
    "                'quantity', 10, 'marketRootId', 3,...\n",
    "                'marketBranchId', 1,'signatureMsg',...\n",
    "                'tradeType, 1,'sigMsg', 'signature', 'sig');\n",
    "\n",
    "~~~~\n",
    "\n",
    "\n",
    "[Dictionary trade example]\n",
    "\n",
    "Trades can be added to the order book but not removed or changed except for the 'tradeType' field which determines if the trade should be considered in collateral calculations.\n",
    "\n",
    "#### Geometry of an order\n",
    "\n",
    "Since orders can only be added to the order book and not subtracted, creating a matched order requires an offset of the unmatched order and a new matched order of equal size.\n",
    "\n",
    "Consider an order '(p=0.5, q=0.5)'. For the trade to successfully be matched it requires at minimum:\n",
    "\n",
    "- Primary  (p=0.5, q=10, isMatched = 0) \n",
    "- Offset  (p=0.5, q=-10, isMatched = 0)\n",
    "- Match (p=0.5, q=10, isMatchced = 1)\n",
    "\n",
    "Optionally, the trade an also include a reduction trade for the market to use to kill an existing order to make way for a new order. These don't need offsets.\n",
    "\n",
    "- Reduction  (p=0.5, q=10*-0.1=-1, isMatched=1)\n",
    "\n",
    "Geometrically, this set of trades can be represented in (p,q) space:\n",
    "\n",
    "<img src=\"img\\OrderGeometry1.png\" width = 600>\n",
    "\n",
    "It is useful to allow partial fills (lower quantity and weakly better price). Each partial trade only requires a matched version and not an offset.\n",
    "\n",
    "[Geometry of single trade with partial fill region]\n",
    "\n",
    "Any non-primary trade that is picked up for a match is set as primary by the system so it can be picked up in future collateral calculations (this is the only changable field in the order book).\n",
    "\n",
    "\n",
    "#### Geometry of signature chain \n",
    "\n",
    "Each trade is chained to a previous trade according to some rule. The order book will require a valid signature (valid signature for message and valid previous node) and a collateral check. Primary and partial orders are chained to a previous valid order, while offset and reductions are chained to the primary trade.\n",
    "\n",
    "[Pictures: \n",
    "Previous valid -> Primary -> Primary offset cone -> Primary matched rectangle\n",
    "Previous valid -> Primary -> Partial -> Partial offset cone -> Matched rectangle\n",
    "]\n",
    "\n",
    "## Methods\n",
    "\n",
    "\n",
    "[methods]\n"
   ]
  },
  {
   "cell_type": "markdown",
   "metadata": {
    "collapsed": false
   },
   "source": [
    "1+2\n",
    "\n",
    "\n"
   ]
  },
  {
   "cell_type": "markdown",
   "metadata": {
    "collapsed": false
   },
   "source": [
    "$x^2/2$\n",
    "\n",
    "$\\int_{-\\infty}^{\\infty} f(x) dx$\n",
    "\n",
    "$poop^{girlfriend}$"
   ]
  },
  {
   "cell_type": "raw",
   "metadata": {
    "collapsed": false
   },
   "source": [
    "from IPython.display import Image"
   ]
  },
  {
   "cell_type": "code",
   "execution_count": 0,
   "metadata": {
    "collapsed": false
   },
   "outputs": [
   ],
   "source": [
   ]
  },
  {
   "cell_type": "code",
   "execution_count": 0,
   "metadata": {
    "collapsed": false
   },
   "outputs": [
   ],
   "source": [
   ]
  },
  {
   "cell_type": "raw",
   "metadata": {
    "collapsed": false
   },
   "source": [
    "\n",
    "\n"
   ]
  },
  {
   "cell_type": "raw",
   "metadata": {
    "collapsed": false
   },
   "source": [
    "Here's our logo (hover to see the title text):\n",
    "\n",
    "Inline-style: \n",
    "![alt text](https://github.com/adam-p/markdown-here/raw/master/src/common/images/icon48.png \"Logo Title Text 1\")\n"
   ]
  },
  {
   "cell_type": "code",
   "execution_count": 0,
   "metadata": {
    "collapsed": false
   },
   "outputs": [
   ],
   "source": [
    "Here's our logo (hover to see the title text):\n",
    "\n",
    "Inline-style: \n",
    "![alt text](https://github.com/adam-p/markdown-here/raw/master/sr"
   ]
  }
 ],
 "metadata": {
  "kernelspec": {
   "display_name": "Python 3 (Ubuntu Linux)",
   "language": "python",
   "name": "python3"
  },
  "language_info": {
   "codemirror_mode": {
    "name": "ipython",
    "version": 3
   },
   "file_extension": ".py",
   "mimetype": "text/x-python",
   "name": "python",
   "nbconvert_exporter": "python",
   "pygments_lexer": "ipython3",
   "version": "3.5.2"
  }
 },
 "nbformat": 4,
 "nbformat_minor": 0
}