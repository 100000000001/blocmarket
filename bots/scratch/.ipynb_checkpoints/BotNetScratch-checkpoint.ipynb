{
 "cells": [
  {
   "cell_type": "code",
   "execution_count": 17,
   "metadata": {},
   "outputs": [],
   "source": [
    "import pandas as pd\n",
    "import json"
   ]
  },
  {
   "cell_type": "code",
   "execution_count": 11,
   "metadata": {},
   "outputs": [],
   "source": [
    "from bloc.BlocClient import BlocClient\n",
    "from bloc.BlocServer import BlocServer"
   ]
  },
  {
   "cell_type": "code",
   "execution_count": 13,
   "metadata": {},
   "outputs": [
    {
     "data": {
      "text/plain": [
       "(b'654d59925e1d97e7e245d159cd48f8ba819b5d2c35f3a289606852cd8ab00a85',\n",
       " b'68e78448f2fb93c0c657cabf0b6ede0d128a618699a1a1baf3669b8f6f91a37f')"
      ]
     },
     "execution_count": 13,
     "metadata": {},
     "output_type": "execute_result"
    }
   ],
   "source": [
    "bc = BlocClient()\n",
    "bc.generateSignatureKeys()\n"
   ]
  },
  {
   "cell_type": "code",
   "execution_count": 24,
   "metadata": {},
   "outputs": [],
   "source": [
    "# Create a test market\n",
    "mDict = {'marketRootId':1, 'marketBranchId':1, 'marketMin': 2500, 'marketMax': 4500, 'traderId':2, 'marketDesc':'BTCUSD'}\n",
    "marketRow = pd.DataFrame(mDict, index=[0])[['marketRootId', 'marketBranchId','marketMin', 'marketMax','traderId', 'marketDesc']]\n",
    "checks, allChecks = bc.createMarket_client(marketRow=marketRow, blocServer=bs)"
   ]
  },
  {
   "cell_type": "code",
   "execution_count": 31,
   "metadata": {},
   "outputs": [
    {
     "data": {
      "text/plain": [
       "{'inputChk': True,\n",
       " 'marketLimitChk': True,\n",
       " 'traderIdChk': True,\n",
       " 'marketId': '1',\n",
       " 'marketRangeChk': True,\n",
       " 'marketIndChk': True,\n",
       " 'sigChk': True,\n",
       " 'chainChk': True,\n",
       " 'ownerChk': True,\n",
       " 'timeChk': True}"
      ]
     },
     "execution_count": 31,
     "metadata": {},
     "output_type": "execute_result"
    }
   ],
   "source": [
    "allChecks"
   ]
  },
  {
   "cell_type": "code",
   "execution_count": null,
   "metadata": {},
   "outputs": [],
   "source": [
    "Rise"
   ]
  }
 ],
 "metadata": {
  "kernelspec": {
   "display_name": "Python 3",
   "language": "python",
   "name": "python3"
  },
  "language_info": {
   "codemirror_mode": {
    "name": "ipython",
    "version": 3
   },
   "file_extension": ".py",
   "mimetype": "text/x-python",
   "name": "python",
   "nbconvert_exporter": "python",
   "pygments_lexer": "ipython3",
   "version": "3.7.1"
  }
 },
 "nbformat": 4,
 "nbformat_minor": 2
}
