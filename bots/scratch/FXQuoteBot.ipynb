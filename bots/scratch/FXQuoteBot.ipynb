{
 "cells": [
  {
   "cell_type": "code",
   "execution_count": 6,
   "metadata": {},
   "outputs": [],
   "source": [
    "# My little btc quote bot"
   ]
  },
  {
   "cell_type": "code",
   "execution_count": 1,
   "metadata": {},
   "outputs": [],
   "source": [
    "import requests\n",
    "import json\n",
    "import numpy as np\n",
    "import pandas as pd\n",
    "import time\n",
    "import datetime\n",
    "import pytz\n",
    "\n",
    "%matplotlib inline\n",
    "import matplotlib.pyplot as plt\n",
    "\n"
   ]
  },
  {
   "cell_type": "code",
   "execution_count": 2,
   "metadata": {},
   "outputs": [],
   "source": [
    "#baseurl = 'https://blocmarket.herokuapp.com/'\n",
    "# baseurl = 'http://127.0.0.1:5000/'\n",
    "baseurl = 'http://127.0.0.1:7000/'"
   ]
  },
  {
   "cell_type": "code",
   "execution_count": 3,
   "metadata": {},
   "outputs": [
    {
     "data": {
      "text/plain": [
       "{'Realtime Currency Exchange Rate': {'1. From_Currency Code': 'BTC',\n",
       "  '2. From_Currency Name': 'Bitcoin',\n",
       "  '3. To_Currency Code': 'USD',\n",
       "  '4. To_Currency Name': 'United States Dollar',\n",
       "  '5. Exchange Rate': '5073.53000000',\n",
       "  '6. Last Refreshed': '2019-04-07 02:24:37',\n",
       "  '7. Time Zone': 'UTC'}}"
      ]
     },
     "execution_count": 3,
     "metadata": {},
     "output_type": "execute_result"
    }
   ],
   "source": [
    "# set up quote api\n",
    "headers = {}\n",
    "apikey = 'VVOJSV9CUU9JRCSE'\n",
    "quoteurl = 'https://www.alphavantage.co/query?function=CURRENCY_EXCHANGE_RATE&from_currency=BTC&to_currency=USD&apikey=' + apikey\n",
    "# Test realtime quote \n",
    "response = requests.get(quoteurl, headers=headers)\n",
    "# Look at the quote\n",
    "response.json()"
   ]
  },
  {
   "cell_type": "code",
   "execution_count": 4,
   "metadata": {},
   "outputs": [
    {
     "data": {
      "text/plain": [
       "5073.53"
      ]
     },
     "execution_count": 4,
     "metadata": {},
     "output_type": "execute_result"
    }
   ],
   "source": [
    "quote = float(response.json()['Realtime Currency Exchange Rate']['5. Exchange Rate'])\n",
    "quote"
   ]
  },
  {
   "cell_type": "code",
   "execution_count": 5,
   "metadata": {},
   "outputs": [
    {
     "data": {
      "text/plain": [
       "{}"
      ]
     },
     "execution_count": 5,
     "metadata": {},
     "output_type": "execute_result"
    }
   ],
   "source": [
    "headers"
   ]
  },
  {
   "cell_type": "code",
   "execution_count": 6,
   "metadata": {},
   "outputs": [
    {
     "data": {
      "text/plain": [
       "datetime.datetime(2019, 4, 7, 2, 24, 37, tzinfo=<UTC>)"
      ]
     },
     "execution_count": 6,
     "metadata": {},
     "output_type": "execute_result"
    }
   ],
   "source": [
    "z = response.json()['Realtime Currency Exchange Rate']['6. Last Refreshed']\n",
    "t = datetime.datetime.strptime(z, '%Y-%m-%d %H:%M:%S')\n",
    "tUTC = pytz.utc.localize(t)\n",
    "tUTC\n"
   ]
  },
  {
   "cell_type": "code",
   "execution_count": 8,
   "metadata": {},
   "outputs": [],
   "source": [
    "# Create a new user\n",
    "url = baseurl +'createUser'\n",
    "headers = {'content-type': 'application/json'}\n",
    "content = {}\n",
    "response = requests.post(url, data=json.dumps(content), headers=headers)"
   ]
  },
  {
   "cell_type": "code",
   "execution_count": 9,
   "metadata": {},
   "outputs": [
    {
     "data": {
      "text/plain": [
       "{'signingKey': 'e01b33ccb159f9b3b957cba8aab51359ce0be5f7c2dd5db1ad8957c59c6d19ab',\n",
       " 'traderId': '5',\n",
       " 'verifyKey': '74244d0bb789aa717e170d7963c000bf9be93424da8f0f4d760df33bd3cbf62b'}"
      ]
     },
     "execution_count": 9,
     "metadata": {},
     "output_type": "execute_result"
    }
   ],
   "source": [
    "# View response as json\n",
    "response.json()"
   ]
  },
  {
   "cell_type": "code",
   "execution_count": 10,
   "metadata": {},
   "outputs": [],
   "source": [
    "# Copy keys and traderid from response\n",
    "sk = response.json()['signingKey']\n",
    "vk = response.json()['verifyKey']\n",
    "tId = int(response.json()['traderId'])\n"
   ]
  },
  {
   "cell_type": "code",
   "execution_count": 11,
   "metadata": {},
   "outputs": [],
   "source": [
    "# Create a new market\n",
    "mkRtId = 3\n",
    "mkBrId = 1\n",
    "\n",
    "\n",
    "url = baseurl + 'createMarket'\n",
    "content_makemarket = {\"signingKey\": sk,\n",
    "                        \"traderId\": tId, \n",
    "                        \"verifyKey\": vk,\n",
    "                        \"marketRootId\": mkRtId, \n",
    "                        \"marketBranchId\": mkBrId, \n",
    "                        \"marketMin\": 2500,\n",
    "                        \"marketMax\":4500,\n",
    "                        \"marketDesc\": 'BTCUSD'}\n",
    "# Post market\n",
    "response = requests.post(url, data=json.dumps(content_makemarket), headers=headers)\n"
   ]
  },
  {
   "cell_type": "code",
   "execution_count": 12,
   "metadata": {},
   "outputs": [
    {
     "data": {
      "text/plain": [
       "{'allChecks': \"{'inputChk': True, 'marketLimitChk': True, 'traderIdChk': True, 'marketId': '2', 'marketRangeChk': True, 'marketIndChk': True, 'sigChk': True, 'chainChk': True, 'ownerChk': True, 'timeChk': True}\",\n",
       " 'checks': 'True',\n",
       " 'marketBranchId': 1,\n",
       " 'marketId': 2,\n",
       " 'marketMax': 4500,\n",
       " 'marketMin': 2500,\n",
       " 'marketRootId': 3,\n",
       " 'traderId': 5}"
      ]
     },
     "execution_count": 12,
     "metadata": {},
     "output_type": "execute_result"
    }
   ],
   "source": [
    "# response = requests.post(url, data=json.dumps(content_makemarket), headers=headers)\n",
    "# View response as json\n",
    "response.json()"
   ]
  },
  {
   "cell_type": "code",
   "execution_count": 13,
   "metadata": {},
   "outputs": [
    {
     "data": {
      "text/plain": [
       "5073.53"
      ]
     },
     "execution_count": 13,
     "metadata": {},
     "output_type": "execute_result"
    }
   ],
   "source": [
    "# Save market id from response\n",
    "mkId = response.json()['marketId']\n",
    "quote"
   ]
  },
  {
   "cell_type": "code",
   "execution_count": 14,
   "metadata": {},
   "outputs": [],
   "source": [
    "# Create a trade\n",
    "tradeurl = baseurl+'createTrade'\n",
    "\n",
    "content_maketrade = {\"signingKey\": sk,\n",
    "                     \"traderId\": tId,\n",
    "                     \"verifyKey\": vk,\n",
    "                     \"marketId\": int(mkId),\n",
    "                     \"price\":quote,\n",
    "                     \"quantity\": 1}\n",
    "response = requests.post(tradeurl, data=json.dumps(content_maketrade), headers=headers)"
   ]
  },
  {
   "cell_type": "code",
   "execution_count": 15,
   "metadata": {},
   "outputs": [
    {
     "data": {
      "text/plain": [
       "{'allChecks': \"{'tradeId': 17890, 'inputChk': True, 'traderIdChk': True, 'marketChk': True, 'sigChk': True, 'chainChk': True, 'timeChk': True, 'colChk': True}\",\n",
       " 'checks': 'True',\n",
       " 'marketId': 2,\n",
       " 'price': 5073.53,\n",
       " 'quantity': 1,\n",
       " 'tradeId': 17890,\n",
       " 'traderId': 5}"
      ]
     },
     "execution_count": 15,
     "metadata": {},
     "output_type": "execute_result"
    }
   ],
   "source": [
    "# View response as json\n",
    "response.json()"
   ]
  },
  {
   "cell_type": "code",
   "execution_count": 16,
   "metadata": {},
   "outputs": [
    {
     "data": {
      "text/plain": [
       "{'signingKey': 'e01b33ccb159f9b3b957cba8aab51359ce0be5f7c2dd5db1ad8957c59c6d19ab',\n",
       " 'traderId': 5,\n",
       " 'verifyKey': '74244d0bb789aa717e170d7963c000bf9be93424da8f0f4d760df33bd3cbf62b',\n",
       " 'marketId': 2,\n",
       " 'price': 5073.53,\n",
       " 'quantity': 1}"
      ]
     },
     "execution_count": 16,
     "metadata": {},
     "output_type": "execute_result"
    }
   ],
   "source": [
    "content_maketrade"
   ]
  },
  {
   "cell_type": "code",
   "execution_count": null,
   "metadata": {},
   "outputs": [],
   "source": [
    "\n",
    "\n",
    "stillQuoting = True\n",
    "i=0\n",
    "prevQuote = quote\n",
    "\n",
    "while stillQuoting==True:\n",
    "    # Quote from source\n",
    "    i+=1\n",
    "    response = requests.get(quoteurl, headers=headers)\n",
    "    quote = float(response.json()['Realtime Currency Exchange Rate']['5. Exchange Rate'])\n",
    "    if (prevQuote == quote):\n",
    "        time.sleep(3*60)\n",
    "    else:     \n",
    "        # Make a bid\n",
    "        content_maketrade['price'] = quote-1\n",
    "        content_maketrade['quantity'] =1\n",
    "        response = requests.post(tradeurl, data=json.dumps(content_maketrade), headers=headers)\n",
    "        # Make an offer\n",
    "        content_maketrade['price'] = quote+1\n",
    "        content_maketrade['quantity'] = -1\n",
    "        response = requests.post(tradeurl, data=json.dumps(content_maketrade), headers=headers)\n",
    "        time.sleep(3*60)\n",
    "\n",
    "        # Remove bid \n",
    "        content_maketrade['price'] = quote-1\n",
    "        content_maketrade['quantity'] =-1\n",
    "        response = requests.post(tradeurl, data=json.dumps(content_maketrade), headers=headers)\n",
    "        # Remove offer\n",
    "        content_maketrade['price'] = quote+1\n",
    "        content_maketrade['quantity'] = 1\n",
    "        response = requests.post(tradeurl, data=json.dumps(content_maketrade), headers=headers)\n",
    "        print('Price for iteration ' + str(i) + ' : ' + str(content_maketrade['price']))\n",
    "        prevQute = quote"
   ]
  },
  {
   "cell_type": "code",
   "execution_count": 18,
   "metadata": {},
   "outputs": [
    {
     "data": {
      "text/plain": [
       "{'signingKey': 'e01b33ccb159f9b3b957cba8aab51359ce0be5f7c2dd5db1ad8957c59c6d19ab',\n",
       " 'traderId': 5,\n",
       " 'verifyKey': '74244d0bb789aa717e170d7963c000bf9be93424da8f0f4d760df33bd3cbf62b',\n",
       " 'marketId': 2,\n",
       " 'price': 5074.92,\n",
       " 'quantity': -1}"
      ]
     },
     "execution_count": 18,
     "metadata": {},
     "output_type": "execute_result"
    }
   ],
   "source": [
    "content_maketrade"
   ]
  },
  {
   "cell_type": "code",
   "execution_count": null,
   "metadata": {},
   "outputs": [],
   "source": [
    "content_maketrade['quantity'] = quote"
   ]
  },
  {
   "cell_type": "code",
   "execution_count": null,
   "metadata": {},
   "outputs": [],
   "source": [
    "response = requests.post(tradeurl, data=json.dumps(content_maketrade), headers=headers)"
   ]
  },
  {
   "cell_type": "code",
   "execution_count": null,
   "metadata": {},
   "outputs": [],
   "source": [
    "response.json()"
   ]
  },
  {
   "cell_type": "code",
   "execution_count": null,
   "metadata": {},
   "outputs": [],
   "source": [
    "tId = 17"
   ]
  },
  {
   "cell_type": "code",
   "execution_count": 19,
   "metadata": {},
   "outputs": [],
   "source": [
    "# View summary of trader for a particular trader\n",
    "url = baseurl+'viewTradeSummary'\n",
    "content = {'traderId': int(tId)}\n",
    "response = requests.post(url, data=json.dumps(content), headers=headers, stream=True)"
   ]
  },
  {
   "cell_type": "code",
   "execution_count": 20,
   "metadata": {},
   "outputs": [
    {
     "data": {
      "text/html": [
       "<div>\n",
       "<style scoped>\n",
       "    .dataframe tbody tr th:only-of-type {\n",
       "        vertical-align: middle;\n",
       "    }\n",
       "\n",
       "    .dataframe tbody tr th {\n",
       "        vertical-align: top;\n",
       "    }\n",
       "\n",
       "    .dataframe thead th {\n",
       "        text-align: right;\n",
       "    }\n",
       "</style>\n",
       "<table border=\"1\" class=\"dataframe\">\n",
       "  <thead>\n",
       "    <tr style=\"text-align: right;\">\n",
       "      <th></th>\n",
       "      <th>tradeId</th>\n",
       "      <th>marketId</th>\n",
       "      <th>price</th>\n",
       "      <th>quantity</th>\n",
       "      <th>traderId</th>\n",
       "      <th>iMatched</th>\n",
       "      <th>timeStampUTC</th>\n",
       "      <th>marketRootId</th>\n",
       "      <th>marketBranchId</th>\n",
       "      <th>marketMin</th>\n",
       "      <th>marketMax</th>\n",
       "      <th>marketMinOutcome</th>\n",
       "      <th>marketMaxOutcome</th>\n",
       "    </tr>\n",
       "  </thead>\n",
       "  <tbody>\n",
       "    <tr>\n",
       "      <th>0</th>\n",
       "      <td>17890</td>\n",
       "      <td>2</td>\n",
       "      <td>5073.53</td>\n",
       "      <td>1</td>\n",
       "      <td>5</td>\n",
       "      <td>False</td>\n",
       "      <td>2019-04-07 02:26:19.640</td>\n",
       "      <td>3</td>\n",
       "      <td>1</td>\n",
       "      <td>2500</td>\n",
       "      <td>4500</td>\n",
       "      <td>-2573.53</td>\n",
       "      <td>-573.53</td>\n",
       "    </tr>\n",
       "    <tr>\n",
       "      <th>1</th>\n",
       "      <td>17891</td>\n",
       "      <td>2</td>\n",
       "      <td>5072.92</td>\n",
       "      <td>1</td>\n",
       "      <td>5</td>\n",
       "      <td>False</td>\n",
       "      <td>2019-04-07 02:26:24.036</td>\n",
       "      <td>3</td>\n",
       "      <td>1</td>\n",
       "      <td>2500</td>\n",
       "      <td>4500</td>\n",
       "      <td>-2572.92</td>\n",
       "      <td>-572.92</td>\n",
       "    </tr>\n",
       "    <tr>\n",
       "      <th>2</th>\n",
       "      <td>17892</td>\n",
       "      <td>2</td>\n",
       "      <td>5074.92</td>\n",
       "      <td>-1</td>\n",
       "      <td>5</td>\n",
       "      <td>False</td>\n",
       "      <td>2019-04-07 02:26:24.135</td>\n",
       "      <td>3</td>\n",
       "      <td>1</td>\n",
       "      <td>2500</td>\n",
       "      <td>4500</td>\n",
       "      <td>2574.92</td>\n",
       "      <td>574.92</td>\n",
       "    </tr>\n",
       "  </tbody>\n",
       "</table>\n",
       "</div>"
      ],
      "text/plain": [
       "   tradeId  marketId    price  quantity  traderId  iMatched  \\\n",
       "0    17890         2  5073.53         1         5     False   \n",
       "1    17891         2  5072.92         1         5     False   \n",
       "2    17892         2  5074.92        -1         5     False   \n",
       "\n",
       "             timeStampUTC  marketRootId  marketBranchId  marketMin  marketMax  \\\n",
       "0 2019-04-07 02:26:19.640             3               1       2500       4500   \n",
       "1 2019-04-07 02:26:24.036             3               1       2500       4500   \n",
       "2 2019-04-07 02:26:24.135             3               1       2500       4500   \n",
       "\n",
       "   marketMinOutcome  marketMaxOutcome  \n",
       "0          -2573.53           -573.53  \n",
       "1          -2572.92           -572.92  \n",
       "2           2574.92            574.92  "
      ]
     },
     "execution_count": 20,
     "metadata": {},
     "output_type": "execute_result"
    }
   ],
   "source": [
    "pd.read_json(response.json())"
   ]
  },
  {
   "cell_type": "code",
   "execution_count": 140,
   "metadata": {},
   "outputs": [
    {
     "data": {
      "text/plain": [
       "dict"
      ]
     },
     "execution_count": 140,
     "metadata": {},
     "output_type": "execute_result"
    }
   ],
   "source": [
    "thing = {\"marketId\":{\"0\":1,\"1\":2,\"2\":3,\"3\":4,\"4\":5,\"5\":6,\"6\":7,\"7\":8,\"8\":9,\"9\":10,\"10\":11,\"11\":12,\"12\":13,\"13\":14,\"14\":15,\"15\":16,\"16\":17,\"17\":18,\"18\":19,\"19\":20,\"20\":21,\"21\":22,\"22\":23,\"23\":24,\"24\":25,\"25\":26,\"26\":27,\"27\":28,\"28\":29,\"29\":30,\"30\":31,\"31\":32,\"32\":33,\"33\":34},\"marketRootId\":{\"0\":1,\"1\":2,\"2\":3,\"3\":4,\"4\":5,\"5\":6,\"6\":1,\"7\":1,\"8\":1,\"9\":1,\"10\":1,\"11\":1,\"12\":1,\"13\":1,\"14\":1,\"15\":3,\"16\":3,\"17\":3,\"18\":3,\"19\":3,\"20\":3,\"21\":3,\"22\":3,\"23\":3,\"24\":4,\"25\":6,\"26\":6,\"27\":6,\"28\":6,\"29\":6,\"30\":6,\"31\":6,\"32\":6,\"33\":6},\"marketBranchId\":{\"0\":1,\"1\":1,\"2\":1,\"3\":1,\"4\":1,\"5\":1,\"6\":2,\"7\":3,\"8\":4,\"9\":5,\"10\":6,\"11\":7,\"12\":8,\"13\":9,\"14\":10,\"15\":2,\"16\":3,\"17\":4,\"18\":5,\"19\":6,\"20\":7,\"21\":8,\"22\":9,\"23\":10,\"24\":2,\"25\":2,\"26\":3,\"27\":4,\"28\":5,\"29\":6,\"30\":7,\"31\":8,\"32\":9,\"33\":10},\"marketMin\":{\"0\":0.11,\"1\":0.0,\"2\":0.0,\"3\":0.0,\"4\":0.0,\"5\":0.0,\"6\":0.11,\"7\":0.11,\"8\":0.11,\"9\":0.11,\"10\":0.11,\"11\":0.11,\"12\":0.11,\"13\":0.11,\"14\":0.11,\"15\":0.0,\"16\":0.0,\"17\":0.0,\"18\":0.0,\"19\":0.0,\"20\":0.0,\"21\":0.0,\"22\":0.0,\"23\":0.0,\"24\":0.0,\"25\":0.0,\"26\":0.0,\"27\":0.0,\"28\":0.0,\"29\":0.0,\"30\":0.0,\"31\":0.0,\"32\":0.0,\"33\":0.0},\"marketMax\":{\"0\":0.7,\"1\":0.7,\"2\":0.7,\"3\":0.7,\"4\":0.7,\"5\":0.7,\"6\":0.7,\"7\":0.7,\"8\":0.7,\"9\":0.7,\"10\":0.7,\"11\":0.7,\"12\":0.7,\"13\":0.7,\"14\":0.7,\"15\":0.7,\"16\":0.7,\"17\":0.7,\"18\":0.7,\"19\":0.7,\"20\":0.7,\"21\":0.7,\"22\":0.7,\"23\":0.7,\"24\":0.7,\"25\":0.7,\"26\":0.7,\"27\":0.7,\"28\":0.7,\"29\":0.7,\"30\":0.7,\"31\":0.7,\"32\":0.7,\"33\":0.7}}\n"
   ]
  },
  {
   "cell_type": "code",
   "execution_count": null,
   "metadata": {},
   "outputs": [],
   "source": []
  },
  {
   "cell_type": "code",
   "execution_count": 21,
   "metadata": {},
   "outputs": [],
   "source": [
    "# Get summary for this market and plot\n",
    "\n",
    "url = baseurl+'viewTradeSummary'\n",
    "content = {'traderId': int(tId)}\n",
    "response = requests.post(url, data=json.dumps(content), headers=headers, stream=True)\n",
    "a = pd.read_json(response.json())\n",
    "a = a[a['marketId'] == mkId]\n",
    "a = a.set_index(a['timeStampUTC'])\n"
   ]
  },
  {
   "cell_type": "code",
   "execution_count": 22,
   "metadata": {},
   "outputs": [
    {
     "data": {
      "text/plain": [
       "Text(0.5, 1.0, 'Time series for market 2 / trader 5')"
      ]
     },
     "execution_count": 22,
     "metadata": {},
     "output_type": "execute_result"
    },
    {
     "data": {
      "image/png": "[encoded data removed]",
      "text/plain": [
       "<Figure size 432x288 with 1 Axes>"
      ]
     },
     "metadata": {
      "needs_background": "light"
     },
     "output_type": "display_data"
    }
   ],
   "source": [
    "plt.figure(); a['price'].plot(); plt.legend(loc='best'); plt.title('Time series for market ' + str(mkId) + ' / trader ' +str(tId))"
   ]
  },
  {
   "cell_type": "code",
   "execution_count": 23,
   "metadata": {},
   "outputs": [],
   "source": [
    "bids = a[a['quantity']<0]\n",
    "asks = a[a['quantity']>0]"
   ]
  },
  {
   "cell_type": "code",
   "execution_count": 24,
   "metadata": {},
   "outputs": [
    {
     "data": {
      "text/plain": [
       "Text(0.5, 1.0, 'Time series for market 2 / trader 5')"
      ]
     },
     "execution_count": 24,
     "metadata": {},
     "output_type": "execute_result"
    },
    {
     "data": {
      "image/png": "[encoded data removed]",
      "text/plain": [
       "<Figure size 432x288 with 1 Axes>"
      ]
     },
     "metadata": {
      "needs_background": "light"
     },
     "output_type": "display_data"
    }
   ],
   "source": [
    "plt.figure(); \n",
    "plt.plot(bids['timeStampUTC'],bids['price'], 'ro');\n",
    "plt.plot(asks['timeStampUTC'],asks['price'], 'go');\n",
    "plt.legend(('bid', 'ask')); plt.title('Time series for market ' + str(mkId) + ' / trader ' +str(tId))\n"
   ]
  },
  {
   "cell_type": "code",
   "execution_count": 25,
   "metadata": {},
   "outputs": [],
   "source": [
    "# View summary of trader for a particular trader\n",
    "url = baseurl+'viewOrderBook'\n",
    "headers = {'content-type': 'application/json'}\n",
    "content = {'marketId': int(1)}\n",
    "response = requests.post(url, data=json.dumps(content), headers=headers, stream=True)\n",
    "a = pd.read_json(response.json())\n",
    "a = a.set_index(a['timeStampUTC'])\n"
   ]
  },
  {
   "cell_type": "code",
   "execution_count": 26,
   "metadata": {},
   "outputs": [
    {
     "data": {
      "text/html": [
       "<div>\n",
       "<style scoped>\n",
       "    .dataframe tbody tr th:only-of-type {\n",
       "        vertical-align: middle;\n",
       "    }\n",
       "\n",
       "    .dataframe tbody tr th {\n",
       "        vertical-align: top;\n",
       "    }\n",
       "\n",
       "    .dataframe thead th {\n",
       "        text-align: right;\n",
       "    }\n",
       "</style>\n",
       "<table border=\"1\" class=\"dataframe\">\n",
       "  <thead>\n",
       "    <tr style=\"text-align: right;\">\n",
       "      <th></th>\n",
       "      <th>tradeId</th>\n",
       "      <th>marketId</th>\n",
       "      <th>price</th>\n",
       "      <th>quantity</th>\n",
       "      <th>traderId</th>\n",
       "      <th>iMatched</th>\n",
       "      <th>timeStampUTC</th>\n",
       "    </tr>\n",
       "    <tr>\n",
       "      <th>timeStampUTC</th>\n",
       "      <th></th>\n",
       "      <th></th>\n",
       "      <th></th>\n",
       "      <th></th>\n",
       "      <th></th>\n",
       "      <th></th>\n",
       "      <th></th>\n",
       "    </tr>\n",
       "  </thead>\n",
       "  <tbody>\n",
       "    <tr>\n",
       "      <th>2019-03-30 05:00:17.982</th>\n",
       "      <td>1</td>\n",
       "      <td>1</td>\n",
       "      <td>4057.43</td>\n",
       "      <td>1</td>\n",
       "      <td>2</td>\n",
       "      <td>False</td>\n",
       "      <td>2019-03-30 05:00:17.982</td>\n",
       "    </tr>\n",
       "    <tr>\n",
       "      <th>2019-03-30 05:00:18.103</th>\n",
       "      <td>2</td>\n",
       "      <td>1</td>\n",
       "      <td>4139.39</td>\n",
       "      <td>-1</td>\n",
       "      <td>2</td>\n",
       "      <td>False</td>\n",
       "      <td>2019-03-30 05:00:18.103</td>\n",
       "    </tr>\n",
       "    <tr>\n",
       "      <th>2019-03-30 05:37:07.364</th>\n",
       "      <td>15</td>\n",
       "      <td>1</td>\n",
       "      <td>4064.87</td>\n",
       "      <td>-1</td>\n",
       "      <td>1</td>\n",
       "      <td>True</td>\n",
       "      <td>2019-03-30 05:37:07.364</td>\n",
       "    </tr>\n",
       "    <tr>\n",
       "      <th>2019-03-30 08:02:02.566</th>\n",
       "      <td>97</td>\n",
       "      <td>1</td>\n",
       "      <td>4066.70</td>\n",
       "      <td>1</td>\n",
       "      <td>1</td>\n",
       "      <td>True</td>\n",
       "      <td>2019-03-30 08:02:02.566</td>\n",
       "    </tr>\n",
       "    <tr>\n",
       "      <th>2019-03-30 16:05:14.908</th>\n",
       "      <td>1000</td>\n",
       "      <td>1</td>\n",
       "      <td>4133.63</td>\n",
       "      <td>-1</td>\n",
       "      <td>1</td>\n",
       "      <td>True</td>\n",
       "      <td>2019-03-30 16:05:14.908</td>\n",
       "    </tr>\n",
       "    <tr>\n",
       "      <th>2019-04-03 12:20:47.609</th>\n",
       "      <td>9996</td>\n",
       "      <td>1</td>\n",
       "      <td>5063.86</td>\n",
       "      <td>-1</td>\n",
       "      <td>1</td>\n",
       "      <td>True</td>\n",
       "      <td>2019-04-03 12:20:47.609</td>\n",
       "    </tr>\n",
       "    <tr>\n",
       "      <th>2019-04-03 12:26:48.099</th>\n",
       "      <td>10006</td>\n",
       "      <td>1</td>\n",
       "      <td>5063.86</td>\n",
       "      <td>1</td>\n",
       "      <td>1</td>\n",
       "      <td>True</td>\n",
       "      <td>2019-04-03 12:26:48.099</td>\n",
       "    </tr>\n",
       "    <tr>\n",
       "      <th>2019-04-03 12:22:07.712</th>\n",
       "      <td>9999</td>\n",
       "      <td>1</td>\n",
       "      <td>4964.63</td>\n",
       "      <td>1</td>\n",
       "      <td>2</td>\n",
       "      <td>True</td>\n",
       "      <td>2019-04-03 12:22:07.712</td>\n",
       "    </tr>\n",
       "    <tr>\n",
       "      <th>2019-04-03 12:28:08.197</th>\n",
       "      <td>10009</td>\n",
       "      <td>1</td>\n",
       "      <td>4964.63</td>\n",
       "      <td>-1</td>\n",
       "      <td>2</td>\n",
       "      <td>True</td>\n",
       "      <td>2019-04-03 12:28:08.197</td>\n",
       "    </tr>\n",
       "    <tr>\n",
       "      <th>2019-04-03 12:22:07.831</th>\n",
       "      <td>10000</td>\n",
       "      <td>1</td>\n",
       "      <td>5064.93</td>\n",
       "      <td>-1</td>\n",
       "      <td>2</td>\n",
       "      <td>True</td>\n",
       "      <td>2019-04-03 12:22:07.831</td>\n",
       "    </tr>\n",
       "    <tr>\n",
       "      <th>2019-04-03 12:28:08.316</th>\n",
       "      <td>10010</td>\n",
       "      <td>1</td>\n",
       "      <td>5064.93</td>\n",
       "      <td>1</td>\n",
       "      <td>2</td>\n",
       "      <td>True</td>\n",
       "      <td>2019-04-03 12:28:08.316</td>\n",
       "    </tr>\n",
       "    <tr>\n",
       "      <th>2019-04-03 12:26:30.478</th>\n",
       "      <td>10003</td>\n",
       "      <td>1</td>\n",
       "      <td>4528.06</td>\n",
       "      <td>1</td>\n",
       "      <td>4</td>\n",
       "      <td>True</td>\n",
       "      <td>2019-04-03 12:26:30.478</td>\n",
       "    </tr>\n",
       "    <tr>\n",
       "      <th>2019-04-03 12:32:30.965</th>\n",
       "      <td>10013</td>\n",
       "      <td>1</td>\n",
       "      <td>4528.06</td>\n",
       "      <td>-1</td>\n",
       "      <td>4</td>\n",
       "      <td>True</td>\n",
       "      <td>2019-04-03 12:32:30.965</td>\n",
       "    </tr>\n",
       "    <tr>\n",
       "      <th>2019-04-03 12:26:30.597</th>\n",
       "      <td>10004</td>\n",
       "      <td>1</td>\n",
       "      <td>5534.30</td>\n",
       "      <td>-1</td>\n",
       "      <td>4</td>\n",
       "      <td>True</td>\n",
       "      <td>2019-04-03 12:26:30.597</td>\n",
       "    </tr>\n",
       "    <tr>\n",
       "      <th>2019-04-03 12:32:31.088</th>\n",
       "      <td>10014</td>\n",
       "      <td>1</td>\n",
       "      <td>5534.30</td>\n",
       "      <td>1</td>\n",
       "      <td>4</td>\n",
       "      <td>True</td>\n",
       "      <td>2019-04-03 12:32:31.088</td>\n",
       "    </tr>\n",
       "    <tr>\n",
       "      <th>2019-03-30 16:08:25.313</th>\n",
       "      <td>1003</td>\n",
       "      <td>1</td>\n",
       "      <td>4055.58</td>\n",
       "      <td>1</td>\n",
       "      <td>2</td>\n",
       "      <td>True</td>\n",
       "      <td>2019-03-30 16:08:25.313</td>\n",
       "    </tr>\n",
       "    <tr>\n",
       "      <th>2019-04-03 12:26:49.578</th>\n",
       "      <td>10007</td>\n",
       "      <td>1</td>\n",
       "      <td>4973.54</td>\n",
       "      <td>1</td>\n",
       "      <td>1</td>\n",
       "      <td>True</td>\n",
       "      <td>2019-04-03 12:26:49.578</td>\n",
       "    </tr>\n",
       "    <tr>\n",
       "      <th>2019-04-03 12:32:50.049</th>\n",
       "      <td>10017</td>\n",
       "      <td>1</td>\n",
       "      <td>4973.54</td>\n",
       "      <td>-1</td>\n",
       "      <td>1</td>\n",
       "      <td>True</td>\n",
       "      <td>2019-04-03 12:32:50.049</td>\n",
       "    </tr>\n",
       "    <tr>\n",
       "      <th>2019-04-03 12:26:49.697</th>\n",
       "      <td>10008</td>\n",
       "      <td>1</td>\n",
       "      <td>5074.02</td>\n",
       "      <td>-1</td>\n",
       "      <td>1</td>\n",
       "      <td>True</td>\n",
       "      <td>2019-04-03 12:26:49.697</td>\n",
       "    </tr>\n",
       "    <tr>\n",
       "      <th>2019-04-03 12:32:50.173</th>\n",
       "      <td>10018</td>\n",
       "      <td>1</td>\n",
       "      <td>5074.02</td>\n",
       "      <td>1</td>\n",
       "      <td>1</td>\n",
       "      <td>True</td>\n",
       "      <td>2019-04-03 12:32:50.173</td>\n",
       "    </tr>\n",
       "    <tr>\n",
       "      <th>2019-04-03 12:28:09.875</th>\n",
       "      <td>10012</td>\n",
       "      <td>1</td>\n",
       "      <td>5072.52</td>\n",
       "      <td>-1</td>\n",
       "      <td>2</td>\n",
       "      <td>True</td>\n",
       "      <td>2019-04-03 12:28:09.875</td>\n",
       "    </tr>\n",
       "    <tr>\n",
       "      <th>2019-04-03 12:32:33.743</th>\n",
       "      <td>10015</td>\n",
       "      <td>1</td>\n",
       "      <td>4510.54</td>\n",
       "      <td>1</td>\n",
       "      <td>4</td>\n",
       "      <td>True</td>\n",
       "      <td>2019-04-03 12:32:33.743</td>\n",
       "    </tr>\n",
       "    <tr>\n",
       "      <th>2019-04-03 12:32:33.866</th>\n",
       "      <td>10016</td>\n",
       "      <td>1</td>\n",
       "      <td>5512.88</td>\n",
       "      <td>-1</td>\n",
       "      <td>4</td>\n",
       "      <td>True</td>\n",
       "      <td>2019-04-03 12:32:33.866</td>\n",
       "    </tr>\n",
       "    <tr>\n",
       "      <th>2019-04-03 12:32:51.556</th>\n",
       "      <td>10019</td>\n",
       "      <td>1</td>\n",
       "      <td>4961.95</td>\n",
       "      <td>1</td>\n",
       "      <td>1</td>\n",
       "      <td>True</td>\n",
       "      <td>2019-04-03 12:32:51.556</td>\n",
       "    </tr>\n",
       "    <tr>\n",
       "      <th>2019-04-03 12:32:51.672</th>\n",
       "      <td>10020</td>\n",
       "      <td>1</td>\n",
       "      <td>5062.19</td>\n",
       "      <td>-1</td>\n",
       "      <td>1</td>\n",
       "      <td>True</td>\n",
       "      <td>2019-04-03 12:32:51.672</td>\n",
       "    </tr>\n",
       "    <tr>\n",
       "      <th>2019-04-03 12:28:09.755</th>\n",
       "      <td>10011</td>\n",
       "      <td>1</td>\n",
       "      <td>4972.08</td>\n",
       "      <td>1</td>\n",
       "      <td>2</td>\n",
       "      <td>True</td>\n",
       "      <td>2019-04-03 12:28:09.755</td>\n",
       "    </tr>\n",
       "    <tr>\n",
       "      <th>2019-03-30 16:08:25.411</th>\n",
       "      <td>1004</td>\n",
       "      <td>1</td>\n",
       "      <td>4137.52</td>\n",
       "      <td>-1</td>\n",
       "      <td>2</td>\n",
       "      <td>True</td>\n",
       "      <td>2019-03-30 16:08:25.411</td>\n",
       "    </tr>\n",
       "    <tr>\n",
       "      <th>2019-04-03 12:34:10.228</th>\n",
       "      <td>10021</td>\n",
       "      <td>1</td>\n",
       "      <td>4972.08</td>\n",
       "      <td>-1</td>\n",
       "      <td>2</td>\n",
       "      <td>True</td>\n",
       "      <td>2019-04-03 12:34:10.228</td>\n",
       "    </tr>\n",
       "    <tr>\n",
       "      <th>2019-04-03 12:34:10.345</th>\n",
       "      <td>10022</td>\n",
       "      <td>1</td>\n",
       "      <td>5072.52</td>\n",
       "      <td>1</td>\n",
       "      <td>2</td>\n",
       "      <td>True</td>\n",
       "      <td>2019-04-03 12:34:10.345</td>\n",
       "    </tr>\n",
       "    <tr>\n",
       "      <th>2019-04-03 12:38:34.248</th>\n",
       "      <td>10025</td>\n",
       "      <td>1</td>\n",
       "      <td>4510.54</td>\n",
       "      <td>-1</td>\n",
       "      <td>4</td>\n",
       "      <td>True</td>\n",
       "      <td>2019-04-03 12:38:34.248</td>\n",
       "    </tr>\n",
       "    <tr>\n",
       "      <th>...</th>\n",
       "      <td>...</td>\n",
       "      <td>...</td>\n",
       "      <td>...</td>\n",
       "      <td>...</td>\n",
       "      <td>...</td>\n",
       "      <td>...</td>\n",
       "      <td>...</td>\n",
       "    </tr>\n",
       "    <tr>\n",
       "      <th>2019-04-03 12:08:23.713</th>\n",
       "      <td>9968</td>\n",
       "      <td>1</td>\n",
       "      <td>5490.22</td>\n",
       "      <td>-1</td>\n",
       "      <td>4</td>\n",
       "      <td>True</td>\n",
       "      <td>2019-04-03 12:08:23.713</td>\n",
       "    </tr>\n",
       "    <tr>\n",
       "      <th>2019-04-03 12:14:24.195</th>\n",
       "      <td>9978</td>\n",
       "      <td>1</td>\n",
       "      <td>5490.22</td>\n",
       "      <td>1</td>\n",
       "      <td>4</td>\n",
       "      <td>True</td>\n",
       "      <td>2019-04-03 12:14:24.195</td>\n",
       "    </tr>\n",
       "    <tr>\n",
       "      <th>2019-04-03 12:08:43.321</th>\n",
       "      <td>9971</td>\n",
       "      <td>1</td>\n",
       "      <td>4939.60</td>\n",
       "      <td>1</td>\n",
       "      <td>1</td>\n",
       "      <td>True</td>\n",
       "      <td>2019-04-03 12:08:43.321</td>\n",
       "    </tr>\n",
       "    <tr>\n",
       "      <th>2019-04-03 12:14:43.813</th>\n",
       "      <td>9981</td>\n",
       "      <td>1</td>\n",
       "      <td>4939.60</td>\n",
       "      <td>-1</td>\n",
       "      <td>1</td>\n",
       "      <td>True</td>\n",
       "      <td>2019-04-03 12:14:43.813</td>\n",
       "    </tr>\n",
       "    <tr>\n",
       "      <th>2019-04-03 12:08:43.442</th>\n",
       "      <td>9972</td>\n",
       "      <td>1</td>\n",
       "      <td>5039.40</td>\n",
       "      <td>-1</td>\n",
       "      <td>1</td>\n",
       "      <td>True</td>\n",
       "      <td>2019-04-03 12:08:43.442</td>\n",
       "    </tr>\n",
       "    <tr>\n",
       "      <th>2019-04-03 12:14:43.934</th>\n",
       "      <td>9982</td>\n",
       "      <td>1</td>\n",
       "      <td>5039.40</td>\n",
       "      <td>1</td>\n",
       "      <td>1</td>\n",
       "      <td>True</td>\n",
       "      <td>2019-04-03 12:14:43.934</td>\n",
       "    </tr>\n",
       "    <tr>\n",
       "      <th>2019-04-03 12:10:03.274</th>\n",
       "      <td>9975</td>\n",
       "      <td>1</td>\n",
       "      <td>4938.55</td>\n",
       "      <td>1</td>\n",
       "      <td>2</td>\n",
       "      <td>True</td>\n",
       "      <td>2019-04-03 12:10:03.274</td>\n",
       "    </tr>\n",
       "    <tr>\n",
       "      <th>2019-04-03 12:16:03.747</th>\n",
       "      <td>9985</td>\n",
       "      <td>1</td>\n",
       "      <td>4938.55</td>\n",
       "      <td>-1</td>\n",
       "      <td>2</td>\n",
       "      <td>True</td>\n",
       "      <td>2019-04-03 12:16:03.747</td>\n",
       "    </tr>\n",
       "    <tr>\n",
       "      <th>2019-03-30 16:04:29.509</th>\n",
       "      <td>996</td>\n",
       "      <td>1</td>\n",
       "      <td>4502.24</td>\n",
       "      <td>-1</td>\n",
       "      <td>4</td>\n",
       "      <td>True</td>\n",
       "      <td>2019-03-30 16:04:29.509</td>\n",
       "    </tr>\n",
       "    <tr>\n",
       "      <th>2019-04-03 12:10:03.390</th>\n",
       "      <td>9976</td>\n",
       "      <td>1</td>\n",
       "      <td>5038.31</td>\n",
       "      <td>-1</td>\n",
       "      <td>2</td>\n",
       "      <td>True</td>\n",
       "      <td>2019-04-03 12:10:03.390</td>\n",
       "    </tr>\n",
       "    <tr>\n",
       "      <th>2019-04-03 12:16:03.872</th>\n",
       "      <td>9986</td>\n",
       "      <td>1</td>\n",
       "      <td>5038.31</td>\n",
       "      <td>1</td>\n",
       "      <td>2</td>\n",
       "      <td>True</td>\n",
       "      <td>2019-04-03 12:16:03.872</td>\n",
       "    </tr>\n",
       "    <tr>\n",
       "      <th>2019-04-03 12:14:26.132</th>\n",
       "      <td>9979</td>\n",
       "      <td>1</td>\n",
       "      <td>4502.88</td>\n",
       "      <td>1</td>\n",
       "      <td>4</td>\n",
       "      <td>True</td>\n",
       "      <td>2019-04-03 12:14:26.132</td>\n",
       "    </tr>\n",
       "    <tr>\n",
       "      <th>2019-04-03 12:20:26.595</th>\n",
       "      <td>9989</td>\n",
       "      <td>1</td>\n",
       "      <td>4502.88</td>\n",
       "      <td>-1</td>\n",
       "      <td>4</td>\n",
       "      <td>True</td>\n",
       "      <td>2019-04-03 12:20:26.595</td>\n",
       "    </tr>\n",
       "    <tr>\n",
       "      <th>2019-04-03 12:14:26.251</th>\n",
       "      <td>9980</td>\n",
       "      <td>1</td>\n",
       "      <td>5503.52</td>\n",
       "      <td>-1</td>\n",
       "      <td>4</td>\n",
       "      <td>True</td>\n",
       "      <td>2019-04-03 12:14:26.251</td>\n",
       "    </tr>\n",
       "    <tr>\n",
       "      <th>2019-04-03 12:20:26.719</th>\n",
       "      <td>9990</td>\n",
       "      <td>1</td>\n",
       "      <td>5503.52</td>\n",
       "      <td>1</td>\n",
       "      <td>4</td>\n",
       "      <td>True</td>\n",
       "      <td>2019-04-03 12:20:26.719</td>\n",
       "    </tr>\n",
       "    <tr>\n",
       "      <th>2019-04-03 12:14:45.557</th>\n",
       "      <td>9984</td>\n",
       "      <td>1</td>\n",
       "      <td>5067.01</td>\n",
       "      <td>-1</td>\n",
       "      <td>1</td>\n",
       "      <td>True</td>\n",
       "      <td>2019-04-03 12:14:45.557</td>\n",
       "    </tr>\n",
       "    <tr>\n",
       "      <th>2019-04-03 12:16:05.674</th>\n",
       "      <td>9987</td>\n",
       "      <td>1</td>\n",
       "      <td>4965.42</td>\n",
       "      <td>1</td>\n",
       "      <td>2</td>\n",
       "      <td>True</td>\n",
       "      <td>2019-04-03 12:16:05.674</td>\n",
       "    </tr>\n",
       "    <tr>\n",
       "      <th>2019-04-03 12:16:05.792</th>\n",
       "      <td>9988</td>\n",
       "      <td>1</td>\n",
       "      <td>5065.74</td>\n",
       "      <td>-1</td>\n",
       "      <td>2</td>\n",
       "      <td>True</td>\n",
       "      <td>2019-04-03 12:16:05.792</td>\n",
       "    </tr>\n",
       "    <tr>\n",
       "      <th>2019-04-03 12:20:28.435</th>\n",
       "      <td>9991</td>\n",
       "      <td>1</td>\n",
       "      <td>4514.40</td>\n",
       "      <td>1</td>\n",
       "      <td>4</td>\n",
       "      <td>True</td>\n",
       "      <td>2019-04-03 12:20:28.435</td>\n",
       "    </tr>\n",
       "    <tr>\n",
       "      <th>2019-03-30 16:05:14.810</th>\n",
       "      <td>999</td>\n",
       "      <td>1</td>\n",
       "      <td>4051.77</td>\n",
       "      <td>1</td>\n",
       "      <td>1</td>\n",
       "      <td>True</td>\n",
       "      <td>2019-03-30 16:05:14.810</td>\n",
       "    </tr>\n",
       "    <tr>\n",
       "      <th>2019-04-03 12:20:28.553</th>\n",
       "      <td>9992</td>\n",
       "      <td>1</td>\n",
       "      <td>5517.60</td>\n",
       "      <td>-1</td>\n",
       "      <td>4</td>\n",
       "      <td>True</td>\n",
       "      <td>2019-04-03 12:20:28.553</td>\n",
       "    </tr>\n",
       "    <tr>\n",
       "      <th>2019-04-03 12:14:45.440</th>\n",
       "      <td>9983</td>\n",
       "      <td>1</td>\n",
       "      <td>4966.67</td>\n",
       "      <td>1</td>\n",
       "      <td>1</td>\n",
       "      <td>True</td>\n",
       "      <td>2019-04-03 12:14:45.440</td>\n",
       "    </tr>\n",
       "    <tr>\n",
       "      <th>2019-04-03 12:20:45.918</th>\n",
       "      <td>9993</td>\n",
       "      <td>1</td>\n",
       "      <td>4966.67</td>\n",
       "      <td>-1</td>\n",
       "      <td>1</td>\n",
       "      <td>True</td>\n",
       "      <td>2019-04-03 12:20:45.918</td>\n",
       "    </tr>\n",
       "    <tr>\n",
       "      <th>2019-04-03 12:20:46.043</th>\n",
       "      <td>9994</td>\n",
       "      <td>1</td>\n",
       "      <td>5067.01</td>\n",
       "      <td>1</td>\n",
       "      <td>1</td>\n",
       "      <td>True</td>\n",
       "      <td>2019-04-03 12:20:46.043</td>\n",
       "    </tr>\n",
       "    <tr>\n",
       "      <th>2019-04-03 12:22:06.147</th>\n",
       "      <td>9997</td>\n",
       "      <td>1</td>\n",
       "      <td>4965.42</td>\n",
       "      <td>-1</td>\n",
       "      <td>2</td>\n",
       "      <td>True</td>\n",
       "      <td>2019-04-03 12:22:06.147</td>\n",
       "    </tr>\n",
       "    <tr>\n",
       "      <th>2019-04-03 12:22:06.266</th>\n",
       "      <td>9998</td>\n",
       "      <td>1</td>\n",
       "      <td>5065.74</td>\n",
       "      <td>1</td>\n",
       "      <td>2</td>\n",
       "      <td>True</td>\n",
       "      <td>2019-04-03 12:22:06.266</td>\n",
       "    </tr>\n",
       "    <tr>\n",
       "      <th>2019-04-03 12:26:28.908</th>\n",
       "      <td>10001</td>\n",
       "      <td>1</td>\n",
       "      <td>4514.40</td>\n",
       "      <td>-1</td>\n",
       "      <td>4</td>\n",
       "      <td>True</td>\n",
       "      <td>2019-04-03 12:26:28.908</td>\n",
       "    </tr>\n",
       "    <tr>\n",
       "      <th>2019-04-03 12:26:29.034</th>\n",
       "      <td>10002</td>\n",
       "      <td>1</td>\n",
       "      <td>5517.60</td>\n",
       "      <td>1</td>\n",
       "      <td>4</td>\n",
       "      <td>True</td>\n",
       "      <td>2019-04-03 12:26:29.034</td>\n",
       "    </tr>\n",
       "    <tr>\n",
       "      <th>2019-04-03 12:20:47.486</th>\n",
       "      <td>9995</td>\n",
       "      <td>1</td>\n",
       "      <td>4963.58</td>\n",
       "      <td>1</td>\n",
       "      <td>1</td>\n",
       "      <td>True</td>\n",
       "      <td>2019-04-03 12:20:47.486</td>\n",
       "    </tr>\n",
       "    <tr>\n",
       "      <th>2019-04-03 12:26:47.978</th>\n",
       "      <td>10005</td>\n",
       "      <td>1</td>\n",
       "      <td>4963.58</td>\n",
       "      <td>-1</td>\n",
       "      <td>1</td>\n",
       "      <td>True</td>\n",
       "      <td>2019-04-03 12:26:47.978</td>\n",
       "    </tr>\n",
       "  </tbody>\n",
       "</table>\n",
       "<p>17860 rows × 7 columns</p>\n",
       "</div>"
      ],
      "text/plain": [
       "                         tradeId  marketId    price  quantity  traderId  \\\n",
       "timeStampUTC                                                              \n",
       "2019-03-30 05:00:17.982        1         1  4057.43         1         2   \n",
       "2019-03-30 05:00:18.103        2         1  4139.39        -1         2   \n",
       "2019-03-30 05:37:07.364       15         1  4064.87        -1         1   \n",
       "2019-03-30 08:02:02.566       97         1  4066.70         1         1   \n",
       "2019-03-30 16:05:14.908     1000         1  4133.63        -1         1   \n",
       "2019-04-03 12:20:47.609     9996         1  5063.86        -1         1   \n",
       "2019-04-03 12:26:48.099    10006         1  5063.86         1         1   \n",
       "2019-04-03 12:22:07.712     9999         1  4964.63         1         2   \n",
       "2019-04-03 12:28:08.197    10009         1  4964.63        -1         2   \n",
       "2019-04-03 12:22:07.831    10000         1  5064.93        -1         2   \n",
       "2019-04-03 12:28:08.316    10010         1  5064.93         1         2   \n",
       "2019-04-03 12:26:30.478    10003         1  4528.06         1         4   \n",
       "2019-04-03 12:32:30.965    10013         1  4528.06        -1         4   \n",
       "2019-04-03 12:26:30.597    10004         1  5534.30        -1         4   \n",
       "2019-04-03 12:32:31.088    10014         1  5534.30         1         4   \n",
       "2019-03-30 16:08:25.313     1003         1  4055.58         1         2   \n",
       "2019-04-03 12:26:49.578    10007         1  4973.54         1         1   \n",
       "2019-04-03 12:32:50.049    10017         1  4973.54        -1         1   \n",
       "2019-04-03 12:26:49.697    10008         1  5074.02        -1         1   \n",
       "2019-04-03 12:32:50.173    10018         1  5074.02         1         1   \n",
       "2019-04-03 12:28:09.875    10012         1  5072.52        -1         2   \n",
       "2019-04-03 12:32:33.743    10015         1  4510.54         1         4   \n",
       "2019-04-03 12:32:33.866    10016         1  5512.88        -1         4   \n",
       "2019-04-03 12:32:51.556    10019         1  4961.95         1         1   \n",
       "2019-04-03 12:32:51.672    10020         1  5062.19        -1         1   \n",
       "2019-04-03 12:28:09.755    10011         1  4972.08         1         2   \n",
       "2019-03-30 16:08:25.411     1004         1  4137.52        -1         2   \n",
       "2019-04-03 12:34:10.228    10021         1  4972.08        -1         2   \n",
       "2019-04-03 12:34:10.345    10022         1  5072.52         1         2   \n",
       "2019-04-03 12:38:34.248    10025         1  4510.54        -1         4   \n",
       "...                          ...       ...      ...       ...       ...   \n",
       "2019-04-03 12:08:23.713     9968         1  5490.22        -1         4   \n",
       "2019-04-03 12:14:24.195     9978         1  5490.22         1         4   \n",
       "2019-04-03 12:08:43.321     9971         1  4939.60         1         1   \n",
       "2019-04-03 12:14:43.813     9981         1  4939.60        -1         1   \n",
       "2019-04-03 12:08:43.442     9972         1  5039.40        -1         1   \n",
       "2019-04-03 12:14:43.934     9982         1  5039.40         1         1   \n",
       "2019-04-03 12:10:03.274     9975         1  4938.55         1         2   \n",
       "2019-04-03 12:16:03.747     9985         1  4938.55        -1         2   \n",
       "2019-03-30 16:04:29.509      996         1  4502.24        -1         4   \n",
       "2019-04-03 12:10:03.390     9976         1  5038.31        -1         2   \n",
       "2019-04-03 12:16:03.872     9986         1  5038.31         1         2   \n",
       "2019-04-03 12:14:26.132     9979         1  4502.88         1         4   \n",
       "2019-04-03 12:20:26.595     9989         1  4502.88        -1         4   \n",
       "2019-04-03 12:14:26.251     9980         1  5503.52        -1         4   \n",
       "2019-04-03 12:20:26.719     9990         1  5503.52         1         4   \n",
       "2019-04-03 12:14:45.557     9984         1  5067.01        -1         1   \n",
       "2019-04-03 12:16:05.674     9987         1  4965.42         1         2   \n",
       "2019-04-03 12:16:05.792     9988         1  5065.74        -1         2   \n",
       "2019-04-03 12:20:28.435     9991         1  4514.40         1         4   \n",
       "2019-03-30 16:05:14.810      999         1  4051.77         1         1   \n",
       "2019-04-03 12:20:28.553     9992         1  5517.60        -1         4   \n",
       "2019-04-03 12:14:45.440     9983         1  4966.67         1         1   \n",
       "2019-04-03 12:20:45.918     9993         1  4966.67        -1         1   \n",
       "2019-04-03 12:20:46.043     9994         1  5067.01         1         1   \n",
       "2019-04-03 12:22:06.147     9997         1  4965.42        -1         2   \n",
       "2019-04-03 12:22:06.266     9998         1  5065.74         1         2   \n",
       "2019-04-03 12:26:28.908    10001         1  4514.40        -1         4   \n",
       "2019-04-03 12:26:29.034    10002         1  5517.60         1         4   \n",
       "2019-04-03 12:20:47.486     9995         1  4963.58         1         1   \n",
       "2019-04-03 12:26:47.978    10005         1  4963.58        -1         1   \n",
       "\n",
       "                         iMatched            timeStampUTC  \n",
       "timeStampUTC                                               \n",
       "2019-03-30 05:00:17.982     False 2019-03-30 05:00:17.982  \n",
       "2019-03-30 05:00:18.103     False 2019-03-30 05:00:18.103  \n",
       "2019-03-30 05:37:07.364      True 2019-03-30 05:37:07.364  \n",
       "2019-03-30 08:02:02.566      True 2019-03-30 08:02:02.566  \n",
       "2019-03-30 16:05:14.908      True 2019-03-30 16:05:14.908  \n",
       "2019-04-03 12:20:47.609      True 2019-04-03 12:20:47.609  \n",
       "2019-04-03 12:26:48.099      True 2019-04-03 12:26:48.099  \n",
       "2019-04-03 12:22:07.712      True 2019-04-03 12:22:07.712  \n",
       "2019-04-03 12:28:08.197      True 2019-04-03 12:28:08.197  \n",
       "2019-04-03 12:22:07.831      True 2019-04-03 12:22:07.831  \n",
       "2019-04-03 12:28:08.316      True 2019-04-03 12:28:08.316  \n",
       "2019-04-03 12:26:30.478      True 2019-04-03 12:26:30.478  \n",
       "2019-04-03 12:32:30.965      True 2019-04-03 12:32:30.965  \n",
       "2019-04-03 12:26:30.597      True 2019-04-03 12:26:30.597  \n",
       "2019-04-03 12:32:31.088      True 2019-04-03 12:32:31.088  \n",
       "2019-03-30 16:08:25.313      True 2019-03-30 16:08:25.313  \n",
       "2019-04-03 12:26:49.578      True 2019-04-03 12:26:49.578  \n",
       "2019-04-03 12:32:50.049      True 2019-04-03 12:32:50.049  \n",
       "2019-04-03 12:26:49.697      True 2019-04-03 12:26:49.697  \n",
       "2019-04-03 12:32:50.173      True 2019-04-03 12:32:50.173  \n",
       "2019-04-03 12:28:09.875      True 2019-04-03 12:28:09.875  \n",
       "2019-04-03 12:32:33.743      True 2019-04-03 12:32:33.743  \n",
       "2019-04-03 12:32:33.866      True 2019-04-03 12:32:33.866  \n",
       "2019-04-03 12:32:51.556      True 2019-04-03 12:32:51.556  \n",
       "2019-04-03 12:32:51.672      True 2019-04-03 12:32:51.672  \n",
       "2019-04-03 12:28:09.755      True 2019-04-03 12:28:09.755  \n",
       "2019-03-30 16:08:25.411      True 2019-03-30 16:08:25.411  \n",
       "2019-04-03 12:34:10.228      True 2019-04-03 12:34:10.228  \n",
       "2019-04-03 12:34:10.345      True 2019-04-03 12:34:10.345  \n",
       "2019-04-03 12:38:34.248      True 2019-04-03 12:38:34.248  \n",
       "...                           ...                     ...  \n",
       "2019-04-03 12:08:23.713      True 2019-04-03 12:08:23.713  \n",
       "2019-04-03 12:14:24.195      True 2019-04-03 12:14:24.195  \n",
       "2019-04-03 12:08:43.321      True 2019-04-03 12:08:43.321  \n",
       "2019-04-03 12:14:43.813      True 2019-04-03 12:14:43.813  \n",
       "2019-04-03 12:08:43.442      True 2019-04-03 12:08:43.442  \n",
       "2019-04-03 12:14:43.934      True 2019-04-03 12:14:43.934  \n",
       "2019-04-03 12:10:03.274      True 2019-04-03 12:10:03.274  \n",
       "2019-04-03 12:16:03.747      True 2019-04-03 12:16:03.747  \n",
       "2019-03-30 16:04:29.509      True 2019-03-30 16:04:29.509  \n",
       "2019-04-03 12:10:03.390      True 2019-04-03 12:10:03.390  \n",
       "2019-04-03 12:16:03.872      True 2019-04-03 12:16:03.872  \n",
       "2019-04-03 12:14:26.132      True 2019-04-03 12:14:26.132  \n",
       "2019-04-03 12:20:26.595      True 2019-04-03 12:20:26.595  \n",
       "2019-04-03 12:14:26.251      True 2019-04-03 12:14:26.251  \n",
       "2019-04-03 12:20:26.719      True 2019-04-03 12:20:26.719  \n",
       "2019-04-03 12:14:45.557      True 2019-04-03 12:14:45.557  \n",
       "2019-04-03 12:16:05.674      True 2019-04-03 12:16:05.674  \n",
       "2019-04-03 12:16:05.792      True 2019-04-03 12:16:05.792  \n",
       "2019-04-03 12:20:28.435      True 2019-04-03 12:20:28.435  \n",
       "2019-03-30 16:05:14.810      True 2019-03-30 16:05:14.810  \n",
       "2019-04-03 12:20:28.553      True 2019-04-03 12:20:28.553  \n",
       "2019-04-03 12:14:45.440      True 2019-04-03 12:14:45.440  \n",
       "2019-04-03 12:20:45.918      True 2019-04-03 12:20:45.918  \n",
       "2019-04-03 12:20:46.043      True 2019-04-03 12:20:46.043  \n",
       "2019-04-03 12:22:06.147      True 2019-04-03 12:22:06.147  \n",
       "2019-04-03 12:22:06.266      True 2019-04-03 12:22:06.266  \n",
       "2019-04-03 12:26:28.908      True 2019-04-03 12:26:28.908  \n",
       "2019-04-03 12:26:29.034      True 2019-04-03 12:26:29.034  \n",
       "2019-04-03 12:20:47.486      True 2019-04-03 12:20:47.486  \n",
       "2019-04-03 12:26:47.978      True 2019-04-03 12:26:47.978  \n",
       "\n",
       "[17860 rows x 7 columns]"
      ]
     },
     "execution_count": 26,
     "metadata": {},
     "output_type": "execute_result"
    }
   ],
   "source": [
    "a"
   ]
  },
  {
   "cell_type": "code",
   "execution_count": 65,
   "metadata": {},
   "outputs": [
    {
     "data": {
      "text/plain": [
       "{'content-type': 'application/json'}"
      ]
     },
     "execution_count": 65,
     "metadata": {},
     "output_type": "execute_result"
    }
   ],
   "source": [
    "headers"
   ]
  },
  {
   "cell_type": "code",
   "execution_count": 27,
   "metadata": {},
   "outputs": [
    {
     "data": {
      "text/plain": [
       "Text(0.5, 1.0, 'Time series for market 1')"
      ]
     },
     "execution_count": 27,
     "metadata": {},
     "output_type": "execute_result"
    },
    {
     "data": {
      "image/png": "[encoded data removed]",
      "text/plain": [
       "<Figure size 432x288 with 1 Axes>"
      ]
     },
     "metadata": {
      "needs_background": "light"
     },
     "output_type": "display_data"
    }
   ],
   "source": [
    "\n",
    "bids = a[a['quantity']<0]\n",
    "asks = a[a['quantity']>0]\n",
    "plt.figure(); \n",
    "plt.plot(bids['timeStampUTC'],bids['price'], 'ro');\n",
    "plt.plot(asks['timeStampUTC'],asks['price'], 'go');\n",
    "plt.legend(('bid', 'ask')); plt.title('Time series for market ' + str(1))\n"
   ]
  },
  {
   "cell_type": "code",
   "execution_count": 28,
   "metadata": {},
   "outputs": [],
   "source": [
    "# View summary of trader for a particular trader\n",
    "\n",
    "#baseurl = 'http://blocmarket.herokuapp.com/'\n",
    "url = baseurl+'viewTickHistory'\n",
    "headers = {'content-type': 'application/json'}\n",
    "content = {'marketId': int(1), 'startTime': time.time() - 10*60*60*24, 'endTime': time.time() }\n",
    "response = requests.post(url, data=json.dumps(content), headers=headers, stream=True)\n",
    "th = pd.read_json(response.json()).reset_index(drop=True)\n",
    "\n"
   ]
  },
  {
   "cell_type": "code",
   "execution_count": 29,
   "metadata": {},
   "outputs": [
    {
     "data": {
      "text/plain": [
       "1554604052.8371148"
      ]
     },
     "execution_count": 29,
     "metadata": {},
     "output_type": "execute_result"
    }
   ],
   "source": [
    "time.time()"
   ]
  },
  {
   "cell_type": "code",
   "execution_count": 31,
   "metadata": {},
   "outputs": [
    {
     "data": {
      "text/plain": [
       "Text(0.5, 1.0, 'Time series for market  / trader')"
      ]
     },
     "execution_count": 31,
     "metadata": {},
     "output_type": "execute_result"
    },
    {
     "data": {
      "image/png": "[encoded data removed]",
      "text/plain": [
       "<Figure size 432x288 with 1 Axes>"
      ]
     },
     "metadata": {
      "needs_background": "light"
     },
     "output_type": "display_data"
    }
   ],
   "source": [
    "# Plot bids and offers\n",
    "bids = th[th.tickType == 'BID']\n",
    "asks = th[th.tickType == 'ASK']\n",
    "trades = th[th.tickType == 'TRADE']\n",
    "\n",
    "plt.figure(); \n",
    "plt.plot(bids['timeStampUTC'],bids['price'], 'ro');\n",
    "plt.plot(asks['timeStampUTC'],asks['price'], 'go');\n",
    "plt.plot(trades['timeStampUTC'],trades['price'], 'bo');\n",
    "plt.legend(('bid', 'ask', 'trade')); plt.title('Time series for market  / trader' )"
   ]
  },
  {
   "cell_type": "code",
   "execution_count": null,
   "metadata": {},
   "outputs": [],
   "source": [
    "bids."
   ]
  },
  {
   "cell_type": "code",
   "execution_count": 32,
   "metadata": {},
   "outputs": [],
   "source": [
    "# Current order book\n",
    "currentBids = bids.loc[~bids.iMatched]\n",
    "currentAsks = asks.loc[~asks.iMatched]\n",
    "\n",
    "# Current best bid\n",
    "bestbid = currentBids.price.max()\n",
    "bestoffer = currentAsks.price.min()"
   ]
  },
  {
   "cell_type": "code",
   "execution_count": 495,
   "metadata": {},
   "outputs": [
    {
     "data": {
      "text/plain": [
       "4138.41"
      ]
     },
     "execution_count": 495,
     "metadata": {},
     "output_type": "execute_result"
    }
   ],
   "source": [
    "bestoffer"
   ]
  },
  {
   "cell_type": "code",
   "execution_count": null,
   "metadata": {},
   "outputs": [],
   "source": []
  }
 ],
 "metadata": {
  "kernelspec": {
   "display_name": "Python 3",
   "language": "python",
   "name": "python3"
  },
  "language_info": {
   "codemirror_mode": {
    "name": "ipython",
    "version": 3
   },
   "file_extension": ".py",
   "mimetype": "text/x-python",
   "name": "python",
   "nbconvert_exporter": "python",
   "pygments_lexer": "ipython3",
   "version": "3.7.1"
  }
 },
 "nbformat": 4,
 "nbformat_minor": 2
}
