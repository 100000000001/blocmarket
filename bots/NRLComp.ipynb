{
 "cells": [
  {
   "cell_type": "markdown",
   "metadata": {},
   "source": [
    "# NRL Comp setup\n",
    "\n",
    "## Setting up markets and bots:\n",
    "- On clean Heroku database\n",
    "- Create a user for createMarket and for the bots.\n",
    "- Set up markets on Monday night. Time is ISO8601 with a UTC offset to go to Brisbane time. Outcome between 0 and 10000 (10000 = StGeorge win, 0 = NewCastle win )\n",
    "- Setup bot with BetfairPriceMakingBot(marketId, runnerId) looks at the market description and sets itself up. These will keep quoting until they encounter an error or run out of money. If they go down, put up again manually.\n",
    "- Settle all markets at the end of the week.\n",
    "\n"
   ]
  },
  {
   "cell_type": "code",
   "execution_count": 1,
   "metadata": {},
   "outputs": [],
   "source": [
    "# Auto-reload after edits\n",
    "%load_ext autoreload\n",
    "%autoreload 2\n",
    "\n",
    "# Basic bot \n",
    "import requests\n",
    "import pandas as pd\n",
    "import json\n",
    "import threading\n",
    "from BlocBot import BlocBot\n",
    "from BetfairPriceMakingBot import BetfairPriceMakingBot\n",
    "import betfair as bf\n"
   ]
  },
  {
   "cell_type": "code",
   "execution_count": 2,
   "metadata": {},
   "outputs": [],
   "source": [
    "# Create a new user\n",
    "baseurl = 'http://127.0.0.1:5000/'\n",
    "#baseurl = 'https://blocmarket.herokuapp.com/'\n",
    "url = baseurl +'createUser'\n",
    "headers = {'content-type': 'application/json'}\n",
    "content = {}\n",
    "response = requests.post(url, data=json.dumps(content))"
   ]
  },
  {
   "cell_type": "code",
   "execution_count": 3,
   "metadata": {},
   "outputs": [
    {
     "data": {
      "text/plain": [
       "{'signingKey': '242723508bfa23dc5af33d4d29a9852286dcdbbbf264a8c8f2ac3b379f57e493',\n",
       " 'traderId': '23',\n",
       " 'verifyKey': '7d0b3f8e81648619fd62380d50b2f3a6db49c8856d313d72c8a397158b16d67e'}"
      ]
     },
     "execution_count": 3,
     "metadata": {},
     "output_type": "execute_result"
    }
   ],
   "source": [
    "response.json()"
   ]
  },
  {
   "cell_type": "code",
   "execution_count": 4,
   "metadata": {},
   "outputs": [],
   "source": [
    "# Save user details\n",
    "sk = response.json()['signingKey']\n",
    "vk = response.json()['verifyKey']\n",
    "tId = int(response.json()['traderId'])"
   ]
  },
  {
   "cell_type": "code",
   "execution_count": 5,
   "metadata": {},
   "outputs": [],
   "source": [
    "# Set up event in spevent -> manual (Note: NEVER DO THIS. Get the bot to pick up the market details.)\n",
    "baseurl = 'http://127.0.0.1:5000/'\n",
    "\n",
    "\n",
    "url = baseurl + 'createSPEvent'\n",
    "headers = {'content-type': 'application/json'}\n",
    "\n",
    "content_makeevent = {\"sport\": \"Rugby League\",\n",
    "                        \"competition\": \"NRL\",\n",
    "                        \"runners\": json.dumps({\"0\": \"Newcastle\", \"1\": \"NZ warriors\"}), \n",
    "                        \"starttimestamputc\": \"6-Jul-2019\"}\n",
    "# Post market\n",
    "response = requests.post(url, data=json.dumps(content_makeevent), headers=headers)"
   ]
  },
  {
   "cell_type": "code",
   "execution_count": 6,
   "metadata": {},
   "outputs": [
    {
     "data": {
      "text/plain": [
       "'5'"
      ]
     },
     "execution_count": 6,
     "metadata": {},
     "output_type": "execute_result"
    }
   ],
   "source": [
    "eventid = response.json()['eventid']\n",
    "eventid"
   ]
  },
  {
   "cell_type": "code",
   "execution_count": 23,
   "metadata": {},
   "outputs": [],
   "source": [
    "# Set up market in spmarket (for money line -> set betfairid in marketparameters json )\n",
    "url = baseurl + 'createSPMarket'\n",
    "\n",
    "content_makemarket = {\"eventid\": eventid,\n",
    "                        \"markettype\": \"MATCH_ODDS\", \n",
    "                        \"marketparameters\": json.dumps({'source': {'betfair': {'marketid':'1.159418817'}}}),\n",
    "                        \"notes\": \"\"}\n",
    "# Post market\n",
    "response = requests.post(url, data=json.dumps(content_makemarket), headers=headers)\n"
   ]
  },
  {
   "cell_type": "code",
   "execution_count": 24,
   "metadata": {},
   "outputs": [
    {
     "data": {
      "text/plain": [
       "'8'"
      ]
     },
     "execution_count": 24,
     "metadata": {},
     "output_type": "execute_result"
    }
   ],
   "source": [
    "spmarketid = response.json()['marketid']\n",
    "spmarketid"
   ]
  },
  {
   "cell_type": "code",
   "execution_count": 25,
   "metadata": {},
   "outputs": [],
   "source": [
    "# Set up market with marketDesc as 'spmarketid: 8' etc (Use this for bots to pick up)\n",
    "url = baseurl + 'createMarket'\n",
    "headers = {'content-type': 'application/json'}\n",
    "\n",
    "content_makemarket = {\"signingKey\": sk,\n",
    "                        \"traderId\": tId, \n",
    "                        \"verifyKey\": vk,\n",
    "                        \"marketRootId\": 14, \n",
    "                        \"marketBranchId\": 1, \n",
    "                        \"marketMin\": 0,\n",
    "                        \"marketMax\": 10000,\n",
    "                        \"marketDesc\": json.dumps({'spmarket': {'marketid': spmarketid , 'runnerid': 0}})}\n",
    "# Post market\n",
    "response = requests.post(url, data=json.dumps(content_makemarket), headers=headers)\n"
   ]
  },
  {
   "cell_type": "code",
   "execution_count": 26,
   "metadata": {},
   "outputs": [
    {
     "data": {
      "text/plain": [
       "{'allChecks': \"{'inputChk': True, 'marketLimitChk': True, 'traderIdChk': True, 'marketId': '6', 'marketRangeChk': True, 'marketIndChk': True, 'sigChk': True, 'chainChk': True, 'ownerChk': True, 'timeChk': True}\",\n",
       " 'checks': 'True',\n",
       " 'marketBranchId': 1,\n",
       " 'marketId': 6,\n",
       " 'marketMax': 10000,\n",
       " 'marketMin': 0,\n",
       " 'marketRootId': 14,\n",
       " 'traderId': 23}"
      ]
     },
     "execution_count": 26,
     "metadata": {},
     "output_type": "execute_result"
    }
   ],
   "source": [
    "response.json()"
   ]
  },
  {
   "cell_type": "code",
   "execution_count": 27,
   "metadata": {},
   "outputs": [
    {
     "data": {
      "text/plain": [
       "6"
      ]
     },
     "execution_count": 27,
     "metadata": {},
     "output_type": "execute_result"
    }
   ],
   "source": [
    "marketId = response.json()['marketId']\n",
    "marketId"
   ]
  },
  {
   "cell_type": "code",
   "execution_count": 38,
   "metadata": {},
   "outputs": [],
   "source": [
    "bot = BetfairPriceMakingBot(marketId=6, runnerId = 0, blocUrl = 'http://127.0.0.1:5000/')"
   ]
  },
  {
   "cell_type": "code",
   "execution_count": 39,
   "metadata": {},
   "outputs": [
    {
     "data": {
      "text/plain": [
       "{'multiplier': 10000,\n",
       " 'spread': 0.01,\n",
       " 'updateFrequencySeconds': 180,\n",
       " 'verifyKey': [],\n",
       " 'signingKey': [],\n",
       " 'traderId': [],\n",
       " 'marketId': 6,\n",
       " 'blocurl': 'http://127.0.0.1:5000/',\n",
       " 'blocheaders': {'content-type': 'application/json'},\n",
       " 'quoteSource': 'betfair',\n",
       " 'betfairMarketId': '1.159049810',\n",
       " 'betfairRunnerId': 0,\n",
       " 'betfairAppKey': '',\n",
       " 'betfairSessionKey': '',\n",
       " 'spmarketid': 7,\n",
       " 'blocUrl': 'http://127.0.0.1:5000/'}"
      ]
     },
     "execution_count": 39,
     "metadata": {},
     "output_type": "execute_result"
    }
   ],
   "source": [
    "vars(bot)"
   ]
  },
  {
   "cell_type": "code",
   "execution_count": 40,
   "metadata": {},
   "outputs": [],
   "source": [
    "# Basic Bot definition\n",
    "botdef = {'spread': 0.01,\n",
    " 'updateFrequencySeconds': 30,\n",
    " 'verifyKey': vk,\n",
    " 'signingKey':  sk,\n",
    " 'traderId': tId,\n",
    " 'multiplier': 10000,\n",
    " 'blocurl': baseurl,\n",
    " 'blocheaders': {'content-type': 'application/json'}}\n",
    "\n",
    "bot.getBetfairSessionToken(betfairAppKey ='iw8UsiHCP1GSs213', betfairPassword='ee')\n",
    "# Add some defs\n",
    "for key,val in botdef.items():\n",
    "    # Set bot inputs from definiton\n",
    "    setattr(bot, key, val)"
   ]
  },
  {
   "cell_type": "code",
   "execution_count": null,
   "metadata": {},
   "outputs": [],
   "source": [
    "vars(bot)"
   ]
  },
  {
   "cell_type": "code",
   "execution_count": 41,
   "metadata": {},
   "outputs": [],
   "source": [
    "bot.betfairMarketId = '1.159418817'"
   ]
  },
  {
   "cell_type": "code",
   "execution_count": 50,
   "metadata": {},
   "outputs": [],
   "source": [
    "quote, bids, asks = bot.getQuote()\n",
    "bestAsk = asks[asks.price==min(asks.price)]\n",
    "bestBid = bids[bids.price==max(bids.price)]"
   ]
  },
  {
   "cell_type": "code",
   "execution_count": 70,
   "metadata": {},
   "outputs": [],
   "source": [
    "# Get bot to save odds/stake as sp records AND make prices in local bloc market as probability \n",
    "# Write up this process and prep for live multi-market bots."
   ]
  },
  {
   "cell_type": "code",
   "execution_count": 51,
   "metadata": {},
   "outputs": [
    {
     "data": {
      "text/html": [
       "<div>\n",
       "<style scoped>\n",
       "    .dataframe tbody tr th:only-of-type {\n",
       "        vertical-align: middle;\n",
       "    }\n",
       "\n",
       "    .dataframe tbody tr th {\n",
       "        vertical-align: top;\n",
       "    }\n",
       "\n",
       "    .dataframe thead th {\n",
       "        text-align: right;\n",
       "    }\n",
       "</style>\n",
       "<table border=\"1\" class=\"dataframe\">\n",
       "  <thead>\n",
       "    <tr style=\"text-align: right;\">\n",
       "      <th></th>\n",
       "      <th>price</th>\n",
       "      <th>size</th>\n",
       "    </tr>\n",
       "  </thead>\n",
       "  <tbody>\n",
       "    <tr>\n",
       "      <th>0</th>\n",
       "      <td>1.38</td>\n",
       "      <td>581.05</td>\n",
       "    </tr>\n",
       "    <tr>\n",
       "      <th>1</th>\n",
       "      <td>1.37</td>\n",
       "      <td>483.50</td>\n",
       "    </tr>\n",
       "    <tr>\n",
       "      <th>2</th>\n",
       "      <td>1.36</td>\n",
       "      <td>1154.94</td>\n",
       "    </tr>\n",
       "  </tbody>\n",
       "</table>\n",
       "</div>"
      ],
      "text/plain": [
       "   price     size\n",
       "0   1.38   581.05\n",
       "1   1.37   483.50\n",
       "2   1.36  1154.94"
      ]
     },
     "execution_count": 51,
     "metadata": {},
     "output_type": "execute_result"
    }
   ],
   "source": [
    "bids"
   ]
  },
  {
   "cell_type": "code",
   "execution_count": 52,
   "metadata": {},
   "outputs": [
    {
     "data": {
      "text/html": [
       "<div>\n",
       "<style scoped>\n",
       "    .dataframe tbody tr th:only-of-type {\n",
       "        vertical-align: middle;\n",
       "    }\n",
       "\n",
       "    .dataframe tbody tr th {\n",
       "        vertical-align: top;\n",
       "    }\n",
       "\n",
       "    .dataframe thead th {\n",
       "        text-align: right;\n",
       "    }\n",
       "</style>\n",
       "<table border=\"1\" class=\"dataframe\">\n",
       "  <thead>\n",
       "    <tr style=\"text-align: right;\">\n",
       "      <th></th>\n",
       "      <th>price</th>\n",
       "      <th>size</th>\n",
       "    </tr>\n",
       "  </thead>\n",
       "  <tbody>\n",
       "    <tr>\n",
       "      <th>0</th>\n",
       "      <td>1.40</td>\n",
       "      <td>3684.16</td>\n",
       "    </tr>\n",
       "    <tr>\n",
       "      <th>1</th>\n",
       "      <td>1.41</td>\n",
       "      <td>3126.46</td>\n",
       "    </tr>\n",
       "    <tr>\n",
       "      <th>2</th>\n",
       "      <td>1.42</td>\n",
       "      <td>2250.16</td>\n",
       "    </tr>\n",
       "  </tbody>\n",
       "</table>\n",
       "</div>"
      ],
      "text/plain": [
       "   price     size\n",
       "0   1.40  3684.16\n",
       "1   1.41  3126.46\n",
       "2   1.42  2250.16"
      ]
     },
     "execution_count": 52,
     "metadata": {},
     "output_type": "execute_result"
    }
   ],
   "source": [
    "asks"
   ]
  },
  {
   "cell_type": "code",
   "execution_count": 47,
   "metadata": {},
   "outputs": [
    {
     "data": {
      "text/html": [
       "<div>\n",
       "<style scoped>\n",
       "    .dataframe tbody tr th:only-of-type {\n",
       "        vertical-align: middle;\n",
       "    }\n",
       "\n",
       "    .dataframe tbody tr th {\n",
       "        vertical-align: top;\n",
       "    }\n",
       "\n",
       "    .dataframe thead th {\n",
       "        text-align: right;\n",
       "    }\n",
       "</style>\n",
       "<table border=\"1\" class=\"dataframe\">\n",
       "  <thead>\n",
       "    <tr style=\"text-align: right;\">\n",
       "      <th></th>\n",
       "      <th>price</th>\n",
       "      <th>size</th>\n",
       "    </tr>\n",
       "  </thead>\n",
       "  <tbody>\n",
       "    <tr>\n",
       "      <th>0</th>\n",
       "      <td>1.38</td>\n",
       "      <td>531.05</td>\n",
       "    </tr>\n",
       "  </tbody>\n",
       "</table>\n",
       "</div>"
      ],
      "text/plain": [
       "   price    size\n",
       "0   1.38  531.05"
      ]
     },
     "execution_count": 47,
     "metadata": {},
     "output_type": "execute_result"
    }
   ],
   "source": [
    "bestBid"
   ]
  },
  {
   "cell_type": "code",
   "execution_count": 48,
   "metadata": {},
   "outputs": [
    {
     "data": {
      "text/html": [
       "<div>\n",
       "<style scoped>\n",
       "    .dataframe tbody tr th:only-of-type {\n",
       "        vertical-align: middle;\n",
       "    }\n",
       "\n",
       "    .dataframe tbody tr th {\n",
       "        vertical-align: top;\n",
       "    }\n",
       "\n",
       "    .dataframe thead th {\n",
       "        text-align: right;\n",
       "    }\n",
       "</style>\n",
       "<table border=\"1\" class=\"dataframe\">\n",
       "  <thead>\n",
       "    <tr style=\"text-align: right;\">\n",
       "      <th></th>\n",
       "      <th>price</th>\n",
       "      <th>size</th>\n",
       "    </tr>\n",
       "  </thead>\n",
       "  <tbody>\n",
       "    <tr>\n",
       "      <th>0</th>\n",
       "      <td>1.4</td>\n",
       "      <td>3815.56</td>\n",
       "    </tr>\n",
       "  </tbody>\n",
       "</table>\n",
       "</div>"
      ],
      "text/plain": [
       "   price     size\n",
       "0    1.4  3815.56"
      ]
     },
     "execution_count": 48,
     "metadata": {},
     "output_type": "execute_result"
    }
   ],
   "source": [
    "bestAsk"
   ]
  },
  {
   "cell_type": "code",
   "execution_count": 53,
   "metadata": {},
   "outputs": [],
   "source": [
    "bot.scrapeQuote(bestBid, bestAsk)"
   ]
  },
  {
   "cell_type": "code",
   "execution_count": 54,
   "metadata": {},
   "outputs": [],
   "source": [
    "bot.updateFrequencySeconds = 5"
   ]
  },
  {
   "cell_type": "code",
   "execution_count": null,
   "metadata": {},
   "outputs": [
    {
     "name": "stdout",
     "output_type": "stream",
     "text": [
      "[Within cells interlinked]: quote 7194.616977225674\n",
      "[Within cells interlinked]: No price change.\n",
      "[Within cells interlinked]: No price change.\n",
      "[Within cells interlinked]: No price change.\n",
      "[Within cells interlinked]: No price change.\n",
      "[Within cells interlinked]: No price change.\n",
      "[Within cells interlinked]: No price change.\n",
      "[Within cells interlinked]: No price change.\n",
      "[Within cells interlinked]: No price change.\n",
      "[Within cells interlinked]: No price change.\n",
      "[Within cells interlinked]: No price change.\n",
      "[Within cells interlinked]: No price change.\n",
      "[Within cells interlinked]: No price change.\n",
      "[Within cells interlinked]: quote 7220.310707955376\n",
      "[Within cells interlinked]: No price change.\n",
      "[Within cells interlinked]: No price change.\n",
      "[Within cells interlinked]: No price change.\n",
      "[Within cells interlinked]: quote 7194.616977225674\n",
      "[Within cells interlinked]: No price change.\n",
      "[Within cells interlinked]: quote 7220.310707955376\n",
      "[Within cells interlinked]: No price change.\n",
      "[Within cells interlinked]: No price change.\n",
      "[Within cells interlinked]: quote 7194.616977225674\n",
      "[Within cells interlinked]: No price change.\n",
      "[Within cells interlinked]: quote 7220.310707955376\n",
      "[Within cells interlinked]: No price change.\n",
      "[Within cells interlinked]: No price change.\n",
      "[Within cells interlinked]: No price change.\n",
      "[Within cells interlinked]: No price change.\n",
      "[Within cells interlinked]: No price change.\n",
      "[Within cells interlinked]: No price change.\n",
      "[Within cells interlinked]: No price change.\n",
      "[Within cells interlinked]: No price change.\n",
      "[Within cells interlinked]: No price change.\n",
      "[Within cells interlinked]: No price change.\n",
      "[Within cells interlinked]: No price change.\n",
      "[Within cells interlinked]: No price change.\n",
      "[Within cells interlinked]: No price change.\n",
      "[Within cells interlinked]: No price change.\n",
      "[Within cells interlinked]: No price change.\n",
      "[Within cells interlinked]: No price change.\n",
      "[Within cells interlinked]: No price change.\n",
      "[Within cells interlinked]: No price change.\n",
      "[Within cells interlinked]: No price change.\n",
      "[Within cells interlinked]: No price change.\n",
      "[Within cells interlinked]: No price change.\n",
      "[Within cells interlinked]: No price change.\n",
      "[Within cells interlinked]: No price change.\n",
      "[Within cells interlinked]: No price change.\n",
      "[Within cells interlinked]: No price change.\n",
      "[Within cells interlinked]: No price change.\n",
      "[Within cells interlinked]: No price change.\n",
      "[Within cells interlinked]: No price change.\n",
      "[Within cells interlinked]: No price change.\n",
      "[Within cells interlinked]: No price change.\n",
      "[Within cells interlinked]: No price change.\n",
      "[Within cells interlinked]: No price change.\n",
      "[Within cells interlinked]: No price change.\n",
      "[Within cells interlinked]: No price change.\n",
      "[Within cells interlinked]: No price change.\n",
      "[Within cells interlinked]: No price change.\n",
      "[Within cells interlinked]: No price change.\n",
      "[Within cells interlinked]: No price change.\n",
      "[Within cells interlinked]: No price change.\n",
      "[Within cells interlinked]: No price change.\n",
      "[Within cells interlinked]: No price change.\n",
      "[Within cells interlinked]: No price change.\n",
      "[Within cells interlinked]: No price change.\n",
      "[Within cells interlinked]: No price change.\n",
      "[Within cells interlinked]: No price change.\n",
      "[Within cells interlinked]: No price change.\n",
      "[Within cells interlinked]: No price change.\n",
      "[Within cells interlinked]: No price change.\n",
      "[Within cells interlinked]: No price change.\n",
      "[Within cells interlinked]: No price change.\n",
      "[Within cells interlinked]: No price change.\n",
      "[Within cells interlinked]: No price change.\n",
      "[Within cells interlinked]: No price change.\n",
      "[Within cells interlinked]: No price change.\n",
      "[Within cells interlinked]: No price change.\n",
      "[Within cells interlinked]: No price change.\n",
      "[Within cells interlinked]: No price change.\n",
      "[Within cells interlinked]: No price change.\n",
      "[Within cells interlinked]: No price change.\n",
      "[Within cells interlinked]: No price change.\n",
      "[Within cells interlinked]: No price change.\n",
      "[Within cells interlinked]: No price change.\n",
      "[Within cells interlinked]: No price change.\n",
      "[Within cells interlinked]: No price change.\n",
      "[Within cells interlinked]: No price change.\n",
      "[Within cells interlinked]: No price change.\n",
      "[Within cells interlinked]: No price change.\n",
      "[Within cells interlinked]: No price change.\n",
      "[Within cells interlinked]: No price change.\n",
      "[Within cells interlinked]: No price change.\n",
      "[Within cells interlinked]: No price change.\n",
      "[Within cells interlinked]: No price change.\n",
      "[Within cells interlinked]: quote 7194.616977225674\n",
      "[Within cells interlinked]: No price change.\n",
      "[Within cells interlinked]: No price change.\n",
      "[Within cells interlinked]: No price change.\n",
      "[Within cells interlinked]: No price change.\n",
      "[Within cells interlinked]: No price change.\n",
      "[Within cells interlinked]: No price change.\n",
      "[Within cells interlinked]: No price change.\n",
      "[Within cells interlinked]: No price change.\n",
      "[Within cells interlinked]: No price change.\n",
      "[Within cells interlinked]: No price change.\n",
      "[Within cells interlinked]: No price change.\n",
      "[Within cells interlinked]: No price change.\n",
      "[Within cells interlinked]: No price change.\n",
      "[Within cells interlinked]: No price change.\n",
      "[Within cells interlinked]: No price change.\n",
      "[Within cells interlinked]: No price change.\n",
      "[Within cells interlinked]: No price change.\n",
      "[Within cells interlinked]: No price change.\n",
      "[Within cells interlinked]: No price change.\n",
      "[Within cells interlinked]: quote 7168.550873586845\n",
      "[Within cells interlinked]: No price change.\n",
      "[Within cells interlinked]: No price change.\n",
      "[Within cells interlinked]: No price change.\n",
      "[Within cells interlinked]: No price change.\n",
      "[Within cells interlinked]: No price change.\n",
      "[Within cells interlinked]: No price change.\n",
      "[Within cells interlinked]: No price change.\n",
      "[Within cells interlinked]: No price change.\n",
      "[Within cells interlinked]: No price change.\n",
      "[Within cells interlinked]: No price change.\n",
      "[Within cells interlinked]: No price change.\n",
      "[Within cells interlinked]: No price change.\n",
      "[Within cells interlinked]: No price change.\n",
      "[Within cells interlinked]: No price change.\n",
      "[Within cells interlinked]: No price change.\n",
      "[Within cells interlinked]: No price change.\n",
      "[Within cells interlinked]: No price change.\n",
      "[Within cells interlinked]: No price change.\n",
      "[Within cells interlinked]: No price change.\n",
      "[Within cells interlinked]: No price change.\n",
      "[Within cells interlinked]: No price change.\n",
      "[Within cells interlinked]: No price change.\n",
      "[Within cells interlinked]: No price change.\n",
      "[Within cells interlinked]: No price change.\n",
      "[Within cells interlinked]: No price change.\n",
      "[Within cells interlinked]: No price change.\n",
      "[Within cells interlinked]: No price change.\n",
      "[Within cells interlinked]: No price change.\n",
      "[Within cells interlinked]: No price change.\n",
      "[Within cells interlinked]: No price change.\n",
      "[Within cells interlinked]: No price change.\n",
      "[Within cells interlinked]: No price change.\n",
      "[Within cells interlinked]: No price change.\n",
      "[Within cells interlinked]: No price change.\n",
      "[Within cells interlinked]: No price change.\n",
      "[Within cells interlinked]: No price change.\n",
      "[Within cells interlinked]: No price change.\n",
      "[Within cells interlinked]: No price change.\n",
      "[Within cells interlinked]: No price change.\n",
      "[Within cells interlinked]: No price change.\n",
      "[Within cells interlinked]: No price change.\n",
      "[Within cells interlinked]: No price change.\n",
      "[Within cells interlinked]: No price change.\n",
      "[Within cells interlinked]: No price change.\n",
      "[Within cells interlinked]: No price change.\n",
      "[Within cells interlinked]: No price change.\n",
      "[Within cells interlinked]: No price change.\n",
      "[Within cells interlinked]: No price change.\n",
      "[Within cells interlinked]: No price change.\n",
      "[Within cells interlinked]: No price change.\n",
      "[Within cells interlinked]: No price change.\n",
      "[Within cells interlinked]: No price change.\n",
      "[Within cells interlinked]: No price change.\n",
      "[Within cells interlinked]: No price change.\n",
      "[Within cells interlinked]: No price change.\n",
      "[Within cells interlinked]: No price change.\n",
      "[Within cells interlinked]: No price change.\n",
      "[Within cells interlinked]: No price change.\n",
      "[Within cells interlinked]: No price change.\n",
      "[Within cells interlinked]: No price change.\n",
      "[Within cells interlinked]: No price change.\n",
      "[Within cells interlinked]: No price change.\n",
      "[Within cells interlinked]: No price change.\n",
      "[Within cells interlinked]: No price change.\n",
      "[Within cells interlinked]: No price change.\n",
      "[Within cells interlinked]: No price change.\n",
      "[Within cells interlinked]: No price change.\n",
      "[Within cells interlinked]: No price change.\n",
      "[Within cells interlinked]: No price change.\n",
      "[Within cells interlinked]: No price change.\n",
      "[Within cells interlinked]: No price change.\n",
      "[Within cells interlinked]: No price change.\n",
      "[Within cells interlinked]: No price change.\n",
      "[Within cells interlinked]: No price change.\n",
      "[Within cells interlinked]: No price change.\n",
      "[Within cells interlinked]: No price change.\n",
      "[Within cells interlinked]: No price change.\n",
      "[Within cells interlinked]: No price change.\n",
      "[Within cells interlinked]: No price change.\n",
      "[Within cells interlinked]: No price change.\n",
      "[Within cells interlinked]: No price change.\n",
      "[Within cells interlinked]: No price change.\n",
      "[Within cells interlinked]: No price change.\n",
      "[Within cells interlinked]: No price change.\n",
      "[Within cells interlinked]: No price change.\n",
      "[Within cells interlinked]: No price change.\n",
      "[Within cells interlinked]: No price change.\n",
      "[Within cells interlinked]: No price change.\n",
      "[Within cells interlinked]: No price change.\n",
      "[Within cells interlinked]: No price change.\n",
      "[Within cells interlinked]: No price change.\n",
      "[Within cells interlinked]: No price change.\n",
      "[Within cells interlinked]: No price change.\n",
      "[Within cells interlinked]: No price change.\n",
      "[Within cells interlinked]: No price change.\n",
      "[Within cells interlinked]: No price change.\n",
      "[Within cells interlinked]: No price change.\n",
      "[Within cells interlinked]: No price change.\n",
      "[Within cells interlinked]: No price change.\n",
      "[Within cells interlinked]: No price change.\n",
      "[Within cells interlinked]: No price change.\n",
      "[Within cells interlinked]: No price change.\n",
      "[Within cells interlinked]: No price change.\n",
      "[Within cells interlinked]: No price change.\n",
      "[Within cells interlinked]: No price change.\n",
      "[Within cells interlinked]: No price change.\n",
      "[Within cells interlinked]: No price change.\n",
      "[Within cells interlinked]: No price change.\n",
      "[Within cells interlinked]: No price change.\n",
      "[Within cells interlinked]: No price change.\n",
      "[Within cells interlinked]: No price change.\n",
      "[Within cells interlinked]: No price change.\n",
      "[Within cells interlinked]: No price change.\n",
      "[Within cells interlinked]: No price change.\n",
      "[Within cells interlinked]: No price change.\n",
      "[Within cells interlinked]: No price change.\n",
      "[Within cells interlinked]: No price change.\n",
      "[Within cells interlinked]: No price change.\n",
      "[Within cells interlinked]: No price change.\n",
      "[Within cells interlinked]: No price change.\n",
      "[Within cells interlinked]: No price change.\n",
      "[Within cells interlinked]: No price change.\n",
      "[Within cells interlinked]: No price change.\n",
      "[Within cells interlinked]: No price change.\n",
      "[Within cells interlinked]: No price change.\n",
      "[Within cells interlinked]: No price change.\n",
      "[Within cells interlinked]: No price change.\n",
      "[Within cells interlinked]: No price change.\n",
      "[Within cells interlinked]: No price change.\n",
      "[Within cells interlinked]: No price change.\n",
      "[Within cells interlinked]: No price change.\n",
      "[Within cells interlinked]: No price change.\n",
      "[Within cells interlinked]: No price change.\n",
      "[Within cells interlinked]: No price change.\n",
      "[Within cells interlinked]: No price change.\n",
      "[Within cells interlinked]: No price change.\n",
      "[Within cells interlinked]: No price change.\n",
      "[Within cells interlinked]: No price change.\n",
      "[Within cells interlinked]: No price change.\n",
      "[Within cells interlinked]: No price change.\n",
      "[Within cells interlinked]: No price change.\n",
      "[Within cells interlinked]: No price change.\n",
      "[Within cells interlinked]: No price change.\n",
      "[Within cells interlinked]: No price change.\n",
      "[Within cells interlinked]: No price change.\n",
      "[Within cells interlinked]: No price change.\n",
      "[Within cells interlinked]: No price change.\n",
      "[Within cells interlinked]: No price change.\n",
      "[Within cells interlinked]: No price change.\n",
      "[Within cells interlinked]: No price change.\n",
      "[Within cells interlinked]: No price change.\n",
      "[Within cells interlinked]: No price change.\n",
      "[Within cells interlinked]: No price change.\n",
      "[Within cells interlinked]: No price change.\n",
      "[Within cells interlinked]: No price change.\n",
      "[Within cells interlinked]: No price change.\n",
      "[Within cells interlinked]: No price change.\n",
      "[Within cells interlinked]: No price change.\n",
      "[Within cells interlinked]: No price change.\n",
      "[Within cells interlinked]: No price change.\n",
      "[Within cells interlinked]: No price change.\n",
      "[Within cells interlinked]: No price change.\n",
      "[Within cells interlinked]: No price change.\n",
      "[Within cells interlinked]: No price change.\n",
      "[Within cells interlinked]: No price change.\n",
      "[Within cells interlinked]: No price change.\n",
      "[Within cells interlinked]: No price change.\n",
      "[Within cells interlinked]: No price change.\n",
      "[Within cells interlinked]: No price change.\n",
      "[Within cells interlinked]: No price change.\n",
      "[Within cells interlinked]: quote 7117.5278622087135\n",
      "[Within cells interlinked]: No price change.\n",
      "[Within cells interlinked]: No price change.\n",
      "[Within cells interlinked]: No price change.\n",
      "[Within cells interlinked]: No price change.\n",
      "[Within cells interlinked]: No price change.\n",
      "[Within cells interlinked]: No price change.\n",
      "[Within cells interlinked]: No price change.\n",
      "[Within cells interlinked]: No price change.\n",
      "[Within cells interlinked]: No price change.\n",
      "[Within cells interlinked]: No price change.\n",
      "[Within cells interlinked]: No price change.\n",
      "[Within cells interlinked]: No price change.\n",
      "[Within cells interlinked]: No price change.\n",
      "[Within cells interlinked]: No price change.\n",
      "[Within cells interlinked]: No price change.\n",
      "[Within cells interlinked]: No price change.\n",
      "[Within cells interlinked]: No price change.\n",
      "[Within cells interlinked]: No price change.\n",
      "[Within cells interlinked]: No price change.\n",
      "[Within cells interlinked]: No price change.\n",
      "[Within cells interlinked]: No price change.\n",
      "[Within cells interlinked]: No price change.\n",
      "[Within cells interlinked]: No price change.\n",
      "[Within cells interlinked]: No price change.\n",
      "[Within cells interlinked]: No price change.\n",
      "[Within cells interlinked]: No price change.\n",
      "[Within cells interlinked]: No price change.\n",
      "[Within cells interlinked]: No price change.\n",
      "[Within cells interlinked]: No price change.\n",
      "[Within cells interlinked]: No price change.\n",
      "[Within cells interlinked]: No price change.\n",
      "[Within cells interlinked]: No price change.\n",
      "[Within cells interlinked]: No price change.\n",
      "[Within cells interlinked]: No price change.\n",
      "[Within cells interlinked]: No price change.\n",
      "[Within cells interlinked]: No price change.\n",
      "[Within cells interlinked]: No price change.\n",
      "[Within cells interlinked]: No price change.\n",
      "[Within cells interlinked]: No price change.\n",
      "[Within cells interlinked]: No price change.\n",
      "[Within cells interlinked]: No price change.\n",
      "[Within cells interlinked]: No price change.\n",
      "[Within cells interlinked]: No price change.\n",
      "[Within cells interlinked]: No price change.\n",
      "[Within cells interlinked]: No price change.\n",
      "[Within cells interlinked]: No price change.\n",
      "[Within cells interlinked]: No price change.\n",
      "[Within cells interlinked]: No price change.\n",
      "[Within cells interlinked]: No price change.\n",
      "[Within cells interlinked]: No price change.\n",
      "[Within cells interlinked]: No price change.\n",
      "[Within cells interlinked]: No price change.\n",
      "[Within cells interlinked]: No price change.\n",
      "[Within cells interlinked]: No price change.\n",
      "[Within cells interlinked]: No price change.\n",
      "[Within cells interlinked]: No price change.\n",
      "[Within cells interlinked]: No price change.\n",
      "[Within cells interlinked]: No price change.\n",
      "[Within cells interlinked]: No price change.\n",
      "[Within cells interlinked]: No price change.\n",
      "[Within cells interlinked]: No price change.\n",
      "[Within cells interlinked]: No price change.\n",
      "[Within cells interlinked]: No price change.\n",
      "[Within cells interlinked]: No price change.\n",
      "[Within cells interlinked]: No price change.\n",
      "[Within cells interlinked]: No price change.\n",
      "[Within cells interlinked]: No price change.\n",
      "[Within cells interlinked]: No price change.\n",
      "[Within cells interlinked]: No price change.\n",
      "[Within cells interlinked]: No price change.\n",
      "[Within cells interlinked]: No price change.\n",
      "[Within cells interlinked]: No price change.\n",
      "[Within cells interlinked]: No price change.\n",
      "[Within cells interlinked]: No price change.\n",
      "[Within cells interlinked]: No price change.\n",
      "[Within cells interlinked]: No price change.\n",
      "[Within cells interlinked]: No price change.\n",
      "[Within cells interlinked]: No price change.\n",
      "[Within cells interlinked]: No price change.\n",
      "[Within cells interlinked]: No price change.\n",
      "[Within cells interlinked]: No price change.\n",
      "[Within cells interlinked]: No price change.\n",
      "[Within cells interlinked]: No price change.\n",
      "[Within cells interlinked]: No price change.\n",
      "[Within cells interlinked]: No price change.\n",
      "[Within cells interlinked]: No price change.\n",
      "[Within cells interlinked]: No price change.\n",
      "[Within cells interlinked]: No price change.\n",
      "[Within cells interlinked]: No price change.\n",
      "[Within cells interlinked]: No price change.\n",
      "[Within cells interlinked]: No price change.\n",
      "[Within cells interlinked]: No price change.\n",
      "[Within cells interlinked]: No price change.\n",
      "[Within cells interlinked]: No price change.\n",
      "[Within cells interlinked]: No price change.\n",
      "[Within cells interlinked]: No price change.\n",
      "[Within cells interlinked]: No price change.\n",
      "[Within cells interlinked]: No price change.\n",
      "[Within cells interlinked]: No price change.\n",
      "[Within cells interlinked]: No price change.\n",
      "[Within cells interlinked]: No price change.\n",
      "[Within cells interlinked]: No price change.\n",
      "[Within cells interlinked]: No price change.\n",
      "[Within cells interlinked]: No price change.\n",
      "[Within cells interlinked]: No price change.\n",
      "[Within cells interlinked]: No price change.\n",
      "[Within cells interlinked]: No price change.\n",
      "[Within cells interlinked]: No price change.\n",
      "[Within cells interlinked]: No price change.\n",
      "[Within cells interlinked]: No price change.\n",
      "[Within cells interlinked]: No price change.\n",
      "[Within cells interlinked]: No price change.\n",
      "[Within cells interlinked]: No price change.\n",
      "[Within cells interlinked]: No price change.\n",
      "[Within cells interlinked]: No price change.\n",
      "[Within cells interlinked]: No price change.\n",
      "[Within cells interlinked]: No price change.\n",
      "[Within cells interlinked]: No price change.\n",
      "[Within cells interlinked]: No price change.\n",
      "[Within cells interlinked]: No price change.\n",
      "[Within cells interlinked]: No price change.\n",
      "[Within cells interlinked]: No price change.\n",
      "[Within cells interlinked]: No price change.\n",
      "[Within cells interlinked]: No price change.\n",
      "[Within cells interlinked]: No price change.\n",
      "[Within cells interlinked]: No price change.\n",
      "[Within cells interlinked]: No price change.\n",
      "[Within cells interlinked]: No price change.\n",
      "[Within cells interlinked]: No price change.\n",
      "[Within cells interlinked]: No price change.\n",
      "[Within cells interlinked]: No price change.\n",
      "[Within cells interlinked]: No price change.\n",
      "[Within cells interlinked]: No price change.\n",
      "[Within cells interlinked]: No price change.\n",
      "[Within cells interlinked]: No price change.\n",
      "[Within cells interlinked]: No price change.\n",
      "[Within cells interlinked]: No price change.\n",
      "[Within cells interlinked]: No price change.\n",
      "[Within cells interlinked]: No price change.\n",
      "[Within cells interlinked]: No price change.\n",
      "[Within cells interlinked]: No price change.\n",
      "[Within cells interlinked]: No price change.\n",
      "[Within cells interlinked]: No price change.\n"
     ]
    }
   ],
   "source": [
    "bot.streamQuote(scrapeOdds=True, postQuotes=True)"
   ]
  },
  {
   "cell_type": "code",
   "execution_count": null,
   "metadata": {},
   "outputs": [],
   "source": []
  },
  {
   "cell_type": "code",
   "execution_count": 33,
   "metadata": {},
   "outputs": [],
   "source": [
    "# Create all the markets\n",
    "\n",
    "url = baseurl + 'createMarket'\n",
    "headers = {'content-type': 'application/json'}\n",
    "\n",
    "# Market descriptions \n",
    "marketD = ['Event Melbourne v Newcastle 2019-06-15T16:00:00-10:00 betfair 1.159515068',\n",
    "          'Event SouthSydney v Penrith 2019-06-15T16:00:00-10:00 betfair 1.159512658']\n",
    "          \n",
    "mrtId = 0\n",
    "allMarketIds = []\n",
    "for md in marketD:\n",
    "    mrtId = mrtId+1\n",
    "    content_makemarket = {\"signingKey\": sk,\n",
    "                        \"traderId\": tId, \n",
    "                        \"verifyKey\": vk,\n",
    "                        \"marketRootId\": mrtId, \n",
    "                        \"marketBranchId\": 1, \n",
    "                        \"marketMin\": 0,\n",
    "                        \"marketMax\": 10000,\n",
    "                        \"marketDesc\": md}\n",
    "    # Post market\n",
    "    response = requests.post(url, data=json.dumps(content_makemarket), headers=headers)\n",
    "    allMarketIds.append(response.json()['marketId'])\n"
   ]
  },
  {
   "cell_type": "code",
   "execution_count": 34,
   "metadata": {},
   "outputs": [
    {
     "data": {
      "text/plain": [
       "{'allChecks': \"{'inputChk': True, 'marketLimitChk': True, 'traderIdChk': True, 'marketId': '5', 'marketRangeChk': True, 'marketIndChk': True, 'sigChk': True, 'chainChk': True, 'ownerChk': True, 'timeChk': True}\",\n",
       " 'checks': 'True',\n",
       " 'marketBranchId': 1,\n",
       " 'marketId': 5,\n",
       " 'marketMax': 10000,\n",
       " 'marketMin': 0,\n",
       " 'marketRootId': 6,\n",
       " 'traderId': 12}"
      ]
     },
     "execution_count": 34,
     "metadata": {},
     "output_type": "execute_result"
    }
   ],
   "source": [
    "response.json()"
   ]
  },
  {
   "cell_type": "code",
   "execution_count": null,
   "metadata": {},
   "outputs": [],
   "source": [
    "# Basic Bot definition\n",
    "botdef = {'spread': 0.01,\n",
    " 'updateFrequencySeconds': 30,\n",
    " 'verifyKey': vk,\n",
    " 'signingKey':  sk,\n",
    " 'traderId': tId,\n",
    " 'multiplier': 10000,\n",
    " 'blocurl': baseurl,\n",
    " 'blocheaders': {'content-type': 'application/json'}}\n",
    "\n",
    "botdef"
   ]
  },
  {
   "cell_type": "code",
   "execution_count": 78,
   "metadata": {},
   "outputs": [
    {
     "data": {
      "text/plain": [
       "'2019-06-23 07:54:14.721062'"
      ]
     },
     "execution_count": 78,
     "metadata": {},
     "output_type": "execute_result"
    }
   ],
   "source": [
    "str(datetime.datetime.utcnow())"
   ]
  },
  {
   "cell_type": "markdown",
   "metadata": {},
   "source": [
    "# Run single bot"
   ]
  },
  {
   "cell_type": "code",
   "execution_count": null,
   "metadata": {},
   "outputs": [],
   "source": [
    "# Create a bot for market (Make sure VPN location is OK)\n",
    "iMarket = 1\n",
    "bot = BetfairPriceMakingBot(iMarket)\n",
    "bot.getBetfairSessionToken(betfairAppKey ='iw8UsiHCP1GSs213', betfairPassword=bfPass)\n",
    "    \n",
    "# Add some defs\n",
    "for key,val in botdef.items():\n",
    "    # Set bot inputs from definiton\n",
    "    setattr(bot, key, val)\n",
    "    \n"
   ]
  },
  {
   "cell_type": "code",
   "execution_count": null,
   "metadata": {},
   "outputs": [],
   "source": [
    "# Check quot\n",
    "bot.getQuote()"
   ]
  },
  {
   "cell_type": "code",
   "execution_count": 39,
   "metadata": {},
   "outputs": [
    {
     "ename": "TypeError",
     "evalue": "scrapeQuote() missing 2 required positional arguments: 'bid' and 'ask'",
     "output_type": "error",
     "traceback": [
      "\u001b[0;31m---------------------------------------------------------------------------\u001b[0m",
      "\u001b[0;31mTypeError\u001b[0m                                 Traceback (most recent call last)",
      "\u001b[0;32m<ipython-input-39-ecd18f1cabb0>\u001b[0m in \u001b[0;36m<module>\u001b[0;34m\u001b[0m\n\u001b[1;32m      1\u001b[0m \u001b[0;31m# Stream qutoe\u001b[0m\u001b[0;34m\u001b[0m\u001b[0;34m\u001b[0m\u001b[0;34m\u001b[0m\u001b[0m\n\u001b[0;32m----> 2\u001b[0;31m \u001b[0mbot\u001b[0m\u001b[0;34m.\u001b[0m\u001b[0mscrapeQuote\u001b[0m\u001b[0;34m(\u001b[0m\u001b[0;34m)\u001b[0m\u001b[0;34m\u001b[0m\u001b[0;34m\u001b[0m\u001b[0m\n\u001b[0m",
      "\u001b[0;31mTypeError\u001b[0m: scrapeQuote() missing 2 required positional arguments: 'bid' and 'ask'"
     ]
    }
   ],
   "source": [
    "# Stream qutoe\n",
    "bot.streamQuotes()"
   ]
  },
  {
   "cell_type": "code",
   "execution_count": 62,
   "metadata": {},
   "outputs": [
    {
     "data": {
      "text/plain": [
       "datetime.datetime(2019, 6, 23, 7, 38, 45, 296024)"
      ]
     },
     "execution_count": 62,
     "metadata": {},
     "output_type": "execute_result"
    }
   ],
   "source": [
    "import datetime\n",
    "datetime.datetime.utcnow()"
   ]
  },
  {
   "cell_type": "markdown",
   "metadata": {},
   "source": [
    "# Run multiple bots on threads\n"
   ]
  },
  {
   "cell_type": "code",
   "execution_count": null,
   "metadata": {},
   "outputs": [],
   "source": [
    "# Set up bot threads\n",
    "threads = []\n",
    "for iMarket in range(len(marketD)):\n",
    "    \n",
    "    # Create a bot for each market (Make sure VPN location is OK)\n",
    "    bot = BetfairPriceMakingBot(iMarket+1)\n",
    "    bot.getBetfairSessionToken(betfairAppKey ='iw8UsiHCP1GSs213', betfairPassword=bfPass)\n",
    "    \n",
    "    # Add some defs\n",
    "    for key,val in botdef.items():\n",
    "        # Set bot inputs from definiton\n",
    "        setattr(bot, key, val)\n",
    "    \n",
    "    t = threading.Thread(target=bot.streamQuote, args=())\n",
    "    threads.append(t)\n"
   ]
  },
  {
   "cell_type": "code",
   "execution_count": null,
   "metadata": {},
   "outputs": [],
   "source": [
    "# Start threads\n",
    "for t in threads:\n",
    "    t.start()\n",
    "    "
   ]
  },
  {
   "cell_type": "code",
   "execution_count": null,
   "metadata": {},
   "outputs": [],
   "source": [
    "threads"
   ]
  },
  {
   "cell_type": "code",
   "execution_count": null,
   "metadata": {},
   "outputs": [],
   "source": [
    "bot"
   ]
  },
  {
   "cell_type": "code",
   "execution_count": null,
   "metadata": {},
   "outputs": [],
   "source": [
    "vars(bot)"
   ]
  },
  {
   "cell_type": "code",
   "execution_count": null,
   "metadata": {},
   "outputs": [],
   "source": [
    "pd.read_json(bot.getTradeSummary())"
   ]
  },
  {
   "cell_type": "code",
   "execution_count": null,
   "metadata": {},
   "outputs": [],
   "source": [
    "bot.getQuote()"
   ]
  },
  {
   "cell_type": "code",
   "execution_count": null,
   "metadata": {},
   "outputs": [],
   "source": [
    "vars(bot)"
   ]
  },
  {
   "cell_type": "code",
   "execution_count": 27,
   "metadata": {},
   "outputs": [],
   "source": [
    "\n"
   ]
  },
  {
   "cell_type": "code",
   "execution_count": 28,
   "metadata": {},
   "outputs": [
    {
     "data": {
      "text/plain": [
       "<Response [500]>"
      ]
     },
     "execution_count": 28,
     "metadata": {},
     "output_type": "execute_result"
    }
   ],
   "source": [
    "response"
   ]
  },
  {
   "cell_type": "code",
   "execution_count": null,
   "metadata": {},
   "outputs": [],
   "source": []
  }
 ],
 "metadata": {
  "kernelspec": {
   "display_name": "Python 3",
   "language": "python",
   "name": "python3"
  },
  "language_info": {
   "codemirror_mode": {
    "name": "ipython",
    "version": 3
   },
   "file_extension": ".py",
   "mimetype": "text/x-python",
   "name": "python",
   "nbconvert_exporter": "python",
   "pygments_lexer": "ipython3",
   "version": "3.8.1"
  }
 },
 "nbformat": 4,
 "nbformat_minor": 4
}
