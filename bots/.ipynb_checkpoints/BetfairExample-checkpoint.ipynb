{
 "cells": [
  {
   "cell_type": "code",
   "execution_count": 2,
   "metadata": {},
   "outputs": [
    {
     "name": "stdout",
     "output_type": "stream",
     "text": [
      "The autoreload extension is already loaded. To reload it, use:\n",
      "  %reload_ext autoreload\n"
     ]
    }
   ],
   "source": [
    "from BetfairBot import BetfairBot\n",
    "%load_ext autoreload\n",
    "%autoreload 2"
   ]
  },
  {
   "cell_type": "code",
   "execution_count": 3,
   "metadata": {},
   "outputs": [],
   "source": [
    "appKey = 'iw8UsiHCP1GSs213'\n",
    "marketId = '1.164270045'\n",
    "bot = BetfairBot(betfairMarketId=marketId)\n",
    "# Get SOID token\n",
    "bot.getBetfairSessionToken(betfairPassword='ee', betfairAppKey = appKey)"
   ]
  },
  {
   "cell_type": "code",
   "execution_count": 80,
   "metadata": {},
   "outputs": [
    {
     "name": "stdout",
     "output_type": "stream",
     "text": [
      "The autoreload extension is already loaded. To reload it, use:\n",
      "  %reload_ext autoreload\n"
     ]
    }
   ],
   "source": []
  },
  {
   "cell_type": "code",
   "execution_count": 4,
   "metadata": {},
   "outputs": [
    {
     "data": {
      "text/plain": [
       "{'TEST_MODE': True,\n",
       " 'botName': 'marketmaker',\n",
       " 'blocurl': 'http://127.0.0.1:5000/',\n",
       " 'blocheaders': {'content-type': 'application/json'},\n",
       " 'updateFrequency': 10,\n",
       " 'betfairMarketId': '1.164270045',\n",
       " 'betfairAppKey': 'iw8UsiHCP1GSs213',\n",
       " 'betfairSessionKey': 'QHebnr2FLFehM6E6dlewn2QpKlQkq4zXsDn2M3EUpxo=',\n",
       " 'quoteSource': 'betfair',\n",
       " 'localEventId': '',\n",
       " 'localMarketId': '',\n",
       " 'orderBook': [],\n",
       " 'marketDetails': [],\n",
       " 'currentOrders': []}"
      ]
     },
     "execution_count": 4,
     "metadata": {},
     "output_type": "execute_result"
    }
   ],
   "source": [
    "vars(bot)"
   ]
  },
  {
   "cell_type": "code",
   "execution_count": 5,
   "metadata": {},
   "outputs": [
    {
     "data": {
      "text/plain": [
       "{'marketId': '1.164270045',\n",
       " 'marketName': 'Match Odds',\n",
       " 'marketStartTime': '2019-11-02T09:00:00.000Z',\n",
       " 'description': {'persistenceEnabled': True,\n",
       "  'bspMarket': False,\n",
       "  'marketTime': '2019-11-02T09:00:00.000Z',\n",
       "  'suspendTime': '2019-11-02T09:00:00.000Z',\n",
       "  'bettingType': 'ODDS',\n",
       "  'turnInPlayEnabled': True,\n",
       "  'marketType': 'MATCH_ODDS',\n",
       "  'regulator': 'MALTA LOTTERIES AND GAMBLING AUTHORITY',\n",
       "  'marketBaseRate': 5.0,\n",
       "  'discountAllowed': True,\n",
       "  'wallet': 'UK wallet',\n",
       "  'rules': '<b>Market Information</b><br>Predict the result of this match. Unmatched bets will be cancelled at the start of the match and the market will be turned In-Play. Thereafter, unmatched bets will not be cancelled at any time. Regular Time only.  For further information please see <a href=http://content.betfair.com/aboutus/content.asp?sWhichKey=Rules%20and%20Regulations#undefined.do style=color:0163ad; text-decoration: underline; target=_blank>Rules & Regs</a>.</a><br><br><b>Customers should be aware that:<br><br><li>Transmissions described as “live” by some broadcasters may actually be delayed</li><br><li>The extent of any such delay may vary, depending on the set-up through which they are receiving pictures or data.</li></b>',\n",
       "  'rulesHasDate': True,\n",
       "  'priceLadderDescription': {'type': 'CLASSIC'}},\n",
       " 'totalMatched': 4917090.595125,\n",
       " 'runners': [{'selectionId': 15593,\n",
       "   'runnerName': 'England',\n",
       "   'handicap': 0.0,\n",
       "   'sortPriority': 1,\n",
       "   'metadata': {'runnerId': '15593'}},\n",
       "  {'selectionId': 14122,\n",
       "   'runnerName': 'South Africa',\n",
       "   'handicap': 0.0,\n",
       "   'sortPriority': 2,\n",
       "   'metadata': {'runnerId': '14122'}},\n",
       "  {'selectionId': 246289,\n",
       "   'runnerName': 'Draw',\n",
       "   'handicap': 0.0,\n",
       "   'sortPriority': 3,\n",
       "   'metadata': {'runnerId': '246289'}}],\n",
       " 'eventType': {'id': '5', 'name': 'Rugby Union'},\n",
       " 'competition': {'id': '8415646', 'name': 'Rugby World Cup 2019'},\n",
       " 'event': {'id': '29550010',\n",
       "  'name': 'England v South Africa',\n",
       "  'countryCode': 'GB',\n",
       "  'timezone': 'GMT',\n",
       "  'openDate': '2019-11-02T09:00:00.000Z'}}"
      ]
     },
     "execution_count": 5,
     "metadata": {},
     "output_type": "execute_result"
    }
   ],
   "source": [
    "bot.getMarketDetails()"
   ]
  },
  {
   "cell_type": "code",
   "execution_count": 6,
   "metadata": {},
   "outputs": [
    {
     "data": {
      "text/plain": [
       "[]"
      ]
     },
     "execution_count": 6,
     "metadata": {},
     "output_type": "execute_result"
    }
   ],
   "source": [
    "bot.getCurrentOrders()\n"
   ]
  },
  {
   "cell_type": "code",
   "execution_count": 7,
   "metadata": {},
   "outputs": [
    {
     "data": {
      "text/plain": [
       "{'marketId': '1.164270045',\n",
       " 'isMarketDataDelayed': True,\n",
       " 'status': 'OPEN',\n",
       " 'betDelay': 0,\n",
       " 'bspReconciled': False,\n",
       " 'complete': True,\n",
       " 'inplay': False,\n",
       " 'numberOfWinners': 1,\n",
       " 'numberOfRunners': 3,\n",
       " 'numberOfActiveRunners': 3,\n",
       " 'lastMatchTime': '2019-11-02T06:53:49.986Z',\n",
       " 'totalMatched': 4903532.84,\n",
       " 'totalAvailable': 2867040.61,\n",
       " 'crossMatching': True,\n",
       " 'runnersVoidable': False,\n",
       " 'version': 3010213828,\n",
       " 'runners': [{'selectionId': 15593,\n",
       "   'handicap': 0.0,\n",
       "   'status': 'ACTIVE',\n",
       "   'lastPriceTraded': 1.45,\n",
       "   'totalMatched': 0.0,\n",
       "   'ex': {'availableToBack': [{'price': 1.45, 'size': 184429.96},\n",
       "     {'price': 1.44, 'size': 343266.34},\n",
       "     {'price': 1.43, 'size': 282523.09}],\n",
       "    'availableToLay': [{'price': 1.46, 'size': 4992.98},\n",
       "     {'price': 1.47, 'size': 136052.91},\n",
       "     {'price': 1.48, 'size': 51283.8}],\n",
       "    'tradedVolume': []}},\n",
       "  {'selectionId': 14122,\n",
       "   'handicap': 0.0,\n",
       "   'status': 'ACTIVE',\n",
       "   'lastPriceTraded': 3.6,\n",
       "   'totalMatched': 0.0,\n",
       "   'ex': {'availableToBack': [{'price': 3.55, 'size': 33752.44},\n",
       "     {'price': 3.5, 'size': 44847.11},\n",
       "     {'price': 3.45, 'size': 1058.34}],\n",
       "    'availableToLay': [{'price': 3.6, 'size': 1624.59},\n",
       "     {'price': 3.65, 'size': 43634.29},\n",
       "     {'price': 3.7, 'size': 65280.46}],\n",
       "    'tradedVolume': []}},\n",
       "  {'selectionId': 246289,\n",
       "   'handicap': 0.0,\n",
       "   'status': 'ACTIVE',\n",
       "   'lastPriceTraded': 29.0,\n",
       "   'totalMatched': 0.0,\n",
       "   'ex': {'availableToBack': [{'price': 28.0, 'size': 3390.62},\n",
       "     {'price': 27.0, 'size': 4614.1},\n",
       "     {'price': 26.0, 'size': 2799.34}],\n",
       "    'availableToLay': [{'price': 29.0, 'size': 3305.57},\n",
       "     {'price': 30.0, 'size': 4274.36},\n",
       "     {'price': 32.0, 'size': 3386.54}],\n",
       "    'tradedVolume': []}}]}"
      ]
     },
     "execution_count": 7,
     "metadata": {},
     "output_type": "execute_result"
    }
   ],
   "source": [
    "bot.getOrderBook()\n"
   ]
  },
  {
   "cell_type": "code",
   "execution_count": 8,
   "metadata": {},
   "outputs": [],
   "source": [
    "bot.setupLocalData()"
   ]
  },
  {
   "cell_type": "code",
   "execution_count": 9,
   "metadata": {},
   "outputs": [],
   "source": [
    "bot.scrapeCurrentQuote()"
   ]
  },
  {
   "cell_type": "code",
   "execution_count": null,
   "metadata": {},
   "outputs": [],
   "source": [
    "bot.TEST_MODE = False\n",
    "bot.run()"
   ]
  }
 ],
 "metadata": {
  "kernelspec": {
   "display_name": "Python 3",
   "language": "python",
   "name": "python3"
  },
  "language_info": {
   "codemirror_mode": {
    "name": "ipython",
    "version": 3
   },
   "file_extension": ".py",
   "mimetype": "text/x-python",
   "name": "python",
   "nbconvert_exporter": "python",
   "pygments_lexer": "ipython3",
   "version": "3.7.3"
  }
 },
 "nbformat": 4,
 "nbformat_minor": 2
}
