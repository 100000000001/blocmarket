{
 "cells": [
  {
   "cell_type": "code",
   "execution_count": 1,
   "metadata": {},
   "outputs": [],
   "source": [
    "from BetfairBot import BetfairBot"
   ]
  },
  {
   "cell_type": "code",
   "execution_count": 2,
   "metadata": {},
   "outputs": [],
   "source": [
    "appKey = 'iw8UsiHCP1GSs213'\n",
    "marketId = 1.159522817\n",
    "bot = BetfairBot(betfairMarketId=marketId)\n",
    "# Get SOID token\n",
    "bot.getBetfairSessionToken(betfairPassword='e', betfairAppKey = appKey)"
   ]
  },
  {
   "cell_type": "code",
   "execution_count": 3,
   "metadata": {},
   "outputs": [
    {
     "data": {
      "text/plain": [
       "<BetfairBot.BetfairBot at 0x10f0cb668>"
      ]
     },
     "execution_count": 3,
     "metadata": {},
     "output_type": "execute_result"
    }
   ],
   "source": [
    "bot"
   ]
  },
  {
   "cell_type": "code",
   "execution_count": 4,
   "metadata": {},
   "outputs": [
    {
     "data": {
      "text/plain": [
       "{'TEST_MODE': True,\n",
       " 'botName': 'marketmaker',\n",
       " 'blocurl': 'http://127.0.0.1:5000/',\n",
       " 'blocheaders': {'content-type': 'application/json'},\n",
       " 'updateFrequency': 10,\n",
       " 'betfairMarketId': 1.159522817,\n",
       " 'betfairAppKey': 'iw8UsiHCP1GSs213',\n",
       " 'betfairSessionKey': 'f7r5lKTpKQxOn00L7xXF0M1V4Gm/3UADBvwnodBOunI=',\n",
       " 'quoteSource': 'betfair',\n",
       " 'localEventId': '',\n",
       " 'localMarketId': '',\n",
       " 'orderBook': [],\n",
       " 'marketDetails': [],\n",
       " 'currentOrders': []}"
      ]
     },
     "execution_count": 4,
     "metadata": {},
     "output_type": "execute_result"
    }
   ],
   "source": [
    "vars(bot)"
   ]
  },
  {
   "cell_type": "code",
   "execution_count": 5,
   "metadata": {},
   "outputs": [
    {
     "data": {
      "text/plain": [
       "{'marketId': '1.159522817',\n",
       " 'marketName': 'Match Odds',\n",
       " 'marketStartTime': '2019-08-04T05:20:00.000Z',\n",
       " 'description': {'persistenceEnabled': True,\n",
       "  'bspMarket': True,\n",
       "  'marketTime': '2019-08-04T05:20:00.000Z',\n",
       "  'suspendTime': '2019-08-04T05:20:00.000Z',\n",
       "  'bettingType': 'ODDS',\n",
       "  'turnInPlayEnabled': True,\n",
       "  'marketType': 'MATCH_ODDS',\n",
       "  'regulator': 'MALTA LOTTERIES AND GAMBLING AUTHORITY',\n",
       "  'marketBaseRate': 2.5,\n",
       "  'discountAllowed': True,\n",
       "  'wallet': 'UK wallet',\n",
       "  'rules': '<br><b>MARKET INFORMATION</b><br><br>For further information please see <a href=http://content.betfair.com/aboutus/content.asp?sWhichKey=Rules%20and%20Regulations#undefined.do style=color:0163ad; text-decoration: underline; target=_blank>Rules & Regs</a>.<br><br>Who will win this match? At the start of the match all unmatched bets will be cancelled and the market will be turned <b>IN PLAY</b>. This market will not be actively managed therefore it is the responsibility of all users to manage their own positions. Dead Heat rules apply.<br><br><b>BSP (Betfair Starting Price) operates on this market</b>. For more information about setting a Starting Price odds limit  <a target=\"_blank\"  href=\"http://sp.betfair.com.au/FAQs_settingSPlimits.php\">click here</a>\\n<br><br>This is a <a href=\"http://cross-matching.betfair.com.au/\" target=\"_blank\">cross-matching</a> market.<br><br>Customers should be aware that:<b><br><br><li>Transmissions described as “live” by some broadcasters may actually be delayed and that all in-play matches are not necessarily televised.</li><br><li>The extent of any such delay may vary between customers, depending on the set-up through which they are receiving pictures or data.</li></b><br><br><b>BET IN-PLAY</b><br><br>Australian customers call Telbet to bet in-play on this market – call <b>132BET (132238)</b><br><br>',\n",
       "  'rulesHasDate': True,\n",
       "  'priceLadderDescription': {'type': 'CLASSIC'}},\n",
       " 'totalMatched': 118699.05326000002,\n",
       " 'runners': [{'selectionId': 39980,\n",
       "   'runnerName': 'Carlton',\n",
       "   'handicap': 0.0,\n",
       "   'sortPriority': 1,\n",
       "   'metadata': {'runnerId': '39980'}},\n",
       "  {'selectionId': 39991,\n",
       "   'runnerName': 'West Coast',\n",
       "   'handicap': 0.0,\n",
       "   'sortPriority': 2,\n",
       "   'metadata': {'runnerId': '39991'}}],\n",
       " 'eventType': {'id': '61420', 'name': 'Australian Rules'},\n",
       " 'competition': {'id': '11897406', 'name': 'AFL'},\n",
       " 'event': {'id': '29182443',\n",
       "  'name': 'Carlton v West Coast',\n",
       "  'countryCode': 'AU',\n",
       "  'timezone': 'GMT',\n",
       "  'openDate': '2019-08-04T05:20:00.000Z'}}"
      ]
     },
     "execution_count": 5,
     "metadata": {},
     "output_type": "execute_result"
    }
   ],
   "source": [
    "bot.getMarketDetails()\n"
   ]
  },
  {
   "cell_type": "code",
   "execution_count": 6,
   "metadata": {},
   "outputs": [
    {
     "data": {
      "text/plain": [
       "{'marketId': '1.159522817',\n",
       " 'isMarketDataDelayed': True,\n",
       " 'status': 'OPEN',\n",
       " 'betDelay': 0,\n",
       " 'bspReconciled': False,\n",
       " 'complete': True,\n",
       " 'inplay': False,\n",
       " 'numberOfWinners': 1,\n",
       " 'numberOfRunners': 2,\n",
       " 'numberOfActiveRunners': 2,\n",
       " 'lastMatchTime': '2019-08-04T04:25:24.518Z',\n",
       " 'totalMatched': 119737.9,\n",
       " 'totalAvailable': 32744.89,\n",
       " 'crossMatching': True,\n",
       " 'runnersVoidable': False,\n",
       " 'version': 2871385697,\n",
       " 'runners': [{'selectionId': 39980,\n",
       "   'handicap': 0.0,\n",
       "   'status': 'ACTIVE',\n",
       "   'lastPriceTraded': 3.8,\n",
       "   'totalMatched': 0.0,\n",
       "   'ex': {'availableToBack': [{'price': 3.75, 'size': 75.0},\n",
       "     {'price': 3.7, 'size': 687.94},\n",
       "     {'price': 3.65, 'size': 184.43}],\n",
       "    'availableToLay': [{'price': 3.8, 'size': 868.22},\n",
       "     {'price': 3.9, 'size': 492.39},\n",
       "     {'price': 3.95, 'size': 338.35}],\n",
       "    'tradedVolume': []}},\n",
       "  {'selectionId': 39991,\n",
       "   'handicap': 0.0,\n",
       "   'status': 'ACTIVE',\n",
       "   'lastPriceTraded': 1.37,\n",
       "   'totalMatched': 0.0,\n",
       "   'ex': {'availableToBack': [{'price': 1.35, 'size': 3866.26},\n",
       "     {'price': 1.34, 'size': 997.38},\n",
       "     {'price': 1.33, 'size': 695.68}],\n",
       "    'availableToLay': [{'price': 1.37, 'size': 1445.25},\n",
       "     {'price': 1.38, 'size': 1593.09},\n",
       "     {'price': 1.39, 'size': 1027.8}],\n",
       "    'tradedVolume': []}}]}"
      ]
     },
     "execution_count": 6,
     "metadata": {},
     "output_type": "execute_result"
    }
   ],
   "source": [
    "bot.getOrderBook()\n"
   ]
  },
  {
   "cell_type": "code",
   "execution_count": 7,
   "metadata": {},
   "outputs": [
    {
     "data": {
      "text/plain": [
       "{'marketId': '1.159522817',\n",
       " 'isMarketDataDelayed': True,\n",
       " 'status': 'OPEN',\n",
       " 'betDelay': 0,\n",
       " 'bspReconciled': False,\n",
       " 'complete': True,\n",
       " 'inplay': False,\n",
       " 'numberOfWinners': 1,\n",
       " 'numberOfRunners': 2,\n",
       " 'numberOfActiveRunners': 2,\n",
       " 'lastMatchTime': '2019-08-04T04:25:24.518Z',\n",
       " 'totalMatched': 119737.9,\n",
       " 'totalAvailable': 32744.89,\n",
       " 'crossMatching': True,\n",
       " 'runnersVoidable': False,\n",
       " 'version': 2871385697,\n",
       " 'runners': [{'selectionId': 39980,\n",
       "   'handicap': 0.0,\n",
       "   'status': 'ACTIVE',\n",
       "   'lastPriceTraded': 3.8,\n",
       "   'totalMatched': 0.0,\n",
       "   'ex': {'availableToBack': [{'price': 3.75, 'size': 75.0},\n",
       "     {'price': 3.7, 'size': 687.94},\n",
       "     {'price': 3.65, 'size': 184.43}],\n",
       "    'availableToLay': [{'price': 3.8, 'size': 868.22},\n",
       "     {'price': 3.9, 'size': 492.39},\n",
       "     {'price': 3.95, 'size': 338.35}],\n",
       "    'tradedVolume': []}},\n",
       "  {'selectionId': 39991,\n",
       "   'handicap': 0.0,\n",
       "   'status': 'ACTIVE',\n",
       "   'lastPriceTraded': 1.37,\n",
       "   'totalMatched': 0.0,\n",
       "   'ex': {'availableToBack': [{'price': 1.35, 'size': 3866.26},\n",
       "     {'price': 1.34, 'size': 997.38},\n",
       "     {'price': 1.33, 'size': 695.68}],\n",
       "    'availableToLay': [{'price': 1.37, 'size': 1445.25},\n",
       "     {'price': 1.38, 'size': 1593.09},\n",
       "     {'price': 1.39, 'size': 1027.8}],\n",
       "    'tradedVolume': []}}]}"
      ]
     },
     "execution_count": 7,
     "metadata": {},
     "output_type": "execute_result"
    }
   ],
   "source": [
    "bot.orderBook\n"
   ]
  },
  {
   "cell_type": "code",
   "execution_count": 8,
   "metadata": {},
   "outputs": [],
   "source": [
    "bot.setupLocalData()"
   ]
  },
  {
   "cell_type": "code",
   "execution_count": 9,
   "metadata": {},
   "outputs": [],
   "source": [
    "bot.scrapeCurrentQuote()"
   ]
  },
  {
   "cell_type": "code",
   "execution_count": null,
   "metadata": {},
   "outputs": [],
   "source": [
    "bot.run()"
   ]
  },
  {
   "cell_type": "code",
   "execution_count": null,
   "metadata": {},
   "outputs": [],
   "source": [
    "\n"
   ]
  }
 ],
 "metadata": {
  "kernelspec": {
   "display_name": "Python 3",
   "language": "python",
   "name": "python3"
  },
  "language_info": {
   "codemirror_mode": {
    "name": "ipython",
    "version": 3
   },
   "file_extension": ".py",
   "mimetype": "text/x-python",
   "name": "python",
   "nbconvert_exporter": "python",
   "pygments_lexer": "ipython3",
   "version": "3.7.3"
  }
 },
 "nbformat": 4,
 "nbformat_minor": 2
}
