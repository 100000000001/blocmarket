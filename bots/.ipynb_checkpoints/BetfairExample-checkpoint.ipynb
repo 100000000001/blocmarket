{
 "cells": [
  {
   "cell_type": "code",
   "execution_count": null,
   "metadata": {},
   "outputs": [],
   "source": [
    "from BetfairBot import BetfairBot"
   ]
  },
  {
   "cell_type": "code",
   "execution_count": 21,
   "metadata": {},
   "outputs": [],
   "source": [
    "appKey = 'iw8UsiHCP1GSs213'\n",
    "marketId = '1.159525238'\n",
    "bot = BetfairBot(betfairMarketId=marketId)\n",
    "# Get SOID token\n",
    "bot.getBetfairSessionToken(betfairPassword='e', betfairAppKey = appKey)"
   ]
  },
  {
   "cell_type": "code",
   "execution_count": 22,
   "metadata": {},
   "outputs": [
    {
     "data": {
      "text/plain": [
       "{'TEST_MODE': True,\n",
       " 'botName': 'marketmaker',\n",
       " 'blocurl': 'http://127.0.0.1:5000/',\n",
       " 'blocheaders': {'content-type': 'application/json'},\n",
       " 'updateFrequency': 10,\n",
       " 'betfairMarketId': 1.159525238,\n",
       " 'betfairAppKey': 'iw8UsiHCP1GSs213',\n",
       " 'betfairSessionKey': 'ml6dxuKLpoX6cKhkyzgaUe6Enrbbq/mSNqdNg3XoO+M=',\n",
       " 'quoteSource': 'betfair',\n",
       " 'localEventId': '',\n",
       " 'localMarketId': '',\n",
       " 'orderBook': [],\n",
       " 'marketDetails': [],\n",
       " 'currentOrders': []}"
      ]
     },
     "execution_count": 22,
     "metadata": {},
     "output_type": "execute_result"
    }
   ],
   "source": [
    "vars(bot)"
   ]
  },
  {
   "cell_type": "code",
   "execution_count": 23,
   "metadata": {},
   "outputs": [
    {
     "data": {
      "text/plain": [
       "{'marketId': '1.159525238',\n",
       " 'marketName': 'Match Odds',\n",
       " 'marketStartTime': '2019-08-11T03:10:00.000Z',\n",
       " 'description': {'persistenceEnabled': True,\n",
       "  'bspMarket': True,\n",
       "  'marketTime': '2019-08-11T03:10:00.000Z',\n",
       "  'suspendTime': '2019-08-11T03:10:00.000Z',\n",
       "  'bettingType': 'ODDS',\n",
       "  'turnInPlayEnabled': True,\n",
       "  'marketType': 'MATCH_ODDS',\n",
       "  'regulator': 'MALTA LOTTERIES AND GAMBLING AUTHORITY',\n",
       "  'marketBaseRate': 2.5,\n",
       "  'discountAllowed': True,\n",
       "  'wallet': 'UK wallet',\n",
       "  'rules': '<br><b>MARKET INFORMATION</b><br><br>For further information please see <a href=http://content.betfair.com/aboutus/content.asp?sWhichKey=Rules%20and%20Regulations#undefined.do style=color:0163ad; text-decoration: underline; target=_blank>Rules & Regs</a>.<br><br>Who will win this match? At the start of the match all unmatched bets will be cancelled and the market will be turned <b>IN PLAY</b>. This market will not be actively managed therefore it is the responsibility of all users to manage their own positions. Dead Heat rules apply.<br><br><b>BSP (Betfair Starting Price) operates on this market</b>. For more information about setting a Starting Price odds limit  <a target=\"_blank\"  href=\"http://sp.betfair.com.au/FAQs_settingSPlimits.php\">click here</a>\\n<br><br>This is a <a href=\"http://cross-matching.betfair.com.au/\" target=\"_blank\">cross-matching</a> market.<br><br>Customers should be aware that:<b><br><br><li>Transmissions described as “live” by some broadcasters may actually be delayed and that all in-play matches are not necessarily televised.</li><br><li>The extent of any such delay may vary between customers, depending on the set-up through which they are receiving pictures or data.</li></b><br><br><b>BET IN-PLAY</b><br><br>Australian customers call Telbet to bet in-play on this market – call <b>132BET (132238)</b><br><br>',\n",
       "  'rulesHasDate': True,\n",
       "  'priceLadderDescription': {'type': 'CLASSIC'}},\n",
       " 'totalMatched': 83066.26880800001,\n",
       " 'runners': [{'selectionId': 39990,\n",
       "   'runnerName': 'St Kilda',\n",
       "   'handicap': 0.0,\n",
       "   'sortPriority': 1,\n",
       "   'metadata': {'runnerId': '39990'}},\n",
       "  {'selectionId': 39992,\n",
       "   'runnerName': 'Fremantle',\n",
       "   'handicap': 0.0,\n",
       "   'sortPriority': 2,\n",
       "   'metadata': {'runnerId': '39992'}}],\n",
       " 'eventType': {'id': '61420', 'name': 'Australian Rules'},\n",
       " 'competition': {'id': '11897406', 'name': 'AFL'},\n",
       " 'event': {'id': '29182447',\n",
       "  'name': 'St Kilda v Fremantle',\n",
       "  'countryCode': 'AU',\n",
       "  'timezone': 'GMT',\n",
       "  'openDate': '2019-08-11T03:10:00.000Z'}}"
      ]
     },
     "execution_count": 23,
     "metadata": {},
     "output_type": "execute_result"
    }
   ],
   "source": [
    "bot.getMarketDetails()\n"
   ]
  },
  {
   "cell_type": "code",
   "execution_count": 24,
   "metadata": {},
   "outputs": [
    {
     "data": {
      "text/plain": [
       "{'marketId': '1.159525238',\n",
       " 'isMarketDataDelayed': True,\n",
       " 'status': 'OPEN',\n",
       " 'betDelay': 0,\n",
       " 'bspReconciled': False,\n",
       " 'complete': True,\n",
       " 'inplay': False,\n",
       " 'numberOfWinners': 1,\n",
       " 'numberOfRunners': 2,\n",
       " 'numberOfActiveRunners': 2,\n",
       " 'lastMatchTime': '2019-08-11T00:47:08.161Z',\n",
       " 'totalMatched': 85687.69,\n",
       " 'totalAvailable': 19406.86,\n",
       " 'crossMatching': True,\n",
       " 'runnersVoidable': False,\n",
       " 'version': 2880551802,\n",
       " 'runners': [{'selectionId': 39990,\n",
       "   'handicap': 0.0,\n",
       "   'status': 'ACTIVE',\n",
       "   'lastPriceTraded': 1.53,\n",
       "   'totalMatched': 0.0,\n",
       "   'ex': {'availableToBack': [{'price': 1.53, 'size': 132.45},\n",
       "     {'price': 1.52, 'size': 817.17},\n",
       "     {'price': 1.51, 'size': 509.57}],\n",
       "    'availableToLay': [{'price': 1.54, 'size': 430.69},\n",
       "     {'price': 1.55, 'size': 1480.48},\n",
       "     {'price': 1.56, 'size': 177.34}],\n",
       "    'tradedVolume': []}},\n",
       "  {'selectionId': 39992,\n",
       "   'handicap': 0.0,\n",
       "   'status': 'ACTIVE',\n",
       "   'lastPriceTraded': 2.86,\n",
       "   'totalMatched': 0.0,\n",
       "   'ex': {'availableToBack': [{'price': 2.86, 'size': 85.37},\n",
       "     {'price': 2.84, 'size': 209.0},\n",
       "     {'price': 2.82, 'size': 554.0}],\n",
       "    'availableToLay': [{'price': 2.88, 'size': 70.36},\n",
       "     {'price': 2.9, 'size': 98.89},\n",
       "     {'price': 2.94, 'size': 380.32}],\n",
       "    'tradedVolume': []}}]}"
      ]
     },
     "execution_count": 24,
     "metadata": {},
     "output_type": "execute_result"
    }
   ],
   "source": [
    "bot.getOrderBook()\n"
   ]
  },
  {
   "cell_type": "code",
   "execution_count": 25,
   "metadata": {},
   "outputs": [],
   "source": [
    "bot.setupLocalData()"
   ]
  },
  {
   "cell_type": "code",
   "execution_count": 26,
   "metadata": {},
   "outputs": [
    {
     "data": {
      "text/plain": [
       "{'TEST_MODE': True,\n",
       " 'botName': 'marketmaker',\n",
       " 'blocurl': 'http://127.0.0.1:5000/',\n",
       " 'blocheaders': {'content-type': 'application/json'},\n",
       " 'updateFrequency': 10,\n",
       " 'betfairMarketId': 1.159525238,\n",
       " 'betfairAppKey': 'iw8UsiHCP1GSs213',\n",
       " 'betfairSessionKey': 'ml6dxuKLpoX6cKhkyzgaUe6Enrbbq/mSNqdNg3XoO+M=',\n",
       " 'quoteSource': 'betfair',\n",
       " 'localEventId': '11',\n",
       " 'localMarketId': '14',\n",
       " 'orderBook': {'marketId': '1.159525238',\n",
       "  'isMarketDataDelayed': True,\n",
       "  'status': 'OPEN',\n",
       "  'betDelay': 0,\n",
       "  'bspReconciled': False,\n",
       "  'complete': True,\n",
       "  'inplay': False,\n",
       "  'numberOfWinners': 1,\n",
       "  'numberOfRunners': 2,\n",
       "  'numberOfActiveRunners': 2,\n",
       "  'lastMatchTime': '2019-08-11T00:47:08.161Z',\n",
       "  'totalMatched': 85687.69,\n",
       "  'totalAvailable': 19406.86,\n",
       "  'crossMatching': True,\n",
       "  'runnersVoidable': False,\n",
       "  'version': 2880551802,\n",
       "  'runners': [{'selectionId': 39990,\n",
       "    'handicap': 0.0,\n",
       "    'status': 'ACTIVE',\n",
       "    'lastPriceTraded': 1.53,\n",
       "    'totalMatched': 0.0,\n",
       "    'ex': {'availableToBack': [{'price': 1.53, 'size': 132.45},\n",
       "      {'price': 1.52, 'size': 817.17},\n",
       "      {'price': 1.51, 'size': 509.57}],\n",
       "     'availableToLay': [{'price': 1.54, 'size': 430.69},\n",
       "      {'price': 1.55, 'size': 1480.48},\n",
       "      {'price': 1.56, 'size': 177.34}],\n",
       "     'tradedVolume': []}},\n",
       "   {'selectionId': 39992,\n",
       "    'handicap': 0.0,\n",
       "    'status': 'ACTIVE',\n",
       "    'lastPriceTraded': 2.86,\n",
       "    'totalMatched': 0.0,\n",
       "    'ex': {'availableToBack': [{'price': 2.86, 'size': 85.37},\n",
       "      {'price': 2.84, 'size': 209.0},\n",
       "      {'price': 2.82, 'size': 554.0}],\n",
       "     'availableToLay': [{'price': 2.88, 'size': 70.36},\n",
       "      {'price': 2.9, 'size': 98.89},\n",
       "      {'price': 2.94, 'size': 380.32}],\n",
       "     'tradedVolume': []}}]},\n",
       " 'marketDetails': {'marketId': '1.159525238',\n",
       "  'marketName': 'Match Odds',\n",
       "  'marketStartTime': '2019-08-11T03:10:00.000Z',\n",
       "  'description': {'persistenceEnabled': True,\n",
       "   'bspMarket': True,\n",
       "   'marketTime': '2019-08-11T03:10:00.000Z',\n",
       "   'suspendTime': '2019-08-11T03:10:00.000Z',\n",
       "   'bettingType': 'ODDS',\n",
       "   'turnInPlayEnabled': True,\n",
       "   'marketType': 'MATCH_ODDS',\n",
       "   'regulator': 'MALTA LOTTERIES AND GAMBLING AUTHORITY',\n",
       "   'marketBaseRate': 2.5,\n",
       "   'discountAllowed': True,\n",
       "   'wallet': 'UK wallet',\n",
       "   'rules': '<br><b>MARKET INFORMATION</b><br><br>For further information please see <a href=http://content.betfair.com/aboutus/content.asp?sWhichKey=Rules%20and%20Regulations#undefined.do style=color:0163ad; text-decoration: underline; target=_blank>Rules & Regs</a>.<br><br>Who will win this match? At the start of the match all unmatched bets will be cancelled and the market will be turned <b>IN PLAY</b>. This market will not be actively managed therefore it is the responsibility of all users to manage their own positions. Dead Heat rules apply.<br><br><b>BSP (Betfair Starting Price) operates on this market</b>. For more information about setting a Starting Price odds limit  <a target=\"_blank\"  href=\"http://sp.betfair.com.au/FAQs_settingSPlimits.php\">click here</a>\\n<br><br>This is a <a href=\"http://cross-matching.betfair.com.au/\" target=\"_blank\">cross-matching</a> market.<br><br>Customers should be aware that:<b><br><br><li>Transmissions described as “live” by some broadcasters may actually be delayed and that all in-play matches are not necessarily televised.</li><br><li>The extent of any such delay may vary between customers, depending on the set-up through which they are receiving pictures or data.</li></b><br><br><b>BET IN-PLAY</b><br><br>Australian customers call Telbet to bet in-play on this market – call <b>132BET (132238)</b><br><br>',\n",
       "   'rulesHasDate': True,\n",
       "   'priceLadderDescription': {'type': 'CLASSIC'}},\n",
       "  'totalMatched': 83066.26880800001,\n",
       "  'runners': [{'selectionId': 39990,\n",
       "    'runnerName': 'St Kilda',\n",
       "    'handicap': 0.0,\n",
       "    'sortPriority': 1,\n",
       "    'metadata': {'runnerId': '39990'}},\n",
       "   {'selectionId': 39992,\n",
       "    'runnerName': 'Fremantle',\n",
       "    'handicap': 0.0,\n",
       "    'sortPriority': 2,\n",
       "    'metadata': {'runnerId': '39992'}}],\n",
       "  'eventType': {'id': '61420', 'name': 'Australian Rules'},\n",
       "  'competition': {'id': '11897406', 'name': 'AFL'},\n",
       "  'event': {'id': '29182447',\n",
       "   'name': 'St Kilda v Fremantle',\n",
       "   'countryCode': 'AU',\n",
       "   'timezone': 'GMT',\n",
       "   'openDate': '2019-08-11T03:10:00.000Z'}},\n",
       " 'currentOrders': []}"
      ]
     },
     "execution_count": 26,
     "metadata": {},
     "output_type": "execute_result"
    }
   ],
   "source": [
    "vars(bot)"
   ]
  },
  {
   "cell_type": "code",
   "execution_count": 27,
   "metadata": {},
   "outputs": [],
   "source": [
    "bot.scrapeCurrentQuote()"
   ]
  },
  {
   "cell_type": "code",
   "execution_count": null,
   "metadata": {},
   "outputs": [],
   "source": [
    "bot.run()"
   ]
  }
 ],
 "metadata": {
  "kernelspec": {
   "display_name": "Python 3",
   "language": "python",
   "name": "python3"
  },
  "language_info": {
   "codemirror_mode": {
    "name": "ipython",
    "version": 3
   },
   "file_extension": ".py",
   "mimetype": "text/x-python",
   "name": "python",
   "nbconvert_exporter": "python",
   "pygments_lexer": "ipython3",
   "version": "3.7.3"
  }
 },
 "nbformat": 4,
 "nbformat_minor": 2
}
