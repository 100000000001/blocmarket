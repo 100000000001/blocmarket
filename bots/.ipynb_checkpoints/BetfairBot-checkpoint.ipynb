{
 "cells": [
  {
   "cell_type": "markdown",
   "metadata": {},
   "source": [
    "# BetfairBot\n",
    "\n",
    "\n"
   ]
  },
  {
   "cell_type": "markdown",
   "metadata": {},
   "source": [
    "## Notation\n",
    "\n",
    "For **markets** $i =1,\\ldots, N$\n",
    "for **runners** $j= 1,\\ldots, M_i$\n",
    "for **orders** indexed (including cancellations) $k=1,\\ldots,K_{ij}$\n",
    "\n",
    "An order is a pair $(S_{ijk}(t), Q_{ijk}(t))$ of **odds** and **stake**.\n",
    "\n",
    "The **outcome** $I_{ij}$ is 0 or 1 for each runner determined at time $T_{ij}$.\n",
    "\n",
    "The **payoff** to the order at expiry is\n",
    "\n",
    "$I_{ij}Q_{ijk}(t) (S_{ijk}(t)-1) -Q_{ijk}(t)(1-I_{ij})$\n",
    "\n",
    "*Example*\n",
    "\n",
    "Trader bets $Q =\\$10$ on a horse at $S=3.50$ odds\n",
    "\n",
    "If the horse wins ($I=1$) the payoff is \n",
    "\n",
    "$1*10*(3.5-1) - 10*(1-1) = 25$\n",
    "\n",
    "If the horse loses ($I=0$) the payoff is \n",
    "\n",
    "$1*10*(3.5-1) - 10*(1-1) = -10$\n",
    "\n",
    "From the bookmaker's perspective the bet is $Q=-10$ so these payoffs are reversed\n",
    "\n",
    "\n",
    "\n",
    "\n",
    "\n",
    "## Probability representation\n",
    "\n",
    "\n",
    "## Looking at the order book\n",
    "\n",
    "- Definitions\n",
    "\n",
    "## Basic arbitrage relationships\n",
    "\n",
    "\n",
    "## Defining a trading rule\n",
    "\n",
    "## Bots\n",
    "\n",
    "### Momentum/mean reversion\n",
    "\n",
    "### A market maker\n",
    "\n",
    "### Single market arbitrage\n",
    "\n",
    "## Cross market arbitrage\n",
    "- (Same thing trading at different venues)\n",
    "\n",
    "### Composition arbitrage\n",
    "\n",
    "- Halves of a game\n",
    "- Conditional markets (e.g democrateic candidate v president)\n",
    "- Moneyline vs the spread (vol model)"
   ]
  },
  {
   "cell_type": "code",
   "execution_count": null,
   "metadata": {},
   "outputs": [],
   "source": []
  },
  {
   "cell_type": "markdown",
   "metadata": {},
   "source": [
    "## Market Maker\n",
    "\n",
    " spreadTightner = 0.1\n",
    " betSize = 10\n",
    " lossLimit = -40\n",
    " spreadMin = 0.005\n",
    " spreadMax = 0.2\n",
    " minDepth = 50\n"
   ]
  },
  {
   "cell_type": "code",
   "execution_count": null,
   "metadata": {},
   "outputs": [],
   "source": []
  }
 ],
 "metadata": {
  "kernelspec": {
   "display_name": "Python 3",
   "language": "python",
   "name": "python3"
  },
  "language_info": {
   "codemirror_mode": {
    "name": "ipython",
    "version": 3
   },
   "file_extension": ".py",
   "mimetype": "text/x-python",
   "name": "python",
   "nbconvert_exporter": "python",
   "pygments_lexer": "ipython3",
   "version": "3.7.3"
  }
 },
 "nbformat": 4,
 "nbformat_minor": 2
}
