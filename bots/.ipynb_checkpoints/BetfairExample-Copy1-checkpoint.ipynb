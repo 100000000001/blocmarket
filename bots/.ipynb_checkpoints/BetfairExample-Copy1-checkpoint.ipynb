{
 "cells": [
  {
   "cell_type": "code",
   "execution_count": 1,
   "metadata": {},
   "outputs": [],
   "source": [
    "from BetfairBot import BetfairBot"
   ]
  },
  {
   "cell_type": "code",
   "execution_count": 2,
   "metadata": {},
   "outputs": [],
   "source": [
    "appKey = 'iw8UsiHCP1GSs213'\n",
    "marketId = 1.159524544\n",
    "bot = BetfairBot(betfairMarketId=marketId)\n",
    "# Get SOID token\n",
    "bot.getBetfairSessionToken(betfairPassword='eeis2718', betfairAppKey = appKey)"
   ]
  },
  {
   "cell_type": "code",
   "execution_count": 3,
   "metadata": {},
   "outputs": [
    {
     "data": {
      "text/plain": [
       "{'TEST_MODE': True,\n",
       " 'botName': 'marketmaker',\n",
       " 'blocurl': 'http://127.0.0.1:5000/',\n",
       " 'blocheaders': {'content-type': 'application/json'},\n",
       " 'updateFrequency': 10,\n",
       " 'betfairMarketId': 1.159524544,\n",
       " 'betfairAppKey': 'iw8UsiHCP1GSs213',\n",
       " 'betfairSessionKey': '082umhiQQ2eV1csFWXY1TPwKp6l+3n79h8BTTRq0AFE=',\n",
       " 'quoteSource': 'betfair',\n",
       " 'localEventId': '',\n",
       " 'localMarketId': '',\n",
       " 'orderBook': [],\n",
       " 'marketDetails': [],\n",
       " 'currentOrders': []}"
      ]
     },
     "execution_count": 3,
     "metadata": {},
     "output_type": "execute_result"
    }
   ],
   "source": [
    "vars(bot)"
   ]
  },
  {
   "cell_type": "code",
   "execution_count": 4,
   "metadata": {},
   "outputs": [
    {
     "data": {
      "text/plain": [
       "{'marketId': '1.159524544',\n",
       " 'marketName': 'Match Odds',\n",
       " 'marketStartTime': '2019-08-10T06:35:00.000Z',\n",
       " 'description': {'persistenceEnabled': True,\n",
       "  'bspMarket': True,\n",
       "  'marketTime': '2019-08-10T06:35:00.000Z',\n",
       "  'suspendTime': '2019-08-10T06:35:00.000Z',\n",
       "  'bettingType': 'ODDS',\n",
       "  'turnInPlayEnabled': True,\n",
       "  'marketType': 'MATCH_ODDS',\n",
       "  'regulator': 'MALTA LOTTERIES AND GAMBLING AUTHORITY',\n",
       "  'marketBaseRate': 2.5,\n",
       "  'discountAllowed': True,\n",
       "  'wallet': 'UK wallet',\n",
       "  'rules': '<br><b>MARKET INFORMATION</b><br><br>For further information please see <a href=http://content.betfair.com/aboutus/content.asp?sWhichKey=Rules%20and%20Regulations#undefined.do style=color:0163ad; text-decoration: underline; target=_blank>Rules & Regs</a>.<br><br>Who will win this match? At the start of the match all unmatched bets will be cancelled and the market will be turned <b>IN PLAY</b>. This market will not be actively managed therefore it is the responsibility of all users to manage their own positions. Dead Heat rules apply.<br><br><b>BSP (Betfair Starting Price) operates on this market</b>. For more information about setting a Starting Price odds limit  <a target=\"_blank\"  href=\"http://sp.betfair.com.au/FAQs_settingSPlimits.php\">click here</a>\\n<br><br>This is a <a href=\"http://cross-matching.betfair.com.au/\" target=\"_blank\">cross-matching</a> market.<br><br>Customers should be aware that:<b><br><br><li>Transmissions described as “live” by some broadcasters may actually be delayed and that all in-play matches are not necessarily televised.</li><br><li>The extent of any such delay may vary between customers, depending on the set-up through which they are receiving pictures or data.</li></b><br><br><b>BET IN-PLAY</b><br><br>Australian customers call Telbet to bet in-play on this market – call <b>132BET (132238)</b><br><br>',\n",
       "  'rulesHasDate': True,\n",
       "  'priceLadderDescription': {'type': 'CLASSIC'}},\n",
       " 'totalMatched': 115351.13994600001,\n",
       " 'runners': [{'selectionId': 42153,\n",
       "   'runnerName': 'Brisbane',\n",
       "   'handicap': 0.0,\n",
       "   'sortPriority': 1,\n",
       "   'metadata': {'runnerId': '42153'}},\n",
       "  {'selectionId': 4513766,\n",
       "   'runnerName': 'Gold Coast',\n",
       "   'handicap': 0.0,\n",
       "   'sortPriority': 2,\n",
       "   'metadata': {'runnerId': '4513766'}}],\n",
       " 'eventType': {'id': '61420', 'name': 'Australian Rules'},\n",
       " 'competition': {'id': '11897406', 'name': 'AFL'},\n",
       " 'event': {'id': '29182405',\n",
       "  'name': 'Brisbane v Gold Coast',\n",
       "  'countryCode': 'AU',\n",
       "  'timezone': 'GMT',\n",
       "  'openDate': '2019-08-10T06:35:00.000Z'}}"
      ]
     },
     "execution_count": 4,
     "metadata": {},
     "output_type": "execute_result"
    }
   ],
   "source": [
    "bot.getMarketDetails()\n"
   ]
  },
  {
   "cell_type": "code",
   "execution_count": 5,
   "metadata": {},
   "outputs": [
    {
     "data": {
      "text/plain": [
       "{'marketId': '1.159524544',\n",
       " 'isMarketDataDelayed': True,\n",
       " 'status': 'OPEN',\n",
       " 'betDelay': 0,\n",
       " 'bspReconciled': False,\n",
       " 'complete': True,\n",
       " 'inplay': False,\n",
       " 'numberOfWinners': 1,\n",
       " 'numberOfRunners': 2,\n",
       " 'numberOfActiveRunners': 2,\n",
       " 'lastMatchTime': '2019-08-10T06:23:34.712Z',\n",
       " 'totalMatched': 125983.8,\n",
       " 'totalAvailable': 116496.7,\n",
       " 'crossMatching': True,\n",
       " 'runnersVoidable': False,\n",
       " 'version': 2887031579,\n",
       " 'runners': [{'selectionId': 42153,\n",
       "   'handicap': 0.0,\n",
       "   'status': 'ACTIVE',\n",
       "   'lastPriceTraded': 1.06,\n",
       "   'totalMatched': 0.0,\n",
       "   'ex': {'availableToBack': [{'price': 1.05, 'size': 13925.54},\n",
       "     {'price': 1.04, 'size': 5529.0},\n",
       "     {'price': 1.03, 'size': 2561.04}],\n",
       "    'availableToLay': [{'price': 1.06, 'size': 22461.23},\n",
       "     {'price': 1.07, 'size': 22267.95},\n",
       "     {'price': 1.08, 'size': 28917.37}],\n",
       "    'tradedVolume': []}},\n",
       "  {'selectionId': 4513766,\n",
       "   'handicap': 0.0,\n",
       "   'status': 'ACTIVE',\n",
       "   'lastPriceTraded': 19.5,\n",
       "   'totalMatched': 0.0,\n",
       "   'ex': {'availableToBack': [{'price': 18.0, 'size': 60.79},\n",
       "     {'price': 17.5, 'size': 1679.8},\n",
       "     {'price': 15.0, 'size': 2713.8}],\n",
       "    'availableToLay': [{'price': 19.5, 'size': 51.93},\n",
       "     {'price': 20.0, 'size': 228.7},\n",
       "     {'price': 21.0, 'size': 430.25}],\n",
       "    'tradedVolume': []}}]}"
      ]
     },
     "execution_count": 5,
     "metadata": {},
     "output_type": "execute_result"
    }
   ],
   "source": [
    "bot.getOrderBook()\n"
   ]
  },
  {
   "cell_type": "code",
   "execution_count": 6,
   "metadata": {},
   "outputs": [
    {
     "data": {
      "text/plain": [
       "{'marketId': '1.159524544',\n",
       " 'isMarketDataDelayed': True,\n",
       " 'status': 'OPEN',\n",
       " 'betDelay': 0,\n",
       " 'bspReconciled': False,\n",
       " 'complete': True,\n",
       " 'inplay': False,\n",
       " 'numberOfWinners': 1,\n",
       " 'numberOfRunners': 2,\n",
       " 'numberOfActiveRunners': 2,\n",
       " 'lastMatchTime': '2019-08-10T06:23:34.712Z',\n",
       " 'totalMatched': 125983.8,\n",
       " 'totalAvailable': 116496.7,\n",
       " 'crossMatching': True,\n",
       " 'runnersVoidable': False,\n",
       " 'version': 2887031579,\n",
       " 'runners': [{'selectionId': 42153,\n",
       "   'handicap': 0.0,\n",
       "   'status': 'ACTIVE',\n",
       "   'lastPriceTraded': 1.06,\n",
       "   'totalMatched': 0.0,\n",
       "   'ex': {'availableToBack': [{'price': 1.05, 'size': 13925.54},\n",
       "     {'price': 1.04, 'size': 5529.0},\n",
       "     {'price': 1.03, 'size': 2561.04}],\n",
       "    'availableToLay': [{'price': 1.06, 'size': 22461.23},\n",
       "     {'price': 1.07, 'size': 22267.95},\n",
       "     {'price': 1.08, 'size': 28917.37}],\n",
       "    'tradedVolume': []}},\n",
       "  {'selectionId': 4513766,\n",
       "   'handicap': 0.0,\n",
       "   'status': 'ACTIVE',\n",
       "   'lastPriceTraded': 19.5,\n",
       "   'totalMatched': 0.0,\n",
       "   'ex': {'availableToBack': [{'price': 18.0, 'size': 60.79},\n",
       "     {'price': 17.5, 'size': 1679.8},\n",
       "     {'price': 15.0, 'size': 2713.8}],\n",
       "    'availableToLay': [{'price': 19.5, 'size': 51.93},\n",
       "     {'price': 20.0, 'size': 228.7},\n",
       "     {'price': 21.0, 'size': 430.25}],\n",
       "    'tradedVolume': []}}]}"
      ]
     },
     "execution_count": 6,
     "metadata": {},
     "output_type": "execute_result"
    }
   ],
   "source": [
    "bot.orderBook\n"
   ]
  },
  {
   "cell_type": "code",
   "execution_count": 8,
   "metadata": {},
   "outputs": [],
   "source": [
    "bot.setupLocalData()"
   ]
  },
  {
   "cell_type": "code",
   "execution_count": 9,
   "metadata": {},
   "outputs": [
    {
     "data": {
      "text/plain": [
       "{'TEST_MODE': True,\n",
       " 'botName': 'marketmaker',\n",
       " 'blocurl': 'http://127.0.0.1:5000/',\n",
       " 'blocheaders': {'content-type': 'application/json'},\n",
       " 'updateFrequency': 10,\n",
       " 'betfairMarketId': 1.159524544,\n",
       " 'betfairAppKey': 'iw8UsiHCP1GSs213',\n",
       " 'betfairSessionKey': '082umhiQQ2eV1csFWXY1TPwKp6l+3n79h8BTTRq0AFE=',\n",
       " 'quoteSource': 'betfair',\n",
       " 'localEventId': '9',\n",
       " 'localMarketId': '12',\n",
       " 'orderBook': {'marketId': '1.159524544',\n",
       "  'isMarketDataDelayed': True,\n",
       "  'status': 'OPEN',\n",
       "  'betDelay': 0,\n",
       "  'bspReconciled': False,\n",
       "  'complete': True,\n",
       "  'inplay': False,\n",
       "  'numberOfWinners': 1,\n",
       "  'numberOfRunners': 2,\n",
       "  'numberOfActiveRunners': 2,\n",
       "  'lastMatchTime': '2019-08-10T06:23:34.712Z',\n",
       "  'totalMatched': 125983.8,\n",
       "  'totalAvailable': 116496.7,\n",
       "  'crossMatching': True,\n",
       "  'runnersVoidable': False,\n",
       "  'version': 2887031579,\n",
       "  'runners': [{'selectionId': 42153,\n",
       "    'handicap': 0.0,\n",
       "    'status': 'ACTIVE',\n",
       "    'lastPriceTraded': 1.06,\n",
       "    'totalMatched': 0.0,\n",
       "    'ex': {'availableToBack': [{'price': 1.05, 'size': 13925.54},\n",
       "      {'price': 1.04, 'size': 5529.0},\n",
       "      {'price': 1.03, 'size': 2561.04}],\n",
       "     'availableToLay': [{'price': 1.06, 'size': 22461.23},\n",
       "      {'price': 1.07, 'size': 22267.95},\n",
       "      {'price': 1.08, 'size': 28917.37}],\n",
       "     'tradedVolume': []}},\n",
       "   {'selectionId': 4513766,\n",
       "    'handicap': 0.0,\n",
       "    'status': 'ACTIVE',\n",
       "    'lastPriceTraded': 19.5,\n",
       "    'totalMatched': 0.0,\n",
       "    'ex': {'availableToBack': [{'price': 18.0, 'size': 60.79},\n",
       "      {'price': 17.5, 'size': 1679.8},\n",
       "      {'price': 15.0, 'size': 2713.8}],\n",
       "     'availableToLay': [{'price': 19.5, 'size': 51.93},\n",
       "      {'price': 20.0, 'size': 228.7},\n",
       "      {'price': 21.0, 'size': 430.25}],\n",
       "     'tradedVolume': []}}]},\n",
       " 'marketDetails': {'marketId': '1.159524544',\n",
       "  'marketName': 'Match Odds',\n",
       "  'marketStartTime': '2019-08-10T06:35:00.000Z',\n",
       "  'description': {'persistenceEnabled': True,\n",
       "   'bspMarket': True,\n",
       "   'marketTime': '2019-08-10T06:35:00.000Z',\n",
       "   'suspendTime': '2019-08-10T06:35:00.000Z',\n",
       "   'bettingType': 'ODDS',\n",
       "   'turnInPlayEnabled': True,\n",
       "   'marketType': 'MATCH_ODDS',\n",
       "   'regulator': 'MALTA LOTTERIES AND GAMBLING AUTHORITY',\n",
       "   'marketBaseRate': 2.5,\n",
       "   'discountAllowed': True,\n",
       "   'wallet': 'UK wallet',\n",
       "   'rules': '<br><b>MARKET INFORMATION</b><br><br>For further information please see <a href=http://content.betfair.com/aboutus/content.asp?sWhichKey=Rules%20and%20Regulations#undefined.do style=color:0163ad; text-decoration: underline; target=_blank>Rules & Regs</a>.<br><br>Who will win this match? At the start of the match all unmatched bets will be cancelled and the market will be turned <b>IN PLAY</b>. This market will not be actively managed therefore it is the responsibility of all users to manage their own positions. Dead Heat rules apply.<br><br><b>BSP (Betfair Starting Price) operates on this market</b>. For more information about setting a Starting Price odds limit  <a target=\"_blank\"  href=\"http://sp.betfair.com.au/FAQs_settingSPlimits.php\">click here</a>\\n<br><br>This is a <a href=\"http://cross-matching.betfair.com.au/\" target=\"_blank\">cross-matching</a> market.<br><br>Customers should be aware that:<b><br><br><li>Transmissions described as “live” by some broadcasters may actually be delayed and that all in-play matches are not necessarily televised.</li><br><li>The extent of any such delay may vary between customers, depending on the set-up through which they are receiving pictures or data.</li></b><br><br><b>BET IN-PLAY</b><br><br>Australian customers call Telbet to bet in-play on this market – call <b>132BET (132238)</b><br><br>',\n",
       "   'rulesHasDate': True,\n",
       "   'priceLadderDescription': {'type': 'CLASSIC'}},\n",
       "  'totalMatched': 115351.13994600001,\n",
       "  'runners': [{'selectionId': 42153,\n",
       "    'runnerName': 'Brisbane',\n",
       "    'handicap': 0.0,\n",
       "    'sortPriority': 1,\n",
       "    'metadata': {'runnerId': '42153'}},\n",
       "   {'selectionId': 4513766,\n",
       "    'runnerName': 'Gold Coast',\n",
       "    'handicap': 0.0,\n",
       "    'sortPriority': 2,\n",
       "    'metadata': {'runnerId': '4513766'}}],\n",
       "  'eventType': {'id': '61420', 'name': 'Australian Rules'},\n",
       "  'competition': {'id': '11897406', 'name': 'AFL'},\n",
       "  'event': {'id': '29182405',\n",
       "   'name': 'Brisbane v Gold Coast',\n",
       "   'countryCode': 'AU',\n",
       "   'timezone': 'GMT',\n",
       "   'openDate': '2019-08-10T06:35:00.000Z'}},\n",
       " 'currentOrders': []}"
      ]
     },
     "execution_count": 9,
     "metadata": {},
     "output_type": "execute_result"
    }
   ],
   "source": [
    "vars(bot)"
   ]
  },
  {
   "cell_type": "code",
   "execution_count": 10,
   "metadata": {},
   "outputs": [],
   "source": [
    "bot.scrapeCurrentQuote()"
   ]
  },
  {
   "cell_type": "code",
   "execution_count": null,
   "metadata": {},
   "outputs": [],
   "source": [
    "bot.run()"
   ]
  },
  {
   "cell_type": "code",
   "execution_count": 11,
   "metadata": {},
   "outputs": [
    {
     "data": {
      "text/plain": [
       "<BetfairBot.BetfairBot at 0x10f0cb668>"
      ]
     },
     "execution_count": 11,
     "metadata": {},
     "output_type": "execute_result"
    }
   ],
   "source": [
    "bot\n"
   ]
  },
  {
   "cell_type": "code",
   "execution_count": 12,
   "metadata": {},
   "outputs": [
    {
     "data": {
      "text/plain": [
       "{'marketId': '1.159522817',\n",
       " 'isMarketDataDelayed': True,\n",
       " 'status': 'SUSPENDED',\n",
       " 'betDelay': 5,\n",
       " 'bspReconciled': True,\n",
       " 'complete': True,\n",
       " 'inplay': True,\n",
       " 'numberOfWinners': 1,\n",
       " 'numberOfRunners': 2,\n",
       " 'numberOfActiveRunners': 2,\n",
       " 'lastMatchTime': '2019-08-04T07:39:08.630Z',\n",
       " 'totalMatched': 380547.95,\n",
       " 'totalAvailable': 11710.25,\n",
       " 'crossMatching': True,\n",
       " 'runnersVoidable': False,\n",
       " 'version': 2880459183,\n",
       " 'runners': [{'selectionId': 39980,\n",
       "   'handicap': 0.0,\n",
       "   'status': 'ACTIVE',\n",
       "   'lastPriceTraded': 1000.0,\n",
       "   'totalMatched': 0.0,\n",
       "   'ex': {'availableToBack': [{'price': 17.5, 'size': 45.65},\n",
       "     {'price': 12.0, 'size': 19.1},\n",
       "     {'price': 11.0, 'size': 62.5}],\n",
       "    'availableToLay': [],\n",
       "    'tradedVolume': []}},\n",
       "  {'selectionId': 39991,\n",
       "   'handicap': 0.0,\n",
       "   'status': 'ACTIVE',\n",
       "   'lastPriceTraded': 1.01,\n",
       "   'totalMatched': 0.0,\n",
       "   'ex': {'availableToBack': [],\n",
       "    'availableToLay': [{'price': 1.01, 'size': 207.59},\n",
       "     {'price': 1.02, 'size': 57.27},\n",
       "     {'price': 1.03, 'size': 200.0}],\n",
       "    'tradedVolume': []}}]}"
      ]
     },
     "execution_count": 12,
     "metadata": {},
     "output_type": "execute_result"
    }
   ],
   "source": [
    "bot.orderBook"
   ]
  },
  {
   "cell_type": "code",
   "execution_count": 15,
   "metadata": {},
   "outputs": [
    {
     "data": {
      "text/plain": [
       "[]"
      ]
     },
     "execution_count": 15,
     "metadata": {},
     "output_type": "execute_result"
    }
   ],
   "source": [
    "bot.getCurrentOrders()"
   ]
  },
  {
   "cell_type": "code",
   "execution_count": 16,
   "metadata": {},
   "outputs": [
    {
     "data": {
      "text/plain": [
       "{'marketId': '1.159522817',\n",
       " 'isMarketDataDelayed': True,\n",
       " 'status': 'SUSPENDED',\n",
       " 'betDelay': 5,\n",
       " 'bspReconciled': True,\n",
       " 'complete': True,\n",
       " 'inplay': True,\n",
       " 'numberOfWinners': 1,\n",
       " 'numberOfRunners': 2,\n",
       " 'numberOfActiveRunners': 2,\n",
       " 'lastMatchTime': '2019-08-04T07:39:08.630Z',\n",
       " 'totalMatched': 380547.95,\n",
       " 'totalAvailable': 11710.25,\n",
       " 'crossMatching': True,\n",
       " 'runnersVoidable': False,\n",
       " 'version': 2880459183,\n",
       " 'runners': [{'selectionId': 39980,\n",
       "   'handicap': 0.0,\n",
       "   'status': 'ACTIVE',\n",
       "   'lastPriceTraded': 1000.0,\n",
       "   'totalMatched': 0.0,\n",
       "   'ex': {'availableToBack': [{'price': 17.5, 'size': 45.65},\n",
       "     {'price': 12.0, 'size': 19.1},\n",
       "     {'price': 11.0, 'size': 62.5}],\n",
       "    'availableToLay': [],\n",
       "    'tradedVolume': []}},\n",
       "  {'selectionId': 39991,\n",
       "   'handicap': 0.0,\n",
       "   'status': 'ACTIVE',\n",
       "   'lastPriceTraded': 1.01,\n",
       "   'totalMatched': 0.0,\n",
       "   'ex': {'availableToBack': [],\n",
       "    'availableToLay': [{'price': 1.01, 'size': 207.59},\n",
       "     {'price': 1.02, 'size': 57.27},\n",
       "     {'price': 1.03, 'size': 200.0}],\n",
       "    'tradedVolume': []}}]}"
      ]
     },
     "execution_count": 16,
     "metadata": {},
     "output_type": "execute_result"
    }
   ],
   "source": [
    "bot.orderBook"
   ]
  },
  {
   "cell_type": "code",
   "execution_count": null,
   "metadata": {},
   "outputs": [],
   "source": []
  }
 ],
 "metadata": {
  "kernelspec": {
   "display_name": "Python 3",
   "language": "python",
   "name": "python3"
  },
  "language_info": {
   "codemirror_mode": {
    "name": "ipython",
    "version": 3
   },
   "file_extension": ".py",
   "mimetype": "text/x-python",
   "name": "python",
   "nbconvert_exporter": "python",
   "pygments_lexer": "ipython3",
   "version": "3.7.3"
  }
 },
 "nbformat": 4,
 "nbformat_minor": 2
}
