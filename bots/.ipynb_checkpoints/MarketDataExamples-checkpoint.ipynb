{
 "cells": [
  {
   "cell_type": "code",
   "execution_count": 5,
   "metadata": {},
   "outputs": [
    {
     "ename": "SyntaxError",
     "evalue": "invalid syntax (BlocBot.py, line 183)",
     "output_type": "error",
     "traceback": [
      "Traceback \u001b[0;36m(most recent call last)\u001b[0m:\n",
      "  File \u001b[1;32m\"/Library/Frameworks/Python.framework/Versions/3.7/lib/python3.7/site-packages/IPython/core/interactiveshell.py\"\u001b[0m, line \u001b[1;32m3267\u001b[0m, in \u001b[1;35mrun_code\u001b[0m\n    exec(code_obj, self.user_global_ns, self.user_ns)\n",
      "\u001b[0;36m  File \u001b[0;32m\"<ipython-input-5-34c6c693d7e7>\"\u001b[0;36m, line \u001b[0;32m6\u001b[0;36m, in \u001b[0;35m<module>\u001b[0;36m\u001b[0m\n\u001b[0;31m    from BlocBot import BlocBot\u001b[0m\n",
      "\u001b[0;36m  File \u001b[0;32m\"/Users/josephclark/src/blocmarket/doc/bots/BlocBot.py\"\u001b[0;36m, line \u001b[0;32m183\u001b[0m\n\u001b[0;31m    if prevQuote == quotePrice:\u001b[0m\n\u001b[0m     ^\u001b[0m\n\u001b[0;31mSyntaxError\u001b[0m\u001b[0;31m:\u001b[0m invalid syntax\n"
     ]
    }
   ],
   "source": [
    "# Basic bot \n",
    "import requests\n",
    "import pandas as pd\n",
    "import json\n",
    "import threading\n",
    "from BlocBot import BlocBot\n",
    "from bloc.BlocServer import BlocServer\n",
    "from BetfairPriceMakingBot import BetfairPriceMakingBot"
   ]
  },
  {
   "cell_type": "code",
   "execution_count": 96,
   "metadata": {},
   "outputs": [
    {
     "name": "stdout",
     "output_type": "stream",
     "text": [
      "/Users/josephclark/src/blocmarket\n"
     ]
    }
   ],
   "source": []
  },
  {
   "cell_type": "markdown",
   "metadata": {},
   "source": [
    "# Event/Market/Odds storage and retrieval\n",
    "These functions handle storage of odds/stake data.\n",
    "\n",
    "createSPEvent: create sporting event for league/competition/stage\n",
    "createSPMarket: create market on event (e.g. -5 pt handicap)\n",
    "createSPRecord: create odds record (including for own bets)\n",
    "\n",
    "viewSPEvents: view table\n",
    "viewSPMarkets: view table\n",
    "viewSPRecords: view table"
   ]
  },
  {
   "cell_type": "markdown",
   "metadata": {},
   "source": [
    "## Create event"
   ]
  },
  {
   "cell_type": "code",
   "execution_count": 3,
   "metadata": {},
   "outputs": [],
   "source": [
    "baseurl = 'http://127.0.0.1:5000/'"
   ]
  },
  {
   "cell_type": "code",
   "execution_count": 185,
   "metadata": {},
   "outputs": [],
   "source": [
    "url = baseurl + 'createSPEvent'\n",
    "headers = {'content-type': 'application/json'}\n",
    "\n",
    "content_makeevent = {\"sport\": \"Rugby\",\n",
    "                        \"league\": \"NRL\", \n",
    "                        \"competition\": \"2019\",\n",
    "                        \"stage\": \"nothing\", \n",
    "                        \"runners\": json.dumps({\"0\": \"Canberra\", \"1\": \"Cronulla\"}), \n",
    "                        \"starttimestamputc\": \"1-Jan-2020\"}\n",
    "# Post market\n",
    "response = requests.post(url, data=json.dumps(content_makeevent), headers=headers)"
   ]
  },
  {
   "cell_type": "code",
   "execution_count": 186,
   "metadata": {},
   "outputs": [
    {
     "data": {
      "text/plain": [
       "{'eventid': '1'}"
      ]
     },
     "execution_count": 186,
     "metadata": {},
     "output_type": "execute_result"
    }
   ],
   "source": [
    "response.json()"
   ]
  },
  {
   "cell_type": "markdown",
   "metadata": {},
   "source": [
    "# Make market"
   ]
  },
  {
   "cell_type": "code",
   "execution_count": 187,
   "metadata": {},
   "outputs": [],
   "source": [
    "url = baseurl + 'createSPMarket'\n",
    "\n",
    "content_makemarket = {\"eventid\": 1,\n",
    "                        \"markettype\": \"handicap\", \n",
    "                        \"marketparameters\": json.dumps({\"handicap\": \"-5\"}),\n",
    "                        \"notes\": \"Starting late due to rain.\"}\n",
    "# Post market\n",
    "response = requests.post(url, data=json.dumps(content_makemarket), headers=headers)"
   ]
  },
  {
   "cell_type": "code",
   "execution_count": 189,
   "metadata": {},
   "outputs": [
    {
     "data": {
      "text/plain": [
       "{'marketid': '2'}"
      ]
     },
     "execution_count": 189,
     "metadata": {},
     "output_type": "execute_result"
    }
   ],
   "source": [
    "response.json()"
   ]
  },
  {
   "cell_type": "markdown",
   "metadata": {},
   "source": [
    "# Make score"
   ]
  },
  {
   "cell_type": "code",
   "execution_count": 14,
   "metadata": {},
   "outputs": [],
   "source": [
    "url = baseurl + 'createSPScore'\n",
    "headers = {'content-type': 'application/json'}\n",
    "\n",
    "content_makescore = {\n",
    "                        \"eventid\": 2,\n",
    "                        \"runner\": 0,\n",
    "                        \"timestamputc\": \"1-Jan-2020 12:53:22\",\n",
    "                        \"measure\": 'score',\n",
    "                        \"value\": 39, \n",
    "                        \"isfinal\": True}\n",
    "# Post market\n",
    "response = requests.post(url, data=json.dumps(content_makescore), headers=headers)"
   ]
  },
  {
   "cell_type": "code",
   "execution_count": 13,
   "metadata": {},
   "outputs": [
    {
     "data": {
      "text/plain": [
       "{'scoreid': '2'}"
      ]
     },
     "execution_count": 13,
     "metadata": {},
     "output_type": "execute_result"
    }
   ],
   "source": [
    "response.json()"
   ]
  },
  {
   "cell_type": "markdown",
   "metadata": {},
   "source": [
    "# Make record"
   ]
  },
  {
   "cell_type": "code",
   "execution_count": 191,
   "metadata": {},
   "outputs": [],
   "source": [
    "url = baseurl + 'createSPRecord'\n",
    "headers = {'content-type': 'application/json'}\n",
    "\n",
    "content_makerecord = {\"source\": \"betfair\",\n",
    "                        \"marketid\": 2,\n",
    "                        \"timestamputc\": \"1-Jan-2020\",\n",
    "                        \"odds\": 2,\n",
    "                        \"stake\": 10, \n",
    "                        \"islay\": False,\n",
    "                        \"isplaced\": True,\n",
    "                        \"notes\": \"wolfman\"}\n",
    "# Post market\n",
    "response = requests.post(url, data=json.dumps(content_makerecord), headers=headers)"
   ]
  },
  {
   "cell_type": "code",
   "execution_count": 192,
   "metadata": {},
   "outputs": [
    {
     "data": {
      "text/plain": [
       "{'recordid': '1'}"
      ]
     },
     "execution_count": 192,
     "metadata": {},
     "output_type": "execute_result"
    }
   ],
   "source": [
    "response.json()"
   ]
  },
  {
   "cell_type": "markdown",
   "metadata": {},
   "source": [
    "# Views"
   ]
  },
  {
   "cell_type": "code",
   "execution_count": null,
   "metadata": {},
   "outputs": [],
   "source": [
    "## View Events"
   ]
  },
  {
   "cell_type": "code",
   "execution_count": null,
   "metadata": {},
   "outputs": [],
   "source": [
    "url = baseurl + 'viewSPEvents'\n",
    "headers = {'content-type': 'application/json'}\n",
    "\n",
    "content = {}\n",
    "# Post market\n",
    "response = requests.post(url, data=json.dumps(content), headers=headers)"
   ]
  },
  {
   "cell_type": "code",
   "execution_count": 206,
   "metadata": {},
   "outputs": [
    {
     "data": {
      "text/html": [
       "<div>\n",
       "<style scoped>\n",
       "    .dataframe tbody tr th:only-of-type {\n",
       "        vertical-align: middle;\n",
       "    }\n",
       "\n",
       "    .dataframe tbody tr th {\n",
       "        vertical-align: top;\n",
       "    }\n",
       "\n",
       "    .dataframe thead th {\n",
       "        text-align: right;\n",
       "    }\n",
       "</style>\n",
       "<table border=\"1\" class=\"dataframe\">\n",
       "  <thead>\n",
       "    <tr style=\"text-align: right;\">\n",
       "      <th></th>\n",
       "      <th>eventid</th>\n",
       "      <th>sport</th>\n",
       "      <th>league</th>\n",
       "      <th>competition</th>\n",
       "      <th>stage</th>\n",
       "      <th>runners</th>\n",
       "      <th>starttimestamputc</th>\n",
       "      <th>outcome</th>\n",
       "    </tr>\n",
       "  </thead>\n",
       "  <tbody>\n",
       "    <tr>\n",
       "      <th>0</th>\n",
       "      <td>1</td>\n",
       "      <td>Rugby</td>\n",
       "      <td>NRL</td>\n",
       "      <td>2019</td>\n",
       "      <td>nothing</td>\n",
       "      <td>{'0': 'Canberra', '1': 'Cronulla'}</td>\n",
       "      <td>1577836800000</td>\n",
       "      <td>{'0': '12', '1': '10'}</td>\n",
       "    </tr>\n",
       "  </tbody>\n",
       "</table>\n",
       "</div>"
      ],
      "text/plain": [
       "   eventid  sport league  competition    stage  \\\n",
       "0        1  Rugby    NRL         2019  nothing   \n",
       "\n",
       "                              runners  starttimestamputc  \\\n",
       "0  {'0': 'Canberra', '1': 'Cronulla'}      1577836800000   \n",
       "\n",
       "                  outcome  \n",
       "0  {'0': '12', '1': '10'}  "
      ]
     },
     "execution_count": 206,
     "metadata": {},
     "output_type": "execute_result"
    }
   ],
   "source": [
    "pd.read_json(response.json())"
   ]
  },
  {
   "cell_type": "markdown",
   "metadata": {},
   "source": [
    "## View markets"
   ]
  },
  {
   "cell_type": "code",
   "execution_count": 211,
   "metadata": {},
   "outputs": [],
   "source": [
    "url = baseurl + 'viewSPMarkets'\n",
    "headers = {'content-type': 'application/json'}\n",
    "\n",
    "content = {}\n",
    "# Post market\n",
    "response = requests.post(url, data=json.dumps(content), headers=headers)"
   ]
  },
  {
   "cell_type": "code",
   "execution_count": 212,
   "metadata": {},
   "outputs": [
    {
     "data": {
      "text/html": [
       "<div>\n",
       "<style scoped>\n",
       "    .dataframe tbody tr th:only-of-type {\n",
       "        vertical-align: middle;\n",
       "    }\n",
       "\n",
       "    .dataframe tbody tr th {\n",
       "        vertical-align: top;\n",
       "    }\n",
       "\n",
       "    .dataframe thead th {\n",
       "        text-align: right;\n",
       "    }\n",
       "</style>\n",
       "<table border=\"1\" class=\"dataframe\">\n",
       "  <thead>\n",
       "    <tr style=\"text-align: right;\">\n",
       "      <th></th>\n",
       "      <th>marketid</th>\n",
       "      <th>eventid</th>\n",
       "      <th>markettype</th>\n",
       "      <th>marketparameters</th>\n",
       "      <th>notes</th>\n",
       "    </tr>\n",
       "  </thead>\n",
       "  <tbody>\n",
       "    <tr>\n",
       "      <th>0</th>\n",
       "      <td>1</td>\n",
       "      <td>1</td>\n",
       "      <td>handicap</td>\n",
       "      <td>{'handicap': '-5', 'secondpar': '2'}</td>\n",
       "      <td>Starting late due to rain.</td>\n",
       "    </tr>\n",
       "    <tr>\n",
       "      <th>1</th>\n",
       "      <td>5</td>\n",
       "      <td>2</td>\n",
       "      <td>moneyline</td>\n",
       "      <td>{'source': {'betfair': {'marketid': '1.1595158...</td>\n",
       "      <td>Test market.</td>\n",
       "    </tr>\n",
       "  </tbody>\n",
       "</table>\n",
       "</div>"
      ],
      "text/plain": [
       "   marketid  eventid markettype  \\\n",
       "0         1        1   handicap   \n",
       "1         5        2  moneyline   \n",
       "\n",
       "                                    marketparameters  \\\n",
       "0               {'handicap': '-5', 'secondpar': '2'}   \n",
       "1  {'source': {'betfair': {'marketid': '1.1595158...   \n",
       "\n",
       "                        notes  \n",
       "0  Starting late due to rain.  \n",
       "1                Test market.  "
      ]
     },
     "execution_count": 212,
     "metadata": {},
     "output_type": "execute_result"
    }
   ],
   "source": [
    "pd.read_json(response.json())"
   ]
  },
  {
   "cell_type": "markdown",
   "metadata": {},
   "source": [
    "## View records"
   ]
  },
  {
   "cell_type": "code",
   "execution_count": 209,
   "metadata": {},
   "outputs": [],
   "source": [
    "url = baseurl + 'viewSPRecords'\n",
    "headers = {'content-type': 'application/json'}\n",
    "\n",
    "content = {}\n",
    "# Post market\n",
    "response = requests.post(url, data=json.dumps(content), headers=headers)"
   ]
  },
  {
   "cell_type": "code",
   "execution_count": 210,
   "metadata": {},
   "outputs": [
    {
     "data": {
      "text/html": [
       "<div>\n",
       "<style scoped>\n",
       "    .dataframe tbody tr th:only-of-type {\n",
       "        vertical-align: middle;\n",
       "    }\n",
       "\n",
       "    .dataframe tbody tr th {\n",
       "        vertical-align: top;\n",
       "    }\n",
       "\n",
       "    .dataframe thead th {\n",
       "        text-align: right;\n",
       "    }\n",
       "</style>\n",
       "<table border=\"1\" class=\"dataframe\">\n",
       "  <thead>\n",
       "    <tr style=\"text-align: right;\">\n",
       "      <th></th>\n",
       "      <th>recordid</th>\n",
       "      <th>source</th>\n",
       "      <th>marketid</th>\n",
       "      <th>timestamputc</th>\n",
       "      <th>odds</th>\n",
       "      <th>stake</th>\n",
       "      <th>islay</th>\n",
       "      <th>isplaced</th>\n",
       "      <th>notes</th>\n",
       "    </tr>\n",
       "  </thead>\n",
       "  <tbody>\n",
       "    <tr>\n",
       "      <th>0</th>\n",
       "      <td>1</td>\n",
       "      <td>betfair</td>\n",
       "      <td>2</td>\n",
       "      <td>2020-01-01</td>\n",
       "      <td>2</td>\n",
       "      <td>10</td>\n",
       "      <td>False</td>\n",
       "      <td>True</td>\n",
       "      <td>wolfman</td>\n",
       "    </tr>\n",
       "  </tbody>\n",
       "</table>\n",
       "</div>"
      ],
      "text/plain": [
       "   recordid   source  marketid timestamputc  odds  stake  islay  isplaced  \\\n",
       "0         1  betfair         2   2020-01-01     2     10  False      True   \n",
       "\n",
       "     notes  \n",
       "0  wolfman  "
      ]
     },
     "execution_count": 210,
     "metadata": {},
     "output_type": "execute_result"
    }
   ],
   "source": [
    "pd.read_json(response.json())"
   ]
  },
  {
   "cell_type": "markdown",
   "metadata": {},
   "source": [
    "## View scores"
   ]
  },
  {
   "cell_type": "code",
   "execution_count": 15,
   "metadata": {},
   "outputs": [],
   "source": [
    "url = baseurl + 'viewSPScores'\n",
    "headers = {'content-type': 'application/json'}\n",
    "\n",
    "content = {}\n",
    "# Post market\n",
    "response = requests.post(url, data=json.dumps(content), headers=headers)"
   ]
  },
  {
   "cell_type": "code",
   "execution_count": 16,
   "metadata": {},
   "outputs": [
    {
     "data": {
      "text/html": [
       "<div>\n",
       "<style scoped>\n",
       "    .dataframe tbody tr th:only-of-type {\n",
       "        vertical-align: middle;\n",
       "    }\n",
       "\n",
       "    .dataframe tbody tr th {\n",
       "        vertical-align: top;\n",
       "    }\n",
       "\n",
       "    .dataframe thead th {\n",
       "        text-align: right;\n",
       "    }\n",
       "</style>\n",
       "<table border=\"1\" class=\"dataframe\">\n",
       "  <thead>\n",
       "    <tr style=\"text-align: right;\">\n",
       "      <th></th>\n",
       "      <th>scoreid</th>\n",
       "      <th>eventid</th>\n",
       "      <th>runner</th>\n",
       "      <th>timestamputc</th>\n",
       "      <th>measure</th>\n",
       "      <th>value</th>\n",
       "      <th>isfinal</th>\n",
       "    </tr>\n",
       "  </thead>\n",
       "  <tbody>\n",
       "    <tr>\n",
       "      <th>0</th>\n",
       "      <td>1</td>\n",
       "      <td>2</td>\n",
       "      <td>0</td>\n",
       "      <td>2020-01-01 00:00:00</td>\n",
       "      <td>score</td>\n",
       "      <td>35</td>\n",
       "      <td>False</td>\n",
       "    </tr>\n",
       "    <tr>\n",
       "      <th>1</th>\n",
       "      <td>2</td>\n",
       "      <td>2</td>\n",
       "      <td>0</td>\n",
       "      <td>2020-01-01 00:00:00</td>\n",
       "      <td>score</td>\n",
       "      <td>35</td>\n",
       "      <td>False</td>\n",
       "    </tr>\n",
       "    <tr>\n",
       "      <th>2</th>\n",
       "      <td>3</td>\n",
       "      <td>2</td>\n",
       "      <td>0</td>\n",
       "      <td>2020-01-01 12:53:22</td>\n",
       "      <td>score</td>\n",
       "      <td>39</td>\n",
       "      <td>True</td>\n",
       "    </tr>\n",
       "  </tbody>\n",
       "</table>\n",
       "</div>"
      ],
      "text/plain": [
       "   scoreid  eventid  runner        timestamputc measure  value  isfinal\n",
       "0        1        2       0 2020-01-01 00:00:00   score     35    False\n",
       "1        2        2       0 2020-01-01 00:00:00   score     35    False\n",
       "2        3        2       0 2020-01-01 12:53:22   score     39     True"
      ]
     },
     "execution_count": 16,
     "metadata": {},
     "output_type": "execute_result"
    }
   ],
   "source": [
    "pd.read_json(response.json())"
   ]
  },
  {
   "cell_type": "code",
   "execution_count": null,
   "metadata": {},
   "outputs": [],
   "source": []
  }
 ],
 "metadata": {
  "kernelspec": {
   "display_name": "Python 3",
   "language": "python",
   "name": "python3"
  },
  "language_info": {
   "codemirror_mode": {
    "name": "ipython",
    "version": 3
   },
   "file_extension": ".py",
   "mimetype": "text/x-python",
   "name": "python",
   "nbconvert_exporter": "python",
   "pygments_lexer": "ipython3",
   "version": "3.7.3"
  }
 },
 "nbformat": 4,
 "nbformat_minor": 2
}
