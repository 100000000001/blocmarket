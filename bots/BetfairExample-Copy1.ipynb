{
 "cells": [
  {
   "cell_type": "code",
   "execution_count": 1,
   "metadata": {},
   "outputs": [],
   "source": [
    "from BetfairBot import BetfairBot"
   ]
  },
  {
   "cell_type": "code",
   "execution_count": 2,
   "metadata": {},
   "outputs": [],
   "source": [
    "appKey = 'iw8UsiHCP1GSs213'\n",
    "marketId = '1.161073119'\n",
    "bot = BetfairBot(betfairMarketId=marketId)\n",
    "# Get SOID token\n",
    "bot.getBetfairSessionToken(betfairPassword='e', betfairAppKey = appKey)"
   ]
  },
  {
   "cell_type": "code",
   "execution_count": 3,
   "metadata": {},
   "outputs": [
    {
     "data": {
      "text/plain": [
       "{'TEST_MODE': True,\n",
       " 'botName': 'marketmaker',\n",
       " 'blocurl': 'http://127.0.0.1:5000/',\n",
       " 'blocheaders': {'content-type': 'application/json'},\n",
       " 'updateFrequency': 10,\n",
       " 'betfairMarketId': '1.161073119',\n",
       " 'betfairAppKey': 'iw8UsiHCP1GSs213',\n",
       " 'betfairSessionKey': '1UJRe6TXKpb0qMXFbN7hVULz7HODbBdbRBU6dfzGBFY=',\n",
       " 'quoteSource': 'betfair',\n",
       " 'localEventId': '',\n",
       " 'localMarketId': '',\n",
       " 'orderBook': [],\n",
       " 'marketDetails': [],\n",
       " 'currentOrders': []}"
      ]
     },
     "execution_count": 3,
     "metadata": {},
     "output_type": "execute_result"
    }
   ],
   "source": [
    "vars(bot)"
   ]
  },
  {
   "cell_type": "code",
   "execution_count": 4,
   "metadata": {},
   "outputs": [
    {
     "data": {
      "text/plain": [
       "{'marketId': '1.161073119',\n",
       " 'marketName': 'Match Odds',\n",
       " 'marketStartTime': '2019-08-14T10:00:00.000Z',\n",
       " 'description': {'persistenceEnabled': True,\n",
       "  'bspMarket': False,\n",
       "  'marketTime': '2019-08-14T10:00:00.000Z',\n",
       "  'suspendTime': '2019-08-14T10:00:00.000Z',\n",
       "  'bettingType': 'ODDS',\n",
       "  'turnInPlayEnabled': True,\n",
       "  'marketType': 'MATCH_ODDS',\n",
       "  'regulator': 'MALTA LOTTERIES AND GAMBLING AUTHORITY',\n",
       "  'marketBaseRate': 5.0,\n",
       "  'discountAllowed': True,\n",
       "  'wallet': 'UK wallet',\n",
       "  'rules': '<b>Market Information</b><br>For further information please see <a href=http://content.betfair.com/aboutus/content.asp?sWhichKey=Rules%20and%20Regulations#undefined.do style=color:0163ad; text-decoration: underline; target=_blank>Rules & Regs</a>.<br><br> Who will win this Test match? At the start of scheduled play all unmatched bets will be cancelled and this market will be turned in-play. This market will not be actively managed therefore it is the responsibility of all users to manage their own positions. Competition Rules apply. <br><br>Customers should be aware that:<br><br><li><b/>Transmissions described as “live” by some broadcasters may actually be delayed</li><br><li>The extent of any such delay may vary, depending on the set-up through which they are receiving pictures or data.</b></li><br>\\n<ul><li><b>If the official result is a Tied Match in any Test, County or Limited Overs Match then all bets on Match Odds markets will be void</b></li><br><li>At the conclusion of each days play this market will revert to a non in-play status with no time delay in effect then at the start of the following days play this market will be turned in-play again with unmatched bets <b><FONT COLOR=\"red\">not</FONT></b> cancelled.</li>',\n",
       "  'rulesHasDate': True,\n",
       "  'priceLadderDescription': {'type': 'CLASSIC'}},\n",
       " 'totalMatched': 305645.915616,\n",
       " 'runners': [{'selectionId': 10301,\n",
       "   'runnerName': 'England',\n",
       "   'handicap': 0.0,\n",
       "   'sortPriority': 1,\n",
       "   'metadata': {'runnerId': '10301'}},\n",
       "  {'selectionId': 16606,\n",
       "   'runnerName': 'Australia',\n",
       "   'handicap': 0.0,\n",
       "   'sortPriority': 2,\n",
       "   'metadata': {'runnerId': '16606'}},\n",
       "  {'selectionId': 60443,\n",
       "   'runnerName': 'The Draw',\n",
       "   'handicap': 0.0,\n",
       "   'sortPriority': 3,\n",
       "   'metadata': {'runnerId': '60443'}}],\n",
       " 'eventType': {'id': '4', 'name': 'Cricket'},\n",
       " 'competition': {'id': '11365612', 'name': 'Test Matches'},\n",
       " 'event': {'id': '29401072',\n",
       "  'name': 'England v Australia (2nd Test)',\n",
       "  'countryCode': 'GB',\n",
       "  'timezone': 'GMT',\n",
       "  'openDate': '2019-08-14T10:00:00.000Z'}}"
      ]
     },
     "execution_count": 4,
     "metadata": {},
     "output_type": "execute_result"
    }
   ],
   "source": [
    "bot.getMarketDetails()\n"
   ]
  },
  {
   "cell_type": "code",
   "execution_count": 5,
   "metadata": {},
   "outputs": [
    {
     "data": {
      "text/plain": [
       "{'marketId': '1.161073119',\n",
       " 'isMarketDataDelayed': True,\n",
       " 'status': 'OPEN',\n",
       " 'betDelay': 0,\n",
       " 'bspReconciled': False,\n",
       " 'complete': True,\n",
       " 'inplay': False,\n",
       " 'numberOfWinners': 1,\n",
       " 'numberOfRunners': 3,\n",
       " 'numberOfActiveRunners': 3,\n",
       " 'lastMatchTime': '2019-08-11T09:58:28.154Z',\n",
       " 'totalMatched': 306634.76,\n",
       " 'totalAvailable': 437996.39,\n",
       " 'crossMatching': True,\n",
       " 'runnersVoidable': False,\n",
       " 'version': 2882445980,\n",
       " 'runners': [{'selectionId': 10301,\n",
       "   'handicap': 0.0,\n",
       "   'status': 'ACTIVE',\n",
       "   'lastPriceTraded': 2.54,\n",
       "   'totalMatched': 0.0,\n",
       "   'ex': {'availableToBack': [{'price': 2.54, 'size': 65.03},\n",
       "     {'price': 2.52, 'size': 634.04},\n",
       "     {'price': 2.5, 'size': 10031.88}],\n",
       "    'availableToLay': [{'price': 2.56, 'size': 173.91},\n",
       "     {'price': 2.58, 'size': 1215.41},\n",
       "     {'price': 2.6, 'size': 514.95}],\n",
       "    'tradedVolume': []}},\n",
       "  {'selectionId': 16606,\n",
       "   'handicap': 0.0,\n",
       "   'status': 'ACTIVE',\n",
       "   'lastPriceTraded': 2.52,\n",
       "   'totalMatched': 0.0,\n",
       "   'ex': {'availableToBack': [{'price': 2.48, 'size': 2041.14},\n",
       "     {'price': 2.46, 'size': 3583.26},\n",
       "     {'price': 2.44, 'size': 26.83}],\n",
       "    'availableToLay': [{'price': 2.52, 'size': 389.14},\n",
       "     {'price': 2.54, 'size': 2381.37},\n",
       "     {'price': 2.56, 'size': 1997.19}],\n",
       "    'tradedVolume': []}},\n",
       "  {'selectionId': 60443,\n",
       "   'handicap': 0.0,\n",
       "   'status': 'ACTIVE',\n",
       "   'lastPriceTraded': 4.9,\n",
       "   'totalMatched': 0.0,\n",
       "   'ex': {'availableToBack': [{'price': 4.8, 'size': 625.82},\n",
       "     {'price': 4.7, 'size': 591.28},\n",
       "     {'price': 4.5, 'size': 150.14}],\n",
       "    'availableToLay': [{'price': 4.9, 'size': 1207.14},\n",
       "     {'price': 5.0, 'size': 1255.6},\n",
       "     {'price': 5.1, 'size': 1046.12}],\n",
       "    'tradedVolume': []}}]}"
      ]
     },
     "execution_count": 5,
     "metadata": {},
     "output_type": "execute_result"
    }
   ],
   "source": [
    "bot.getOrderBook()\n"
   ]
  },
  {
   "cell_type": "code",
   "execution_count": 30,
   "metadata": {},
   "outputs": [
    {
     "data": {
      "text/plain": [
       "{'marketId': '1.161199230',\n",
       " 'isMarketDataDelayed': True,\n",
       " 'status': 'CLOSED',\n",
       " 'betDelay': 5,\n",
       " 'bspReconciled': False,\n",
       " 'complete': True,\n",
       " 'inplay': True,\n",
       " 'numberOfWinners': 1,\n",
       " 'numberOfRunners': 2,\n",
       " 'numberOfActiveRunners': 0,\n",
       " 'totalMatched': 0.0,\n",
       " 'totalAvailable': 0.0,\n",
       " 'crossMatching': False,\n",
       " 'runnersVoidable': False,\n",
       " 'version': 2889583973,\n",
       " 'runners': [{'selectionId': 22812152,\n",
       "   'handicap': 0.0,\n",
       "   'status': 'WINNER',\n",
       "   'ex': {'availableToBack': [], 'availableToLay': [], 'tradedVolume': []}},\n",
       "  {'selectionId': 12739925,\n",
       "   'handicap': 0.0,\n",
       "   'status': 'LOSER',\n",
       "   'ex': {'availableToBack': [], 'availableToLay': [], 'tradedVolume': []}}]}"
      ]
     },
     "execution_count": 30,
     "metadata": {},
     "output_type": "execute_result"
    }
   ],
   "source": [
    "bot.orderBook\n"
   ]
  },
  {
   "cell_type": "code",
   "execution_count": 6,
   "metadata": {},
   "outputs": [],
   "source": [
    "bot.setupLocalData()"
   ]
  },
  {
   "cell_type": "code",
   "execution_count": 24,
   "metadata": {},
   "outputs": [
    {
     "data": {
      "text/plain": [
       "{'TEST_MODE': True,\n",
       " 'botName': 'marketmaker',\n",
       " 'blocurl': 'http://127.0.0.1:5000/',\n",
       " 'blocheaders': {'content-type': 'application/json'},\n",
       " 'updateFrequency': 10,\n",
       " 'betfairMarketId': '1.161199230',\n",
       " 'betfairAppKey': 'iw8UsiHCP1GSs213',\n",
       " 'betfairSessionKey': '3uWq0A03QluqyFBKCUfDJfhb86ztyLK3vL8DygggIgI=',\n",
       " 'quoteSource': 'betfair',\n",
       " 'localEventId': '12',\n",
       " 'localMarketId': '15',\n",
       " 'orderBook': {'marketId': '1.161199230',\n",
       "  'isMarketDataDelayed': True,\n",
       "  'status': 'OPEN',\n",
       "  'betDelay': 5,\n",
       "  'bspReconciled': False,\n",
       "  'complete': True,\n",
       "  'inplay': True,\n",
       "  'numberOfWinners': 1,\n",
       "  'numberOfRunners': 2,\n",
       "  'numberOfActiveRunners': 2,\n",
       "  'lastMatchTime': '2019-08-11T00:49:32.143Z',\n",
       "  'totalMatched': 44944.22,\n",
       "  'totalAvailable': 6039.88,\n",
       "  'crossMatching': True,\n",
       "  'runnersVoidable': False,\n",
       "  'version': 2889512687,\n",
       "  'runners': [{'selectionId': 22812152,\n",
       "    'handicap': 0.0,\n",
       "    'status': 'ACTIVE',\n",
       "    'lastPriceTraded': 1.17,\n",
       "    'totalMatched': 0.0,\n",
       "    'ex': {'availableToBack': [{'price': 1.14, 'size': 353.59},\n",
       "      {'price': 1.13, 'size': 1633.12},\n",
       "      {'price': 1.12, 'size': 1032.78}],\n",
       "     'availableToLay': [{'price': 1.24, 'size': 488.67},\n",
       "      {'price': 1.41, 'size': 36.83},\n",
       "      {'price': 110.0, 'size': 9.82}],\n",
       "     'tradedVolume': []}},\n",
       "   {'selectionId': 12739925,\n",
       "    'handicap': 0.0,\n",
       "    'status': 'ACTIVE',\n",
       "    'lastPriceTraded': 6.8,\n",
       "    'totalMatched': 0.0,\n",
       "    'ex': {'availableToBack': [{'price': 5.3, 'size': 114.12},\n",
       "      {'price': 1.05, 'size': 20.59},\n",
       "      {'price': 1.03, 'size': 17.73}],\n",
       "     'availableToLay': [{'price': 8.2, 'size': 49.16},\n",
       "      {'price': 8.8, 'size': 209.71},\n",
       "      {'price': 9.4, 'size': 123.05}],\n",
       "     'tradedVolume': []}}]},\n",
       " 'marketDetails': {'marketId': '1.161199230',\n",
       "  'marketName': 'Match Odds',\n",
       "  'marketStartTime': '2019-08-11T00:03:00.000Z',\n",
       "  'description': {'persistenceEnabled': True,\n",
       "   'bspMarket': False,\n",
       "   'marketTime': '2019-08-11T00:03:00.000Z',\n",
       "   'suspendTime': '2019-08-11T00:03:00.000Z',\n",
       "   'bettingType': 'ODDS',\n",
       "   'turnInPlayEnabled': True,\n",
       "   'marketType': 'MATCH_ODDS',\n",
       "   'regulator': 'MALTA LOTTERIES AND GAMBLING AUTHORITY',\n",
       "   'marketBaseRate': 5.0,\n",
       "   'discountAllowed': True,\n",
       "   'wallet': 'UK wallet',\n",
       "   'rules': \"<b>Market Information</b><br>For further information please see <a href=http://content.betfair.com/aboutus/content.asp?sWhichKey=Rules%20and%20Regulations#undefined.do style=color:0163ad; text-decoration: underline; target=_blank>Rules & Regs</a>.<br><br>Who will win this match? At the start of play all unmatched bets will be cancelled and this market will be turned in-play. This market will not be actively managed therefore it is the responsibility of all users to manage their positions. <b><br><br>Customers should be aware that:<br><br>\\n<li>Transmissions described as “live” by some broadcasters may actually be delayed and that all in-play matches are not necessarily televised.</li><br><li>The extent of any such delay may vary, depending on the set-up through which they are receiving pictures or data.</li><br><br></b><b><FONT COLOR='red'> If the first set is not completed all bets on this market will be void.</FONT></b><br><br>Please be aware that times may be subject to change.\",\n",
       "   'rulesHasDate': True,\n",
       "   'priceLadderDescription': {'type': 'CLASSIC'}},\n",
       "  'totalMatched': 40273.080502,\n",
       "  'runners': [{'selectionId': 22812152,\n",
       "    'runnerName': 'Groenefeld/Schuurs',\n",
       "    'handicap': 0.0,\n",
       "    'sortPriority': 1,\n",
       "    'metadata': {'runnerId': '22812152'}},\n",
       "   {'selectionId': 12739925,\n",
       "    'runnerName': 'Dabrowski/Xu',\n",
       "    'handicap': 0.0,\n",
       "    'sortPriority': 2,\n",
       "    'metadata': {'runnerId': '12739925'}}],\n",
       "  'eventType': {'id': '2', 'name': 'Tennis'},\n",
       "  'competition': {'id': '12253802', 'name': 'WTA Toronto Rogers Cup 2019'},\n",
       "  'event': {'id': '29410531',\n",
       "   'name': 'Groenefeld/Schuurs v Dabrowski/Xu',\n",
       "   'countryCode': 'CA',\n",
       "   'timezone': 'UTC',\n",
       "   'openDate': '2019-08-11T00:03:00.000Z'}},\n",
       " 'currentOrders': []}"
      ]
     },
     "execution_count": 24,
     "metadata": {},
     "output_type": "execute_result"
    }
   ],
   "source": [
    "vars(bot)"
   ]
  },
  {
   "cell_type": "code",
   "execution_count": 25,
   "metadata": {},
   "outputs": [],
   "source": [
    "bot.scrapeCurrentQuote()"
   ]
  },
  {
   "cell_type": "code",
   "execution_count": 26,
   "metadata": {},
   "outputs": [
    {
     "data": {
      "text/plain": [
       "\"I'm finished!!!\""
      ]
     },
     "execution_count": 26,
     "metadata": {},
     "output_type": "execute_result"
    }
   ],
   "source": [
    "bot.run()"
   ]
  },
  {
   "cell_type": "code",
   "execution_count": 27,
   "metadata": {},
   "outputs": [
    {
     "data": {
      "text/plain": [
       "<BetfairBot.BetfairBot at 0x1384df978>"
      ]
     },
     "execution_count": 27,
     "metadata": {},
     "output_type": "execute_result"
    }
   ],
   "source": [
    "bot\n"
   ]
  },
  {
   "cell_type": "code",
   "execution_count": 32,
   "metadata": {},
   "outputs": [
    {
     "data": {
      "text/plain": [
       "{'marketId': '1.161199230',\n",
       " 'isMarketDataDelayed': True,\n",
       " 'status': 'CLOSED',\n",
       " 'betDelay': 5,\n",
       " 'bspReconciled': False,\n",
       " 'complete': True,\n",
       " 'inplay': True,\n",
       " 'numberOfWinners': 1,\n",
       " 'numberOfRunners': 2,\n",
       " 'numberOfActiveRunners': 0,\n",
       " 'totalMatched': 0.0,\n",
       " 'totalAvailable': 0.0,\n",
       " 'crossMatching': False,\n",
       " 'runnersVoidable': False,\n",
       " 'version': 2889583973,\n",
       " 'runners': [{'selectionId': 22812152,\n",
       "   'handicap': 0.0,\n",
       "   'status': 'WINNER',\n",
       "   'ex': {'availableToBack': [], 'availableToLay': [], 'tradedVolume': []}},\n",
       "  {'selectionId': 12739925,\n",
       "   'handicap': 0.0,\n",
       "   'status': 'LOSER',\n",
       "   'ex': {'availableToBack': [], 'availableToLay': [], 'tradedVolume': []}}]}"
      ]
     },
     "execution_count": 32,
     "metadata": {},
     "output_type": "execute_result"
    }
   ],
   "source": [
    "bot.orderBook"
   ]
  },
  {
   "cell_type": "code",
   "execution_count": 15,
   "metadata": {},
   "outputs": [
    {
     "data": {
      "text/plain": [
       "[]"
      ]
     },
     "execution_count": 15,
     "metadata": {},
     "output_type": "execute_result"
    }
   ],
   "source": [
    "bot.getCurrentOrders()"
   ]
  },
  {
   "cell_type": "code",
   "execution_count": 31,
   "metadata": {},
   "outputs": [
    {
     "data": {
      "text/plain": [
       "{'marketId': '1.161199230',\n",
       " 'isMarketDataDelayed': True,\n",
       " 'status': 'CLOSED',\n",
       " 'betDelay': 5,\n",
       " 'bspReconciled': False,\n",
       " 'complete': True,\n",
       " 'inplay': True,\n",
       " 'numberOfWinners': 1,\n",
       " 'numberOfRunners': 2,\n",
       " 'numberOfActiveRunners': 0,\n",
       " 'totalMatched': 0.0,\n",
       " 'totalAvailable': 0.0,\n",
       " 'crossMatching': False,\n",
       " 'runnersVoidable': False,\n",
       " 'version': 2889583973,\n",
       " 'runners': [{'selectionId': 22812152,\n",
       "   'handicap': 0.0,\n",
       "   'status': 'WINNER',\n",
       "   'ex': {'availableToBack': [], 'availableToLay': [], 'tradedVolume': []}},\n",
       "  {'selectionId': 12739925,\n",
       "   'handicap': 0.0,\n",
       "   'status': 'LOSER',\n",
       "   'ex': {'availableToBack': [], 'availableToLay': [], 'tradedVolume': []}}]}"
      ]
     },
     "execution_count": 31,
     "metadata": {},
     "output_type": "execute_result"
    }
   ],
   "source": [
    "bot.orderBook\n"
   ]
  },
  {
   "cell_type": "code",
   "execution_count": 12,
   "metadata": {},
   "outputs": [],
   "source": [
    "self = bot"
   ]
  },
  {
   "cell_type": "code",
   "execution_count": 13,
   "metadata": {},
   "outputs": [
    {
     "data": {
      "text/plain": [
       "[{'selectionId': 10301,\n",
       "  'handicap': 0.0,\n",
       "  'status': 'ACTIVE',\n",
       "  'lastPriceTraded': 2.54,\n",
       "  'totalMatched': 0.0,\n",
       "  'ex': {'availableToBack': [{'price': 2.54, 'size': 65.03},\n",
       "    {'price': 2.52, 'size': 634.04},\n",
       "    {'price': 2.5, 'size': 10031.88}],\n",
       "   'availableToLay': [{'price': 2.56, 'size': 173.91},\n",
       "    {'price': 2.58, 'size': 1215.41},\n",
       "    {'price': 2.6, 'size': 514.95}],\n",
       "   'tradedVolume': []}},\n",
       " {'selectionId': 16606,\n",
       "  'handicap': 0.0,\n",
       "  'status': 'ACTIVE',\n",
       "  'lastPriceTraded': 2.52,\n",
       "  'totalMatched': 0.0,\n",
       "  'ex': {'availableToBack': [{'price': 2.48, 'size': 2041.14},\n",
       "    {'price': 2.46, 'size': 3583.26},\n",
       "    {'price': 2.44, 'size': 26.83}],\n",
       "   'availableToLay': [{'price': 2.52, 'size': 389.14},\n",
       "    {'price': 2.54, 'size': 2381.37},\n",
       "    {'price': 2.56, 'size': 1997.19}],\n",
       "   'tradedVolume': []}},\n",
       " {'selectionId': 60443,\n",
       "  'handicap': 0.0,\n",
       "  'status': 'ACTIVE',\n",
       "  'lastPriceTraded': 4.9,\n",
       "  'totalMatched': 0.0,\n",
       "  'ex': {'availableToBack': [{'price': 4.8, 'size': 625.82},\n",
       "    {'price': 4.7, 'size': 591.28},\n",
       "    {'price': 4.5, 'size': 150.14}],\n",
       "   'availableToLay': [{'price': 4.9, 'size': 1207.14},\n",
       "    {'price': 5.0, 'size': 1255.6},\n",
       "    {'price': 5.1, 'size': 1046.12}],\n",
       "   'tradedVolume': []}}]"
      ]
     },
     "execution_count": 13,
     "metadata": {},
     "output_type": "execute_result"
    }
   ],
   "source": [
    "self.orderBook['runners']"
   ]
  },
  {
   "cell_type": "code",
   "execution_count": 14,
   "metadata": {},
   "outputs": [],
   "source": [
    "runner = self.orderBook['runners'][0]"
   ]
  },
  {
   "cell_type": "code",
   "execution_count": 50,
   "metadata": {},
   "outputs": [
    {
     "data": {
      "text/plain": [
       "{'selectionId': 10301,\n",
       " 'handicap': 0.0,\n",
       " 'status': 'ACTIVE',\n",
       " 'lastPriceTraded': 2.54,\n",
       " 'totalMatched': 0.0,\n",
       " 'ex': {'availableToBack': [{'price': 2.54, 'size': 77.5},\n",
       "   {'price': 2.52, 'size': 634.04},\n",
       "   {'price': 2.5, 'size': 10173.36}],\n",
       "  'availableToLay': [{'price': 2.56, 'size': 173.91},\n",
       "   {'price': 2.58, 'size': 1153.05},\n",
       "   {'price': 2.6, 'size': 514.95}],\n",
       "  'tradedVolume': []}}"
      ]
     },
     "execution_count": 50,
     "metadata": {},
     "output_type": "execute_result"
    }
   ],
   "source": [
    "runner"
   ]
  },
  {
   "cell_type": "code",
   "execution_count": 18,
   "metadata": {},
   "outputs": [],
   "source": [
    "bids = runner['ex']['availableToBack']\n",
    "asks = runner['ex']['availableToLay']\n",
    "allBids = [order['price'] for order in bids]\n",
    "allAsks = [order['price'] for order in asks]\n",
    "\n",
    "spreadTightner = 0.1\n",
    "betSize = 5\n",
    "bestBid = max(allBids)\n",
    "bestAsk = min(allAsks)\n",
    "midPrice = (bestBid + bestAsk)/2\n",
    "spread = bestAsk - bestBid\n",
    "spreadPrct = spread/bestBid\n",
    "targetBid = {'selectionId': runner['selectionId'], 'side': 'BACK', 'handicap': runner['handicap'],\\\n",
    "                                 'price': bestBid + spreadTightner*spread, 'size': betSize/midPrice}\n",
    "targetAsk = {'selectionId': runner['selectionId'], 'side': 'LAY', 'handicap': runner['handicap'],\\\n",
    "                                 'price': bestAsk - spreadTightner*spread, 'size':betSize/midPrice}"
   ]
  },
  {
   "cell_type": "code",
   "execution_count": 20,
   "metadata": {},
   "outputs": [
    {
     "data": {
      "text/plain": [
       "{'selectionId': 10301,\n",
       " 'side': 'LAY',\n",
       " 'handicap': 0.0,\n",
       " 'price': 2.558,\n",
       " 'size': 1.9607843137254903}"
      ]
     },
     "execution_count": 20,
     "metadata": {},
     "output_type": "execute_result"
    }
   ],
   "source": [
    "targetAsk\n"
   ]
  },
  {
   "cell_type": "code",
   "execution_count": 21,
   "metadata": {},
   "outputs": [],
   "source": [
    "order = targetBid"
   ]
  },
  {
   "cell_type": "code",
   "execution_count": 10,
   "metadata": {},
   "outputs": [],
   "source": [
    "import betfair as bf"
   ]
  },
  {
   "cell_type": "code",
   "execution_count": 26,
   "metadata": {},
   "outputs": [
    {
     "ename": "TypeError",
     "evalue": "float() argument must be a string or a number, not 'list'",
     "traceback": [
      "\u001b[0;31m---------------------------------------------------------------------------\u001b[0m",
      "\u001b[0;31mTypeError\u001b[0m                                 Traceback (most recent call last)",
      "\u001b[0;32m<ipython-input-26-3ae91f8bd61d>\u001b[0m in \u001b[0;36m<module>\u001b[0;34m\u001b[0m\n\u001b[1;32m      1\u001b[0m \u001b[0mbetfairWallet\u001b[0m \u001b[0;34m=\u001b[0m \u001b[0;34m'AUS'\u001b[0m\u001b[0;34m\u001b[0m\u001b[0;34m\u001b[0m\u001b[0m\n\u001b[1;32m      2\u001b[0m resp = bf.placeOrder(bot.betfairSessionKey,bot.betfairAppKey,\n\u001b[0;32m----> 3\u001b[0;31m                   marketId=bot.betfairMarketId,selectionId=10301,orderType='LIMIT',side='BACK',wallet='AUS',price=3,size=5,persistenceType='LAPSE')\n\u001b[0m",
      "\u001b[0;32m~/src/blocmarket/bots/betfair/placeOrder.py\u001b[0m in \u001b[0;36mplaceOrder\u001b[0;34m(sessionKey, appKey, **kwargs)\u001b[0m\n\u001b[1;32m    151\u001b[0m     \u001b[0;31m# Handle price\u001b[0m\u001b[0;34m\u001b[0m\u001b[0;34m\u001b[0m\u001b[0;34m\u001b[0m\u001b[0m\n\u001b[1;32m    152\u001b[0m \u001b[0;34m\u001b[0m\u001b[0m\n\u001b[0;32m--> 153\u001b[0;31m     \u001b[0mprice\u001b[0m \u001b[0;34m=\u001b[0m \u001b[0mfloat\u001b[0m\u001b[0;34m(\u001b[0m\u001b[0minputParams\u001b[0m\u001b[0;34m[\u001b[0m\u001b[0;34m'price'\u001b[0m\u001b[0;34m]\u001b[0m\u001b[0;34m)\u001b[0m\u001b[0;34m\u001b[0m\u001b[0;34m\u001b[0m\u001b[0m\n\u001b[0m\u001b[1;32m    154\u001b[0m     \u001b[0;31m# rounding:\u001b[0m\u001b[0;34m\u001b[0m\u001b[0;34m\u001b[0m\u001b[0;34m\u001b[0m\u001b[0m\n\u001b[1;32m    155\u001b[0m     \u001b[0;32mif\u001b[0m \u001b[0mprice\u001b[0m \u001b[0;34m<=\u001b[0m \u001b[0;36m2\u001b[0m\u001b[0;34m:\u001b[0m\u001b[0;34m\u001b[0m\u001b[0;34m\u001b[0m\u001b[0m\n",
      "\u001b[0;31mTypeError\u001b[0m: float() argument must be a string or a number, not 'list'"
     ],
     "output_type": "error"
    }
   ],
   "source": [
    "betfairWallet = 'AUS'\n",
    "resp = bf.placeOrder(bot.betfairSessionKey,bot.betfairAppKey,\n",
    "                  marketId=bot.betfairMarketId,selectionId=10301,orderType='LIMIT',side='BACK',wallet='AUS',price=3,size=5,persistenceType='LAPSE')"
   ]
  },
  {
   "cell_type": "code",
   "execution_count": 29,
   "metadata": {},
   "outputs": [
    {
     "data": {
      "text/plain": [
       "'1.161073119'"
      ]
     },
     "execution_count": 29,
     "metadata": {},
     "output_type": "execute_result"
    }
   ],
   "source": [
    "bot.betfairMarketId"
   ]
  },
  {
   "cell_type": "code",
   "execution_count": 67,
   "metadata": {},
   "outputs": [
    {
     "data": {
      "text/plain": [
       "1.9607843137254903"
      ]
     },
     "execution_count": 67,
     "metadata": {},
     "output_type": "execute_result"
    }
   ],
   "source": [
    "order['size']"
   ]
  },
  {
   "cell_type": "code",
   "execution_count": 68,
   "metadata": {},
   "outputs": [],
   "source": [
    "marketId=self.orderBook['marketId']"
   ]
  },
  {
   "cell_type": "code",
   "execution_count": 69,
   "metadata": {},
   "outputs": [
    {
     "data": {
      "text/plain": [
       "'1.161073119'"
      ]
     },
     "execution_count": 69,
     "metadata": {},
     "output_type": "execute_result"
    }
   ],
   "source": [
    "marketId"
   ]
  },
  {
   "cell_type": "code",
   "execution_count": 70,
   "metadata": {},
   "outputs": [
    {
     "data": {
      "text/plain": [
       "'89/T90JTVo3m53FY/AaMDbl8/JN01oS8p//bAvd/nPE='"
      ]
     },
     "execution_count": 70,
     "metadata": {},
     "output_type": "execute_result"
    }
   ],
   "source": [
    "self.betfairSessionKey"
   ]
  },
  {
   "cell_type": "code",
   "execution_count": null,
   "metadata": {},
   "outputs": [],
   "source": []
  }
 ],
 "metadata": {
  "kernelspec": {
   "display_name": "Python 3",
   "language": "python",
   "name": "python3"
  },
  "language_info": {
   "codemirror_mode": {
    "name": "ipython",
    "version": 3
   },
   "file_extension": ".py",
   "mimetype": "text/x-python",
   "name": "python",
   "nbconvert_exporter": "python",
   "pygments_lexer": "ipython3",
   "version": "3.7.3"
  }
 },
 "nbformat": 4,
 "nbformat_minor": 2
}
