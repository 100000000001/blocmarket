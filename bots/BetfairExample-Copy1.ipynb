{
 "cells": [
  {
   "cell_type": "code",
   "execution_count": 2,
   "metadata": {},
   "outputs": [],
   "source": [
    "from BetfairBot import BetfairBot"
   ]
  },
  {
   "cell_type": "code",
   "execution_count": 33,
   "metadata": {},
   "outputs": [],
   "source": [
    "appKey = 'iw8UsiHCP1GSs213'\n",
    "marketId = '1.161199230'\n",
    "bot = BetfairBot(betfairMarketId=marketId)\n",
    "# Get SOID token\n",
    "bot.getBetfairSessionToken(betfairPassword='e', betfairAppKey = appKey)"
   ]
  },
  {
   "cell_type": "code",
   "execution_count": 19,
   "metadata": {},
   "outputs": [
    {
     "data": {
      "text/plain": [
       "{'TEST_MODE': True,\n",
       " 'botName': 'marketmaker',\n",
       " 'blocurl': 'http://127.0.0.1:5000/',\n",
       " 'blocheaders': {'content-type': 'application/json'},\n",
       " 'updateFrequency': 10,\n",
       " 'betfairMarketId': '1.161199230',\n",
       " 'betfairAppKey': 'iw8UsiHCP1GSs213',\n",
       " 'betfairSessionKey': '3uWq0A03QluqyFBKCUfDJfhb86ztyLK3vL8DygggIgI=',\n",
       " 'quoteSource': 'betfair',\n",
       " 'localEventId': '',\n",
       " 'localMarketId': '',\n",
       " 'orderBook': [],\n",
       " 'marketDetails': [],\n",
       " 'currentOrders': []}"
      ]
     },
     "execution_count": 19,
     "metadata": {},
     "output_type": "execute_result"
    }
   ],
   "source": [
    "vars(bot)"
   ]
  },
  {
   "cell_type": "code",
   "execution_count": 20,
   "metadata": {},
   "outputs": [
    {
     "data": {
      "text/plain": [
       "{'marketId': '1.161199230',\n",
       " 'marketName': 'Match Odds',\n",
       " 'marketStartTime': '2019-08-11T00:03:00.000Z',\n",
       " 'description': {'persistenceEnabled': True,\n",
       "  'bspMarket': False,\n",
       "  'marketTime': '2019-08-11T00:03:00.000Z',\n",
       "  'suspendTime': '2019-08-11T00:03:00.000Z',\n",
       "  'bettingType': 'ODDS',\n",
       "  'turnInPlayEnabled': True,\n",
       "  'marketType': 'MATCH_ODDS',\n",
       "  'regulator': 'MALTA LOTTERIES AND GAMBLING AUTHORITY',\n",
       "  'marketBaseRate': 5.0,\n",
       "  'discountAllowed': True,\n",
       "  'wallet': 'UK wallet',\n",
       "  'rules': \"<b>Market Information</b><br>For further information please see <a href=http://content.betfair.com/aboutus/content.asp?sWhichKey=Rules%20and%20Regulations#undefined.do style=color:0163ad; text-decoration: underline; target=_blank>Rules & Regs</a>.<br><br>Who will win this match? At the start of play all unmatched bets will be cancelled and this market will be turned in-play. This market will not be actively managed therefore it is the responsibility of all users to manage their positions. <b><br><br>Customers should be aware that:<br><br>\\n<li>Transmissions described as “live” by some broadcasters may actually be delayed and that all in-play matches are not necessarily televised.</li><br><li>The extent of any such delay may vary, depending on the set-up through which they are receiving pictures or data.</li><br><br></b><b><FONT COLOR='red'> If the first set is not completed all bets on this market will be void.</FONT></b><br><br>Please be aware that times may be subject to change.\",\n",
       "  'rulesHasDate': True,\n",
       "  'priceLadderDescription': {'type': 'CLASSIC'}},\n",
       " 'totalMatched': 40273.080502,\n",
       " 'runners': [{'selectionId': 22812152,\n",
       "   'runnerName': 'Groenefeld/Schuurs',\n",
       "   'handicap': 0.0,\n",
       "   'sortPriority': 1,\n",
       "   'metadata': {'runnerId': '22812152'}},\n",
       "  {'selectionId': 12739925,\n",
       "   'runnerName': 'Dabrowski/Xu',\n",
       "   'handicap': 0.0,\n",
       "   'sortPriority': 2,\n",
       "   'metadata': {'runnerId': '12739925'}}],\n",
       " 'eventType': {'id': '2', 'name': 'Tennis'},\n",
       " 'competition': {'id': '12253802', 'name': 'WTA Toronto Rogers Cup 2019'},\n",
       " 'event': {'id': '29410531',\n",
       "  'name': 'Groenefeld/Schuurs v Dabrowski/Xu',\n",
       "  'countryCode': 'CA',\n",
       "  'timezone': 'UTC',\n",
       "  'openDate': '2019-08-11T00:03:00.000Z'}}"
      ]
     },
     "execution_count": 20,
     "metadata": {},
     "output_type": "execute_result"
    }
   ],
   "source": [
    "bot.getMarketDetails()\n"
   ]
  },
  {
   "cell_type": "code",
   "execution_count": 29,
   "metadata": {},
   "outputs": [
    {
     "data": {
      "text/plain": [
       "{'marketId': '1.161199230',\n",
       " 'isMarketDataDelayed': True,\n",
       " 'status': 'CLOSED',\n",
       " 'betDelay': 5,\n",
       " 'bspReconciled': False,\n",
       " 'complete': True,\n",
       " 'inplay': True,\n",
       " 'numberOfWinners': 1,\n",
       " 'numberOfRunners': 2,\n",
       " 'numberOfActiveRunners': 0,\n",
       " 'totalMatched': 0.0,\n",
       " 'totalAvailable': 0.0,\n",
       " 'crossMatching': False,\n",
       " 'runnersVoidable': False,\n",
       " 'version': 2889583973,\n",
       " 'runners': [{'selectionId': 22812152,\n",
       "   'handicap': 0.0,\n",
       "   'status': 'WINNER',\n",
       "   'ex': {'availableToBack': [], 'availableToLay': [], 'tradedVolume': []}},\n",
       "  {'selectionId': 12739925,\n",
       "   'handicap': 0.0,\n",
       "   'status': 'LOSER',\n",
       "   'ex': {'availableToBack': [], 'availableToLay': [], 'tradedVolume': []}}]}"
      ]
     },
     "execution_count": 29,
     "metadata": {},
     "output_type": "execute_result"
    }
   ],
   "source": [
    "bot.getOrderBook()\n"
   ]
  },
  {
   "cell_type": "code",
   "execution_count": 30,
   "metadata": {},
   "outputs": [
    {
     "data": {
      "text/plain": [
       "{'marketId': '1.161199230',\n",
       " 'isMarketDataDelayed': True,\n",
       " 'status': 'CLOSED',\n",
       " 'betDelay': 5,\n",
       " 'bspReconciled': False,\n",
       " 'complete': True,\n",
       " 'inplay': True,\n",
       " 'numberOfWinners': 1,\n",
       " 'numberOfRunners': 2,\n",
       " 'numberOfActiveRunners': 0,\n",
       " 'totalMatched': 0.0,\n",
       " 'totalAvailable': 0.0,\n",
       " 'crossMatching': False,\n",
       " 'runnersVoidable': False,\n",
       " 'version': 2889583973,\n",
       " 'runners': [{'selectionId': 22812152,\n",
       "   'handicap': 0.0,\n",
       "   'status': 'WINNER',\n",
       "   'ex': {'availableToBack': [], 'availableToLay': [], 'tradedVolume': []}},\n",
       "  {'selectionId': 12739925,\n",
       "   'handicap': 0.0,\n",
       "   'status': 'LOSER',\n",
       "   'ex': {'availableToBack': [], 'availableToLay': [], 'tradedVolume': []}}]}"
      ]
     },
     "execution_count": 30,
     "metadata": {},
     "output_type": "execute_result"
    }
   ],
   "source": [
    "bot.orderBook\n"
   ]
  },
  {
   "cell_type": "code",
   "execution_count": 23,
   "metadata": {},
   "outputs": [],
   "source": [
    "bot.setupLocalData()"
   ]
  },
  {
   "cell_type": "code",
   "execution_count": 24,
   "metadata": {},
   "outputs": [
    {
     "data": {
      "text/plain": [
       "{'TEST_MODE': True,\n",
       " 'botName': 'marketmaker',\n",
       " 'blocurl': 'http://127.0.0.1:5000/',\n",
       " 'blocheaders': {'content-type': 'application/json'},\n",
       " 'updateFrequency': 10,\n",
       " 'betfairMarketId': '1.161199230',\n",
       " 'betfairAppKey': 'iw8UsiHCP1GSs213',\n",
       " 'betfairSessionKey': '3uWq0A03QluqyFBKCUfDJfhb86ztyLK3vL8DygggIgI=',\n",
       " 'quoteSource': 'betfair',\n",
       " 'localEventId': '12',\n",
       " 'localMarketId': '15',\n",
       " 'orderBook': {'marketId': '1.161199230',\n",
       "  'isMarketDataDelayed': True,\n",
       "  'status': 'OPEN',\n",
       "  'betDelay': 5,\n",
       "  'bspReconciled': False,\n",
       "  'complete': True,\n",
       "  'inplay': True,\n",
       "  'numberOfWinners': 1,\n",
       "  'numberOfRunners': 2,\n",
       "  'numberOfActiveRunners': 2,\n",
       "  'lastMatchTime': '2019-08-11T00:49:32.143Z',\n",
       "  'totalMatched': 44944.22,\n",
       "  'totalAvailable': 6039.88,\n",
       "  'crossMatching': True,\n",
       "  'runnersVoidable': False,\n",
       "  'version': 2889512687,\n",
       "  'runners': [{'selectionId': 22812152,\n",
       "    'handicap': 0.0,\n",
       "    'status': 'ACTIVE',\n",
       "    'lastPriceTraded': 1.17,\n",
       "    'totalMatched': 0.0,\n",
       "    'ex': {'availableToBack': [{'price': 1.14, 'size': 353.59},\n",
       "      {'price': 1.13, 'size': 1633.12},\n",
       "      {'price': 1.12, 'size': 1032.78}],\n",
       "     'availableToLay': [{'price': 1.24, 'size': 488.67},\n",
       "      {'price': 1.41, 'size': 36.83},\n",
       "      {'price': 110.0, 'size': 9.82}],\n",
       "     'tradedVolume': []}},\n",
       "   {'selectionId': 12739925,\n",
       "    'handicap': 0.0,\n",
       "    'status': 'ACTIVE',\n",
       "    'lastPriceTraded': 6.8,\n",
       "    'totalMatched': 0.0,\n",
       "    'ex': {'availableToBack': [{'price': 5.3, 'size': 114.12},\n",
       "      {'price': 1.05, 'size': 20.59},\n",
       "      {'price': 1.03, 'size': 17.73}],\n",
       "     'availableToLay': [{'price': 8.2, 'size': 49.16},\n",
       "      {'price': 8.8, 'size': 209.71},\n",
       "      {'price': 9.4, 'size': 123.05}],\n",
       "     'tradedVolume': []}}]},\n",
       " 'marketDetails': {'marketId': '1.161199230',\n",
       "  'marketName': 'Match Odds',\n",
       "  'marketStartTime': '2019-08-11T00:03:00.000Z',\n",
       "  'description': {'persistenceEnabled': True,\n",
       "   'bspMarket': False,\n",
       "   'marketTime': '2019-08-11T00:03:00.000Z',\n",
       "   'suspendTime': '2019-08-11T00:03:00.000Z',\n",
       "   'bettingType': 'ODDS',\n",
       "   'turnInPlayEnabled': True,\n",
       "   'marketType': 'MATCH_ODDS',\n",
       "   'regulator': 'MALTA LOTTERIES AND GAMBLING AUTHORITY',\n",
       "   'marketBaseRate': 5.0,\n",
       "   'discountAllowed': True,\n",
       "   'wallet': 'UK wallet',\n",
       "   'rules': \"<b>Market Information</b><br>For further information please see <a href=http://content.betfair.com/aboutus/content.asp?sWhichKey=Rules%20and%20Regulations#undefined.do style=color:0163ad; text-decoration: underline; target=_blank>Rules & Regs</a>.<br><br>Who will win this match? At the start of play all unmatched bets will be cancelled and this market will be turned in-play. This market will not be actively managed therefore it is the responsibility of all users to manage their positions. <b><br><br>Customers should be aware that:<br><br>\\n<li>Transmissions described as “live” by some broadcasters may actually be delayed and that all in-play matches are not necessarily televised.</li><br><li>The extent of any such delay may vary, depending on the set-up through which they are receiving pictures or data.</li><br><br></b><b><FONT COLOR='red'> If the first set is not completed all bets on this market will be void.</FONT></b><br><br>Please be aware that times may be subject to change.\",\n",
       "   'rulesHasDate': True,\n",
       "   'priceLadderDescription': {'type': 'CLASSIC'}},\n",
       "  'totalMatched': 40273.080502,\n",
       "  'runners': [{'selectionId': 22812152,\n",
       "    'runnerName': 'Groenefeld/Schuurs',\n",
       "    'handicap': 0.0,\n",
       "    'sortPriority': 1,\n",
       "    'metadata': {'runnerId': '22812152'}},\n",
       "   {'selectionId': 12739925,\n",
       "    'runnerName': 'Dabrowski/Xu',\n",
       "    'handicap': 0.0,\n",
       "    'sortPriority': 2,\n",
       "    'metadata': {'runnerId': '12739925'}}],\n",
       "  'eventType': {'id': '2', 'name': 'Tennis'},\n",
       "  'competition': {'id': '12253802', 'name': 'WTA Toronto Rogers Cup 2019'},\n",
       "  'event': {'id': '29410531',\n",
       "   'name': 'Groenefeld/Schuurs v Dabrowski/Xu',\n",
       "   'countryCode': 'CA',\n",
       "   'timezone': 'UTC',\n",
       "   'openDate': '2019-08-11T00:03:00.000Z'}},\n",
       " 'currentOrders': []}"
      ]
     },
     "execution_count": 24,
     "metadata": {},
     "output_type": "execute_result"
    }
   ],
   "source": [
    "vars(bot)"
   ]
  },
  {
   "cell_type": "code",
   "execution_count": 25,
   "metadata": {},
   "outputs": [],
   "source": [
    "bot.scrapeCurrentQuote()"
   ]
  },
  {
   "cell_type": "code",
   "execution_count": 26,
   "metadata": {},
   "outputs": [
    {
     "data": {
      "text/plain": [
       "\"I'm finished!!!\""
      ]
     },
     "execution_count": 26,
     "metadata": {},
     "output_type": "execute_result"
    }
   ],
   "source": [
    "bot.run()"
   ]
  },
  {
   "cell_type": "code",
   "execution_count": 27,
   "metadata": {},
   "outputs": [
    {
     "data": {
      "text/plain": [
       "<BetfairBot.BetfairBot at 0x1384df978>"
      ]
     },
     "execution_count": 27,
     "metadata": {},
     "output_type": "execute_result"
    }
   ],
   "source": [
    "bot\n"
   ]
  },
  {
   "cell_type": "code",
   "execution_count": 32,
   "metadata": {},
   "outputs": [
    {
     "data": {
      "text/plain": [
       "{'marketId': '1.161199230',\n",
       " 'isMarketDataDelayed': True,\n",
       " 'status': 'CLOSED',\n",
       " 'betDelay': 5,\n",
       " 'bspReconciled': False,\n",
       " 'complete': True,\n",
       " 'inplay': True,\n",
       " 'numberOfWinners': 1,\n",
       " 'numberOfRunners': 2,\n",
       " 'numberOfActiveRunners': 0,\n",
       " 'totalMatched': 0.0,\n",
       " 'totalAvailable': 0.0,\n",
       " 'crossMatching': False,\n",
       " 'runnersVoidable': False,\n",
       " 'version': 2889583973,\n",
       " 'runners': [{'selectionId': 22812152,\n",
       "   'handicap': 0.0,\n",
       "   'status': 'WINNER',\n",
       "   'ex': {'availableToBack': [], 'availableToLay': [], 'tradedVolume': []}},\n",
       "  {'selectionId': 12739925,\n",
       "   'handicap': 0.0,\n",
       "   'status': 'LOSER',\n",
       "   'ex': {'availableToBack': [], 'availableToLay': [], 'tradedVolume': []}}]}"
      ]
     },
     "execution_count": 32,
     "metadata": {},
     "output_type": "execute_result"
    }
   ],
   "source": [
    "bot.orderBook"
   ]
  },
  {
   "cell_type": "code",
   "execution_count": 15,
   "metadata": {},
   "outputs": [
    {
     "data": {
      "text/plain": [
       "[]"
      ]
     },
     "execution_count": 15,
     "metadata": {},
     "output_type": "execute_result"
    }
   ],
   "source": [
    "bot.getCurrentOrders()"
   ]
  },
  {
   "cell_type": "code",
   "execution_count": 31,
   "metadata": {},
   "outputs": [
    {
     "data": {
      "text/plain": [
       "{'marketId': '1.161199230',\n",
       " 'isMarketDataDelayed': True,\n",
       " 'status': 'CLOSED',\n",
       " 'betDelay': 5,\n",
       " 'bspReconciled': False,\n",
       " 'complete': True,\n",
       " 'inplay': True,\n",
       " 'numberOfWinners': 1,\n",
       " 'numberOfRunners': 2,\n",
       " 'numberOfActiveRunners': 0,\n",
       " 'totalMatched': 0.0,\n",
       " 'totalAvailable': 0.0,\n",
       " 'crossMatching': False,\n",
       " 'runnersVoidable': False,\n",
       " 'version': 2889583973,\n",
       " 'runners': [{'selectionId': 22812152,\n",
       "   'handicap': 0.0,\n",
       "   'status': 'WINNER',\n",
       "   'ex': {'availableToBack': [], 'availableToLay': [], 'tradedVolume': []}},\n",
       "  {'selectionId': 12739925,\n",
       "   'handicap': 0.0,\n",
       "   'status': 'LOSER',\n",
       "   'ex': {'availableToBack': [], 'availableToLay': [], 'tradedVolume': []}}]}"
      ]
     },
     "execution_count": 31,
     "metadata": {},
     "output_type": "execute_result"
    }
   ],
   "source": [
    "bot.orderBook\n"
   ]
  },
  {
   "cell_type": "code",
   "execution_count": null,
   "metadata": {},
   "outputs": [],
   "source": []
  }
 ],
 "metadata": {
  "kernelspec": {
   "display_name": "Python 3",
   "language": "python",
   "name": "python3"
  },
  "language_info": {
   "codemirror_mode": {
    "name": "ipython",
    "version": 3
   },
   "file_extension": ".py",
   "mimetype": "text/x-python",
   "name": "python",
   "nbconvert_exporter": "python",
   "pygments_lexer": "ipython3",
   "version": "3.7.3"
  }
 },
 "nbformat": 4,
 "nbformat_minor": 2
}
