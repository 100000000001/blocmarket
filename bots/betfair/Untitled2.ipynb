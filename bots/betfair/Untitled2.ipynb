{
 "cells": [
  {
   "cell_type": "code",
   "execution_count": 2,
   "metadata": {},
   "outputs": [],
   "source": [
    "import requests\n",
    "from betfairLogin import betfairLogin\n",
    "from listOrder import listOrder\n",
    "from placeOrder import placeOrder\n",
    "from cancelOrder import cancelOrder\n",
    "from listMarketBook import listMarketBook\n",
    "\n",
    "%load_ext autoreload\n",
    "%autoreload 2"
   ]
  },
  {
   "cell_type": "code",
   "execution_count": 3,
   "metadata": {},
   "outputs": [],
   "source": [
    "sessionKey = betfairLogin('alpinechicken','e','alpinechickenbetfair')"
   ]
  },
  {
   "cell_type": "code",
   "execution_count": 4,
   "metadata": {},
   "outputs": [
    {
     "data": {
      "text/plain": [
       "''"
      ]
     },
     "execution_count": 4,
     "metadata": {},
     "output_type": "execute_result"
    }
   ],
   "source": [
    "sessionKey"
   ]
  },
  {
   "cell_type": "code",
   "execution_count": 8,
   "metadata": {},
   "outputs": [],
   "source": [
    "appKey = 'iw8UsiHCP1GSs213'\n"
   ]
  },
  {
   "cell_type": "code",
   "execution_count": 109,
   "metadata": {},
   "outputs": [
    {
     "data": {
      "text/plain": [
       "{'currentOrders': [{'betId': '177022081884',\n",
       "   'marketId': '1.161745968',\n",
       "   'selectionId': 42153,\n",
       "   'handicap': 0.0,\n",
       "   'priceSize': {'price': 3.0, 'size': 5.0},\n",
       "   'bspLiability': 0.0,\n",
       "   'side': 'BACK',\n",
       "   'status': 'EXECUTABLE',\n",
       "   'persistenceType': 'LAPSE',\n",
       "   'orderType': 'LIMIT',\n",
       "   'placedDate': '2019-08-31T23:22:06.000Z',\n",
       "   'averagePriceMatched': 0.0,\n",
       "   'sizeMatched': 0.0,\n",
       "   'sizeRemaining': 5.0,\n",
       "   'sizeLapsed': 0.0,\n",
       "   'sizeCancelled': 0.0,\n",
       "   'sizeVoided': 0.0,\n",
       "   'regulatorCode': 'MALTA LOTTERIES AND GAMBLING AUTHORITY'}],\n",
       " 'moreAvailable': False}"
      ]
     },
     "execution_count": 109,
     "metadata": {},
     "output_type": "execute_result"
    }
   ],
   "source": [
    "orders1 = listOrder(sessionKey,appKey,betIds=\"ALL\")\n",
    "orders1"
   ]
  },
  {
   "cell_type": "code",
   "execution_count": 110,
   "metadata": {},
   "outputs": [],
   "source": [
    "headers = {'X-Authentication': sessionKey, 'X-Application': appKey, 'content-type': 'application/json'}\n",
    "content = [{\"jsonrpc\": \"2.0\",\n",
    "                    \"method\": \"SportsAPING/v1.0/cancelOrders\",\n",
    "                    \"params\": {\"betId\": '177022081884' }, \"id\": 1}]\n",
    "url = 'https://api.betfair.com/exchange/betting/json-rpc/v1/'\n",
    "response = requests.post(url, data=json.dumps(content), headers=headers)"
   ]
  },
  {
   "cell_type": "code",
   "execution_count": 111,
   "metadata": {},
   "outputs": [
    {
     "data": {
      "text/plain": [
       "[{'jsonrpc': '2.0',\n",
       "  'error': {'code': -32099,\n",
       "   'message': 'ANGX-0015',\n",
       "   'data': {'APINGException': {'requestUUID': 'ie2-ang01a-prd-08050849-00404e8300',\n",
       "     'errorCode': 'ACCESS_DENIED',\n",
       "     'errorDetails': ''},\n",
       "    'exceptionname': 'APINGException'}},\n",
       "  'id': 1}]"
      ]
     },
     "execution_count": 111,
     "metadata": {},
     "output_type": "execute_result"
    }
   ],
   "source": [
    "response.json()"
   ]
  },
  {
   "cell_type": "code",
   "execution_count": 14,
   "metadata": {},
   "outputs": [],
   "source": [
    "marketId = '1.161745968'"
   ]
  },
  {
   "cell_type": "code",
   "execution_count": 17,
   "metadata": {},
   "outputs": [],
   "source": [
    "orderBook = listMarketBook(sessionKey=sessionKey, appKey=appKey, marketIds=marketId, priceProjection={\"priceData\":[\"EX_BEST_OFFERS\"]})"
   ]
  },
  {
   "cell_type": "code",
   "execution_count": 18,
   "metadata": {},
   "outputs": [
    {
     "data": {
      "text/plain": [
       "[{'marketId': '1.161745968',\n",
       "  'isMarketDataDelayed': True,\n",
       "  'status': 'OPEN',\n",
       "  'betDelay': 0,\n",
       "  'bspReconciled': False,\n",
       "  'complete': True,\n",
       "  'inplay': False,\n",
       "  'numberOfWinners': 1,\n",
       "  'numberOfRunners': 2,\n",
       "  'numberOfActiveRunners': 2,\n",
       "  'lastMatchTime': '2019-08-31T13:42:57.178Z',\n",
       "  'totalMatched': 8838.61,\n",
       "  'totalAvailable': 3557.33,\n",
       "  'crossMatching': True,\n",
       "  'runnersVoidable': False,\n",
       "  'version': 2912687007,\n",
       "  'runners': [{'selectionId': 42153,\n",
       "    'handicap': 0.0,\n",
       "    'status': 'ACTIVE',\n",
       "    'lastPriceTraded': 2.3,\n",
       "    'totalMatched': 0.0,\n",
       "    'ex': {'availableToBack': [{'price': 2.3, 'size': 180.4},\n",
       "      {'price': 2.28, 'size': 162.08},\n",
       "      {'price': 2.22, 'size': 50.0}],\n",
       "     'availableToLay': [{'price': 2.34, 'size': 19.61},\n",
       "      {'price': 2.36, 'size': 205.96},\n",
       "      {'price': 2.38, 'size': 124.24}],\n",
       "     'tradedVolume': []}},\n",
       "   {'selectionId': 39981,\n",
       "    'handicap': 0.0,\n",
       "    'status': 'ACTIVE',\n",
       "    'lastPriceTraded': 1.76,\n",
       "    'totalMatched': 0.0,\n",
       "    'ex': {'availableToBack': [{'price': 1.74, 'size': 143.72},\n",
       "      {'price': 1.73, 'size': 273.01},\n",
       "      {'price': 1.72, 'size': 61.2}],\n",
       "     'availableToLay': [{'price': 1.76, 'size': 131.78},\n",
       "      {'price': 1.77, 'size': 103.38},\n",
       "      {'price': 1.78, 'size': 50.06}],\n",
       "     'tradedVolume': []}}]}]"
      ]
     },
     "execution_count": 18,
     "metadata": {},
     "output_type": "execute_result"
    }
   ],
   "source": [
    "orderBook"
   ]
  },
  {
   "cell_type": "code",
   "execution_count": 19,
   "metadata": {},
   "outputs": [],
   "source": [
    "selectionId = '39981'"
   ]
  },
  {
   "cell_type": "code",
   "execution_count": 88,
   "metadata": {},
   "outputs": [],
   "source": [
    "resp, content = placeOrder(sessionKey,appKey,marketId=marketId,selectionId=selectionId,orderType='LIMIT',side='BACK',wallet='UK',price=3,size=5,persistenceType='LAPSE')"
   ]
  },
  {
   "cell_type": "code",
   "execution_count": 89,
   "metadata": {},
   "outputs": [
    {
     "data": {
      "text/plain": [
       "{'jsonrpc': '2.0',\n",
       " 'method': 'SportsAPING/v1.0/placeOrders',\n",
       " 'id': 1,\n",
       " 'params': {'marketId': '1.161745968',\n",
       "  'instructions': [{'orderType': 'LIMIT',\n",
       "    'selectionId': '39981',\n",
       "    'handicap': '0',\n",
       "    'side': 'BACK',\n",
       "    'limitOrder': {'size': 5.0, 'price': 3.0, 'persistenceType': 'LAPSE'}}]}}"
      ]
     },
     "execution_count": 89,
     "metadata": {},
     "output_type": "execute_result"
    }
   ],
   "source": [
    "content"
   ]
  },
  {
   "cell_type": "code",
   "execution_count": 90,
   "metadata": {},
   "outputs": [
    {
     "data": {
      "text/plain": [
       "{'jsonrpc': '2.0',\n",
       " 'error': {'code': -32099,\n",
       "  'message': 'ANGX-0015',\n",
       "  'data': {'APINGException': {'requestUUID': 'ie2-ang17a-prd-08050849-004024f605',\n",
       "    'errorCode': 'ACCESS_DENIED',\n",
       "    'errorDetails': ''},\n",
       "   'exceptionname': 'APINGException'}},\n",
       " 'id': 1}"
      ]
     },
     "execution_count": 90,
     "metadata": {},
     "output_type": "execute_result"
    }
   ],
   "source": [
    "resp"
   ]
  },
  {
   "cell_type": "code",
   "execution_count": null,
   "metadata": {},
   "outputs": [],
   "source": [
    "{'limitOrder': {'persistenceType': 'LAPSE', 'price': 7, 'size': 5},\n",
    " 'orderType': 'LIMIT',\n",
    " 'selectionId': '21283271',\n",
    " 'side': 'BACK'}"
   ]
  },
  {
   "cell_type": "code",
   "execution_count": 112,
   "metadata": {},
   "outputs": [
    {
     "data": {
      "text/plain": [
       "'iw8UsiHCP1GSs213'"
      ]
     },
     "execution_count": 112,
     "metadata": {},
     "output_type": "execute_result"
    }
   ],
   "source": [
    "appKey"
   ]
  },
  {
   "cell_type": "code",
   "execution_count": null,
   "metadata": {},
   "outputs": [],
   "source": []
  }
 ],
 "metadata": {
  "kernelspec": {
   "display_name": "Python 3",
   "language": "python",
   "name": "python3"
  },
  "language_info": {
   "codemirror_mode": {
    "name": "ipython",
    "version": 3
   },
   "file_extension": ".py",
   "mimetype": "text/x-python",
   "name": "python",
   "nbconvert_exporter": "python",
   "pygments_lexer": "ipython3",
   "version": "3.7.3"
  }
 },
 "nbformat": 4,
 "nbformat_minor": 2
}
