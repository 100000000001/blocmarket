{
 "cells": [
  {
   "cell_type": "code",
   "execution_count": 46,
   "metadata": {},
   "outputs": [
    {
     "name": "stdout",
     "output_type": "stream",
     "text": [
      "The autoreload extension is already loaded. To reload it, use:\n",
      "  %reload_ext autoreload\n"
     ]
    }
   ],
   "source": [
    "import requests\n",
    "from betfairLogin import betfairLogin\n",
    "from listOrder import listOrder\n",
    "from placeOrder import placeOrder\n",
    "from cancelOrder import cancelOrder\n",
    "from listMarketBook import listMarketBook\n",
    "\n",
    "%load_ext autoreload\n",
    "%autoreload 2"
   ]
  },
  {
   "cell_type": "code",
   "execution_count": 17,
   "metadata": {},
   "outputs": [],
   "source": [
    "sessionKey = betfairLogin('alpinechicken','e','alpinechickenbetfair')"
   ]
  },
  {
   "cell_type": "code",
   "execution_count": 18,
   "metadata": {},
   "outputs": [
    {
     "data": {
      "text/plain": [
       "'Kb4D+2b/emO9DuP/5ZB39S53UNXG+VqaKDdGAb3x5jc='"
      ]
     },
     "execution_count": 18,
     "metadata": {},
     "output_type": "execute_result"
    }
   ],
   "source": [
    "sessionKey"
   ]
  },
  {
   "cell_type": "code",
   "execution_count": 19,
   "metadata": {},
   "outputs": [],
   "source": [
    "appKey = 'iw8UsiHCP1GSs213'\n"
   ]
  },
  {
   "cell_type": "code",
   "execution_count": 64,
   "metadata": {},
   "outputs": [
    {
     "data": {
      "text/plain": [
       "{'currentOrders': [], 'moreAvailable': False}"
      ]
     },
     "execution_count": 64,
     "metadata": {},
     "output_type": "execute_result"
    }
   ],
   "source": [
    "orders1 = listOrder(sessionKey,appKey,betIds=\"ALL\")\n",
    "orders1\n"
   ]
  },
  {
   "cell_type": "code",
   "execution_count": 44,
   "metadata": {},
   "outputs": [],
   "source": [
    "headers = {'X-Authentication': sessionKey, 'X-Application': appKey, 'content-type': 'application/json'}\n",
    "content = [{\"jsonrpc\": \"2.0\",\n",
    "                    \"method\": \"SportsAPING/v1.0/cancelOrders\",\n",
    "                    \"params\": {\"marketId\": '1.161745968' }, \"id\": 1}]\n",
    "url = 'https://api.betfair.com/exchange/betting/json-rpc/v1/'\n",
    "response = requests.post(url, data=json.dumps(content), headers=headers)"
   ]
  },
  {
   "cell_type": "code",
   "execution_count": 45,
   "metadata": {},
   "outputs": [
    {
     "data": {
      "text/plain": [
       "[{'jsonrpc': '2.0',\n",
       "  'result': {'status': 'SUCCESS',\n",
       "   'marketId': '1.161745968',\n",
       "   'instructionReports': []},\n",
       "  'id': 1}]"
      ]
     },
     "execution_count": 45,
     "metadata": {},
     "output_type": "execute_result"
    }
   ],
   "source": [
    "response.json()"
   ]
  },
  {
   "cell_type": "code",
   "execution_count": 12,
   "metadata": {},
   "outputs": [],
   "source": [
    "marketId = '1.161745968'"
   ]
  },
  {
   "cell_type": "code",
   "execution_count": 24,
   "metadata": {},
   "outputs": [],
   "source": [
    "orderBook = listMarketBook(sessionKey=sessionKey, appKey=appKey, marketIds=marketId, priceProjection={\"priceData\":[\"EX_BEST_OFFERS\"]})"
   ]
  },
  {
   "cell_type": "code",
   "execution_count": 25,
   "metadata": {},
   "outputs": [
    {
     "data": {
      "text/plain": [
       "[{'marketId': '1.161745968',\n",
       "  'isMarketDataDelayed': True,\n",
       "  'status': 'OPEN',\n",
       "  'betDelay': 0,\n",
       "  'bspReconciled': False,\n",
       "  'complete': True,\n",
       "  'inplay': False,\n",
       "  'numberOfWinners': 1,\n",
       "  'numberOfRunners': 2,\n",
       "  'numberOfActiveRunners': 2,\n",
       "  'lastMatchTime': '2019-09-05T10:22:36.661Z',\n",
       "  'totalMatched': 32719.01,\n",
       "  'totalAvailable': 21080.58,\n",
       "  'crossMatching': True,\n",
       "  'runnersVoidable': False,\n",
       "  'version': 2912687007,\n",
       "  'runners': [{'selectionId': 42153,\n",
       "    'handicap': 0.0,\n",
       "    'status': 'ACTIVE',\n",
       "    'lastPriceTraded': 2.3,\n",
       "    'totalMatched': 0.0,\n",
       "    'ex': {'availableToBack': [{'price': 2.3, 'size': 372.65},\n",
       "      {'price': 2.28, 'size': 1209.01},\n",
       "      {'price': 2.26, 'size': 596.67}],\n",
       "     'availableToLay': [{'price': 2.32, 'size': 84.81},\n",
       "      {'price': 2.34, 'size': 782.87},\n",
       "      {'price': 2.36, 'size': 781.86}],\n",
       "     'tradedVolume': []}},\n",
       "   {'selectionId': 39981,\n",
       "    'handicap': 0.0,\n",
       "    'status': 'ACTIVE',\n",
       "    'lastPriceTraded': 1.77,\n",
       "    'totalMatched': 0.0,\n",
       "    'ex': {'availableToBack': [{'price': 1.75, 'size': 343.58},\n",
       "      {'price': 1.74, 'size': 972.06},\n",
       "      {'price': 1.73, 'size': 1139.18}],\n",
       "     'availableToLay': [{'price': 1.76, 'size': 50.0},\n",
       "      {'price': 1.77, 'size': 939.19},\n",
       "      {'price': 1.78, 'size': 350.06}],\n",
       "     'tradedVolume': []}}]}]"
      ]
     },
     "execution_count": 25,
     "metadata": {},
     "output_type": "execute_result"
    }
   ],
   "source": [
    "orderBook"
   ]
  },
  {
   "cell_type": "code",
   "execution_count": 26,
   "metadata": {},
   "outputs": [],
   "source": [
    "selectionId = '39981'"
   ]
  },
  {
   "cell_type": "code",
   "execution_count": 65,
   "metadata": {},
   "outputs": [],
   "source": [
    "resp, content = placeOrder(sessionKey,appKey,marketId=marketId,selectionId=selectionId,orderType='LIMIT',side='BACK',wallet='UK',price=3.6,size=5,persistenceType='LAPSE')"
   ]
  },
  {
   "cell_type": "code",
   "execution_count": 66,
   "metadata": {},
   "outputs": [
    {
     "data": {
      "text/plain": [
       "{'jsonrpc': '2.0',\n",
       " 'method': 'SportsAPING/v1.0/placeOrders',\n",
       " 'id': 1,\n",
       " 'params': {'marketId': '1.161745968',\n",
       "  'instructions': [{'orderType': 'LIMIT',\n",
       "    'selectionId': '39981',\n",
       "    'handicap': '0',\n",
       "    'side': 'BACK',\n",
       "    'limitOrder': {'size': 5.0, 'price': 3.6, 'persistenceType': 'LAPSE'}}]}}"
      ]
     },
     "execution_count": 66,
     "metadata": {},
     "output_type": "execute_result"
    }
   ],
   "source": [
    "content"
   ]
  },
  {
   "cell_type": "code",
   "execution_count": 67,
   "metadata": {},
   "outputs": [
    {
     "data": {
      "text/plain": [
       "{'jsonrpc': '2.0',\n",
       " 'result': {'status': 'SUCCESS',\n",
       "  'marketId': '1.161745968',\n",
       "  'instructionReports': [{'status': 'SUCCESS',\n",
       "    'instruction': {'selectionId': 39981,\n",
       "     'handicap': 0.0,\n",
       "     'limitOrder': {'size': 5.0, 'price': 3.6, 'persistenceType': 'LAPSE'},\n",
       "     'orderType': 'LIMIT',\n",
       "     'side': 'BACK'},\n",
       "    'betId': '177516762856',\n",
       "    'placedDate': '2019-09-05T22:12:08.000Z',\n",
       "    'averagePriceMatched': 0.0,\n",
       "    'sizeMatched': 0.0,\n",
       "    'orderStatus': 'EXECUTABLE'}]},\n",
       " 'id': 1}"
      ]
     },
     "execution_count": 67,
     "metadata": {},
     "output_type": "execute_result"
    }
   ],
   "source": [
    "resp"
   ]
  },
  {
   "cell_type": "code",
   "execution_count": null,
   "metadata": {},
   "outputs": [],
   "source": [
    "{'limitOrder': {'persistenceType': 'LAPSE', 'price': 7, 'size': 5},\n",
    " 'orderType': 'LIMIT',\n",
    " 'selectionId': '21283271',\n",
    " 'side': 'BACK'}"
   ]
  },
  {
   "cell_type": "code",
   "execution_count": 112,
   "metadata": {},
   "outputs": [
    {
     "data": {
      "text/plain": [
       "'iw8UsiHCP1GSs213'"
      ]
     },
     "execution_count": 112,
     "metadata": {},
     "output_type": "execute_result"
    }
   ],
   "source": [
    "appKey"
   ]
  },
  {
   "cell_type": "code",
   "execution_count": 50,
   "metadata": {},
   "outputs": [],
   "source": [
    "cancelStatus, content = cancelOrder(sessionKey,appKey,marketId='1.161745968',wallet='UK')\n",
    "\n"
   ]
  },
  {
   "cell_type": "code",
   "execution_count": 62,
   "metadata": {},
   "outputs": [],
   "source": [
    "cancelStatus, content = cancelOrder(sessionKey,appKey,marketId='1.161745968',wallet='UK')\n"
   ]
  },
  {
   "cell_type": "code",
   "execution_count": 63,
   "metadata": {},
   "outputs": [
    {
     "data": {
      "text/plain": [
       "[{'jsonrpc': '2.0',\n",
       "  'result': {'status': 'SUCCESS',\n",
       "   'marketId': '1.161745968',\n",
       "   'instructionReports': [{'status': 'SUCCESS',\n",
       "     'instruction': {'betId': '177455152959'},\n",
       "     'sizeCancelled': 5.0,\n",
       "     'cancelledDate': '2019-09-05T10:46:38.000Z'},\n",
       "    {'status': 'SUCCESS',\n",
       "     'instruction': {'betId': '177455147172'},\n",
       "     'sizeCancelled': 5.0,\n",
       "     'cancelledDate': '2019-09-05T10:46:38.000Z'}]},\n",
       "  'id': 1}]"
      ]
     },
     "execution_count": 63,
     "metadata": {},
     "output_type": "execute_result"
    }
   ],
   "source": [
    "cancelStatus"
   ]
  },
  {
   "cell_type": "code",
   "execution_count": 52,
   "metadata": {},
   "outputs": [
    {
     "data": {
      "text/plain": [
       "[{'jsonrpc': '2.0',\n",
       "  'method': 'SportsAPING/v1.0/cancelOrders',\n",
       "  'params': {'marketId': '1.161745968'},\n",
       "  'id': 1}]"
      ]
     },
     "execution_count": 52,
     "metadata": {},
     "output_type": "execute_result"
    }
   ],
   "source": [
    "content"
   ]
  },
  {
   "cell_type": "code",
   "execution_count": null,
   "metadata": {},
   "outputs": [],
   "source": []
  }
 ],
 "metadata": {
  "kernelspec": {
   "display_name": "Python 3",
   "language": "python",
   "name": "python3"
  },
  "language_info": {
   "codemirror_mode": {
    "name": "ipython",
    "version": 3
   },
   "file_extension": ".py",
   "mimetype": "text/x-python",
   "name": "python",
   "nbconvert_exporter": "python",
   "pygments_lexer": "ipython3",
   "version": "3.7.3"
  }
 },
 "nbformat": 4,
 "nbformat_minor": 2
}
