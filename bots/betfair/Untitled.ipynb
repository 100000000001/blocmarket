{
 "cells": [
  {
   "cell_type": "code",
   "execution_count": 2,
   "metadata": {},
   "outputs": [],
   "source": [
    "from betfairLogin import betfairLogin\n",
    "from listMarketCatalogue import listMarketCatalogue\n",
    "from listMarketBook import listMarketBook\n",
    "from listOrder import listOrder\n",
    "from cancelOrder import cancelOrder\n",
    "import requests\n",
    "import json"
   ]
  },
  {
   "cell_type": "code",
   "execution_count": 3,
   "metadata": {},
   "outputs": [],
   "source": [
    "sessionKey = betfairLogin('alpinechicken', 'ee', appName='alpinechickenbetfair')"
   ]
  },
  {
   "cell_type": "code",
   "execution_count": 4,
   "metadata": {},
   "outputs": [],
   "source": [
    "appKey = 'iw8UsiHCP1GSs213'\n",
    "#appKey = 'zBBL3MKepCMp7HGd'"
   ]
  },
  {
   "cell_type": "code",
   "execution_count": 5,
   "metadata": {},
   "outputs": [],
   "source": [
    "catalogue = listMarketCatalogue(sessionKey,appKey,eventTypeIds=\"1477\",marketBettingTypes=\"ODDS\",marketTypeCodes=\"MATCH_ODDS\",maxResults=20)"
   ]
  },
  {
   "cell_type": "code",
   "execution_count": 6,
   "metadata": {},
   "outputs": [
    {
     "data": {
      "text/plain": [
       "'1.161475303'"
      ]
     },
     "execution_count": 6,
     "metadata": {},
     "output_type": "execute_result"
    }
   ],
   "source": [
    "marketId = catalogue[0]['marketId']\n",
    "marketId"
   ]
  },
  {
   "cell_type": "code",
   "execution_count": 7,
   "metadata": {},
   "outputs": [],
   "source": [
    "selectionId = catalogue[0]['runners'][0]['selectionId']"
   ]
  },
  {
   "cell_type": "code",
   "execution_count": 8,
   "metadata": {},
   "outputs": [],
   "source": [
    "orderBook = listMarketBook(sessionKey=sessionKey, appKey=appKey, marketIds=marketId, priceProjection={\"priceData\":[\"EX_BEST_OFFERS\"]})"
   ]
  },
  {
   "cell_type": "code",
   "execution_count": 9,
   "metadata": {},
   "outputs": [],
   "source": [
    "oddsToPlace= orderBook[0]['runners'][0]['ex']['availableToBack'][0]['price']"
   ]
  },
  {
   "cell_type": "code",
   "execution_count": 44,
   "metadata": {},
   "outputs": [],
   "source": [
    "size = 5"
   ]
  },
  {
   "cell_type": "code",
   "execution_count": 72,
   "metadata": {},
   "outputs": [],
   "source": [
    "content = [\n",
    "    {\n",
    "        \"jsonrpc\": \"2.0\",\n",
    "        \"method\": \"SportsAPING/v1.0/placeOrders\",\n",
    "        \"params\": {\n",
    "            \"marketId\": \"1.160961183\",\n",
    "            \"instructions\": [\n",
    "                {\n",
    "                    \"selectionId\": \"24293\",\n",
    "                    \"handicap\": \"0\",\n",
    "                    \"side\": \"LAY\",\n",
    "                    \"orderType\": \"LIMIT\",\n",
    "                    \"limitOrder\": {\n",
    "                        \"size\": \"2\",\n",
    "                        \"price\": \"3\",\n",
    "                        \"persistenceType\": \"LAPSE\"\n",
    "                    }\n",
    "                }\n",
    "            ]\n",
    "        },\n",
    "        \"id\": 1\n",
    "    }\n",
    "]"
   ]
  },
  {
   "cell_type": "code",
   "execution_count": 73,
   "metadata": {},
   "outputs": [
    {
     "data": {
      "text/plain": [
       "[{'jsonrpc': '2.0',\n",
       "  'method': 'SportsAPING/v1.0/placeOrders',\n",
       "  'params': {'marketId': '1.160961183',\n",
       "   'instructions': [{'selectionId': '24293',\n",
       "     'handicap': '0',\n",
       "     'side': 'LAY',\n",
       "     'orderType': 'LIMIT',\n",
       "     'limitOrder': {'size': '2', 'price': '3', 'persistenceType': 'LAPSE'}}]},\n",
       "  'id': 1}]"
      ]
     },
     "execution_count": 73,
     "metadata": {},
     "output_type": "execute_result"
    }
   ],
   "source": [
    "content"
   ]
  },
  {
   "cell_type": "code",
   "execution_count": 67,
   "metadata": {},
   "outputs": [],
   "source": [
    "    content= {\"jsonrpc\": \"2.0\",\n",
    "              \"method\": \"SportsAPING/v1.0/placeOrders\",\n",
    "              \"id\": 1,\n",
    "              \"params\": {\"marketId\": '1.160961183',\n",
    "                        \"instructions\": [{\"orderType\": 'LIMIT',\n",
    "                                         \"selectionId\": str(selectionId),\n",
    "                                         \"handicap\": str(0),\n",
    "                                         \"side\": \"BACK\",\n",
    "                                         \"limitOrder\": {\"size\": str(size),\n",
    "                                                        \"price\": str(oddsToPlace),\n",
    "                                                        \"persistenceType\": 'LAPSE'}},\n",
    "                                         {\"customerRef\": 'abd'}]\n",
    "                         }\n",
    "              }"
   ]
  },
  {
   "cell_type": "code",
   "execution_count": 77,
   "metadata": {},
   "outputs": [],
   "source": [
    "content = {}"
   ]
  },
  {
   "cell_type": "code",
   "execution_count": 10,
   "metadata": {},
   "outputs": [],
   "source": [
    "urlAUS= 'https://api-au.betfair.com/exchange/betting/json-rpc/v1/'"
   ]
  },
  {
   "cell_type": "code",
   "execution_count": 11,
   "metadata": {},
   "outputs": [],
   "source": [
    "headers = {'X-Authentication': sessionKey, 'X-Application': appKey, 'content-type': 'application/json'}"
   ]
  },
  {
   "cell_type": "code",
   "execution_count": 12,
   "metadata": {},
   "outputs": [
    {
     "data": {
      "text/plain": [
       "{'X-Authentication': 'Z0hRmzQNOcRub9hbO2fMQthVkfHYHyNZ0+8URiYKrrg=',\n",
       " 'X-Application': 'iw8UsiHCP1GSs213',\n",
       " 'content-type': 'application/json'}"
      ]
     },
     "execution_count": 12,
     "metadata": {},
     "output_type": "execute_result"
    }
   ],
   "source": [
    "headers"
   ]
  },
  {
   "cell_type": "code",
   "execution_count": null,
   "metadata": {},
   "outputs": [],
   "source": [
    "response = requests.post(urlAUS, data = json.dumps(content), headers=headers)"
   ]
  },
  {
   "cell_type": "code",
   "execution_count": 122,
   "metadata": {},
   "outputs": [],
   "source": [
    "orders1 = listOrder(sessionKey,appKey,betIds=\"ALL\")"
   ]
  },
  {
   "cell_type": "code",
   "execution_count": 123,
   "metadata": {},
   "outputs": [
    {
     "data": {
      "text/plain": [
       "{'currentOrders': [{'betId': '176095191602',\n",
       "   'marketId': '1.160961183',\n",
       "   'selectionId': 39986,\n",
       "   'handicap': 0.0,\n",
       "   'priceSize': {'price': 2.0, 'size': 5.0},\n",
       "   'bspLiability': 0.0,\n",
       "   'side': 'BACK',\n",
       "   'status': 'EXECUTABLE',\n",
       "   'persistenceType': 'LAPSE',\n",
       "   'orderType': 'LIMIT',\n",
       "   'placedDate': '2019-08-24T22:36:35.000Z',\n",
       "   'averagePriceMatched': 0.0,\n",
       "   'sizeMatched': 0.0,\n",
       "   'sizeRemaining': 5.0,\n",
       "   'sizeLapsed': 0.0,\n",
       "   'sizeCancelled': 0.0,\n",
       "   'sizeVoided': 0.0,\n",
       "   'regulatorCode': 'MALTA LOTTERIES AND GAMBLING AUTHORITY'},\n",
       "  {'betId': '176095266865',\n",
       "   'marketId': '1.160961183',\n",
       "   'selectionId': 39986,\n",
       "   'handicap': 0.0,\n",
       "   'priceSize': {'price': 1.41, 'size': 5.0},\n",
       "   'bspLiability': 0.0,\n",
       "   'side': 'BACK',\n",
       "   'status': 'EXECUTION_COMPLETE',\n",
       "   'persistenceType': 'LAPSE',\n",
       "   'orderType': 'LIMIT',\n",
       "   'placedDate': '2019-08-24T22:37:48.000Z',\n",
       "   'matchedDate': '2019-08-24T22:37:48.000Z',\n",
       "   'averagePriceMatched': 1.41,\n",
       "   'sizeMatched': 5.0,\n",
       "   'sizeRemaining': 0.0,\n",
       "   'sizeLapsed': 0.0,\n",
       "   'sizeCancelled': 0.0,\n",
       "   'sizeVoided': 0.0,\n",
       "   'regulatorCode': 'MALTA LOTTERIES AND GAMBLING AUTHORITY'}],\n",
       " 'moreAvailable': False}"
      ]
     },
     "execution_count": 123,
     "metadata": {},
     "output_type": "execute_result"
    }
   ],
   "source": [
    "orders1"
   ]
  },
  {
   "cell_type": "code",
   "execution_count": 135,
   "metadata": {},
   "outputs": [
    {
     "ename": "UnboundLocalError",
     "evalue": "local variable 'content' referenced before assignment",
     "output_type": "error",
     "traceback": [
      "\u001b[0;31m---------------------------------------------------------------------------\u001b[0m",
      "\u001b[0;31mUnboundLocalError\u001b[0m                         Traceback (most recent call last)",
      "\u001b[0;32m<ipython-input-135-787ace8dd962>\u001b[0m in \u001b[0;36m<module>\u001b[0;34m\u001b[0m\n\u001b[0;32m----> 1\u001b[0;31m \u001b[0mresp\u001b[0m \u001b[0;34m=\u001b[0m \u001b[0mcancelOrder\u001b[0m\u001b[0;34m(\u001b[0m\u001b[0msessionKey\u001b[0m\u001b[0;34m,\u001b[0m \u001b[0mappKey\u001b[0m\u001b[0;34m,\u001b[0m \u001b[0mwallet\u001b[0m \u001b[0;34m=\u001b[0m \u001b[0;34m'AUS'\u001b[0m\u001b[0;34m)\u001b[0m\u001b[0;34m\u001b[0m\u001b[0;34m\u001b[0m\u001b[0m\n\u001b[0m",
      "\u001b[0;32m~/src/blocmarket/bots/betfair/cancelOrder.py\u001b[0m in \u001b[0;36mcancelOrder\u001b[0;34m(sessionKey, appKey, **kwargs)\u001b[0m\n\u001b[1;32m    111\u001b[0m                     \"params\": {\"betId\": inputParams['betId'] }, \"id\": 1}]\n\u001b[1;32m    112\u001b[0m \u001b[0;34m\u001b[0m\u001b[0m\n\u001b[0;32m--> 113\u001b[0;31m     \u001b[0mresponse\u001b[0m \u001b[0;34m=\u001b[0m \u001b[0mrequests\u001b[0m\u001b[0;34m.\u001b[0m\u001b[0mpost\u001b[0m\u001b[0;34m(\u001b[0m\u001b[0murl\u001b[0m\u001b[0;34m,\u001b[0m \u001b[0mdata\u001b[0m\u001b[0;34m=\u001b[0m\u001b[0mjson\u001b[0m\u001b[0;34m.\u001b[0m\u001b[0mdumps\u001b[0m\u001b[0;34m(\u001b[0m\u001b[0mcontent\u001b[0m\u001b[0;34m)\u001b[0m\u001b[0;34m,\u001b[0m \u001b[0mheaders\u001b[0m\u001b[0;34m=\u001b[0m\u001b[0mheaders\u001b[0m\u001b[0;34m)\u001b[0m\u001b[0;34m\u001b[0m\u001b[0;34m\u001b[0m\u001b[0m\n\u001b[0m\u001b[1;32m    114\u001b[0m \u001b[0;34m\u001b[0m\u001b[0m\n\u001b[1;32m    115\u001b[0m     \u001b[0mcancelStatus\u001b[0m \u001b[0;34m=\u001b[0m \u001b[0mresponse\u001b[0m\u001b[0;34m.\u001b[0m\u001b[0mjson\u001b[0m\u001b[0;34m(\u001b[0m\u001b[0;34m)\u001b[0m\u001b[0;34m\u001b[0m\u001b[0;34m\u001b[0m\u001b[0m\n",
      "\u001b[0;31mUnboundLocalError\u001b[0m: local variable 'content' referenced before assignment"
     ]
    }
   ],
   "source": [
    "resp = cancelOrder(sessionKey, appKey, wallet = 'AUS')"
   ]
  },
  {
   "cell_type": "code",
   "execution_count": 136,
   "metadata": {},
   "outputs": [],
   "source": [
    "content = [{\"jsonrpc\": \"2.0\",\n",
    "                        \"method\": \"SportsAPING/v1.0/cancelOrders\",\n",
    "                        \"params\": {},\n",
    "                        \"id\": 1}]"
   ]
  },
  {
   "cell_type": "code",
   "execution_count": 106,
   "metadata": {},
   "outputs": [
    {
     "data": {
      "text/plain": [
       "'https://api-au.betfair.com/exchange/betting/json-rpc/v1/'"
      ]
     },
     "execution_count": 106,
     "metadata": {},
     "output_type": "execute_result"
    }
   ],
   "source": [
    "urlAUS"
   ]
  },
  {
   "cell_type": "code",
   "execution_count": 1,
   "metadata": {},
   "outputs": [
    {
     "ename": "NameError",
     "evalue": "name 'requests' is not defined",
     "output_type": "error",
     "traceback": [
      "\u001b[0;31m---------------------------------------------------------------------------\u001b[0m",
      "\u001b[0;31mNameError\u001b[0m                                 Traceback (most recent call last)",
      "\u001b[0;32m<ipython-input-1-f087eef9784d>\u001b[0m in \u001b[0;36m<module>\u001b[0;34m\u001b[0m\n\u001b[0;32m----> 1\u001b[0;31m \u001b[0mresponse\u001b[0m \u001b[0;34m=\u001b[0m \u001b[0mrequests\u001b[0m\u001b[0;34m.\u001b[0m\u001b[0mpost\u001b[0m\u001b[0;34m(\u001b[0m\u001b[0murlAUS\u001b[0m\u001b[0;34m,\u001b[0m \u001b[0mdata\u001b[0m\u001b[0;34m=\u001b[0m\u001b[0mjson\u001b[0m\u001b[0;34m.\u001b[0m\u001b[0mdumps\u001b[0m\u001b[0;34m(\u001b[0m\u001b[0mcontent\u001b[0m\u001b[0;34m)\u001b[0m\u001b[0;34m,\u001b[0m \u001b[0mheaders\u001b[0m\u001b[0;34m=\u001b[0m\u001b[0mheaders\u001b[0m\u001b[0;34m)\u001b[0m\u001b[0;34m\u001b[0m\u001b[0;34m\u001b[0m\u001b[0m\n\u001b[0m",
      "\u001b[0;31mNameError\u001b[0m: name 'requests' is not defined"
     ]
    }
   ],
   "source": [
    "response = requests.post(urlAUS, data=json.dumps(content), headers=headers)"
   ]
  },
  {
   "cell_type": "code",
   "execution_count": 103,
   "metadata": {},
   "outputs": [
    {
     "data": {
      "text/plain": [
       "[{'jsonrpc': '2.0',\n",
       "  'error': {'code': -32099,\n",
       "   'message': 'ANGX-0015',\n",
       "   'data': {'APINGException': {'requestUUID': 'ie2-ang30a-prd-08050849-002e8e4480',\n",
       "     'errorCode': 'ACCESS_DENIED',\n",
       "     'errorDetails': ''},\n",
       "    'exceptionname': 'APINGException'}},\n",
       "  'id': '1'}]"
      ]
     },
     "execution_count": 103,
     "metadata": {},
     "output_type": "execute_result"
    }
   ],
   "source": [
    "response.json()\n"
   ]
  },
  {
   "cell_type": "code",
   "execution_count": 89,
   "metadata": {},
   "outputs": [
    {
     "data": {
      "text/plain": [
       "{'X-Authentication': 'mN2g5twFiw9UC8wwUCOsV1moSiYe1URKnO/VBp0Y55Q=',\n",
       " 'X-Application': 'iw8UsiHCP1GSs213',\n",
       " 'content-type': 'application/json'}"
      ]
     },
     "execution_count": 89,
     "metadata": {},
     "output_type": "execute_result"
    }
   ],
   "source": [
    "headers"
   ]
  },
  {
   "cell_type": "code",
   "execution_count": null,
   "metadata": {},
   "outputs": [],
   "source": []
  }
 ],
 "metadata": {
  "kernelspec": {
   "display_name": "Python 3",
   "language": "python",
   "name": "python3"
  },
  "language_info": {
   "codemirror_mode": {
    "name": "ipython",
    "version": 3
   },
   "file_extension": ".py",
   "mimetype": "text/x-python",
   "name": "python",
   "nbconvert_exporter": "python",
   "pygments_lexer": "ipython3",
   "version": "3.7.3"
  }
 },
 "nbformat": 4,
 "nbformat_minor": 2
}
