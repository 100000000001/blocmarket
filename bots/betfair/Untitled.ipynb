{
 "cells": [
  {
   "cell_type": "code",
   "execution_count": 1,
   "metadata": {},
   "outputs": [],
   "source": [
    "from betfairLogin import betfairLogin\n",
    "from listMarketCatalogue import listMarketCatalogue\n",
    "from listMarketBook import listMarketBook\n",
    "from listOrder import listOrder\n",
    "from cancelOrder import cancelOrder\n",
    "import requests\n",
    "import json"
   ]
  },
  {
   "cell_type": "code",
   "execution_count": 2,
   "metadata": {},
   "outputs": [],
   "source": [
    "sessionKey = betfairLogin('alpinechicken', 'ee', appName='alpinechickenbetfair')"
   ]
  },
  {
   "cell_type": "code",
   "execution_count": 3,
   "metadata": {},
   "outputs": [],
   "source": [
    "appKey = 'iw8UsiHCP1GSs213'\n",
    "#appKey = 'zBBL3MKepCMp7HGd'"
   ]
  },
  {
   "cell_type": "code",
   "execution_count": 4,
   "metadata": {},
   "outputs": [],
   "source": [
    "catalogue = listMarketCatalogue(sessionKey,appKey,eventTypeIds=\"1477\",marketBettingTypes=\"ODDS\",marketTypeCodes=\"MATCH_ODDS\",maxResults=20)"
   ]
  },
  {
   "cell_type": "code",
   "execution_count": 6,
   "metadata": {},
   "outputs": [
    {
     "data": {
      "text/plain": [
       "[{'marketId': '1.162939070',\n",
       "  'marketName': 'Match Odds',\n",
       "  'marketStartTime': '2019-09-29T03:15:00.000Z',\n",
       "  'description': {'persistenceEnabled': True,\n",
       "   'bspMarket': False,\n",
       "   'marketTime': '2019-09-29T03:15:00.000Z',\n",
       "   'suspendTime': '2019-09-29T03:15:00.000Z',\n",
       "   'bettingType': 'ODDS',\n",
       "   'turnInPlayEnabled': True,\n",
       "   'marketType': 'MATCH_ODDS',\n",
       "   'regulator': 'MALTA LOTTERIES AND GAMBLING AUTHORITY',\n",
       "   'marketBaseRate': 6.0,\n",
       "   'discountAllowed': True,\n",
       "   'wallet': 'UK wallet',\n",
       "   'rules': '<br><b>MARKET INFORMATION</b><br><br>For further information please see <a href=http://content.betfair.com/aboutus/content.asp?sWhichKey=Rules%20and%20Regulations#undefined.do style=color:0163ad; text-decoration: underline; target=_blank>Rules & Regs</a>.<br><br>Who will win this match? Unmatched bets will be cancelled at the start of the match and the market will be turned <b>IN PLAY</b>. Thereafter, unmatched bets will not be cancelled at any time. Extra Time Included. If no score occurs during Extra Time the result will be settled as a Dead Heat.<br><br>This is a <a href=\"http://cross-matching.betfair.com.au/\" target=\"_blank\">cross-matching</a> market.<br><br>Customers should be aware that:<b><br><br><li>Transmissions described as “live” by some broadcasters may actually be delayed and that all in-play matches are not necessarily televised.</li><br><li>The extent of any such delay may vary, depending on the set-up through which they are receiving pictures or data.</li></b><br><br><b>BET IN-PLAY</b><br><br>Australian customers call Telbet to bet in-play on this market – call <b>132BET (132238)</b><br><br>',\n",
       "   'rulesHasDate': True,\n",
       "   'priceLadderDescription': {'type': 'CLASSIC'}},\n",
       "  'totalMatched': 28.76076,\n",
       "  'runners': [{'selectionId': 20526179,\n",
       "    'runnerName': 'St George Women',\n",
       "    'handicap': 0.0,\n",
       "    'sortPriority': 1,\n",
       "    'metadata': {'runnerId': '20526179'}},\n",
       "   {'selectionId': 20523536,\n",
       "    'runnerName': 'Sydney Women',\n",
       "    'handicap': 0.0,\n",
       "    'sortPriority': 2,\n",
       "    'metadata': {'runnerId': '20523536'}}],\n",
       "  'eventType': {'id': '1477', 'name': 'Rugby League'},\n",
       "  'competition': {'id': '12050163', 'name': 'NRLW'},\n",
       "  'event': {'id': '29496808',\n",
       "   'name': 'St George Women v Sydney Roosters Women',\n",
       "   'countryCode': 'AU',\n",
       "   'timezone': 'GMT',\n",
       "   'openDate': '2019-09-29T03:15:00.000Z'}},\n",
       " {'marketId': '1.162894357',\n",
       "  'marketName': 'Match Odds',\n",
       "  'marketStartTime': '2019-09-29T05:00:00.000Z',\n",
       "  'description': {'persistenceEnabled': True,\n",
       "   'bspMarket': False,\n",
       "   'marketTime': '2019-09-29T05:00:00.000Z',\n",
       "   'suspendTime': '2019-09-29T05:00:00.000Z',\n",
       "   'bettingType': 'ODDS',\n",
       "   'turnInPlayEnabled': True,\n",
       "   'marketType': 'MATCH_ODDS',\n",
       "   'regulator': 'MALTA LOTTERIES AND GAMBLING AUTHORITY',\n",
       "   'marketBaseRate': 6.0,\n",
       "   'discountAllowed': True,\n",
       "   'wallet': 'UK wallet',\n",
       "   'rules': '<br><b>MARKET INFORMATION</b><br><br>For further information please see <a href=http://content.betfair.com/aboutus/content.asp?sWhichKey=Rules%20and%20Regulations#undefined.do style=color:0163ad; text-decoration: underline; target=_blank>Rules & Regs</a>.<br><br>Who will win this match? Unmatched bets will be cancelled at the start of the match and the market will be turned <b>IN PLAY</b>. Thereafter, unmatched bets will not be cancelled at any time. Extra Time Included. If no score occurs during Extra Time the result will be settled as a Dead Heat.<br><br>This is a <a href=\"http://cross-matching.betfair.com.au/\" target=\"_blank\">cross-matching</a> market.<br><br>Customers should be aware that:<b><br><br><li>Transmissions described as “live” by some broadcasters may actually be delayed and that all in-play matches are not necessarily televised.</li><br><li>The extent of any such delay may vary, depending on the set-up through which they are receiving pictures or data.</li></b><br><br><b>BET IN-PLAY</b><br><br>Australian customers call Telbet to bet in-play on this market – call <b>132BET (132238)</b><br><br>',\n",
       "   'rulesHasDate': True,\n",
       "   'priceLadderDescription': {'type': 'CLASSIC'}},\n",
       "  'totalMatched': 151.58483999999999,\n",
       "  'runners': [{'selectionId': 5716005,\n",
       "    'runnerName': 'Newtown Jets',\n",
       "    'handicap': 0.0,\n",
       "    'sortPriority': 1,\n",
       "    'metadata': {'runnerId': '5716005'}},\n",
       "   {'selectionId': 5716010,\n",
       "    'runnerName': 'Wentworthville Magpies',\n",
       "    'handicap': 0.0,\n",
       "    'sortPriority': 2,\n",
       "    'metadata': {'runnerId': '5716010'}}],\n",
       "  'eventType': {'id': '1477', 'name': 'Rugby League'},\n",
       "  'competition': {'id': '1014918', 'name': 'NSW Cup'},\n",
       "  'event': {'id': '29494967',\n",
       "   'name': 'Newtown Jets v Wentworthville Magpies',\n",
       "   'countryCode': 'AU',\n",
       "   'timezone': 'GMT',\n",
       "   'openDate': '2019-09-29T05:00:00.000Z'}},\n",
       " {'marketId': '1.162895192',\n",
       "  'marketName': 'Match Odds',\n",
       "  'marketStartTime': '2019-09-29T05:15:00.000Z',\n",
       "  'description': {'persistenceEnabled': True,\n",
       "   'bspMarket': False,\n",
       "   'marketTime': '2019-09-29T05:15:00.000Z',\n",
       "   'suspendTime': '2019-09-29T05:15:00.000Z',\n",
       "   'bettingType': 'ODDS',\n",
       "   'turnInPlayEnabled': True,\n",
       "   'marketType': 'MATCH_ODDS',\n",
       "   'regulator': 'MALTA LOTTERIES AND GAMBLING AUTHORITY',\n",
       "   'marketBaseRate': 6.0,\n",
       "   'discountAllowed': True,\n",
       "   'wallet': 'UK wallet',\n",
       "   'rules': '<br><b>MARKET INFORMATION</b><br><br>For further information please see <a href=http://content.betfair.com/aboutus/content.asp?sWhichKey=Rules%20and%20Regulations#undefined.do style=color:0163ad; text-decoration: underline; target=_blank>Rules & Regs</a>.<br><br>Who will win this match? Unmatched bets will be cancelled at the start of the match and the market will be turned <b>IN PLAY</b>. Thereafter, unmatched bets will not be cancelled at any time. Extra Time Included. If no score occurs during Extra Time the result will be settled as a Dead Heat.<br><br>This is a <a href=\"http://cross-matching.betfair.com.au/\" target=\"_blank\">cross-matching</a> market.<br><br>Customers should be aware that:<b><br><br><li>Transmissions described as “live” by some broadcasters may actually be delayed and that all in-play matches are not necessarily televised.</li><br><li>The extent of any such delay may vary, depending on the set-up through which they are receiving pictures or data.</li></b><br><br><b>BET IN-PLAY</b><br><br>Australian customers call Telbet to bet in-play on this market – call <b>132BET (132238)</b><br><br>',\n",
       "   'rulesHasDate': True,\n",
       "   'priceLadderDescription': {'type': 'CLASSIC'}},\n",
       "  'totalMatched': 123.11496,\n",
       "  'runners': [{'selectionId': 9394926,\n",
       "    'runnerName': 'Wynnum Manly Seagulls',\n",
       "    'handicap': 0.0,\n",
       "    'sortPriority': 1,\n",
       "    'metadata': {'runnerId': '9394926'}},\n",
       "   {'selectionId': 9394948,\n",
       "    'runnerName': 'Burleigh Bears',\n",
       "    'handicap': 0.0,\n",
       "    'sortPriority': 2,\n",
       "    'metadata': {'runnerId': '9394948'}}],\n",
       "  'eventType': {'id': '1477', 'name': 'Rugby League'},\n",
       "  'competition': {'id': '11085978', 'name': 'QLD Cup'},\n",
       "  'event': {'id': '29495139',\n",
       "   'name': 'Wynnum Manly Seagulls v Burleigh Bears',\n",
       "   'countryCode': 'AU',\n",
       "   'timezone': 'GMT',\n",
       "   'openDate': '2019-09-29T05:15:00.000Z'}},\n",
       " {'marketId': '1.162951372',\n",
       "  'marketName': 'Regular Time Match Odds',\n",
       "  'marketStartTime': '2019-09-29T17:30:00.000Z',\n",
       "  'description': {'persistenceEnabled': True,\n",
       "   'bspMarket': False,\n",
       "   'marketTime': '2019-09-29T17:30:00.000Z',\n",
       "   'suspendTime': '2019-09-29T17:30:00.000Z',\n",
       "   'bettingType': 'ODDS',\n",
       "   'turnInPlayEnabled': True,\n",
       "   'marketType': 'MATCH_ODDS',\n",
       "   'regulator': 'MALTA LOTTERIES AND GAMBLING AUTHORITY',\n",
       "   'marketBaseRate': 5.0,\n",
       "   'discountAllowed': True,\n",
       "   'wallet': 'UK wallet',\n",
       "   'rules': '<b>Market Information</b><br>Predict the result of this match. Unmatched bets will be cancelled at the start of the match and the market will be turned In-Play. Thereafter, unmatched bets will not be cancelled at any time. Regular Time only.  For further information please see our <a href=http://content.betfair.com/aboutus/content.asp?sWhichKey=Rules%20and%20Regulations#undefined.do style=color:0163ad; text-decoration: underline; target=_blank>Rules & Regs.</a><br><br><b>Customers should be aware that:<br><br><li>Transmissions described as “live” by some broadcasters may actually be delayed</li><br><li>The extent of any such delay may vary, depending on the set-up through which they are receiving pictures or data.</li></b>',\n",
       "   'rulesHasDate': True,\n",
       "   'priceLadderDescription': {'type': 'CLASSIC'}},\n",
       "  'totalMatched': 36.10548,\n",
       "  'runners': [{'selectionId': 3574618,\n",
       "    'runnerName': 'Toulouse Olympique',\n",
       "    'handicap': 0.0,\n",
       "    'sortPriority': 1,\n",
       "    'metadata': {'runnerId': '3574618'}},\n",
       "   {'selectionId': 697226,\n",
       "    'runnerName': 'Featherstone Rovers',\n",
       "    'handicap': 0.0,\n",
       "    'sortPriority': 2,\n",
       "    'metadata': {'runnerId': '697226'}},\n",
       "   {'selectionId': 11126,\n",
       "    'runnerName': 'Draw',\n",
       "    'handicap': 0.0,\n",
       "    'sortPriority': 3,\n",
       "    'metadata': {'runnerId': '11126'}}],\n",
       "  'eventType': {'id': '1477', 'name': 'Rugby League'},\n",
       "  'competition': {'id': '11726498', 'name': 'Rugby League Championship'},\n",
       "  'event': {'id': '29496107',\n",
       "   'name': 'Toulouse Olympique v Featherstone Rovers',\n",
       "   'countryCode': 'GB',\n",
       "   'timezone': 'GMT',\n",
       "   'openDate': '2019-09-29T17:30:00.000Z'}},\n",
       " {'marketId': '1.163008079',\n",
       "  'marketName': 'Match Odds',\n",
       "  'marketStartTime': '2019-10-06T08:30:00.000Z',\n",
       "  'description': {'persistenceEnabled': True,\n",
       "   'bspMarket': False,\n",
       "   'marketTime': '2019-10-06T08:30:00.000Z',\n",
       "   'suspendTime': '2019-10-06T08:30:00.000Z',\n",
       "   'bettingType': 'ODDS',\n",
       "   'turnInPlayEnabled': True,\n",
       "   'marketType': 'MATCH_ODDS',\n",
       "   'regulator': 'MALTA LOTTERIES AND GAMBLING AUTHORITY',\n",
       "   'marketBaseRate': 6.0,\n",
       "   'discountAllowed': True,\n",
       "   'wallet': 'UK wallet',\n",
       "   'rules': '<br><b>MARKET INFORMATION</b><br><br>For further information please see <a href=http://content.betfair.com/aboutus/content.asp?sWhichKey=Rules%20and%20Regulations#undefined.do style=color:0163ad; text-decoration: underline; target=_blank>Rules & Regs</a>.<br><br>Who will win this match? Unmatched bets will be cancelled at the start of the match and the market will be turned <b>IN PLAY</b>. Thereafter, unmatched bets will not be cancelled at any time. Extra Time Included. If no score occurs during Extra Time the result will be settled as a Dead Heat.<br><br>This is a <a href=\"http://cross-matching.betfair.com.au/\" target=\"_blank\">cross-matching</a> market.<br><br>Customers should be aware that:<b><br><br><li>Transmissions described as “live” by some broadcasters may actually be delayed and that all in-play matches are not necessarily televised.</li><br><li>The extent of any such delay may vary, depending on the set-up through which they are receiving pictures or data.</li></b><br><br><b>BET IN-PLAY</b><br><br>Australian customers call Telbet to bet in-play on this market – call <b>132BET (132238)</b><br><br>',\n",
       "   'rulesHasDate': True,\n",
       "   'priceLadderDescription': {'type': 'CLASSIC'}},\n",
       "  'totalMatched': 3903.73686,\n",
       "  'runners': [{'selectionId': 9287159,\n",
       "    'runnerName': 'Sydney',\n",
       "    'handicap': 0.0,\n",
       "    'sortPriority': 1,\n",
       "    'metadata': {'runnerId': '9287159'}},\n",
       "   {'selectionId': 24298,\n",
       "    'runnerName': 'Canberra',\n",
       "    'handicap': 0.0,\n",
       "    'sortPriority': 2,\n",
       "    'metadata': {'runnerId': '24298'}}],\n",
       "  'eventType': {'id': '1477', 'name': 'Rugby League'},\n",
       "  'competition': {'id': '10564377', 'name': 'NRL'},\n",
       "  'event': {'id': '29500044',\n",
       "   'name': 'Sydney Roosters v Canberra Raiders',\n",
       "   'countryCode': 'AU',\n",
       "   'timezone': 'GMT',\n",
       "   'openDate': '2019-10-06T08:30:00.000Z'}}]"
      ]
     },
     "execution_count": 6,
     "metadata": {},
     "output_type": "execute_result"
    }
   ],
   "source": [
    "catalogue"
   ]
  },
  {
   "cell_type": "code",
   "execution_count": 7,
   "metadata": {},
   "outputs": [],
   "source": [
    "selectionId = catalogue[0]['runners'][0]['selectionId']"
   ]
  },
  {
   "cell_type": "code",
   "execution_count": 8,
   "metadata": {},
   "outputs": [],
   "source": [
    "orderBook = listMarketBook(sessionKey=sessionKey, appKey=appKey, marketIds=marketId, priceProjection={\"priceData\":[\"EX_BEST_OFFERS\"]})"
   ]
  },
  {
   "cell_type": "code",
   "execution_count": 9,
   "metadata": {},
   "outputs": [],
   "source": [
    "oddsToPlace= orderBook[0]['runners'][0]['ex']['availableToBack'][0]['price']"
   ]
  },
  {
   "cell_type": "code",
   "execution_count": 10,
   "metadata": {},
   "outputs": [
    {
     "name": "stdout",
     "output_type": "stream",
     "text": [
      "1.162939070\n",
      "1.162894357\n",
      "1.162895192\n",
      "1.162951372\n",
      "1.163008079\n"
     ]
    }
   ],
   "source": [
    "for c in catalogue:\n",
    "    print(c['marketId'])"
   ]
  },
  {
   "cell_type": "code",
   "execution_count": null,
   "metadata": {},
   "outputs": [],
   "source": []
  }
 ],
 "metadata": {
  "kernelspec": {
   "display_name": "Python 3",
   "language": "python",
   "name": "python3"
  },
  "language_info": {
   "codemirror_mode": {
    "name": "ipython",
    "version": 3
   },
   "file_extension": ".py",
   "mimetype": "text/x-python",
   "name": "python",
   "nbconvert_exporter": "python",
   "pygments_lexer": "ipython3",
   "version": "3.7.3"
  }
 },
 "nbformat": 4,
 "nbformat_minor": 2
}
